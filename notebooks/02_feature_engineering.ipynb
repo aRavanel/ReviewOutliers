{
 "cells": [
  {
   "cell_type": "markdown",
   "metadata": {},
   "source": [
    "# user params"
   ]
  },
  {
   "cell_type": "code",
   "execution_count": 12,
   "metadata": {},
   "outputs": [],
   "source": [
    "file_name_review = \"Subscription_Boxes_review.json\"\n",
    "file_name_metadata = \"Subscription_Boxes_metadata.json\"\n",
    "embedder_name = 'all-MiniLM-L6-v2'\n",
    "\n",
    "max_samples = 1000"
   ]
  },
  {
   "cell_type": "markdown",
   "metadata": {},
   "source": [
    "# Utility functions"
   ]
  },
  {
   "cell_type": "code",
   "execution_count": 13,
   "metadata": {},
   "outputs": [],
   "source": [
    "import pandas as pd\n",
    "import numpy as np\n",
    "import os\n",
    "\n",
    "from sentence_transformers import SentenceTransformer\n",
    "from sklearn.preprocessing import StandardScaler\n",
    "from sklearn.decomposition import PCA\n",
    "\n",
    "model = SentenceTransformer(embedder_name)  # A good balance between performance and dimensionality\n"
   ]
  },
  {
   "cell_type": "markdown",
   "metadata": {},
   "source": [
    "### Paths manipulation"
   ]
  },
  {
   "cell_type": "code",
   "execution_count": 22,
   "metadata": {},
   "outputs": [],
   "source": [
    "base_folder = os.path.join('..', 'data', 'raw')\n",
    "\n",
    "# create paths\n",
    "review_file_path = os.path.join(base_folder, file_name_review)\n",
    "metadata_file_path = os.path.join(base_folder, file_name_metadata)\n",
    "\n",
    "# read json file into dataframe\n",
    "df_metadata = pd.read_json(metadata_file_path)\n",
    "df_review = pd.read_json(review_file_path)\n"
   ]
  },
  {
   "cell_type": "markdown",
   "metadata": {},
   "source": [
    "### Data cleaning"
   ]
  },
  {
   "cell_type": "code",
   "execution_count": null,
   "metadata": {},
   "outputs": [],
   "source": [
    "# Drop duplicates\n",
    "df_metadata.drop_duplicates(inplace=True)\n",
    "df_review.drop_duplicates(inplace=True)\n",
    "\n",
    "# Handle missing values\n",
    "# TODO\n"
   ]
  },
  {
   "cell_type": "markdown",
   "metadata": {},
   "source": [
    "### Data filtering"
   ]
  },
  {
   "cell_type": "code",
   "execution_count": 23,
   "metadata": {},
   "outputs": [
    {
     "data": {
      "text/html": [
       "<div>\n",
       "<style scoped>\n",
       "    .dataframe tbody tr th:only-of-type {\n",
       "        vertical-align: middle;\n",
       "    }\n",
       "\n",
       "    .dataframe tbody tr th {\n",
       "        vertical-align: top;\n",
       "    }\n",
       "\n",
       "    .dataframe thead th {\n",
       "        text-align: right;\n",
       "    }\n",
       "</style>\n",
       "<table border=\"1\" class=\"dataframe\">\n",
       "  <thead>\n",
       "    <tr style=\"text-align: right;\">\n",
       "      <th></th>\n",
       "      <th>rating</th>\n",
       "      <th>title_review</th>\n",
       "      <th>text</th>\n",
       "      <th>asin</th>\n",
       "      <th>parent_asin</th>\n",
       "      <th>user_id</th>\n",
       "      <th>timestamp</th>\n",
       "      <th>helpful_vote</th>\n",
       "      <th>verified_purchase</th>\n",
       "      <th>main_category</th>\n",
       "      <th>title_metadata</th>\n",
       "      <th>average_rating</th>\n",
       "      <th>rating_number</th>\n",
       "      <th>features</th>\n",
       "      <th>description</th>\n",
       "      <th>price</th>\n",
       "      <th>store</th>\n",
       "      <th>categories</th>\n",
       "      <th>details</th>\n",
       "      <th>bought_together</th>\n",
       "    </tr>\n",
       "  </thead>\n",
       "  <tbody>\n",
       "    <tr>\n",
       "      <th>0</th>\n",
       "      <td>1</td>\n",
       "      <td>USELESS</td>\n",
       "      <td>Absolutely useless nonsense and a complete was...</td>\n",
       "      <td>B07G584SHG</td>\n",
       "      <td>B09WC47S3V</td>\n",
       "      <td>AEMJ2EG5ODOCYUTI54NBXZHDJGSQ</td>\n",
       "      <td>2020-10-08 05:10:57.705</td>\n",
       "      <td>2</td>\n",
       "      <td>True</td>\n",
       "      <td>SUBSCRIPTION BOXES</td>\n",
       "      <td>KitNipBox | Happy Cat Box | Monthly Cat Subscr...</td>\n",
       "      <td>4.1</td>\n",
       "      <td>2962</td>\n",
       "      <td>[The best-selling cat subscription box! Get a ...</td>\n",
       "      <td>[]</td>\n",
       "      <td>NaN</td>\n",
       "      <td>KitNipBox</td>\n",
       "      <td>[]</td>\n",
       "      <td>{}</td>\n",
       "      <td>NaN</td>\n",
       "    </tr>\n",
       "  </tbody>\n",
       "</table>\n",
       "</div>"
      ],
      "text/plain": [
       "   rating title_review                                               text  \\\n",
       "0       1      USELESS  Absolutely useless nonsense and a complete was...   \n",
       "\n",
       "         asin parent_asin                       user_id  \\\n",
       "0  B07G584SHG  B09WC47S3V  AEMJ2EG5ODOCYUTI54NBXZHDJGSQ   \n",
       "\n",
       "                timestamp  helpful_vote  verified_purchase  \\\n",
       "0 2020-10-08 05:10:57.705             2               True   \n",
       "\n",
       "        main_category                                     title_metadata  \\\n",
       "0  SUBSCRIPTION BOXES  KitNipBox | Happy Cat Box | Monthly Cat Subscr...   \n",
       "\n",
       "   average_rating  rating_number  \\\n",
       "0             4.1           2962   \n",
       "\n",
       "                                            features description  price  \\\n",
       "0  [The best-selling cat subscription box! Get a ...          []    NaN   \n",
       "\n",
       "       store categories details  bought_together  \n",
       "0  KitNipBox         []      {}              NaN  "
      ]
     },
     "metadata": {},
     "output_type": "display_data"
    }
   ],
   "source": [
    "\n",
    "# removed fields : \n",
    "# - reviews : 'images'\n",
    "# - metadata : 'images', 'videos'\n",
    "\n",
    "# fields to keep\n",
    "keep_labels_reviews = ['rating', 'title', 'text', 'asin', 'parent_asin', 'user_id',\n",
    "                       'timestamp', 'helpful_vote', 'verified_purchase']\n",
    "\n",
    "keep_labels_metadata = ['main_category', 'title', 'average_rating', 'rating_number', 'features',\n",
    "                        'description', 'price', 'store', 'categories', 'details', 'parent_asin', 'bought_together']\n",
    "\n",
    "# filter dataframes\n",
    "merged_df_metadata = merged_df_metadata[keep_labels_metadata]\n",
    "merged_df_review = merged_df_review[keep_labels_reviews]\n",
    "\n",
    "# Merge the datasets on 'parent_asin' with suffixes for duplicate columns\n",
    "merged_df = pd.merge(df_review, df_metadata, on='parent_asin', how='inner', suffixes=('_review', '_metadata'))\n",
    "display(merged_df.head(1))\n",
    "\n",
    "# list feature types\n",
    "date_feature = ['timestamp']\n",
    "numerical_features = ['rating_review', 'helpful_vote', 'average_rating', 'price', 'rating_number']\n",
    "categorical_features = ['main_category', 'store', 'verified_purchase', 'bought_together']\n",
    "textual_features = ['title_review', 'title_metadata', 'text', 'description', 'features', 'categories', 'details']\n"
   ]
  },
  {
   "cell_type": "markdown",
   "metadata": {},
   "source": [
    "### Data processing"
   ]
  },
  {
   "cell_type": "code",
   "execution_count": 29,
   "metadata": {},
   "outputs": [],
   "source": [
    "# Expand timestamp\n",
    "merged_df['timestamp'] = pd.to_datetime(merged_df['timestamp'], unit='ms')  # Convert Unix timestamp to datetime\n",
    "merged_df['year'] = merged_df['timestamp'].dt.year\n",
    "merged_df['month'] = merged_df['timestamp'].dt.month\n",
    "merged_df['day'] = merged_df['timestamp'].dt.day\n",
    "merged_df['hour'] = merged_df['timestamp'].dt.hour\n",
    "merged_df = merged_df.drop(columns=['timestamp'])  # Drop the original timestamp column if no longer needed\n",
    "\n",
    "# Process categorical features\n",
    "# TODO\n"
   ]
  },
  {
   "cell_type": "code",
   "execution_count": null,
   "metadata": {},
   "outputs": [],
   "source": [
    "\n",
    "# List of textual features to be embedded separately\n",
    "textual_features_review = ['title_review', 'text']\n",
    "textual_features_metadata = ['title_metadata', 'description', 'features', 'categories', 'details']\n",
    "\n",
    "# Concatenate all textual features into a single string for each group\n",
    "merged_df['combined_text_review'] = merged_df[textual_features_review].astype(str).agg(' '.join, axis=1)\n",
    "merged_df['combined_text_metadata'] = merged_df[textual_features_metadata].astype(str).agg(' '.join, axis=1)\n",
    "\n",
    "\n",
    "review_embeddings = model.encode(merged_df['combined_text_review'].tolist(), show_progress_bar=True)\n",
    "metadata_embeddings = model.encode(merged_df['combined_text_metadata'].tolist(), show_progress_bar=True)"
   ]
  },
  {
   "cell_type": "code",
   "execution_count": null,
   "metadata": {},
   "outputs": [],
   "source": [
    "# process numerical features\n",
    "X_numerical = merged_df[numerical_features].fillna(0).values\n",
    "scaler = StandardScaler()\n",
    "X_numerical_standardized = scaler.fit_transform(X_numerical)\n",
    "\n",
    "# Combine all features into a single dataset\n",
    "X_combined = np.hstack((reviews_embeddings, metadata_embeddings, X_numerical))\n",
    "combined_df = pd.DataFrame(X_combined, columns=[f'feature_{i}' for i in range(X_combined.shape[1])])\n"
   ]
  },
  {
   "cell_type": "code",
   "execution_count": null,
   "metadata": {},
   "outputs": [],
   "source": [
    "# Save the combined dataset (if needed)\n",
    "combined_df.to_parquet('combined_dataset.parquet', index=False)"
   ]
  }
 ],
 "metadata": {
  "kernelspec": {
   "display_name": "reviewoutliers-SwZO3ms--py3.12",
   "language": "python",
   "name": "python3"
  },
  "language_info": {
   "codemirror_mode": {
    "name": "ipython",
    "version": 3
   },
   "file_extension": ".py",
   "mimetype": "text/x-python",
   "name": "python",
   "nbconvert_exporter": "python",
   "pygments_lexer": "ipython3",
   "version": "3.12.2"
  }
 },
 "nbformat": 4,
 "nbformat_minor": 2
}
