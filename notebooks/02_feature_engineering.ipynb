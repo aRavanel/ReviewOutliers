{
 "cells": [
  {
   "cell_type": "markdown",
   "metadata": {},
   "source": [
    "# user params"
   ]
  },
  {
   "cell_type": "code",
   "execution_count": 1,
   "metadata": {},
   "outputs": [],
   "source": [
    "file_name_review = \"Subscription_Boxes_review.json\"\n",
    "file_name_metadata = \"Subscription_Boxes_metadata.json\"\n",
    "embedder_name = 'all-MiniLM-L6-v2'  # dim : 384, max_len : 256 (probably too short for some cases)\n",
    "\n",
    "max_samples = 1_000"
   ]
  },
  {
   "cell_type": "markdown",
   "metadata": {},
   "source": [
    "# Utility functions"
   ]
  },
  {
   "cell_type": "code",
   "execution_count": 2,
   "metadata": {},
   "outputs": [
    {
     "name": "stderr",
     "output_type": "stream",
     "text": [
      "c:\\Users\\alexi\\AppData\\Local\\pypoetry\\Cache\\virtualenvs\\reviewoutliers-SwZO3ms--py3.12\\Lib\\site-packages\\sentence_transformers\\cross_encoder\\CrossEncoder.py:11: TqdmExperimentalWarning: Using `tqdm.autonotebook.tqdm` in notebook mode. Use `tqdm.tqdm` instead to force console mode (e.g. in jupyter console)\n",
      "  from tqdm.autonotebook import tqdm, trange\n"
     ]
    }
   ],
   "source": [
    "import pandas as pd\n",
    "import numpy as np\n",
    "import os\n",
    "\n",
    "from sentence_transformers import SentenceTransformer\n",
    "from sklearn.preprocessing import StandardScaler\n",
    "from sklearn.decomposition import PCA\n",
    "\n",
    "model = SentenceTransformer(embedder_name)  # A good balance between performance and dimensionality\n"
   ]
  },
  {
   "cell_type": "markdown",
   "metadata": {},
   "source": [
    "### Paths manipulation"
   ]
  },
  {
   "cell_type": "code",
   "execution_count": 3,
   "metadata": {},
   "outputs": [],
   "source": [
    "from multiprocessing import process\n",
    "\n",
    "\n",
    "base_folder = os.path.join('..', 'data', 'raw')\n",
    "\n",
    "# create paths\n",
    "review_file_path = os.path.join(base_folder, file_name_review)\n",
    "metadata_file_path = os.path.join(base_folder, file_name_metadata)\n",
    "\n",
    "# read json file into dataframe\n",
    "df_metadata = pd.read_json(metadata_file_path)\n",
    "df_review = pd.read_json(review_file_path)\n"
   ]
  },
  {
   "cell_type": "markdown",
   "metadata": {},
   "source": [
    "### Data cleaning"
   ]
  },
  {
   "cell_type": "code",
   "execution_count": 4,
   "metadata": {},
   "outputs": [],
   "source": [
    "from src.utils.preprocessing_cleaning import clean_enrich_reviews, clean_enrich_metadata\n",
    "df_review = clean_enrich_reviews(df_review)\n",
    "df_metadata = clean_enrich_metadata(df_metadata)\n"
   ]
  },
  {
   "cell_type": "markdown",
   "metadata": {},
   "source": [
    "### Merge"
   ]
  },
  {
   "cell_type": "code",
   "execution_count": 6,
   "metadata": {},
   "outputs": [
    {
     "data": {
      "text/html": [
       "<div>\n",
       "<style scoped>\n",
       "    .dataframe tbody tr th:only-of-type {\n",
       "        vertical-align: middle;\n",
       "    }\n",
       "\n",
       "    .dataframe tbody tr th {\n",
       "        vertical-align: top;\n",
       "    }\n",
       "\n",
       "    .dataframe thead th {\n",
       "        text-align: right;\n",
       "    }\n",
       "</style>\n",
       "<table border=\"1\" class=\"dataframe\">\n",
       "  <thead>\n",
       "    <tr style=\"text-align: right;\">\n",
       "      <th></th>\n",
       "      <th>rating</th>\n",
       "      <th>asin</th>\n",
       "      <th>parent_asin</th>\n",
       "      <th>helpful_vote</th>\n",
       "      <th>verified_purchase</th>\n",
       "      <th>year</th>\n",
       "      <th>month</th>\n",
       "      <th>day</th>\n",
       "      <th>hour</th>\n",
       "      <th>review_text</th>\n",
       "      <th>main_category</th>\n",
       "      <th>average_rating</th>\n",
       "      <th>rating_number</th>\n",
       "      <th>store</th>\n",
       "      <th>metadata_text</th>\n",
       "    </tr>\n",
       "  </thead>\n",
       "  <tbody>\n",
       "    <tr>\n",
       "      <th>0</th>\n",
       "      <td>1</td>\n",
       "      <td>B07G584SHG</td>\n",
       "      <td>B09WC47S3V</td>\n",
       "      <td>2</td>\n",
       "      <td>1</td>\n",
       "      <td>2020</td>\n",
       "      <td>10</td>\n",
       "      <td>8</td>\n",
       "      <td>5</td>\n",
       "      <td>USELESS/n/nAbsolutely useless nonsense and a c...</td>\n",
       "      <td>SUBSCRIPTION BOXES</td>\n",
       "      <td>4.1</td>\n",
       "      <td>2962</td>\n",
       "      <td>KitNipBox</td>\n",
       "      <td>KitNipBox | Happy Cat Box | Monthly Cat Subscr...</td>\n",
       "    </tr>\n",
       "  </tbody>\n",
       "</table>\n",
       "</div>"
      ],
      "text/plain": [
       "   rating        asin parent_asin  helpful_vote  verified_purchase  year  \\\n",
       "0       1  B07G584SHG  B09WC47S3V             2                  1  2020   \n",
       "\n",
       "   month  day  hour                                        review_text  \\\n",
       "0     10    8     5  USELESS/n/nAbsolutely useless nonsense and a c...   \n",
       "\n",
       "        main_category  average_rating  rating_number      store  \\\n",
       "0  SUBSCRIPTION BOXES             4.1           2962  KitNipBox   \n",
       "\n",
       "                                       metadata_text  \n",
       "0  KitNipBox | Happy Cat Box | Monthly Cat Subscr...  "
      ]
     },
     "metadata": {},
     "output_type": "display_data"
    },
    {
     "name": "stdout",
     "output_type": "stream",
     "text": [
      "Numerical features: ['rating', 'helpful_vote', 'verified_purchase', 'year', 'month', 'day', 'hour', 'average_rating', 'rating_number']\n",
      "Categorical features: ['main_category', 'store']\n",
      "Textual features: ['asin', 'parent_asin', 'review_text', 'metadata_text']\n"
     ]
    }
   ],
   "source": [
    "# Merge the datasets on 'parent_asin' with suffixes for duplicate columns\n",
    "merged_df = pd.merge(df_review, df_metadata, on='parent_asin', how='inner', suffixes=('_review', '_metadata'))\n",
    "merged_df = merged_df.drop(columns=['parent_asin', 'asin']) # those features will be OOD at inference for new data\n",
    "\n",
    "# limit to wanted sample size\n",
    "merged_df = merged_df.sample(n=max_samples, random_state=42)  # random_state for reproducibility\n",
    "\n",
    "display(merged_df.head(1))\n"
   ]
  },
  {
   "cell_type": "markdown",
   "metadata": {},
   "source": [
    "### data encoding and scaling"
   ]
  },
  {
   "cell_type": "code",
   "execution_count": 50,
   "metadata": {},
   "outputs": [],
   "source": [
    "from src.utils.preprocessing_encoding import encode_numerical, encode_categorical, encode_textual\n",
    "X_numerical_standardized = encode_numerical(merged_df)\n",
    "X_categorical_scaled = encode_categorical(merged_df)\n",
    "X_textual_scaled = encode_textual(merged_df, model)\n",
    "\n",
    "# Combine all features into a single dataset \n",
    "X_combined = np.hstack((\n",
    "    X_numerical_standardized, \n",
    "    X_categorical_scaled,\n",
    "    X_textual_scaled\n",
    "    ))\n",
    "combined_df = pd.DataFrame(X_combined, columns=[f'feature_{i}' for i in range(X_combined.shape[1])])\n",
    " "
   ]
  },
  {
   "cell_type": "code",
   "execution_count": 51,
   "metadata": {},
   "outputs": [
    {
     "name": "stdout",
     "output_type": "stream",
     "text": [
      "length of combined dataset: (1000, 943)\n"
     ]
    },
    {
     "data": {
      "text/html": [
       "<div>\n",
       "<style scoped>\n",
       "    .dataframe tbody tr th:only-of-type {\n",
       "        vertical-align: middle;\n",
       "    }\n",
       "\n",
       "    .dataframe tbody tr th {\n",
       "        vertical-align: top;\n",
       "    }\n",
       "\n",
       "    .dataframe thead th {\n",
       "        text-align: right;\n",
       "    }\n",
       "</style>\n",
       "<table border=\"1\" class=\"dataframe\">\n",
       "  <thead>\n",
       "    <tr style=\"text-align: right;\">\n",
       "      <th></th>\n",
       "      <th>feature_0</th>\n",
       "      <th>feature_1</th>\n",
       "      <th>feature_2</th>\n",
       "      <th>feature_3</th>\n",
       "      <th>feature_4</th>\n",
       "      <th>feature_5</th>\n",
       "      <th>feature_6</th>\n",
       "      <th>feature_7</th>\n",
       "      <th>feature_8</th>\n",
       "      <th>feature_9</th>\n",
       "      <th>...</th>\n",
       "      <th>feature_933</th>\n",
       "      <th>feature_934</th>\n",
       "      <th>feature_935</th>\n",
       "      <th>feature_936</th>\n",
       "      <th>feature_937</th>\n",
       "      <th>feature_938</th>\n",
       "      <th>feature_939</th>\n",
       "      <th>feature_940</th>\n",
       "      <th>feature_941</th>\n",
       "      <th>feature_942</th>\n",
       "    </tr>\n",
       "  </thead>\n",
       "  <tbody>\n",
       "    <tr>\n",
       "      <th>0</th>\n",
       "      <td>0.782901</td>\n",
       "      <td>-0.158229</td>\n",
       "      <td>-2.645751</td>\n",
       "      <td>2.044837</td>\n",
       "      <td>-0.719922</td>\n",
       "      <td>-0.430744</td>\n",
       "      <td>0.741478</td>\n",
       "      <td>-0.140808</td>\n",
       "      <td>-0.828933</td>\n",
       "      <td>1.0</td>\n",
       "      <td>...</td>\n",
       "      <td>-0.000065</td>\n",
       "      <td>0.000011</td>\n",
       "      <td>-0.000099</td>\n",
       "      <td>-0.000115</td>\n",
       "      <td>0.000431</td>\n",
       "      <td>-0.00009</td>\n",
       "      <td>0.00007</td>\n",
       "      <td>-0.000157</td>\n",
       "      <td>-0.000043</td>\n",
       "      <td>-0.000002</td>\n",
       "    </tr>\n",
       "  </tbody>\n",
       "</table>\n",
       "<p>1 rows × 943 columns</p>\n",
       "</div>"
      ],
      "text/plain": [
       "   feature_0  feature_1  feature_2  feature_3  feature_4  feature_5  \\\n",
       "0   0.782901  -0.158229  -2.645751   2.044837  -0.719922  -0.430744   \n",
       "\n",
       "   feature_6  feature_7  feature_8  feature_9  ...  feature_933  feature_934  \\\n",
       "0   0.741478  -0.140808  -0.828933        1.0  ...    -0.000065     0.000011   \n",
       "\n",
       "   feature_935  feature_936  feature_937  feature_938  feature_939  \\\n",
       "0    -0.000099    -0.000115     0.000431     -0.00009      0.00007   \n",
       "\n",
       "   feature_940  feature_941  feature_942  \n",
       "0    -0.000157    -0.000043    -0.000002  \n",
       "\n",
       "[1 rows x 943 columns]"
      ]
     },
     "metadata": {},
     "output_type": "display_data"
    }
   ],
   "source": [
    "# print some stats\n",
    "n_samples = combined_df.shape[0]\n",
    "print(f'length of combined dataset: {combined_df.shape}')\n",
    "display(combined_df.head(1))\n",
    "\n",
    "# Save the combined dataset (if needed)\n",
    "file_name = os.path.join('..', 'data', 'processed', f'combined_dataset_{n_samples}.parquet')\n",
    "combined_df.to_parquet(file_name, index=False)"
   ]
  }
 ],
 "metadata": {
  "kernelspec": {
   "display_name": "reviewoutliers-SwZO3ms--py3.12",
   "language": "python",
   "name": "python3"
  },
  "language_info": {
   "codemirror_mode": {
    "name": "ipython",
    "version": 3
   },
   "file_extension": ".py",
   "mimetype": "text/x-python",
   "name": "python",
   "nbconvert_exporter": "python",
   "pygments_lexer": "ipython3",
   "version": "3.12.2"
  }
 },
 "nbformat": 4,
 "nbformat_minor": 2
}
