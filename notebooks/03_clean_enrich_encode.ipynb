{
 "cells": [
  {
   "cell_type": "markdown",
   "metadata": {},
   "source": [
    "# User params"
   ]
  },
  {
   "cell_type": "code",
   "execution_count": 1,
   "metadata": {},
   "outputs": [],
   "source": [
    "bool_debug = False\n",
    "embedder_name = 'all-MiniLM-L6-v2'  # dim : 384, max_len : 256 (probably too short for some cases)\n",
    "max_samples = 1_000\n",
    "bool_debug = False"
   ]
  },
  {
   "cell_type": "code",
   "execution_count": 2,
   "metadata": {},
   "outputs": [],
   "source": [
    "import os, sys\n",
    "sys.path.append(os.path.abspath('../src'))\n",
    "from src.config import BASE_PATH_DATA, PATH_PROJECT\n",
    "os.chdir(PATH_PROJECT)\n",
    "\n",
    "file_path_train_raw = os.path.join(BASE_PATH_DATA, 'processed', 'train.parquet')\n",
    "file_path_test_raw = os.path.join(BASE_PATH_DATA, 'processed', 'test.parquet')\n",
    "\n",
    "file_path_train_encoded = os.path.join(BASE_PATH_DATA, 'processed', f'df_train_encoded{max_samples}.parquet')\n",
    "file_path_test_encoded = os.path.join(BASE_PATH_DATA, 'processed', f'df_test_encoded{max_samples}.parquet')\n"
   ]
  },
  {
   "cell_type": "markdown",
   "metadata": {},
   "source": [
    "# Data cleaning, enrichment and encoding"
   ]
  },
  {
   "cell_type": "code",
   "execution_count": 3,
   "metadata": {},
   "outputs": [
    {
     "name": "stderr",
     "output_type": "stream",
     "text": [
      "2024-08-02 20:30:47,760 - src.config - DEBUG - calling load_dataframe\n",
      "2024-08-02 20:30:47,760 - src.config - INFO - Current working directory: C:\\Users\\alexi\\WORKSPACE\\interview_abwaab\\ReviewOutliers\n",
      "2024-08-02 20:30:47,843 - src.config - DEBUG - calling load_dataframe\n",
      "2024-08-02 20:30:47,843 - src.config - INFO - Current working directory: C:\\Users\\alexi\\WORKSPACE\\interview_abwaab\\ReviewOutliers\n"
     ]
    },
    {
     "data": {
      "text/html": [
       "<div>\n",
       "<style scoped>\n",
       "    .dataframe tbody tr th:only-of-type {\n",
       "        vertical-align: middle;\n",
       "    }\n",
       "\n",
       "    .dataframe tbody tr th {\n",
       "        vertical-align: top;\n",
       "    }\n",
       "\n",
       "    .dataframe thead th {\n",
       "        text-align: right;\n",
       "    }\n",
       "</style>\n",
       "<table border=\"1\" class=\"dataframe\">\n",
       "  <thead>\n",
       "    <tr style=\"text-align: right;\">\n",
       "      <th></th>\n",
       "      <th>main_category</th>\n",
       "      <th>title_review</th>\n",
       "      <th>average_rating</th>\n",
       "      <th>rating_number</th>\n",
       "      <th>features</th>\n",
       "      <th>store</th>\n",
       "      <th>rating</th>\n",
       "      <th>title_metadata</th>\n",
       "      <th>text</th>\n",
       "      <th>user_id</th>\n",
       "      <th>timestamp</th>\n",
       "      <th>helpful_vote</th>\n",
       "      <th>verified_purchase</th>\n",
       "    </tr>\n",
       "  </thead>\n",
       "  <tbody>\n",
       "    <tr>\n",
       "      <th>5030</th>\n",
       "      <td>SUBSCRIPTION BOXES</td>\n",
       "      <td>TheraBox Self Care Subscription Box - Self Car...</td>\n",
       "      <td>4.2</td>\n",
       "      <td>2108</td>\n",
       "      <td>[𝗔𝗦 𝗦𝗘𝗘𝗡 𝗢𝗡 - Oprah, Forbes, Today Show, ABC N...</td>\n",
       "      <td>TheraBox</td>\n",
       "      <td>5</td>\n",
       "      <td>Great stuff!</td>\n",
       "      <td>My wife loved it!</td>\n",
       "      <td>AE3NCR3QW5O3QD7PDGDURQKG7K5A</td>\n",
       "      <td>2021-01-09 03:46:51.392</td>\n",
       "      <td>1</td>\n",
       "      <td>False</td>\n",
       "    </tr>\n",
       "  </tbody>\n",
       "</table>\n",
       "</div>"
      ],
      "text/plain": [
       "           main_category                                       title_review  \\\n",
       "5030  SUBSCRIPTION BOXES  TheraBox Self Care Subscription Box - Self Car...   \n",
       "\n",
       "      average_rating  rating_number  \\\n",
       "5030             4.2           2108   \n",
       "\n",
       "                                               features     store  rating  \\\n",
       "5030  [𝗔𝗦 𝗦𝗘𝗘𝗡 𝗢𝗡 - Oprah, Forbes, Today Show, ABC N...  TheraBox       5   \n",
       "\n",
       "     title_metadata               text                       user_id  \\\n",
       "5030   Great stuff!  My wife loved it!  AE3NCR3QW5O3QD7PDGDURQKG7K5A   \n",
       "\n",
       "                   timestamp  helpful_vote  verified_purchase  \n",
       "5030 2021-01-09 03:46:51.392             1              False  "
      ]
     },
     "metadata": {},
     "output_type": "display_data"
    }
   ],
   "source": [
    "import pandas as pd\n",
    "from src.utils.io import load_dataframe\n",
    "\n",
    "# read json file into dataframe\n",
    "df_train = load_dataframe(file_path_train_raw)\n",
    "df_test = load_dataframe(file_path_test_raw)\n",
    "\n",
    "# limit to wanted sample size, random_state for reproducibility\n",
    "df_train = df_train.sample(n=max_samples, random_state=42)\n",
    "df_test = df_test.sample(n=max_samples, random_state=42)\n",
    "\n",
    "display(df_train.head(1))"
   ]
  },
  {
   "cell_type": "code",
   "execution_count": 4,
   "metadata": {},
   "outputs": [
    {
     "name": "stderr",
     "output_type": "stream",
     "text": [
      "c:\\Users\\alexi\\AppData\\Local\\pypoetry\\Cache\\virtualenvs\\reviewoutliers-SwZO3ms--py3.12\\Lib\\site-packages\\sentence_transformers\\cross_encoder\\CrossEncoder.py:11: TqdmExperimentalWarning: Using `tqdm.autonotebook.tqdm` in notebook mode. Use `tqdm.tqdm` instead to force console mode (e.g. in jupyter console)\n",
      "  from tqdm.autonotebook import tqdm, trange\n",
      "2024-08-02 20:30:52,377 - datasets - INFO - PyTorch version 2.3.1 available.\n",
      "2024-08-02 20:30:52,683 - sentence_transformers.SentenceTransformer - INFO - Use pytorch device_name: cpu\n",
      "2024-08-02 20:30:52,684 - sentence_transformers.SentenceTransformer - INFO - Load pretrained SentenceTransformer: all-MiniLM-L6-v2\n",
      "2024-08-02 20:30:52,686 - urllib3.connectionpool - DEBUG - Starting new HTTPS connection (1): huggingface.co:443\n",
      "2024-08-02 20:30:53,501 - urllib3.connectionpool - DEBUG - https://huggingface.co:443 \"HEAD /sentence-transformers/all-MiniLM-L6-v2/resolve/main/modules.json HTTP/11\" 200 0\n",
      "2024-08-02 20:30:53,796 - urllib3.connectionpool - DEBUG - https://huggingface.co:443 \"HEAD /sentence-transformers/all-MiniLM-L6-v2/resolve/main/config_sentence_transformers.json HTTP/11\" 200 0\n",
      "2024-08-02 20:30:54,480 - urllib3.connectionpool - DEBUG - https://huggingface.co:443 \"HEAD /sentence-transformers/all-MiniLM-L6-v2/resolve/main/README.md HTTP/11\" 200 0\n",
      "2024-08-02 20:30:54,747 - urllib3.connectionpool - DEBUG - https://huggingface.co:443 \"HEAD /sentence-transformers/all-MiniLM-L6-v2/resolve/main/modules.json HTTP/11\" 200 0\n",
      "2024-08-02 20:30:55,015 - urllib3.connectionpool - DEBUG - https://huggingface.co:443 \"HEAD /sentence-transformers/all-MiniLM-L6-v2/resolve/main/sentence_bert_config.json HTTP/11\" 200 0\n",
      "2024-08-02 20:30:55,279 - urllib3.connectionpool - DEBUG - https://huggingface.co:443 \"HEAD /sentence-transformers/all-MiniLM-L6-v2/resolve/main/config.json HTTP/11\" 200 0\n",
      "2024-08-02 20:30:56,238 - urllib3.connectionpool - DEBUG - https://huggingface.co:443 \"HEAD /sentence-transformers/all-MiniLM-L6-v2/resolve/main/tokenizer_config.json HTTP/11\" 200 0\n",
      "2024-08-02 20:30:56,556 - urllib3.connectionpool - DEBUG - https://huggingface.co:443 \"GET /api/models/sentence-transformers/all-MiniLM-L6-v2/revision/main HTTP/11\" 200 6124\n",
      "2024-08-02 20:30:56,831 - urllib3.connectionpool - DEBUG - https://huggingface.co:443 \"GET /api/models/sentence-transformers/all-MiniLM-L6-v2 HTTP/11\" 200 6124\n",
      "2024-08-02 20:30:56,834 - src.config - DEBUG - calling preprocess_data\n",
      "2024-08-02 20:30:56,836 - src.config - DEBUG - calling clean_enrich\n",
      "2024-08-02 20:30:56,870 - src.config - DEBUG - calling encode_data\n"
     ]
    },
    {
     "data": {
      "application/vnd.jupyter.widget-view+json": {
       "model_id": "93554280bc2b401a98ad9ac8cacd8359",
       "version_major": 2,
       "version_minor": 0
      },
      "text/plain": [
       "Batches:   0%|          | 0/32 [00:00<?, ?it/s]"
      ]
     },
     "metadata": {},
     "output_type": "display_data"
    },
    {
     "data": {
      "application/vnd.jupyter.widget-view+json": {
       "model_id": "5e2477b8d25b41e98e684beffa08e267",
       "version_major": 2,
       "version_minor": 0
      },
      "text/plain": [
       "Batches:   0%|          | 0/32 [00:00<?, ?it/s]"
      ]
     },
     "metadata": {},
     "output_type": "display_data"
    },
    {
     "name": "stderr",
     "output_type": "stream",
     "text": [
      "2024-08-02 20:31:46,306 - src.config - DEBUG - calling preprocess_data\n",
      "2024-08-02 20:31:46,307 - src.config - DEBUG - calling clean_enrich\n",
      "2024-08-02 20:31:46,375 - src.config - DEBUG - calling encode_data\n"
     ]
    },
    {
     "data": {
      "application/vnd.jupyter.widget-view+json": {
       "model_id": "f3228d725966444a8bfb93f47a127414",
       "version_major": 2,
       "version_minor": 0
      },
      "text/plain": [
       "Batches:   0%|          | 0/32 [00:00<?, ?it/s]"
      ]
     },
     "metadata": {},
     "output_type": "display_data"
    },
    {
     "data": {
      "application/vnd.jupyter.widget-view+json": {
       "model_id": "d70daf44e2c645be80d21ee713a46d12",
       "version_major": 2,
       "version_minor": 0
      },
      "text/plain": [
       "Batches:   0%|          | 0/32 [00:00<?, ?it/s]"
      ]
     },
     "metadata": {},
     "output_type": "display_data"
    },
    {
     "name": "stdout",
     "output_type": "stream",
     "text": [
      "length of df_train_encoded dataset: (996, 956)\n",
      "length of df_test_encoded dataset: (1000, 956)\n"
     ]
    },
    {
     "data": {
      "text/html": [
       "<div>\n",
       "<style scoped>\n",
       "    .dataframe tbody tr th:only-of-type {\n",
       "        vertical-align: middle;\n",
       "    }\n",
       "\n",
       "    .dataframe tbody tr th {\n",
       "        vertical-align: top;\n",
       "    }\n",
       "\n",
       "    .dataframe thead th {\n",
       "        text-align: right;\n",
       "    }\n",
       "</style>\n",
       "<table border=\"1\" class=\"dataframe\">\n",
       "  <thead>\n",
       "    <tr style=\"text-align: right;\">\n",
       "      <th></th>\n",
       "      <th>feature_0</th>\n",
       "      <th>feature_1</th>\n",
       "      <th>feature_2</th>\n",
       "      <th>feature_3</th>\n",
       "      <th>feature_4</th>\n",
       "      <th>feature_5</th>\n",
       "      <th>feature_6</th>\n",
       "      <th>feature_7</th>\n",
       "      <th>feature_8</th>\n",
       "      <th>feature_9</th>\n",
       "      <th>...</th>\n",
       "      <th>feature_946</th>\n",
       "      <th>feature_947</th>\n",
       "      <th>feature_948</th>\n",
       "      <th>feature_949</th>\n",
       "      <th>feature_950</th>\n",
       "      <th>feature_951</th>\n",
       "      <th>feature_952</th>\n",
       "      <th>feature_953</th>\n",
       "      <th>feature_954</th>\n",
       "      <th>feature_955</th>\n",
       "    </tr>\n",
       "  </thead>\n",
       "  <tbody>\n",
       "    <tr>\n",
       "      <th>0</th>\n",
       "      <td>0.159754</td>\n",
       "      <td>-0.103291</td>\n",
       "      <td>0.810991</td>\n",
       "      <td>-0.365716</td>\n",
       "      <td>-2.809423</td>\n",
       "      <td>0.739356</td>\n",
       "      <td>-1.643136</td>\n",
       "      <td>-0.69994</td>\n",
       "      <td>-1.236672</td>\n",
       "      <td>1.0</td>\n",
       "      <td>...</td>\n",
       "      <td>0.000077</td>\n",
       "      <td>0.000176</td>\n",
       "      <td>-0.000265</td>\n",
       "      <td>-0.000088</td>\n",
       "      <td>-0.000275</td>\n",
       "      <td>0.000077</td>\n",
       "      <td>6.634069e-07</td>\n",
       "      <td>3.805145e-07</td>\n",
       "      <td>5.818505e-07</td>\n",
       "      <td>5.606788e-07</td>\n",
       "    </tr>\n",
       "  </tbody>\n",
       "</table>\n",
       "<p>1 rows × 956 columns</p>\n",
       "</div>"
      ],
      "text/plain": [
       "   feature_0  feature_1  feature_2  feature_3  feature_4  feature_5  \\\n",
       "0   0.159754  -0.103291   0.810991  -0.365716  -2.809423   0.739356   \n",
       "\n",
       "   feature_6  feature_7  feature_8  feature_9  ...  feature_946  feature_947  \\\n",
       "0  -1.643136   -0.69994  -1.236672        1.0  ...     0.000077     0.000176   \n",
       "\n",
       "   feature_948  feature_949  feature_950  feature_951   feature_952  \\\n",
       "0    -0.000265    -0.000088    -0.000275     0.000077  6.634069e-07   \n",
       "\n",
       "    feature_953   feature_954   feature_955  \n",
       "0  3.805145e-07  5.818505e-07  5.606788e-07  \n",
       "\n",
       "[1 rows x 956 columns]"
      ]
     },
     "metadata": {},
     "output_type": "display_data"
    }
   ],
   "source": [
    "from src.utils.preprocessing.preprocessing import preprocess_data\n",
    "\n",
    "# encode the data\n",
    "df_train_encoded = preprocess_data(df_train, training=True)\n",
    "df_test_encoded = preprocess_data(df_test, training=False)\n",
    "\n",
    "# print some stats\n",
    "print(f'length of df_train_encoded dataset: {df_train_encoded.shape}')\n",
    "print(f'length of df_test_encoded dataset: {df_test_encoded.shape}')\n",
    "display(df_train_encoded.head(1))\n",
    "\n",
    "# Save the combined dataset (if needed)\n",
    "df_train_encoded.to_parquet(file_path_train_encoded, index=False)\n",
    "df_test_encoded.to_parquet(file_path_test_encoded, index=False)"
   ]
  }
 ],
 "metadata": {
  "kernelspec": {
   "display_name": "reviewoutliers-SwZO3ms--py3.12",
   "language": "python",
   "name": "python3"
  },
  "language_info": {
   "codemirror_mode": {
    "name": "ipython",
    "version": 3
   },
   "file_extension": ".py",
   "mimetype": "text/x-python",
   "name": "python",
   "nbconvert_exporter": "python",
   "pygments_lexer": "ipython3",
   "version": "3.12.2"
  }
 },
 "nbformat": 4,
 "nbformat_minor": 2
}
