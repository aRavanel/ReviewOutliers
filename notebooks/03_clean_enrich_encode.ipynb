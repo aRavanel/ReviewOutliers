{
 "cells": [
  {
   "cell_type": "markdown",
   "metadata": {},
   "source": [
    "# User params"
   ]
  },
  {
   "cell_type": "code",
   "execution_count": 1,
   "metadata": {},
   "outputs": [],
   "source": [
    "bool_debug = False\n",
    "embedder_name = 'all-MiniLM-L6-v2'  # dim : 384, max_len : 256 (probably too short for some cases)\n",
    "max_samples = 1_000\n",
    "bool_debug = False"
   ]
  },
  {
   "cell_type": "code",
   "execution_count": 2,
   "metadata": {},
   "outputs": [],
   "source": [
    "import os, sys\n",
    "sys.path.append(os.path.abspath('../src'))\n",
    "from src.config import BASE_PATH_DATA, PATH_PROJECT\n",
    "os.chdir(PATH_PROJECT)\n",
    "\n",
    "file_path_train_raw = os.path.join(BASE_PATH_DATA, 'processed', 'train.parquet')\n",
    "file_path_test_raw = os.path.join(BASE_PATH_DATA, 'processed', 'test.parquet')\n",
    "\n",
    "file_path_train_encoded = os.path.join(BASE_PATH_DATA, 'processed', f'df_train_encoded{max_samples}.parquet')\n",
    "file_path_test_encoded = os.path.join(BASE_PATH_DATA, 'processed', f'df_test_encoded{max_samples}.parquet')\n"
   ]
  },
  {
   "cell_type": "markdown",
   "metadata": {},
   "source": [
    "# Data cleaning, enrichment and encoding"
   ]
  },
  {
   "cell_type": "code",
   "execution_count": 3,
   "metadata": {},
   "outputs": [
    {
     "name": "stderr",
     "output_type": "stream",
     "text": [
      "2024-08-01 14:15:29,751 - src.config - DEBUG - calling load_dataframe\n",
      "2024-08-01 14:15:29,752 - src.config - INFO - Current working directory: C:\\Users\\alexi\\WORKSPACE\\interview_abwaab\\ReviewOutliers\n",
      "2024-08-01 14:15:29,871 - src.config - DEBUG - calling load_dataframe\n",
      "2024-08-01 14:15:29,872 - src.config - INFO - Current working directory: C:\\Users\\alexi\\WORKSPACE\\interview_abwaab\\ReviewOutliers\n"
     ]
    },
    {
     "data": {
      "text/html": [
       "<div>\n",
       "<style scoped>\n",
       "    .dataframe tbody tr th:only-of-type {\n",
       "        vertical-align: middle;\n",
       "    }\n",
       "\n",
       "    .dataframe tbody tr th {\n",
       "        vertical-align: top;\n",
       "    }\n",
       "\n",
       "    .dataframe thead th {\n",
       "        text-align: right;\n",
       "    }\n",
       "</style>\n",
       "<table border=\"1\" class=\"dataframe\">\n",
       "  <thead>\n",
       "    <tr style=\"text-align: right;\">\n",
       "      <th></th>\n",
       "      <th>main_category</th>\n",
       "      <th>title_review</th>\n",
       "      <th>average_rating</th>\n",
       "      <th>rating_number</th>\n",
       "      <th>features</th>\n",
       "      <th>store</th>\n",
       "      <th>rating</th>\n",
       "      <th>title_metadata</th>\n",
       "      <th>text</th>\n",
       "      <th>user_id</th>\n",
       "      <th>timestamp</th>\n",
       "      <th>helpful_vote</th>\n",
       "      <th>verified_purchase</th>\n",
       "    </tr>\n",
       "  </thead>\n",
       "  <tbody>\n",
       "    <tr>\n",
       "      <th>5030</th>\n",
       "      <td>SUBSCRIPTION BOXES</td>\n",
       "      <td>TheraBox Self Care Subscription Box - Self Car...</td>\n",
       "      <td>4.2</td>\n",
       "      <td>2108</td>\n",
       "      <td>[𝗔𝗦 𝗦𝗘𝗘𝗡 𝗢𝗡 - Oprah, Forbes, Today Show, ABC N...</td>\n",
       "      <td>TheraBox</td>\n",
       "      <td>5</td>\n",
       "      <td>Great stuff!</td>\n",
       "      <td>My wife loved it!</td>\n",
       "      <td>AE3NCR3QW5O3QD7PDGDURQKG7K5A</td>\n",
       "      <td>2021-01-09 03:46:51.392</td>\n",
       "      <td>1</td>\n",
       "      <td>False</td>\n",
       "    </tr>\n",
       "  </tbody>\n",
       "</table>\n",
       "</div>"
      ],
      "text/plain": [
       "           main_category                                       title_review  \\\n",
       "5030  SUBSCRIPTION BOXES  TheraBox Self Care Subscription Box - Self Car...   \n",
       "\n",
       "      average_rating  rating_number  \\\n",
       "5030             4.2           2108   \n",
       "\n",
       "                                               features     store  rating  \\\n",
       "5030  [𝗔𝗦 𝗦𝗘𝗘𝗡 𝗢𝗡 - Oprah, Forbes, Today Show, ABC N...  TheraBox       5   \n",
       "\n",
       "     title_metadata               text                       user_id  \\\n",
       "5030   Great stuff!  My wife loved it!  AE3NCR3QW5O3QD7PDGDURQKG7K5A   \n",
       "\n",
       "                   timestamp  helpful_vote  verified_purchase  \n",
       "5030 2021-01-09 03:46:51.392             1              False  "
      ]
     },
     "metadata": {},
     "output_type": "display_data"
    }
   ],
   "source": [
    "import pandas as pd\n",
    "from src.utils.io import load_dataframe\n",
    "\n",
    "# read json file into dataframe\n",
    "df_train = load_dataframe(file_path_train_raw)\n",
    "df_test = load_dataframe(file_path_test_raw)\n",
    "\n",
    "# limit to wanted sample size, random_state for reproducibility\n",
    "df_train = df_train.sample(n=max_samples, random_state=42)\n",
    "df_test = df_test.sample(n=max_samples, random_state=42)\n",
    "\n",
    "display(df_train.head(1))"
   ]
  },
  {
   "cell_type": "code",
   "execution_count": 4,
   "metadata": {},
   "outputs": [
    {
     "name": "stderr",
     "output_type": "stream",
     "text": [
      "c:\\Users\\alexi\\AppData\\Local\\pypoetry\\Cache\\virtualenvs\\reviewoutliers-SwZO3ms--py3.12\\Lib\\site-packages\\sentence_transformers\\cross_encoder\\CrossEncoder.py:11: TqdmExperimentalWarning: Using `tqdm.autonotebook.tqdm` in notebook mode. Use `tqdm.tqdm` instead to force console mode (e.g. in jupyter console)\n",
      "  from tqdm.autonotebook import tqdm, trange\n",
      "2024-08-01 14:15:36,018 - datasets - INFO - PyTorch version 2.3.1 available.\n",
      "2024-08-01 14:15:36,349 - sentence_transformers.SentenceTransformer - INFO - Use pytorch device_name: cpu\n",
      "2024-08-01 14:15:36,350 - sentence_transformers.SentenceTransformer - INFO - Load pretrained SentenceTransformer: all-MiniLM-L6-v2\n",
      "2024-08-01 14:15:36,354 - urllib3.connectionpool - DEBUG - Starting new HTTPS connection (1): huggingface.co:443\n",
      "2024-08-01 14:15:36,738 - urllib3.connectionpool - DEBUG - https://huggingface.co:443 \"HEAD /sentence-transformers/all-MiniLM-L6-v2/resolve/main/modules.json HTTP/11\" 200 0\n",
      "2024-08-01 14:15:37,007 - urllib3.connectionpool - DEBUG - https://huggingface.co:443 \"HEAD /sentence-transformers/all-MiniLM-L6-v2/resolve/main/config_sentence_transformers.json HTTP/11\" 200 0\n",
      "2024-08-01 14:15:37,303 - urllib3.connectionpool - DEBUG - https://huggingface.co:443 \"HEAD /sentence-transformers/all-MiniLM-L6-v2/resolve/main/README.md HTTP/11\" 200 0\n",
      "2024-08-01 14:15:37,693 - urllib3.connectionpool - DEBUG - https://huggingface.co:443 \"HEAD /sentence-transformers/all-MiniLM-L6-v2/resolve/main/modules.json HTTP/11\" 200 0\n",
      "2024-08-01 14:15:38,041 - urllib3.connectionpool - DEBUG - https://huggingface.co:443 \"HEAD /sentence-transformers/all-MiniLM-L6-v2/resolve/main/sentence_bert_config.json HTTP/11\" 200 0\n",
      "2024-08-01 14:15:38,302 - urllib3.connectionpool - DEBUG - https://huggingface.co:443 \"HEAD /sentence-transformers/all-MiniLM-L6-v2/resolve/main/config.json HTTP/11\" 200 0\n",
      "2024-08-01 14:15:38,919 - urllib3.connectionpool - DEBUG - https://huggingface.co:443 \"HEAD /sentence-transformers/all-MiniLM-L6-v2/resolve/main/tokenizer_config.json HTTP/11\" 200 0\n",
      "2024-08-01 14:15:39,336 - urllib3.connectionpool - DEBUG - https://huggingface.co:443 \"GET /api/models/sentence-transformers/all-MiniLM-L6-v2/revision/main HTTP/11\" 200 6124\n",
      "2024-08-01 14:15:39,680 - urllib3.connectionpool - DEBUG - https://huggingface.co:443 \"GET /api/models/sentence-transformers/all-MiniLM-L6-v2 HTTP/11\" 200 6124\n",
      "2024-08-01 14:15:39,687 - src.config - DEBUG - calling preprocess_data\n",
      "2024-08-01 14:15:39,688 - src.config - DEBUG - calling clean_enrich\n",
      "2024-08-01 14:15:39,713 - src.config - DEBUG - calling encode_data\n"
     ]
    },
    {
     "data": {
      "application/vnd.jupyter.widget-view+json": {
       "model_id": "9c304877b54c4c878d8976bc3c964091",
       "version_major": 2,
       "version_minor": 0
      },
      "text/plain": [
       "Batches:   0%|          | 0/4 [00:00<?, ?it/s]"
      ]
     },
     "metadata": {},
     "output_type": "display_data"
    },
    {
     "data": {
      "application/vnd.jupyter.widget-view+json": {
       "model_id": "61f852405d8349158414f799ff13b26d",
       "version_major": 2,
       "version_minor": 0
      },
      "text/plain": [
       "Batches:   0%|          | 0/4 [00:00<?, ?it/s]"
      ]
     },
     "metadata": {},
     "output_type": "display_data"
    },
    {
     "name": "stderr",
     "output_type": "stream",
     "text": [
      "2024-08-01 14:15:50,958 - src.config - DEBUG - calling preprocess_data\n",
      "2024-08-01 14:15:50,960 - src.config - DEBUG - calling clean_enrich\n",
      "2024-08-01 14:15:50,998 - src.config - DEBUG - calling encode_data\n"
     ]
    },
    {
     "data": {
      "application/vnd.jupyter.widget-view+json": {
       "model_id": "ef380fdd35824199a1ad84fb45c86514",
       "version_major": 2,
       "version_minor": 0
      },
      "text/plain": [
       "Batches:   0%|          | 0/4 [00:00<?, ?it/s]"
      ]
     },
     "metadata": {},
     "output_type": "display_data"
    },
    {
     "data": {
      "application/vnd.jupyter.widget-view+json": {
       "model_id": "1faf57c220384db3a37828e606476d9a",
       "version_major": 2,
       "version_minor": 0
      },
      "text/plain": [
       "Batches:   0%|          | 0/4 [00:00<?, ?it/s]"
      ]
     },
     "metadata": {},
     "output_type": "display_data"
    },
    {
     "name": "stdout",
     "output_type": "stream",
     "text": [
      "length of df_train_encoded dataset: (100, 833)\n",
      "length of df_test_encoded dataset: (100, 833)\n"
     ]
    },
    {
     "data": {
      "text/html": [
       "<div>\n",
       "<style scoped>\n",
       "    .dataframe tbody tr th:only-of-type {\n",
       "        vertical-align: middle;\n",
       "    }\n",
       "\n",
       "    .dataframe tbody tr th {\n",
       "        vertical-align: top;\n",
       "    }\n",
       "\n",
       "    .dataframe thead th {\n",
       "        text-align: right;\n",
       "    }\n",
       "</style>\n",
       "<table border=\"1\" class=\"dataframe\">\n",
       "  <thead>\n",
       "    <tr style=\"text-align: right;\">\n",
       "      <th></th>\n",
       "      <th>feature_0</th>\n",
       "      <th>feature_1</th>\n",
       "      <th>feature_2</th>\n",
       "      <th>feature_3</th>\n",
       "      <th>feature_4</th>\n",
       "      <th>feature_5</th>\n",
       "      <th>feature_6</th>\n",
       "      <th>feature_7</th>\n",
       "      <th>feature_8</th>\n",
       "      <th>feature_9</th>\n",
       "      <th>...</th>\n",
       "      <th>feature_823</th>\n",
       "      <th>feature_824</th>\n",
       "      <th>feature_825</th>\n",
       "      <th>feature_826</th>\n",
       "      <th>feature_827</th>\n",
       "      <th>feature_828</th>\n",
       "      <th>feature_829</th>\n",
       "      <th>feature_830</th>\n",
       "      <th>feature_831</th>\n",
       "      <th>feature_832</th>\n",
       "    </tr>\n",
       "  </thead>\n",
       "  <tbody>\n",
       "    <tr>\n",
       "      <th>0</th>\n",
       "      <td>0.031573</td>\n",
       "      <td>-0.192871</td>\n",
       "      <td>0.791257</td>\n",
       "      <td>-0.50033</td>\n",
       "      <td>-3.179797</td>\n",
       "      <td>0.708972</td>\n",
       "      <td>-1.468312</td>\n",
       "      <td>-0.77397</td>\n",
       "      <td>-1.325515</td>\n",
       "      <td>1.0</td>\n",
       "      <td>...</td>\n",
       "      <td>0.000077</td>\n",
       "      <td>0.000176</td>\n",
       "      <td>-0.000265</td>\n",
       "      <td>-0.000088</td>\n",
       "      <td>-0.000275</td>\n",
       "      <td>0.000077</td>\n",
       "      <td>0.000007</td>\n",
       "      <td>0.000004</td>\n",
       "      <td>0.000006</td>\n",
       "      <td>0.000006</td>\n",
       "    </tr>\n",
       "  </tbody>\n",
       "</table>\n",
       "<p>1 rows × 833 columns</p>\n",
       "</div>"
      ],
      "text/plain": [
       "   feature_0  feature_1  feature_2  feature_3  feature_4  feature_5  \\\n",
       "0   0.031573  -0.192871   0.791257   -0.50033  -3.179797   0.708972   \n",
       "\n",
       "   feature_6  feature_7  feature_8  feature_9  ...  feature_823  feature_824  \\\n",
       "0  -1.468312   -0.77397  -1.325515        1.0  ...     0.000077     0.000176   \n",
       "\n",
       "   feature_825  feature_826  feature_827  feature_828  feature_829  \\\n",
       "0    -0.000265    -0.000088    -0.000275     0.000077     0.000007   \n",
       "\n",
       "   feature_830  feature_831  feature_832  \n",
       "0     0.000004     0.000006     0.000006  \n",
       "\n",
       "[1 rows x 833 columns]"
      ]
     },
     "metadata": {},
     "output_type": "display_data"
    }
   ],
   "source": [
    "from src.utils.preprocessing.preprocessing import preprocess_data\n",
    "\n",
    "# encode the data\n",
    "df_train_encoded = preprocess_data(df_train, training=True)\n",
    "df_test_encoded = preprocess_data(df_test, training=False)\n",
    "\n",
    "# print some stats\n",
    "print(f'length of df_train_encoded dataset: {df_train_encoded.shape}')\n",
    "print(f'length of df_test_encoded dataset: {df_test_encoded.shape}')\n",
    "display(df_train_encoded.head(1))\n",
    "\n",
    "# Save the combined dataset (if needed)\n",
    "df_train_encoded.to_parquet(file_path_train_encoded, index=False)\n",
    "df_test_encoded.to_parquet(file_path_test_encoded, index=False)"
   ]
  }
 ],
 "metadata": {
  "kernelspec": {
   "display_name": "reviewoutliers-SwZO3ms--py3.12",
   "language": "python",
   "name": "python3"
  },
  "language_info": {
   "codemirror_mode": {
    "name": "ipython",
    "version": 3
   },
   "file_extension": ".py",
   "mimetype": "text/x-python",
   "name": "python",
   "nbconvert_exporter": "python",
   "pygments_lexer": "ipython3",
   "version": "3.12.2"
  }
 },
 "nbformat": 4,
 "nbformat_minor": 2
}
