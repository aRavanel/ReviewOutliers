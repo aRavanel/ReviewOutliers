{
 "cells": [
  {
   "cell_type": "markdown",
   "metadata": {},
   "source": [
    "# Data Splitting\n",
    "\n",
    "### Possible Strategies\n",
    "\n",
    "1. **Random Split**:\n",
    "    - **Description**: Randomly splits the dataset into training, validation, and test sets.\n",
    "    - **Use Case**: General-purpose model training and evaluation.\n",
    "    - **Pros**: Simple to implement, ensures that each split is representative of the overall dataset.\n",
    "    - **Cons**: May not capture temporal or user/item-specific trends.\n",
    "\n",
    "2. **Temporal Split**:\n",
    "    - **Description**: Splits the dataset based on timestamps, using older reviews for training and more recent reviews for validation and testing.\n",
    "    - **Use Case**: Evaluating models on their ability to generalize to future data.\n",
    "    - **Pros**: Mimics real-world scenarios where future data is unknown, captures temporal trends.\n",
    "    - **Cons**: May result in imbalanced splits if the dataset has a seasonal trend or uneven distribution of reviews over time.\n",
    "    - **Splitting Strategy**: Given a chronological user interaction sequence of length N:\n",
    "        - **Training part**: Item interactions with timestamp range (-∞, t_1).\n",
    "        - **Validation part**: Item interactions with timestamp range [t_1, t_2).\n",
    "        - **Testing part**: Item interactions with timestamp range [t_2, +∞).\n",
    "\n",
    "3. **User-Based Split**:\n",
    "    - **Description**: Ensures that reviews from the same user are only present in one of the training, validation, or test sets.\n",
    "    - **Use Case**: Personalization and recommendation systems where user history is critical.\n",
    "    - **Pros**: Prevents data leakage from user behavior patterns.\n",
    "    - **Cons**: May lead to splits that are less representative of the overall data distribution.\n",
    "\n",
    "4. **Item-Based Split**:\n",
    "    - **Description**: Ensures that reviews for the same product are only present in one of the training, validation, or test sets.\n",
    "    - **Use Case**: Evaluating models on new products that were not seen during training.\n",
    "    - **Pros**: Tests the model's ability to generalize to unseen items.\n",
    "    - **Cons**: Similar to user-based split, it may result in less representative splits.\n",
    "\n",
    "5. **Stratified Split**:\n",
    "    - **Description**: Ensures that the splits maintain the same distribution of a certain feature, such as rating or product category.\n",
    "    - **Use Case**: Ensuring that the model performs well across different subsets of the data.\n",
    "    - **Pros**: Maintains the distribution of important features, leading to more balanced splits.\n",
    "    - **Cons**: More complex to implement, may still miss temporal or user/item-specific trends.\n",
    "\n",
    "6. **Cross-Validation Split**:\n",
    "    - **Description**: Uses k-fold cross-validation to create multiple training and validation splits.\n",
    "    - **Use Case**: Robust model evaluation and hyperparameter tuning.\n",
    "    - **Pros**: Provides a more comprehensive evaluation by using multiple data splits.\n",
    "    - **Cons**: Computationally intensive, not suitable for large datasets if computational resources are limited.\n",
    "\n",
    "7. **Leave Last Out Split**:\n",
    "    - **Description**: A data-splitting strategy to pick up the latest two item interactions for evaluation. This strategy is widely used in many recommendation papers.\n",
    "    - **Splitting Strategy**: Given a chronological user interaction sequence of length N:\n",
    "        - **Training part**: The first N-2 items.\n",
    "        - **Validation part**: The (N-1)-th item.\n",
    "        - **Testing part**: The N-th item."
   ]
  },
  {
   "cell_type": "markdown",
   "metadata": {
    "vscode": {
     "languageId": "plaintext"
    }
   },
   "source": [
    "# User parameters"
   ]
  },
  {
   "cell_type": "code",
   "execution_count": 3,
   "metadata": {},
   "outputs": [],
   "source": [
    "PARQUET_NAME = 'combined_dataset_1000.parquet'\n",
    "SPLITTING_STRATEGY = 'random'  # 'random', 'temporal', 'leave-last-out'"
   ]
  },
  {
   "cell_type": "markdown",
   "metadata": {
    "vscode": {
     "languageId": "plaintext"
    }
   },
   "source": [
    "# Processing"
   ]
  },
  {
   "cell_type": "code",
   "execution_count": 4,
   "metadata": {},
   "outputs": [],
   "source": [
    "import os\n",
    "import pandas as pd\n",
    "from sklearn.model_selection import train_test_split\n",
    "\n",
    "\n",
    "# Load the data (the parquet file) into a dataframe\n",
    "combined_df = pd.read_parquet(os.path.join('..', 'data', 'processed', PARQUET_NAME))\n",
    "\n",
    "match SPLITTING_STRATEGY:\n",
    "    case 'random':\n",
    "        # Split the data into train and test sets\n",
    "        train_df, test_df = train_test_split(combined_df, test_size=0.2, random_state=42)\n",
    "    case 'temporal':\n",
    "        # Perform temporal split\n",
    "        # Use precomputed datasets\n",
    "        raise ValueError(\"not implemented\")\n",
    "    case 'leave-last-out':\n",
    "        # Perform leave-last-out split\n",
    "        # Use precomputed datasets\n",
    "        raise ValueError(\"not implemented\")\n",
    "    case _:\n",
    "        raise ValueError(f\"Unknown splitting strategy: {SPLITTING_STRATEGY}\")\n",
    "    \n",
    "# save the train and test sets\n",
    "train_df.to_parquet(os.path.join('..', 'data', 'processed', 'train.parquet'), index=False)\n",
    "test_df.to_parquet(os.path.join('..', 'data', 'processed', 'test.parquet'), index=False)"
   ]
  },
  {
   "cell_type": "code",
   "execution_count": null,
   "metadata": {},
   "outputs": [],
   "source": [
    "# NOTE : \n",
    "# - the splitting might have to be done before the preprocessing (as there is already precomputed datasets)"
   ]
  }
 ],
 "metadata": {
  "kernelspec": {
   "display_name": "reviewoutliers-SwZO3ms--py3.12",
   "language": "python",
   "name": "python3"
  },
  "language_info": {
   "codemirror_mode": {
    "name": "ipython",
    "version": 3
   },
   "file_extension": ".py",
   "mimetype": "text/x-python",
   "name": "python",
   "nbconvert_exporter": "python",
   "pygments_lexer": "ipython3",
   "version": "3.12.2"
  }
 },
 "nbformat": 4,
 "nbformat_minor": 2
}
