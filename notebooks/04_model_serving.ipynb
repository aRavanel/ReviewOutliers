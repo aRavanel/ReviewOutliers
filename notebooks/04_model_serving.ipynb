{
 "cells": [
  {
   "cell_type": "markdown",
   "metadata": {},
   "source": [
    "# User params"
   ]
  },
  {
   "cell_type": "code",
   "execution_count": 1,
   "metadata": {},
   "outputs": [],
   "source": [
    "n_data = 2  # numebr of samples\n"
   ]
  },
  {
   "cell_type": "markdown",
   "metadata": {},
   "source": [
    "# Prepare some data"
   ]
  },
  {
   "cell_type": "code",
   "execution_count": 2,
   "metadata": {},
   "outputs": [],
   "source": [
    "import os, sys\n",
    "sys.path.append(os.path.abspath('../src'))\n",
    "from src.config import BASE_PATH_DATA, PATH_PROJECT\n",
    "os.chdir(PATH_PROJECT)"
   ]
  },
  {
   "cell_type": "code",
   "execution_count": 3,
   "metadata": {},
   "outputs": [
    {
     "data": {
      "text/html": [
       "<div>\n",
       "<style scoped>\n",
       "    .dataframe tbody tr th:only-of-type {\n",
       "        vertical-align: middle;\n",
       "    }\n",
       "\n",
       "    .dataframe tbody tr th {\n",
       "        vertical-align: top;\n",
       "    }\n",
       "\n",
       "    .dataframe thead th {\n",
       "        text-align: right;\n",
       "    }\n",
       "</style>\n",
       "<table border=\"1\" class=\"dataframe\">\n",
       "  <thead>\n",
       "    <tr style=\"text-align: right;\">\n",
       "      <th></th>\n",
       "      <th>main_category</th>\n",
       "      <th>title_review</th>\n",
       "      <th>average_rating</th>\n",
       "      <th>rating_number</th>\n",
       "      <th>features</th>\n",
       "      <th>description</th>\n",
       "      <th>price</th>\n",
       "      <th>images_review</th>\n",
       "      <th>videos</th>\n",
       "      <th>store</th>\n",
       "      <th>...</th>\n",
       "      <th>details</th>\n",
       "      <th>bought_together</th>\n",
       "      <th>rating</th>\n",
       "      <th>title_metadata</th>\n",
       "      <th>text</th>\n",
       "      <th>images_metadata</th>\n",
       "      <th>user_id</th>\n",
       "      <th>timestamp</th>\n",
       "      <th>helpful_vote</th>\n",
       "      <th>verified_purchase</th>\n",
       "    </tr>\n",
       "  </thead>\n",
       "  <tbody>\n",
       "    <tr>\n",
       "      <th>1098</th>\n",
       "      <td>SUBSCRIPTION BOXES</td>\n",
       "      <td>Gentleman's Box - Men's Fashion and Lifestyle ...</td>\n",
       "      <td>4.0</td>\n",
       "      <td>523</td>\n",
       "      <td>[NEW LIFESTYLE ITEMS EVERY QUARTER: Expect a b...</td>\n",
       "      <td>[]</td>\n",
       "      <td>NaN</td>\n",
       "      <td>[{'hi_res': None, 'large': 'https://m.media-am...</td>\n",
       "      <td>[]</td>\n",
       "      <td>Gentleman's Box</td>\n",
       "      <td>...</td>\n",
       "      <td>{'Age Range (Description)': None, 'Brand': Non...</td>\n",
       "      <td>NaN</td>\n",
       "      <td>5</td>\n",
       "      <td>N/A</td>\n",
       "      <td>I thought that it was well put together. I’m i...</td>\n",
       "      <td>[]</td>\n",
       "      <td>AFJHQISCX4HDOQBK3KGBOYI776QA</td>\n",
       "      <td>2019-03-04 18:28:01.832</td>\n",
       "      <td>1</td>\n",
       "      <td>True</td>\n",
       "    </tr>\n",
       "    <tr>\n",
       "      <th>1648</th>\n",
       "      <td>SUBSCRIPTION BOXES</td>\n",
       "      <td>DateBox Club, Monthly Subscription Box, Fun &amp; ...</td>\n",
       "      <td>2.4</td>\n",
       "      <td>6</td>\n",
       "      <td>[GOODY-FILLED BOX OF JOY: Our 3-month subscrip...</td>\n",
       "      <td>[]</td>\n",
       "      <td>NaN</td>\n",
       "      <td>[{'hi_res': 'https://m.media-amazon.com/images...</td>\n",
       "      <td>[]</td>\n",
       "      <td>DateBox Club</td>\n",
       "      <td>...</td>\n",
       "      <td>{'Age Range (Description)': None, 'Brand': Non...</td>\n",
       "      <td>NaN</td>\n",
       "      <td>1</td>\n",
       "      <td>Everything is in miniature size, and ideas- do...</td>\n",
       "      <td>The first box game came with an activity card ...</td>\n",
       "      <td>[]</td>\n",
       "      <td>AEUC5BPQLJWLVJXASHGXLZUBCB7Q</td>\n",
       "      <td>2023-03-16 19:41:32.027</td>\n",
       "      <td>1</td>\n",
       "      <td>True</td>\n",
       "    </tr>\n",
       "  </tbody>\n",
       "</table>\n",
       "<p>2 rows × 21 columns</p>\n",
       "</div>"
      ],
      "text/plain": [
       "           main_category                                       title_review  \\\n",
       "1098  SUBSCRIPTION BOXES  Gentleman's Box - Men's Fashion and Lifestyle ...   \n",
       "1648  SUBSCRIPTION BOXES  DateBox Club, Monthly Subscription Box, Fun & ...   \n",
       "\n",
       "      average_rating  rating_number  \\\n",
       "1098             4.0            523   \n",
       "1648             2.4              6   \n",
       "\n",
       "                                               features description  price  \\\n",
       "1098  [NEW LIFESTYLE ITEMS EVERY QUARTER: Expect a b...          []    NaN   \n",
       "1648  [GOODY-FILLED BOX OF JOY: Our 3-month subscrip...          []    NaN   \n",
       "\n",
       "                                          images_review videos  \\\n",
       "1098  [{'hi_res': None, 'large': 'https://m.media-am...     []   \n",
       "1648  [{'hi_res': 'https://m.media-amazon.com/images...     []   \n",
       "\n",
       "                store  ...                                            details  \\\n",
       "1098  Gentleman's Box  ...  {'Age Range (Description)': None, 'Brand': Non...   \n",
       "1648     DateBox Club  ...  {'Age Range (Description)': None, 'Brand': Non...   \n",
       "\n",
       "     bought_together  rating  \\\n",
       "1098             NaN       5   \n",
       "1648             NaN       1   \n",
       "\n",
       "                                         title_metadata  \\\n",
       "1098                                                N/A   \n",
       "1648  Everything is in miniature size, and ideas- do...   \n",
       "\n",
       "                                                   text images_metadata  \\\n",
       "1098  I thought that it was well put together. I’m i...              []   \n",
       "1648  The first box game came with an activity card ...              []   \n",
       "\n",
       "                           user_id               timestamp helpful_vote  \\\n",
       "1098  AFJHQISCX4HDOQBK3KGBOYI776QA 2019-03-04 18:28:01.832            1   \n",
       "1648  AEUC5BPQLJWLVJXASHGXLZUBCB7Q 2023-03-16 19:41:32.027            1   \n",
       "\n",
       "      verified_purchase  \n",
       "1098               True  \n",
       "1648               True  \n",
       "\n",
       "[2 rows x 21 columns]"
      ]
     },
     "metadata": {},
     "output_type": "display_data"
    }
   ],
   "source": [
    "# load test data\n",
    "from src.utils.io import load_dataframe\n",
    "from src.config import BASE_PATH_DATA\n",
    "df_test = load_dataframe(os.path.join(BASE_PATH_DATA, 'processed', 'test.parquet'))\n",
    "\n",
    "# take some samples\n",
    "df_test = df_test.sample(n_data)\n",
    "display(df_test)\n",
    "\n",
    "# \n",
    "\n",
    "# format the data for a request\n",
    "payload = {\"text\": \"string\", \"features\": [0]}\n"
   ]
  },
  {
   "cell_type": "markdown",
   "metadata": {},
   "source": [
    "# Launch the service"
   ]
  },
  {
   "cell_type": "markdown",
   "metadata": {},
   "source": [
    "**In local**"
   ]
  },
  {
   "cell_type": "code",
   "execution_count": 2,
   "metadata": {},
   "outputs": [
    {
     "name": "stdout",
     "output_type": "stream",
     "text": [
      "/mnt/c/Users/alexi/WORKSPACE/interview_abwaab/ReviewOutliers\n"
     ]
    }
   ],
   "source": [
    "%%bash\n",
    "make run_fast  # poetry run uvicorn src.app:app --host 0.0.0.0 --port 8000 --reload"
   ]
  },
  {
   "cell_type": "markdown",
   "metadata": {},
   "source": [
    "**Using docker**"
   ]
  },
  {
   "cell_type": "code",
   "execution_count": null,
   "metadata": {},
   "outputs": [],
   "source": [
    "%%bash\n",
    "make build_docker\n",
    "make run_docker"
   ]
  },
  {
   "cell_type": "markdown",
   "metadata": {},
   "source": [
    "# Display the docs in the notebook (rather than in the browser) - for fun"
   ]
  },
  {
   "cell_type": "code",
   "execution_count": null,
   "metadata": {},
   "outputs": [],
   "source": [
    "from IPython.display import IFrame\n",
    "\n",
    "# URL for the Swagger UI\n",
    "swagger_ui_url = \"http://localhost:8000/docs\"\n",
    "\n",
    "# Display Swagger UI in the notebook\n",
    "IFrame(src=swagger_ui_url, width='100%', height='600px')"
   ]
  },
  {
   "cell_type": "markdown",
   "metadata": {},
   "source": [
    "# Query the service"
   ]
  },
  {
   "cell_type": "markdown",
   "metadata": {},
   "source": [
    "**Using python**"
   ]
  },
  {
   "cell_type": "code",
   "execution_count": null,
   "metadata": {},
   "outputs": [],
   "source": [
    "import requests\n",
    "url = \"http://localhost:8000/api/detect_outliers\"\n",
    "headers = {\n",
    "    \"accept\": \"application/json\",\n",
    "    \"Content-Type\": \"application/json\"\n",
    "}\n",
    "response = requests.post(url, json=payload, headers=headers)\n",
    "print(response.json())"
   ]
  },
  {
   "cell_type": "markdown",
   "metadata": {},
   "source": [
    "**Using shell**"
   ]
  },
  {
   "cell_type": "code",
   "execution_count": null,
   "metadata": {},
   "outputs": [],
   "source": []
  }
 ],
 "metadata": {
  "kernelspec": {
   "display_name": "reviewoutliers-SwZO3ms--py3.12",
   "language": "python",
   "name": "python3"
  },
  "language_info": {
   "codemirror_mode": {
    "name": "ipython",
    "version": 3
   },
   "file_extension": ".py",
   "mimetype": "text/x-python",
   "name": "python",
   "nbconvert_exporter": "python",
   "pygments_lexer": "ipython3",
   "version": "3.12.2"
  }
 },
 "nbformat": 4,
 "nbformat_minor": 2
}
