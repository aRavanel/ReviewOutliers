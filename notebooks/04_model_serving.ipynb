{
 "cells": [
  {
   "cell_type": "markdown",
   "metadata": {},
   "source": [
    "# User params"
   ]
  },
  {
   "cell_type": "code",
   "execution_count": 1,
   "metadata": {},
   "outputs": [],
   "source": [
    "n_data = 2  # numebr of samples\n"
   ]
  },
  {
   "cell_type": "markdown",
   "metadata": {},
   "source": [
    "# Prepare some data"
   ]
  },
  {
   "cell_type": "code",
   "execution_count": 2,
   "metadata": {},
   "outputs": [],
   "source": [
    "import os, sys\n",
    "sys.path.append(os.path.abspath('../src'))\n",
    "from src.config import BASE_PATH_DATA, PATH_PROJECT\n",
    "os.chdir(PATH_PROJECT)"
   ]
  },
  {
   "cell_type": "code",
   "execution_count": 3,
   "metadata": {},
   "outputs": [
    {
     "data": {
      "text/html": [
       "<div>\n",
       "<style scoped>\n",
       "    .dataframe tbody tr th:only-of-type {\n",
       "        vertical-align: middle;\n",
       "    }\n",
       "\n",
       "    .dataframe tbody tr th {\n",
       "        vertical-align: top;\n",
       "    }\n",
       "\n",
       "    .dataframe thead th {\n",
       "        text-align: right;\n",
       "    }\n",
       "</style>\n",
       "<table border=\"1\" class=\"dataframe\">\n",
       "  <thead>\n",
       "    <tr style=\"text-align: right;\">\n",
       "      <th></th>\n",
       "      <th>main_category</th>\n",
       "      <th>title_review</th>\n",
       "      <th>average_rating</th>\n",
       "      <th>rating_number</th>\n",
       "      <th>features</th>\n",
       "      <th>store</th>\n",
       "      <th>rating</th>\n",
       "      <th>title_metadata</th>\n",
       "      <th>text</th>\n",
       "      <th>user_id</th>\n",
       "      <th>timestamp</th>\n",
       "      <th>helpful_vote</th>\n",
       "      <th>verified_purchase</th>\n",
       "    </tr>\n",
       "  </thead>\n",
       "  <tbody>\n",
       "    <tr>\n",
       "      <th>671</th>\n",
       "      <td>SUBSCRIPTION BOXES</td>\n",
       "      <td>Highlights Hidden Pictures Club - Kids Hidden ...</td>\n",
       "      <td>4.6</td>\n",
       "      <td>780</td>\n",
       "      <td>[TREAT KIDS TO ICONIC PUZZLE FUN-Kids of all a...</td>\n",
       "      <td>Highlights for Children</td>\n",
       "      <td>5</td>\n",
       "      <td>Great books!</td>\n",
       "      <td>Hours of entertainment for my 6 year old.</td>\n",
       "      <td>AGN7X3SC5WFIND2ALTK5ZJZAT4UA</td>\n",
       "      <td>2019-07-27 19:52:03.324</td>\n",
       "      <td>1</td>\n",
       "      <td>True</td>\n",
       "    </tr>\n",
       "    <tr>\n",
       "      <th>3200</th>\n",
       "      <td>SUBSCRIPTION BOXES</td>\n",
       "      <td>Succulent Studios Subscription Box</td>\n",
       "      <td>3.7</td>\n",
       "      <td>464</td>\n",
       "      <td>[Two gorgeous, organically-grown baby succulen...</td>\n",
       "      <td>Succulent Studios</td>\n",
       "      <td>5</td>\n",
       "      <td>Great gift for house warming.</td>\n",
       "      <td>I purchased this for my daughter who loves out...</td>\n",
       "      <td>AEF2V5CC6E4QFUSYLXA56BXY6WOA</td>\n",
       "      <td>2020-02-22 08:54:10.994</td>\n",
       "      <td>1</td>\n",
       "      <td>True</td>\n",
       "    </tr>\n",
       "  </tbody>\n",
       "</table>\n",
       "</div>"
      ],
      "text/plain": [
       "           main_category                                       title_review  \\\n",
       "671   SUBSCRIPTION BOXES  Highlights Hidden Pictures Club - Kids Hidden ...   \n",
       "3200  SUBSCRIPTION BOXES                 Succulent Studios Subscription Box   \n",
       "\n",
       "      average_rating  rating_number  \\\n",
       "671              4.6            780   \n",
       "3200             3.7            464   \n",
       "\n",
       "                                               features  \\\n",
       "671   [TREAT KIDS TO ICONIC PUZZLE FUN-Kids of all a...   \n",
       "3200  [Two gorgeous, organically-grown baby succulen...   \n",
       "\n",
       "                        store  rating                 title_metadata  \\\n",
       "671   Highlights for Children       5                   Great books!   \n",
       "3200        Succulent Studios       5  Great gift for house warming.   \n",
       "\n",
       "                                                   text  \\\n",
       "671           Hours of entertainment for my 6 year old.   \n",
       "3200  I purchased this for my daughter who loves out...   \n",
       "\n",
       "                           user_id               timestamp  helpful_vote  \\\n",
       "671   AGN7X3SC5WFIND2ALTK5ZJZAT4UA 2019-07-27 19:52:03.324             1   \n",
       "3200  AEF2V5CC6E4QFUSYLXA56BXY6WOA 2020-02-22 08:54:10.994             1   \n",
       "\n",
       "      verified_purchase  \n",
       "671                True  \n",
       "3200               True  "
      ]
     },
     "metadata": {},
     "output_type": "display_data"
    }
   ],
   "source": [
    "# load test data\n",
    "from src.utils.io import load_dataframe\n",
    "from src.config import BASE_PATH_DATA\n",
    "df_test = load_dataframe(os.path.join(BASE_PATH_DATA, 'processed', 'test.parquet'))\n",
    "\n",
    "# take some samples\n",
    "df_test = df_test.sample(n_data)\n",
    "display(df_test)\n",
    "\n",
    "\n",
    "# format the data for a request\n",
    "payload = {\"text\": \"string\", \"features\": [0]}\n"
   ]
  },
  {
   "cell_type": "code",
   "execution_count": 4,
   "metadata": {},
   "outputs": [
    {
     "data": {
      "text/plain": [
       "Index(['main_category', 'title_review', 'average_rating', 'rating_number',\n",
       "       'features', 'store', 'rating', 'title_metadata', 'text', 'user_id',\n",
       "       'timestamp', 'helpful_vote', 'verified_purchase'],\n",
       "      dtype='object')"
      ]
     },
     "execution_count": 4,
     "metadata": {},
     "output_type": "execute_result"
    }
   ],
   "source": [
    "df_test.columns"
   ]
  },
  {
   "cell_type": "markdown",
   "metadata": {},
   "source": [
    "# Launch the service"
   ]
  },
  {
   "cell_type": "markdown",
   "metadata": {},
   "source": [
    "**In local**"
   ]
  },
  {
   "cell_type": "code",
   "execution_count": 1,
   "metadata": {},
   "outputs": [
    {
     "name": "stdout",
     "output_type": "stream",
     "text": [
      "/c/Users/alexi/WORKSPACE/interview_abwaab/ReviewOutliers\n"
     ]
    },
    {
     "name": "stderr",
     "output_type": "stream",
     "text": [
      "kill: usage: kill [-s sigspec | -n signum | -sigspec] pid | jobspec ... or kill -l [sigspec]\n"
     ]
    }
   ],
   "source": [
    "%%sh\n",
    "cd ..\n",
    "pwd\n",
    "kill $(ps aux | grep 'uvicorn' | grep -v grep | awk '{print $2}')\n",
    "# nohup + & at the end : to detach the execution and keep running\n",
    "nohup poetry run uvicorn src.app:app --host 0.0.0.0 --port 8000 --reload > uvicorn.log 2>&1 &\n"
   ]
  },
  {
   "cell_type": "markdown",
   "metadata": {},
   "source": [
    "**Using docker**"
   ]
  },
  {
   "cell_type": "code",
   "execution_count": null,
   "metadata": {},
   "outputs": [],
   "source": [
    "%%sh\n",
    "make build_docker\n",
    "make run_docker"
   ]
  },
  {
   "cell_type": "markdown",
   "metadata": {},
   "source": [
    "# Display the docs in the notebook (rather than in the browser) - for fun"
   ]
  },
  {
   "cell_type": "code",
   "execution_count": 2,
   "metadata": {},
   "outputs": [
    {
     "data": {
      "text/html": [
       "\n",
       "        <iframe\n",
       "            width=\"100%\"\n",
       "            height=\"600px\"\n",
       "            src=\"http://localhost:8000/docs\"\n",
       "            frameborder=\"0\"\n",
       "            allowfullscreen\n",
       "            \n",
       "        ></iframe>\n",
       "        "
      ],
      "text/plain": [
       "<IPython.lib.display.IFrame at 0x1f333ded2e0>"
      ]
     },
     "execution_count": 2,
     "metadata": {},
     "output_type": "execute_result"
    }
   ],
   "source": [
    "from IPython.display import IFrame\n",
    "\n",
    "# URL for the Swagger UI\n",
    "swagger_ui_url = \"http://localhost:8000/docs\"\n",
    "\n",
    "# Display Swagger UI in the notebook\n",
    "IFrame(src=swagger_ui_url, width='90%', height='600px')"
   ]
  },
  {
   "cell_type": "markdown",
   "metadata": {},
   "source": [
    "# Query the service"
   ]
  },
  {
   "cell_type": "markdown",
   "metadata": {},
   "source": [
    "**Using python**"
   ]
  },
  {
   "cell_type": "code",
   "execution_count": null,
   "metadata": {},
   "outputs": [],
   "source": [
    "import requests\n",
    "url = \"http://localhost:8000/api/detect_outliers\"\n",
    "headers = {\n",
    "    \"accept\": \"application/json\",\n",
    "    \"Content-Type\": \"application/json\"\n",
    "}\n",
    "response = requests.post(url, json=payload, headers=headers)\n",
    "print(response.json())"
   ]
  },
  {
   "cell_type": "markdown",
   "metadata": {},
   "source": [
    "**Using shell**"
   ]
  },
  {
   "cell_type": "code",
   "execution_count": null,
   "metadata": {},
   "outputs": [],
   "source": []
  }
 ],
 "metadata": {
  "kernelspec": {
   "display_name": "reviewoutliers-SwZO3ms--py3.12",
   "language": "python",
   "name": "python3"
  },
  "language_info": {
   "codemirror_mode": {
    "name": "ipython",
    "version": 3
   },
   "file_extension": ".py",
   "mimetype": "text/x-python",
   "name": "python",
   "nbconvert_exporter": "python",
   "pygments_lexer": "ipython3",
   "version": "3.12.2"
  }
 },
 "nbformat": 4,
 "nbformat_minor": 2
}
