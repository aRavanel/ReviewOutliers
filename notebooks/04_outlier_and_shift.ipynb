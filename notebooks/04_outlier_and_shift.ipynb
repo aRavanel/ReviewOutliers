{
 "cells": [
  {
   "cell_type": "markdown",
   "metadata": {},
   "source": [
    "# User params"
   ]
  },
  {
   "cell_type": "code",
   "execution_count": 17,
   "metadata": {},
   "outputs": [],
   "source": [
    "max_samples = 1_000"
   ]
  },
  {
   "cell_type": "code",
   "execution_count": 18,
   "metadata": {},
   "outputs": [],
   "source": [
    "\n",
    "import os, sys\n",
    "sys.path.append(os.path.abspath('../src'))\n",
    "from src.config import BASE_PATH_DATA, PATH_PROJECT\n",
    "os.chdir(PATH_PROJECT)\n",
    "\n",
    "import pandas as pd\n",
    "pd.set_option('display.width', 1000)\n",
    "pd.set_option('display.max_colwidth', 200)"
   ]
  },
  {
   "cell_type": "markdown",
   "metadata": {},
   "source": [
    "# Loading data"
   ]
  },
  {
   "cell_type": "code",
   "execution_count": 63,
   "metadata": {},
   "outputs": [
    {
     "name": "stderr",
     "output_type": "stream",
     "text": [
      "2024-08-06 13:25:57,967 - src.config - DEBUG - calling load_dataframe\n",
      "2024-08-06 13:25:57,968 - src.config - INFO - Current working directory: C:\\Users\\alexi\\WORKSPACE\\interview_abwaab\\ReviewOutliers\n",
      "2024-08-06 13:25:57,996 - src.config - DEBUG - calling load_dataframe\n",
      "2024-08-06 13:25:57,997 - src.config - INFO - Current working directory: C:\\Users\\alexi\\WORKSPACE\\interview_abwaab\\ReviewOutliers\n",
      "2024-08-06 13:25:58,015 - src.config - DEBUG - calling load_dataframe\n",
      "2024-08-06 13:25:58,016 - src.config - INFO - Current working directory: C:\\Users\\alexi\\WORKSPACE\\interview_abwaab\\ReviewOutliers\n"
     ]
    }
   ],
   "source": [
    "import numpy as np\n",
    "from src.utils.io.io import load_dataframe\n",
    "from src.config import BASE_PATH_DATA\n",
    "\n",
    "# load data\n",
    "file_path_test_enriched = os.path.join(BASE_PATH_DATA, 'processed', f'df_test_enriched.parquet')\n",
    "test_df_enriched = load_dataframe(file_path_test_enriched)\n",
    "test_df_enriched = test_df_enriched.reset_index(drop=True)  # lets reset the index\n",
    "\n",
    "file_path_train_encoded = os.path.join(BASE_PATH_DATA, 'processed', f'df_train_encoded.parquet')\n",
    "file_path_test_encoded = os.path.join(BASE_PATH_DATA, 'processed', f'df_test_encoded.parquet')\n",
    "train_df_encoded = load_dataframe(file_path_train_encoded)\n",
    "test_df_encoded = load_dataframe(file_path_test_encoded)\n",
    "\n"
   ]
  },
  {
   "cell_type": "markdown",
   "metadata": {},
   "source": [
    "# Clustering"
   ]
  },
  {
   "cell_type": "code",
   "execution_count": 91,
   "metadata": {},
   "outputs": [
    {
     "data": {
      "application/vnd.plotly.v1+json": {
       "config": {
        "plotlyServerURL": "https://plot.ly"
       },
       "data": [
        {
         "customdata": [
          [
           "Five Stars/n/nwhat a great idea",
           25
          ],
          [
           "Five Stars/n/nIt is a gift card.",
           -1
          ],
          [
           "My thought/n/nI got this gift card for a Christmas present and it went with another gift that my brother and his girlfriend gave to the person who I got this gift card for.",
           -1
          ],
          [
           "****/n/ncant go wrong with a gift card",
           100
          ],
          [
           "Good gift/n/nCan't really go wrong with an Amazon gift card. Recipient love the card and thought the card holder was awesome.",
           50
          ],
          [
           "Great gift/n/nRecipient of the gift card was excited about using",
           25
          ],
          [
           "Five Stars/n/nGreat!",
           20
          ],
          [
           "Five Stars/n/nEveryone loves receiving Amazon Gift cards!",
           25
          ],
          [
           "It was a gift order but no gift note was enclosed/n/nThe Visa Gift card was ordered with a 'note' but that was not part of the received item.  As such the recipient did not know who it was from",
           54.95
          ],
          [
           "GIFT CARDASAURUS/n/nThis is,perhaps,the easiest review to compose;the card was a gift and,hence,since it cost me nothing,ideal! It was an addition to the Kindle Fire that was also given to me and since I have an Amazon account,transferred quite smoothly into an active card. A splendid way to spend someone eles's money and it has worked extremely well. Would highly recommend you find someone to buy a Gift Card for you to spend as you please.",
           25
          ],
          [
           "These gift cards were blank and were taken by the sales clerk at American Eagle./n/nI gave two $50 gift cards as presents.  When the young ladies attempted to use them at American Eagle, First Colony Mall, Sugarland, Texas, over the weekend, they were told the cards were blank and the clerk refused to return the cards.  Please email lsparmer@msn.com or call 281-341-0647.  The cards were purchased 12-14-18 (see my orders).",
           25
          ],
          [
           "Great gift/n/nGreat gift",
           25
          ],
          [
           "Gift Card/n/nI received a $75 Gift Card for Christmas. I have not spent it yet - but will. I received a Kindle from Santa and will be adding additional books when I have read a few more that were downloaded on it as part of the gift. I think a Gift Card is a wonderful idea because it lets you get exactly the item you want at the time you want it. I have given them before and am happy to be the recipant this time. I know I will have happy shopping. How can you go wrong -- it is like money.",
           -1
          ],
          [
           "took a few days to arrive/n/nIt was a nice gift but it took a few days to arrive and it couldn't be printed out.",
           -1
          ],
          [
           "Great Service/n/nI ordered these gift cards on 12/22 as Christmas gifts on 12/24 at 7:15 AM they arrived at my door in perfect condition This service helped me solve last minuet gift problems. Very Happy",
           20
          ],
          [
           "Great design/n/nBeautifully  designed box.",
           25
          ],
          [
           "Cards/n/nThis a great gift",
           25
          ],
          [
           "Perfect gift card with a little extra/n/nThese Amazon gift cards are perfect for all occasions.  I love that there are a selection of cards to choose from, and the gift card and card itself coordinate.  These arrive promptly the day after you order them (typically) and arrive in a pouch, inside an envelope, with an envelope to use.  You're basically getting a card and envelope for free just for getting a gift card through Amazon!  It's the perfect gift for anyone as you can get, well, ANYTHING from Amazon!",
           -1
          ],
          [
           "As expected/n/nWhat’s not to like?",
           25
          ],
          [
           "Good for gifting/n/nCan't complain about it.",
           -1
          ],
          [
           "A box you can keep/n/nGot this since there was a promo for gift cards. My family loves getting amazon items to the door, but we can't keep or need the boxes. Saw this option and thought it would be a great item to have on display at our house.",
           25
          ],
          [
           "Nicely boxed gift card/n/nGreat gift card for a young child.",
           50
          ],
          [
           "Five Stars/n/nGood gift",
           -1
          ],
          [
           "convenience plus!/n/nmy son has an Amazon account so this was the perfect Christmas gift for him.",
           50
          ],
          [
           "Nice gift box!/n/nFast delivery, and a vey nice gift box.",
           -1
          ],
          [
           "Nice set of gift cards/n/nThey're gift cards",
           30
          ],
          [
           "Cute/n/nAdorable gift!",
           15
          ],
          [
           "Nice box/n/nnice box, fast delivery!",
           50
          ],
          [
           "Christmas gift/n/nI'm sure it will be used and I know they can find ANYTHING",
           25
          ],
          [
           "For my pharmacist of thirty years/n/nI surprised my pharmacist of thirty years with a $100 gift card and she loved it.  She regularly shops on Amazon, so the gift was welcome.  Overall, it shows that I care that she always answers the phone quickly and courteously, and she always has my meds ready.  That's something to reward with this Amazon gift card.",
           20
          ],
          [
           "Happyness to special family/n/nWe dont know what to gitf to our nice sister and family, so we decided this car because the box, loop and the color very nice. The felt very happy and bought whatever they want. Thank u",
           25
          ],
          [
           "Five Stars/n/nGreat",
           -1
          ],
          [
           "Happy Kid/n/nIt's a gift card, what more needs to be said :)",
           25
          ],
          [
           "Five Stars/n/nPrefect way to give this gift",
           25
          ],
          [
           "Great gift!/n/nEasy gift for someone who is hard yo buy gifts for but u know they have an Amazon wish list. Arrived quickly.",
           -1
          ],
          [
           "Five Stars/n/nVery nicely packed and easy to use.",
           -1
          ],
          [
           "Not for me/n/nAlthough I was a tad disappointed with the quality of the &#34;gift wrapping,&#34; my sister was delighted with this gift for her Kindle...and that's what's most important!",
           -1
          ],
          [
           "Five Stars/n/nNice pretty box for your gift card.",
           -1
          ],
          [
           "Quick Delivery in a short period of time is one thing!/n/nThe Amazon Gift Card gives the opportunity for the receiver to buy what he or she wants and maybe needs.<br /><br />We do not always get what we want so this give the opportunity to buy what you do want!",
           50
          ],
          [
           "SUper unhappy with this gift card/n/nThere is no visible indication on the card of how much the card is worth AND as the purchaser of the gift card I would like TO CHECK THAT THE MONEY IS ACTUALLY ON THE CARD BEFORE I GIVE IT TO SOMEONE!  I have no way on Amazon.com to do this!  I can only redeem it to my account! So frustrating!!!!!!!  Anybody that can help me with this would be much appreciated before COB today since I have to give them out tomorrow at a business meeting! OMG!",
           -1
          ],
          [
           "Easy gift/n/nThis is a great gift. I didn’t even need to buy a bag because the tin was so cute!",
           25
          ],
          [
           "Everyone loves gift cards/n/nEveryone loved the Amazon gift cards for Christmas other then stuff they willnever use.",
           50
          ],
          [
           "EVERYBODY LOVES AMAZON❤️/n/nAMAZON has EVERYTHING!  The gift card “fits all”",
           50
          ],
          [
           "Gift/n/nGift",
           25
          ],
          [
           "Great gift/n/nI find these to be very popular with friends and family.  Quick delivery and no use issues.",
           50
          ],
          [
           "Nancy/n/nThe receiver was happy.",
           20
          ],
          [
           "Amazon Bookmark Gift Card/n/nGreat. Nice that even after they spend the cash part, it can be used as a bookmark and not just discarded.",
           -1
          ],
          [
           "A Cute Gift Card/n/nThis was a most appreciated gift.  I wish it had been packed more carefully,  it was stuck under the flap of the box and I almost threw it out.",
           -1
          ],
          [
           "Easy gift giving!!!/n/nGreat for in-laws!!",
           50
          ],
          [
           "As Described/n/nItem as described and shipped in a timely manner.",
           -1
          ],
          [
           "Bought as a gift/n/nBought as a gift and no idea how easy these are to use or even how many resturants are included as the product page and cards did not clearly say.",
           25
          ],
          [
           "New box doesnt have hole in bottom/n/nIts a gift card with a box.  A giftcard is a giftcard.  So the box is the defining nature.  The box is reusable for other cards and Doesnt have bottom window anymore.",
           50
          ],
          [
           "easy gift/n/nlike that it came in gift box",
           25
          ],
          [
           "PERFECT GRADUATION GIFT/n/nThis is quite possibly the most perfect graduation gift, and it's graduation themed in cap and gown decor. Graduates don't wan't more 'stuff' but they will always take $$ in the form of gift cards. Will be getting these for years to come, it's simple and nice, and hip and functional, all rolled into one.",
           25
          ],
          [
           "Easy.../n/nOrder one of this for my sister baby shower gift due to Covid-19 distancing and it was best and easy option to go for.",
           10
          ],
          [
           "Great buy!/n/nLove the gift card lightening deals on products we use everyday!",
           50
          ],
          [
           "Super convenient/n/nGot this for my dad for Christmas he loves it! I appreciate the option to buy it on here as the place is drive thru only right now I didn't wanna sit in a long line just for gift card. Thanks for making it easier as most stores with gift cards near me don't carry Arby's.",
           50
          ],
          [
           "Christmas Gift/n/nI received two Amazon gift cards for Christmas.  One from my son and daughter-in-law and another one from my friend.  This is the greatest way to shop. It's very easy to register the gift cards and once it's set up all you have to do is shop!!!!!!!  The gift card is automatically charged.  It's the perfect give to give someone.",
           25
          ],
          [
           "Awesome/n/nI wanted to get something different n my dads always complaining about breakfast n first watch has amazing breakfast so great gift card",
           25
          ],
          [
           "It arrived quickly!/n/nEasy way to send to someone in another state. They can purchase what they want.",
           25
          ],
          [
           "Five Stars/n/nExactly as described.",
           25
          ],
          [
           "Great gift!/n/nBought for a wedding gift as there was no registration. They loved it as they use Amazon Prime all of the time. While the gift box was nice, it was a little flimsy and the gift card is a thin piece of cardboard they would type into their gift card balance. Not exactly as expected but a great gift nonetheless!",
           25
          ],
          [
           "and my mom loved it./n/nThis was a gift, and my mom loved it.",
           25
          ],
          [
           "Headline/n/nThey got here",
           25
          ],
          [
           "Happy with this purchase/n/nI thought this was cuter and more fun to get than just a plain gift card. It made giving this as a Christmas gift more special and easier to keep track of (amidst all the wrapping paper and boxes).",
           25
          ],
          [
           "$25 dollars! Wow!/n/n$25 dollars! Wow!",
           50
          ],
          [
           "Nice gift box/n/nThe box is nice enough for any gift occasion",
           25
          ],
          [
           "Five Stars/n/nfor those last minute &#34;teen&#34; gift --I break them up when ever I have a &#34;ATTAGIRL/BOY&#34; MOMENT",
           -1
          ],
          [
           "Five Stars/n/nPerfect Christmas present!",
           25
          ],
          [
           "Great Gift For amazon Shoppers/n/nIt's a gift card. You know. Not a toy or an item you cherish for life. BUT, it comes in very handy for other amazon.com shoppers you know. Therefore, it works.",
           25
          ],
          [
           "Adorable/n/nMy son loved this gift box.  He is keeping it to hold other trinkets.  The box folds shut and it kept closed with a magnet.  Very cute.",
           25
          ],
          [
           "A really cute way to disguise cold hard cash/n/nVery cute. My daughter loved it.",
           20
          ],
          [
           "Nice gift idea!/n/nGot them as gifts and can't say the receiving party was mad about it!",
           25
          ],
          [
           "Easy gift/n/nIt was a gift to our postal delivery person that is retiring.  Don’t have to worry about returning something",
           10
          ],
          [
           "Five Stars/n/nAwesome.",
           100
          ],
          [
           "Christmas present/n/nChristmas present",
           25
          ],
          [
           "Gift/n/nGift",
           50
          ],
          [
           "Impressive/n/nThis makes a very nice gift.",
           25
          ],
          [
           "Baby/n/nI have no video.  They live in New Orleans. Cute and arrived on time.",
           50
          ],
          [
           "One Star/n/nI didn’t get it when I was supposed to.",
           100
          ],
          [
           "Five Stars/n/nWhat's not to like about an Amazon gift card?",
           20
          ],
          [
           "Five Stars/n/nYou did good!!!!",
           20
          ],
          [
           "Its a gift card.../n/nGift cards are fantastic in my family. It is wonderful to be able to send my Grandmother and Mother card for such a good burger joint.",
           25
          ],
          [
           "Five Stars/n/nYes",
           25
          ],
          [
           "If you or a someone you know likes Ihop it works like it supposed to work/n/nIf you or a someone you know likes Ihop it works like it supposed to work",
           25
          ],
          [
           "False information/n/nThis company advertised a $20 gift card for $15, once purchased changed the amount. Now I can’t return them!",
           20
          ],
          [
           "Five Stars/n/nThe best way to gift is give the option of letting the receiver pick their own gift.",
           25
          ],
          [
           "Five Stars/n/nGreat gift box, arrived quickly.",
           75
          ],
          [
           "Five Stars/n/ngreat",
           25
          ],
          [
           "It is just a giftcard/n/nIt arrived very fast. I can only assume the correct amount was loaded.",
           25
          ],
          [
           "Easy/n/nFast and easy.",
           50
          ],
          [
           "Good gift idea/n/nGreat gift idea.",
           20
          ],
          [
           "Amazon Gift Card in Snowflake Tin/n/nThe recipient was very pleased. He can now combine cards and get what his heart most desires.",
           25
          ],
          [
           "Love it/n/nMade my son Happy",
           100
          ],
          [
           "???????/n/nTo return becauce didn’t do anything gor me!",
           25
          ],
          [
           "Five Stars/n/nas expected",
           100
          ],
          [
           "The best for these times/n/nConvenient. Quick. In these times it is a good long distance gift.",
           206.95
          ],
          [
           "Gift card to limitless possibilities/n/nCome on! Who doesn’t like receiving an Amazon gift card?!?! You can find anything you need and stuff you don’t need but want!",
           25
          ],
          [
           "amazon gift cards/n/nI  ordered amazon gift cards on Dec. 11 2011 and they still have not shipped.  It is now 1-12-12. Do I really have to cancel this order and reorder?  Very inconvenient for me",
           -1
          ],
          [
           "Five Stars/n/ncute",
           -1
          ],
          [
           "Five Stars/n/nGiving gift cards like this makes the gift seem more personal. They arrive SO fast, too.",
           -1
          ],
          [
           "Shopping made easy!!!/n/nEverything about was great!",
           50
          ],
          [
           "He loved it!/n/nPurchased for one of my grandchildren.  He loved it!!",
           25
          ],
          [
           "Five Stars/n/neverybody loves these, right?",
           -1
          ],
          [
           "Easy to use/n/nGreat gift idea and easy to use. The pop up gift box was a great added touch.",
           50
          ],
          [
           "Gift that's always appreciated!/n/nHow can you go wrong with a gift certificate, where you can find anything you might need, great price with great selection.",
           -1
          ],
          [
           "Gift cards and they gift card well./n/nummm they are gift cards.  Do really like the tins tho...",
           -1
          ],
          [
           "Tin is adorable/n/nThe tin is adorable. The grandkids loved it",
           25
          ],
          [
           "Five Stars/n/nGreat Gift Card!",
           25
          ],
          [
           "Gift/n/nHad to return a gift, do now I can give her this to pick her own gift",
           50
          ],
          [
           "It's a gift card. Not much more I can .../n/nIt's a gift card.  Not much more I can say about it.  Arrived on time and the theme fit with my sister's graduation.",
           25
          ],
          [
           "Great gift/n/nAlways like Amazon gift cards",
           -1
          ],
          [
           "Card/n/nGood card",
           25
          ],
          [
           "cheap cardboard/n/nI was embarrassed to give these cheap cardboard cards out at Christmas. In fact, I was shocked. They were all stuck together and one tore during the process of separating them. CHEAP for Amazon Learned my lesson and won't order these again",
           125
          ],
          [
           "The best gift./n/nEverybody love this gift.",
           50
          ],
          [
           "Five Stars/n/none of my favorites....will do again next year.",
           -1
          ],
          [
           "Five Stars/n/nWhat's to go wrong ?? It's food !!",
           25
          ],
          [
           "Great/n/nOn time. Great food.",
           -1
          ],
          [
           "Five Stars/n/nRecipients really liked the box, asked if it was ok to regift the box. Said sure!!!",
           50
          ],
          [
           "Love, love, love the containers they came in/n/nI don't like giving money or gift cards but these came in such cute metal containers that I<br />decided to get them and I was pleasantly surprised.",
           25
          ],
          [
           "Very nice packaging for a gift card/n/nGift cards are always welcome by my gift recipients. They then have thousands of items to choose from. This presentation packaging is very nice.",
           50
          ],
          [
           "Great for Christmas or winter birthday gift card./n/nLoved the snowflake tin.",
           25
          ],
          [
           "I would buy it again./n/nThis card is so easy to use and very gift able. It was given to my granddaughter and the thickness was right for her to carry comfortably.",
           25
          ],
          [
           "Gift card/n/nCan’t go wrong with a gift card!",
           50
          ],
          [
           "Four Stars/n/nLove the Idea",
           25
          ],
          [
           "12 hour delivery/n/nGreat gift. Free bear!",
           -1
          ],
          [
           "Good/n/nWhat can I say, its a gift card",
           25
          ],
          [
           "😎/n/nThis made a great gift. Got it for my brother as a Christmas gift.",
           100
          ],
          [
           "No receipt for gift card/n/nI have ordered quite a few Amazon gift cards this year and this one did not come with the receipt which is worrisome for me as it is a gift...All the other gift cards I purchased had receipt I could tape on box ... Hopefully the Recipient won’t have any problems cashing it in",
           50
          ],
          [
           "Gift cards/n/nA great Christmas gift for all the family!!!",
           50
          ],
          [
           "Easy no hassle gift/n/nGood gift",
           100
          ],
          [
           "They're very happy with the gift/n/nBought for a client as a gift when they purchased their new home. They're very happy with the gift, and Lowe's has something for most any homeowner or renter!",
           100
          ],
          [
           "Five Stars/n/nNice gift card.",
           75
          ],
          [
           "Everyone was very happy!/n/nThey where the perfect gift for my grandkids.",
           20
          ],
          [
           "Easy/n/nEasy peasy",
           25
          ],
          [
           "Great gift card box/n/nI really likes this box with the Amazon gift card.  Really cute for a baby shower or baby's arrival.",
           25
          ],
          [
           "Easy Christmas present/n/nMakes it easy to Christmas shop and everyone gets what they want",
           -1
          ],
          [
           "Easy gift/n/nEasy gift!",
           15
          ],
          [
           "Big hit !/n/nMy hubby was very happy with the gift card. Always the right size and color !",
           -1
          ],
          [
           "Good idea for those who you aren't sure which type of restaurant they prefer/n/nI like it because it can be used at a variety of restaurants that are part of the Millennium group.",
           -1
          ],
          [
           "Happy Recipient/n/nYou can't go wrong with a gift card",
           25
          ],
          [
           "Great!/n/nGreat deal!",
           -1
          ],
          [
           "It served a good purpose/n/nQuick and simple gift",
           -1
          ],
          [
           "Didn’t get scammed so I’m happy./n/nIt worked so I’m happy. Bought as Xmas gift for my mom. Was a little nervous about it being a scam but the card worked fine.",
           54.95
          ],
          [
           "✔️/n/nArrived with USPS already activated and ready to be use. Register it at the website on back for purchases requiring zip code.",
           28.95
          ],
          [
           "Nice!/n/nGreat gift card. Purchased on Prime day for $5 off which made it that much more special!",
           25
          ],
          [
           "Perfect for someone who has everything/n/nPerfect gift",
           25
          ],
          [
           "Right color and fits/n/nThe people who received these as gifts really liked them!",
           25
          ],
          [
           "The gift card did not arrive on time and I .../n/nThe gift card did not arrive on time and I ended having to go to the store and buy one.",
           -1
          ],
          [
           "Grest Christmas Gift/n/nBest Christmas gift for your grown up nieces and nephews because they know exactly what they want and most likely Amszon has the item.<br /><br />I personally love it's creative design.<br /><br />My nieces and nephews love the $$$$ part.",
           50
          ],
          [
           "Good product/n/nitem was good",
           -1
          ],
          [
           "Five Stars/n/nCute Santa tin. Just put a name tag on it and put it under the tree!",
           25
          ],
          [
           "Beautiful packaging./n/nGift card with beautiful packaging. Impressive. With NO extra charge.",
           50
          ],
          [
           "Husband loved it/n/nJust as described",
           25
          ],
          [
           "A no brainer perfect gift!/n/nVery convenient gift for a tween girl!",
           20
          ],
          [
           "Comes in a beautiful box/n/nAmazon gift cards make great Christmas gifts. Comes in a beautiful box with a pop-up Christmas card. Love it!",
           50
          ],
          [
           "Love this series!  The characters are so believable!  They make me feel right at home!/n/nPerfect for a gift!",
           25
          ],
          [
           "Five Stars/n/nGood",
           50
          ],
          [
           "liked/n/ngreat gift",
           25
          ],
          [
           "and better than trying to find one and pay extra for .../n/nJust as cute as pictures, and better than trying to find one and pay extra for a box at the store.",
           25
          ],
          [
           "Five Stars/n/nPerfect.",
           100
          ],
          [
           "A gift card with an extra touch./n/nI loved the little pop-up gift box that came with the $100. gift card I purchased.  My daughter loved the presentation and is planning to reuse the box when she gives a gift card to someone.  Way to go Amazon!",
           50
          ],
          [
           "Packaging is a Hit!/n/nGave as a gift for my granddaughter. She kept the cute container after she used the gift card.",
           -1
          ],
          [
           "Four Stars/n/nThis allowed me to purchase some songs and movies",
           -1
          ],
          [
           "Gift tag/n/nI like this for a gift tag",
           -1
          ],
          [
           "Five Stars/n/ncute packaging & thanks for the PRIME shipping!",
           25
          ],
          [
           "Very pleased/n/nThis was a Christmas gift. I was pleased with the presentation and it was effortless to add to a gift basket.",
           50
          ],
          [
           "Beautiful gift card holder/n/nSee above",
           50
          ],
          [
           "Very nice cute tin/n/nGreat cute tin",
           25
          ],
          [
           "Makes a great gift to give ./n/nThese gift cards are great. I used it to give to my daughter for helping me after my surgery. She loved it ,she used it to get something she h as d wanted.",
           10
          ],
          [
           "Five Stars/n/nGift",
           25
          ],
          [
           "xmas gift/n/nlove the place",
           25
          ],
          [
           "Super easy./n/nVery fast delivery.  Usually the next day<br />Christmas gift for the mail carrier.",
           10
          ],
          [
           "Five Stars/n/nPerfect",
           25
          ],
          [
           "This is a simple way for me to give as .../n/nThis is a simple way for me to give as a Christmas gift. The person who received this gife is a  Amazon's prime shopper.",
           -1
          ],
          [
           "Five Stars/n/nI loved these bookmark gift cards!",
           -1
          ],
          [
           "Great way to knock out a year subscription to Spotify/n/nIt’s nice saving money and not having a monthly payment",
           99
          ],
          [
           "Great way to give a gift card!!!/n/nReally liked the snowman tin holding the gift card -- what a fun way to present the card as a Christmas gift!  Loved it.",
           25
          ],
          [
           "Five Stars/n/nGreat deal spend 40 get 50.",
           50
          ],
          [
           "Girl that loves her gift!/n/nGiven as a gift to our youngest daughter. Use the gift card for an smart watch!",
           25
          ],
          [
           "Quick and easy!/n/nThank you for the delivery photo!  I did a screenshot and texted it to my brother so he could see that his gift card package was on his front porch!!  Very helpful!! Thanks!!",
           20
          ],
          [
           "Very classy!/n/nGreat gift for someone you don’t know too well.  Love the way AMAZON packages their gift cards!!!",
           -1
          ],
          [
           "Gift/n/nEasy gift",
           50
          ],
          [
           "The perfect size 👌 😍/n/nJust the right size lol",
           10
          ],
          [
           "Much larger than I expected./n/nLarge sturdy item, really a bargain, looked great on the tree.",
           25
          ],
          [
           "I liked the packaging/n/nThe gift card looked very festive, I liked the packaging.",
           20
          ],
          [
           "Arrived quickly/n/nGift cards for my hubby's birthday.  He loved them.",
           -1
          ],
          [
           "Happy customer/n/nLove these cards, great for anyone, movies, concerts broadway shows and so much more let them choose. Bought for Christmas and even though we had a issue with one of the packs, Amazon was great and replaced immediately. As a tip you must talk to a representative to replace gift cards. Amazon works very hard at keeping customers happy",
           45
          ],
          [
           "Five Stars/n/nWe love these gift cards. They come in handy.",
           50
          ],
          [
           "Five Stars/n/nalways the best gift",
           -1
          ],
          [
           "Five Stars/n/nGift",
           25
          ],
          [
           "gift card/n/ngreat",
           50
          ],
          [
           "Came in 2 days just in time for xmas/n/nGift",
           25
          ],
          [
           "Price and availability./n/nPrice and availability.",
           25
          ],
          [
           "she loved the bear/n/nnice bear",
           -1
          ],
          [
           "AMAZON DELIVERS ON TIME/n/nThank you for the fast delivery of a gift card to a dear friend.  This was perfect and they loved it!",
           -1
          ],
          [
           "Super!/n/nGreat way to send gifts!",
           25
          ],
          [
           "Five Stars/n/nOrder was accurate and as expected.",
           -1
          ],
          [
           "A money guift with out giving cash/n/nwas purchased as Christmas gift.",
           25
          ],
          [
           "Cute card/n/nVery cute card",
           15
          ],
          [
           "BEST EVER PURCHASE/n/nGOT IT IN TIME TO SEND TO MY FRIEND FOR HER ANNIVERSARY...… THANKS",
           25
          ],
          [
           "Amazon works with you they’re great/n/nWas going to return but decided to keep it my family will love it and I plan on giving it as a gift. Not the amount I wanted. But since they came to me I will give them as a gift",
           25
          ],
          [
           "Five Stars/n/nAlways a good gift.",
           15
          ],
          [
           "Five Stars/n/nGreat food",
           50
          ],
          [
           "Free/n/nFree",
           10
          ],
          [
           "fun money/n/nCute pop-up box.  Was a fun way to give a gift card.",
           50
          ],
          [
           "Five Stars/n/nThank you!!",
           100
          ],
          [
           "very cute box idea/n/nIt was a gift. She was very pleased with it.",
           -1
          ],
          [
           "50th Birthday/n/nIt was for our daughters 50th birthday. She uses Amazon a lot and was very happy.",
           15
          ],
          [
           "Looked good!/n/nLet's face it - It is a Gift Card!<br />The kids were happy!",
           25
          ],
          [
           "An easy and fast gift/n/nThis is an easy gift that is delivered fast.",
           50
          ],
          [
           "Ease/n/nEveryone loves gift cards—ease of ordering and gift wrapped to boot! Used to buy in grocery store. No more!!",
           -1
          ],
          [
           "Granddaughter loved it./n/nExcellent product.",
           25
          ],
          [
           "Five Stars/n/nthe best pizzas in town",
           20
          ],
          [
           "Nice Presentation/n/nI prefer to give an actual physical gift card, and this fit the bill for a lovely presentation. The box and ribbon are of good quality, and it makes it look more like an actual present, with forethought given to the gift.",
           50
          ],
          [
           "Everyone Likes Ice Cream/n/nSuch a handy gift to give without having to go to the shop as Baskin-Robbins cards usually aren't in other stores.",
           25
          ],
          [
           "A girl's best gift card!/n/nYou cannot go wrong with a gift card to Sephora - ever.  Great gift for any female in your life - and Amazon makes it easy to send!",
           75
          ],
          [
           "Three Stars/n/nwhat can you say about a gift card.  It's lovely.",
           -1
          ],
          [
           "Quick and easy gift/n/nQuick and easy gift",
           25
          ],
          [
           "Perfect gift/n/nI love the packaging on this gift card.  It was perfect.",
           25
          ],
          [
           "Five Stars/n/nBest gift option available",
           -1
          ],
          [
           "👍🏻/n/n👍🏻",
           20
          ],
          [
           "Great gift/n/nCan’t go wrong with an Amazon gift card and the Santa made a fun presentation.",
           20
          ],
          [
           "Make Gift Giving a Breeze!/n/nMade Christs gift giving a breeze this year. Don't knoww anyone who c an't find something they like on Amazon and you can't find better customer service anywhere.",
           25
          ],
          [
           "Ripoff/n/nI purchased a $50 card and when I used it, it was only worth $43.75",
           25
          ],
          [
           "Christmas gifts/n/neasy to shop for and easy to use!!",
           10
          ],
          [
           "Cute for Coworker Gift Cards/n/nI order a version of this gift card set for each of the work gifts for my coworkers for weddings and special occasions. The inside part of the box has a frame that holds the card in place and the satin fabric helps to create a \"special\" feeling to go with the card. For me, it's a staple card choice.",
           50
          ],
          [
           "Five Stars/n/nFantastic box that comes with it. Some places charge for the box, I'm glad amazon didn't! Great gift!",
           -1
          ],
          [
           "Great gift!/n/nI purchased as a Christmas gift for my great niece.  It’s a great presentation for a gift card.  She loved it!",
           50
          ],
          [
           "perfect gift/n/nNicely packaged for Christmas",
           25
          ],
          [
           "MESSAGE/n/nWAS PARTLY MY FAULT FOR CHOOSING A DESIGN THAT DID NOT GO WITH THE BOX JUST WITH A CARD, BUT I DID NOT RECEIVE THE PERSONALIZED MESSAGE I WROTE TO ACCOMPANY THE GIFT.",
           -1
          ],
          [
           "Very easy to use/n/nMy oldest loved this gift",
           25
          ],
          [
           "Love the gift box!/n/nThis was a gift for my son-in-law and loved that the gift card came in a really nice box.  He was very happy of course with it!",
           25
          ],
          [
           "Five Stars/n/nas expected",
           -1
          ],
          [
           "Five Stars/n/nGood Christmas gift.",
           -1
          ],
          [
           "Great Santa tin with an Amazon Gift card/n/nGreat Santa tin with an Amazon Gift card.  Appreciate getting a full value $25 card and a quality gift tin included in the price.  Thank you Amazon!",
           25
          ],
          [
           "It's a gift card/n/nNice gift card",
           20
          ],
          [
           "gift/n/ngreat gift for the reader in the family",
           -1
          ],
          [
           "Should be simple and trouble-free, but.../n/nI've bought these gift cards before, without problems. But this time I purchased 6 together. One of the cards, given as a gift, turned out to have had no monetary value assigned to it. I managed to sort things out by calling Amazon customer service, but it was a bit awkward hearing from the card recipient that the card didn't work. I guess this situation can be avoided by printing out a gift card/certificate at home, but it's not the same thing.",
           -1
          ],
          [
           "Perfect/n/nLove it",
           25
          ],
          [
           "These gift card holders are awesome and CUTE CUTE CUTE and are so cute  Merry Christmas &lt;3/n/nTHEY ARE SO CUTE!!!!! MERRY CHRISTMAS :)",
           20
          ],
          [
           "AND REUSABLE TIN!/n/nCute Christmas / winter gift!",
           25
          ],
          [
           "As Advertised/n/nGift cards, plain & simple.",
           -1
          ],
          [
           "Five Stars/n/nGreat gift",
           -1
          ],
          [
           "Just Thank you Amazon/n/nYou are kind Amazon and I am grateful.",
           10
          ],
          [
           "Attractive packaging/n/nThese gift cards were a hit. So pretty and could be hung on the tree.",
           50
          ],
          [
           "Great present/n/nPleasantly surprised by how large the bear is!",
           -1
          ],
          [
           "Love that I can purchase such a wide variety of .../n/nLove that I can purchase such a wide variety of gift cards, keeps me from having to travel around town!",
           25
          ],
          [
           "Hot Topic!/n/nExactly as described! $25 gift card for Hot Topic. My sister will be very happy on her birthday!",
           25
          ],
          [
           "Always a great gift!/n/nvery pleased with the promptness of delivery",
           25
          ],
          [
           "They were all good, so don't be afraid to buy them/n/nI read the reviews after I had ordered 4 50.00 cards.  Instead of saving for Christmas gifts I used them to buy gifts so I could test them out.<br />They were all good, so don't be afraid to buy them.",
           -1
          ],
          [
           "Easy and quick/n/nIt was a gift",
           25
          ],
          [
           "My sister was so happy/n/nMy family loves Amazon and shop with them all the time",
           15
          ],
          [
           "Five Stars/n/nIt’s a gift card.",
           25
          ],
          [
           "Conventient/n/nExcellent gift item",
           10
          ],
          [
           "Five stars/n/nI liked the convenience the most.",
           -1
          ],
          [
           "Great deal!/n/nMy daughter loved her gift card to American Eagle.  Getting it at a discount was a bonus!",
           25
          ],
          [
           "Gift cards are always a good gift/n/nGrandsons loved receiving gift card so they could go pick out what they wanted.",
           100
          ],
          [
           "Five Stars/n/nThanks for making everything so simple!",
           -1
          ],
          [
           "Expected/n/nHappy with purchase.",
           10
          ],
          [
           "Cute tin and arrived fast!/n/nGift for my niece’s birthday.  She’s 13 years old and likes to be able to pick out her own things.  Fast arrival.",
           25
          ],
          [
           "Great gift./n/nThe little container was so cute!  Great gift.",
           25
          ],
          [
           "Jack's graduation/n/nMade my nephew very happy!",
           25
          ],
          [
           "Amazon.com Gift Card in a Holiday Gift Box/n/nGift<br />easy to use",
           25
          ],
          [
           "Five Stars/n/n:)",
           25
          ],
          [
           "bad luck on delivery, but we found it../n/nThe card was delivered to the wrong address. But we found so I'm happy again...",
           25
          ],
          [
           "Easy order and fast delivery/n/nObviously it was the right size and color! Great gift!",
           25
          ],
          [
           "Great gift for a 4 year old!/n/nThis was a great gift for my four year old grandson. It allowed him to pick out a toy that he wanted and pay for it with the Amazon Gift Card. No risk attached as the child gets exactly what he/she wants.",
           20
          ],
          [
           "Five Stars/n/nGreat gift card for those who love Subway and saving a little money!",
           50
          ],
          [
           "people were happy./n/nWhat is there to say about gift cards, they arrived, I gave them away, people were happy.",
           -1
          ],
          [
           "gift card in a really cool little diamondplate case! A great gift idea for guys./n/nwhat is not to love about getting a gift card in a cool diamond plate case? Nothing to say about it other than it is very cool looking and makes a gift card seem a lot nicer. Any guy who likes working on cars or has a mancave will love this one!",
           -1
          ],
          [
           "Funciona/n/nUn gran regalo",
           10
          ],
          [
           "Looks nice./n/nWe sent it to our son for Christmas.  He loved the card (especially the amount) and loved the star-shaped container!",
           25
          ],
          [
           "Five Stars/n/nGift cards make gift giving so easy!",
           25
          ],
          [
           "Five Stars/n/ngreat",
           -1
          ],
          [
           "Best gift!!/n/nSo cute!!! The ornament is such a great little extra!!! We gave them to our teachers and they were a huge hit!!",
           25
          ],
          [
           "Great gift/n/nGreat gift for someone who shops on Smazon.",
           25
          ],
          [
           "Five Stars/n/nI like the quite delivery on my gift card",
           25
          ],
          [
           "Great gift idea/n/nThese make great gifts",
           10
          ],
          [
           "Gift card/n/nIt’s a gift card 🤷‍♀️",
           -1
          ],
          [
           "Cute Container/n/nJust what I was looking for to give someone as a gift. The container is built pretty solid and does not flex.",
           25
          ],
          [
           "No gift card or gift box/n/nI sent one of these as a birthday present.  The recipient only received the invoice for the amount of the gift card and the packing envelope with nothing inside. Very embarrassing!",
           25
          ],
          [
           "Gift cards/n/nThese were gifts for my daughter-in-law and 2 granddaughters for Christmas.  I purchased other items but wanted them to be able to pick one of their own.  They all loved them.",
           -1
          ],
          [
           "Great gift/n/nMany of our family love their Amazon gift cards for birthdays and Christmas. Great service.",
           10
          ],
          [
           "Good gifts/n/nI will use as gifts, always happy with quality at Chili’s",
           30
          ],
          [
           "Great/n/nGreat",
           25
          ],
          [
           "Five Stars/n/nCame fast and makes a great stocking stuffer.  Can't go wrong with a gift Certificate!",
           20
          ],
          [
           "Convenient perfect gift/n/nWho doesn't love a gift card of your favorite place?!  What I absolutely love about this is how convenient it is for me.  I don't have to goto a store to purchase this gift card.  Just click of a button & I get it in 1 day.  There is a few decorative options for the gift card,  which I think it's pretty neat.",
           50
          ],
          [
           "best gift for kids teachers/n/ni like the Christmas color envelopes and i think the teachers should be happy to get the gift.",
           -1
          ],
          [
           "The $10 cards make excellent gifts for individuals who do service work for you/n/nThe $10 cards make excellent gifts for individuals who do service work for you.  Doctor offices, rescue, hospital, police, restaurants, fire dept,, teachers, plumbers, electricians, handy persons, letter carrier, delivery (like our &#34;GO BOLTS DAVE!&#34; from FedEx), neighbors, teenagers, etc.",
           40
          ],
          [
           "Super fast shipping!/n/nPurchased these when I forgot to get gifts for some family members, whoops. They arrived in right the next day and I couldn’t be more appreciative!",
           10
          ],
          [
           "Christmas gift card/n/nVery convenient",
           25
          ],
          [
           "It's great/n/nIt's great",
           15
          ],
          [
           "Fine/n/nEasy to purchase",
           28.95
          ],
          [
           "I love it/n/nit's a gift card, what else is there to say?",
           -1
          ],
          [
           "Very quick delivery!/n/nHey they are gift cards. The things you get for those people you don't know what to get them because you don't associate with them enough to really know what they like or need.",
           10
          ],
          [
           "Great gift/n/nGreat gift",
           20
          ],
          [
           "Great gift for the holidays!/n/nI plan to put this in the Christmas tree for my son as a decoration Christmas morning! :)",
           10
          ],
          [
           "HAPPY FATHER'S DAY/n/nI bought this for my 10 yr old Granddaughter to give her daddy for Father's Day. She was happy and so was daddy.🙂",
           25
          ],
          [
           "Good deal/n/nPrice!",
           25
          ],
          [
           "Five Stars/n/nGreat way to shop",
           50
          ],
          [
           "Gift card/n/nGreat gift",
           25
          ],
          [
           "Perfect for anyone/n/nGreat gifts  terrific  Let’s them pick what they<br />Want",
           25
          ],
          [
           "Awesome promo!/n/nAwesome promo! Got office365 (1 year) and a $50 gift card for $100.",
           -1
          ],
          [
           "Five Stars/n/nYa, it's a gift card!",
           -1
          ],
          [
           "Very Cute/n/nThis came very quickly in a very cute package. The receiver loved the ornament too!",
           25
          ],
          [
           "great way to send gift/n/nCupcake tin perfect for birthday presentation.  Quick delivery",
           25
          ],
          [
           "One Star/n/nDid not gettttty😭",
           -1
          ],
          [
           "Four Stars/n/nThe note I wrote to accompany the gift card may not have been delivered.",
           25
          ],
          [
           "Lovely gift card/n/nPerfect gift",
           25
          ],
          [
           "I don't have to mail it sent direct./n/nIt's a gift card.",
           54.95
          ],
          [
           "Convenience/n/nIt was a gift.",
           28.95
          ],
          [
           "Five Stars/n/narrived exactly as expected",
           -1
          ],
          [
           "Five Stars/n/nGift card",
           15
          ],
          [
           "Gift card/n/nAs described",
           25
          ],
          [
           "Review/n/nI would buy a gift card again, very giftable?",
           25
          ],
          [
           "Gift/n/nGift",
           20
          ],
          [
           "Five Stars/n/nHADE no problems using it",
           20
          ],
          [
           "Not a real tree!/n/nAttention buyers, please be weary when purchasing this form of gift card because the tree that pops up is NOT real; it is made of hard paper stock.  So don't go investing in fertilizer, a stand, or even a string of lights because it's not a real tree!",
           50
          ],
          [
           "Cute card holder, however gift card not inserted/n/nHeads up..Recipient reported that the flowered card holder was cute BUT the Amazon gift card was not inserted into it. It was actually on the bottom of the box and could easily have been overlooked and thrown out.",
           15
          ],
          [
           "Fast/n/nLiked the gift card",
           25
          ],
          [
           "great deal/n/nits ihop family loves it",
           -1
          ],
          [
           "Whatever you wish!/n/nWhat’s not to like?",
           25
          ],
          [
           "Four Stars/n/nThe gift cards came very quickly. As they are gifts, I am not sure how to rate them.",
           20
          ],
          [
           "Exactly as described/n/nExactly as described",
           40
          ],
          [
           "Nice Gift/n/nNice way for me to send a gift to my Niece and her husband.",
           20
          ],
          [
           "Ordered two, one arrived in poor condition/n/nI ordered two of these.  On one of them, the plastic cover was broken.  Card was bent and folded.  It looks like someone crumpled it and returned it.  It was a bit embarrassing to give a gift that looks like this, but I needed it the next day so I didn't have time to return it for a replacement.<br />The other one was perfect and flat and made a nice gift.",
           15
          ],
          [
           "Yummmm/n/nLove this place...",
           25
          ],
          [
           "Arrived next day/n/nArrived next day, and very easy to use online.",
           -1
          ],
          [
           "easy to use/n/ngot it on prime day deal, easy to use, ordered cat food right away.",
           25
          ],
          [
           "great gift!/n/nFast and easy gift to send a college student.  My sister loved it!",
           50
          ],
          [
           "Great/n/nLiked",
           10
          ],
          [
           "Five Stars/n/nVery nice gift to give.",
           -1
          ],
          [
           "Good buy/n/nGot them in a day .. Simple buy and easy .",
           20
          ],
          [
           "Perfect gift!/n/nBuy what they want not what we THINK they want!",
           50
          ],
          [
           "Great Price/n/nGreat Price",
           25
          ],
          [
           "Good deal/n/nI always love a good deal.",
           50
          ],
          [
           "Like this gift card/n/nEasy to use",
           25
          ],
          [
           "Great Gift/n/nI love this gift. I love also how it is wrapped in packaging from the store. Great gift for hard to buy people.",
           10
          ],
          [
           "Impressive!/n/nBought the thank you gift card inserted in a gift tag with string to give as gifts for a panel of college students who came to speak to my high school mentoring group. They loved them!",
           -1
          ],
          [
           "Great gift/n/nOne of my best friends loves Bath and Body Works so...no brainer",
           50
          ],
          [
           "Great gift/n/nPerfect gift for the one who has everything",
           25
          ],
          [
           "LOVE gift cards/n/nReceived it quickly and already put it to use.",
           25
          ],
          [
           "Five Stars/n/nGreat",
           -1
          ],
          [
           "Easy and happy giving/n/nSo easy to send gift card in pretty box",
           25
          ],
          [
           "beautiful boxing/n/nLove the way it came in, beautiful box and colors",
           25
          ],
          [
           "Five Stars/n/nGreat gift",
           25
          ],
          [
           "Great item fast shipping/n/nGreat idea for someone who’s hard to buy for. Shipped fast",
           25
          ],
          [
           "AMAZON GIFT CARD/n/nI have a very good deal on Amazon gift card<br />Thanks Amazon staff",
           25
          ],
          [
           "Great gift/n/nAdorable",
           25
          ],
          [
           "I love AMAZON/n/nGift card was at my door in hours from ordering! Last minute gift and Amazon saved the day!!!!",
           25
          ],
          [
           "Five Stars/n/neverything went well",
           -1
          ],
          [
           "The perfect gift!/n/nCandcas expected and described",
           10
          ],
          [
           "we;;received/n/nMy son absolutely loved it, he couldn't qait to show his mom",
           -1
          ],
          [
           "Gift Card/n/nGift card arrived quickly and worked when it was used so every thing is good!",
           100
          ],
          [
           "Five Stars/n/nArrived on time and happy as usual",
           -1
          ],
          [
           "Super cute!/n/nSuper cute and Giftable!",
           -1
          ],
          [
           "Fast delivery/n/nEasy to give, fast delivery and perfect for anyone!",
           25
          ],
          [
           "Great, easy gift!/n/nGreat gift, couldn't be easier!",
           25
          ],
          [
           "Five Stars/n/nGREAT CHRISTMAS GIFT",
           200
          ],
          [
           "Cute design for gifting!/n/nI thought Santa in chimney as a  gift card holder was very cute and who doesn't love an Amazon gift card!!!",
           20
          ],
          [
           "Gift card came in nice box. Very nicely and discreetly packed/n/nGift card came in nice box.  Very nicely and discreetly packed.",
           -1
          ],
          [
           "Son is an AMAZON ADDICT/n/nSelf explanatory. Christmas gift for my son.",
           -1
          ],
          [
           "Five Stars/n/nalways a good gift",
           25
          ],
          [
           ":-)/n/n:-)",
           25
          ],
          [
           "Yes/n/nGot here in time and is perfect",
           25
          ],
          [
           "Great gift for older grand daughters/n/nLike it for a gift",
           10
          ],
          [
           "Five Stars/n/nBest packaging for any grad student!",
           25
          ],
          [
           "Does a gift card need a review!???/n/nYes, when you get to shop at the best retailer of anything that your heart desires... short of a spouse :)) enjoy!",
           25
          ],
          [
           "Five Stars/n/nMy mom loved this.",
           25
          ],
          [
           "Five Stars/n/nWorth the price",
           200
          ],
          [
           "Five Stars/n/nVery pleased.",
           -1
          ],
          [
           "Easy and Quick/n/nMade it so easy to buy gifts for my teenage twin granddaughters. They are Amazon shoppers and their gift cards were the perfect gift",
           10
          ],
          [
           "good deal/n/nI bought this on sale",
           100
          ],
          [
           "Gift/n/nEasy",
           20
          ],
          [
           "My grandson's 13th birthday/n/nHe loved the card. I will use this method in the future. Amazon.com is one of the best ways to shop!",
           -1
          ],
          [
           "Perfect look !!/n/nWow!!!",
           20
          ],
          [
           "what's not to love?/n/nIt's an Amazon gift card...what's not to love?",
           25
          ],
          [
           "A great inexpensive gift 🎁 packaged quite nicely!/n/nExactly as described. Makes a great gift 🎁 to keep on hand.",
           30
          ],
          [
           "Easy shopping!/n/nFun and easy way to shop for the perfect gift!",
           -1
          ],
          [
           "Five Stars/n/nawesome",
           -1
          ],
          [
           "It just works/n/nIt's a gift card, I ordered 3 of differing amounts, they were listed by numbers so I could tell which was which.",
           25
          ],
          [
           "Very prompt and safe delivery./n/nI used the gift card for an engagement gift.",
           50
          ],
          [
           "Great gift for mom/n/nLove getting these for my mom",
           50
          ],
          [
           "Let your grandchildren pick their own presents!/n/nI gave them as a Christmas present to my grandchildren.  They really like picking out their own stuff.",
           -1
          ],
          [
           "Cute/n/nGreat product",
           50
          ],
          [
           "Missed inscription/n/nI requested a personal note, but the card was blank. Either the service of personal note should not be provided, or must be fulfilled if asked for.",
           -1
          ],
          [
           "Just what the granddaughters wanted/n/nArrived quickly already wrapped in a small box.....my granddaughters were thrilled",
           25
          ],
          [
           "Works as expected/n/nBought as Christmas worked right the first and the last time and everytime inbetween",
           100
          ],
          [
           "Great gift for office party/n/nGreat item for white elephant gift exchanges",
           25
          ],
          [
           "Perfect!! They did a fantastic job!/n/nI was very happy with how The gift card arrived!! It was perfectly wrapped in a beautiful gift bag!! I’m so happy!! The gift looks so professional! Great job amazon!!! ❤️❤️❤️❤️",
           10
          ],
          [
           "Great Card/n/nAll good. Thanks for a great transaction.",
           50
          ],
          [
           "Five Stars/n/nParents lived this card.",
           -1
          ],
          [
           "Good Gift/n/nThis is a great gift for someone you don't know exactly what they want.  You can't go wrong.",
           10
          ],
          [
           "It's a gift card/n/nAs expected",
           -1
          ],
          [
           "very easy bday present/n/ncomes already boxed with a bow! perfect!",
           25
          ],
          [
           "Great value/n/nLove this as a gift. Light weight enough if you wanted to ship too.",
           25
          ],
          [
           "Great gift!!/n/nAlways a great gift idea and delivered right to your door!!",
           25
          ],
          [
           "Five Stars/n/nGreat deal",
           200
          ],
          [
           "Presentations is GREAT!/n/nI love this snowflakes was the perfect gift for my team members",
           25
          ],
          [
           "Five Stars/n/nGreat",
           50
          ],
          [
           "Nothing/n/nIt’ss gift card ok",
           25
          ],
          [
           "Four Stars/n/nit is what it is......came quickly.....gave as gift",
           -1
          ],
          [
           "Five Stars/n/nPerfect gift idea.",
           -1
          ],
          [
           "Great for a gift/n/nGift",
           25
          ],
          [
           "Nice idea/n/nAdorable concept but there was a problem with the cards not being activated several times. I ordered 9 for my grandchildren and had nothing but problems",
           50
          ],
          [
           "I was told I would get a 10 dollar gift .../n/nI was told I would get a 10 dollar gift card when I ordered these, and the coupon code took appropriately; however, i never received any confirmation of the 10 dollar gift card.  I would not have gotten these without the 10 dollar gift card.  I have never purchased gift cards previously.",
           45
          ],
          [
           "Great for the Grad/n/nThis is a perfect gift for a high school or college graduate.  They get what the want/need.",
           25
          ],
          [
           "Nice product/n/nAnd I bought it on discount",
           -1
          ],
          [
           "Five Stars/n/ncute little tin box for a gift card..",
           25
          ],
          [
           "I like it./n/nIt's a gift card that I will be giving out at Christmas. The pop up is cute & a little unusual. I like it.",
           -1
          ],
          [
           "Perfect!/n/nJust Perfect!",
           50
          ],
          [
           "Five Stars/n/nGreat for a Birthday that you don't know what to get for the person!",
           25
          ],
          [
           "Coffee Maker/n/nThe coffee maker is difficult to fill with water and almost impossible to empty the hot water dispener with out removing the plug from the outlet.",
           -1
          ],
          [
           "Loved then/n/nBeautiful! Festive!",
           25
          ],
          [
           "Great tin/n/nLove these tins for the gift cards!",
           25
          ],
          [
           "Let them pick what they want with a gift card./n/nI got the Amazon gift cards for Christmas gifts for the family. I’m sure they will be happy with it. Who wouldn’t.",
           25
          ],
          [
           "Perfect gift for ne Baby/n/nThe best gift for new baby during covid 19.  I just will deliver to doorstep with a card.",
           25
          ],
          [
           "Five Stars/n/nperfect gift",
           50
          ],
          [
           "Five Stars/n/nOne can't go wrong with gift cards.",
           -1
          ],
          [
           "Nice/n/nGreat ty",
           25
          ],
          [
           "Always a great gift!/n/nWas a great gift to myself lol. But seriously Amazon is on point. Always on time. Very easy to use. No hassle. Thank you!",
           25
          ],
          [
           "Great Birthday gift/n/nMy grandson just turned 10 and he loved it.",
           -1
          ],
          [
           "Ok/n/nOk",
           25
          ],
          [
           "its a giftcard/n/nIt's a giftcard.  Does all the things that normal gift cards do.  Arrived in one day as promised with nice card to give to someone in.",
           -1
          ],
          [
           "You can never..../n/nYou can never go wrong with this Gift Card. Amazon offers such a vast selection of products that this card is always a hit with my kids. They even request it a gift giving time. Sure makes my life easier.",
           -1
          ],
          [
           "Great gift/n/nI used it for a white elephant gift card exchange. My gift card was stolen the most times--high demand!",
           20
          ],
          [
           "Can't go wrong with a gift card/n/nArrived quickly and packaged well, just as described. Will definitely do business again",
           25
          ],
          [
           "Five Stars/n/nThis item came on time in a very nice box.",
           25
          ],
          [
           "Very cute packaging!/n/nThis little cupcake tin is a very cute way to present the gift card to the recipient. I gave it to my 8 year old granddaughter for her birthday. She is excited to shop with her Mom. There is no extra charge for it which is a nice perk! I highly recommend it!  Also, you can choose any amount you want the gift card to be.",
           25
          ],
          [
           "Great/n/nIt’s a gift card",
           -1
          ],
          [
           "It’s a gift card/n/nPrime day discounts!",
           25
          ],
          [
           "Unique gift card/n/nWe are always looking for different and unique cards. This was one of them. I love the look of it and really you wouldn't take it as a gift card at first glace. Very happy with the overall product.",
           -1
          ],
          [
           "Amazon gift cards make shopping easy!!/n/nI ordered the gift card for my husbands birthday.  Running out of gift ideas so ordering a amazon gift card was easy for me and I knew my husband could enjoy shopping at Amazon at his leisure.",
           10
          ],
          [
           "Awesome/n/nReally a great idea",
           25
          ],
          [
           "A gift that keeps on giving, at least a few times/n/nUnless a person absolutely despises Starbucks for whatever reason, these  cards are well received as gifts.",
           100
          ],
          [
           "Five Stars/n/nHusband is happy.  I don't like Subway!  Yuck!",
           50
          ],
          [
           "Nice Stocking Stuffer/n/nA great idea as people I know shop on Amazon.com.",
           -1
          ],
          [
           "Makes a good present for people that are hard to shop for/n/nIt’s gift card in a box, not much to say.<br /><br />The recipient loved it, so it did a great job.",
           25
          ],
          [
           "Five Stars/n/nGreat product",
           25
          ],
          [
           "Cute gift card./n/nDesign very cute & card sturdy.",
           25
          ],
          [
           "Five Stars/n/ncame protected in clear cover",
           25
          ],
          [
           "Reusable/n/nNice tin box the gift certificate came in. Can be reused for whatever you want.",
           25
          ],
          [
           "Isn't really Australian but hey, its YUMMY/n/nOutback rocks, high calorie meals though but on cheat day (once in 10 or so?) I like consuming 4k calories at the outback before wine and the cheese fries get you half way there!",
           100
          ],
          [
           "Grrrrrrrrrrrrr8 gift/n/nThe Amazon Christmas gift card was perfect for the person I bought it for.  It arrived promptly and the rebate was a very nice surprise.  I will buy gift cards often for gifts.  Thanks for having the Christmas manger scene as one of the choices.",
           -1
          ],
          [
           "Five Stars/n/nThis was a gift.",
           75
          ],
          [
           "Activates easily/n/nI like that you only need use the last four numbers on card at first use to activate card; no phone calls or registering needed, can be used anywhere ,very convenient and not expensive. I will use these instead of checks as gifts from now on. No more monitoring your account to see if your check has been deposited/cashed, no more headaches, it's worth paying a few extra $ to eliminate check-giving hassles.",
           28.95
          ],
          [
           "Terrific packaging/n/nIt was perfect for the Grandchildren",
           25
          ],
          [
           "Five Stars/n/nThis was a Christmas 🎄 gift 🎁 for my hubby to use to purchase books for his Kindle.",
           25
          ],
          [
           "Buy these every Christmas/n/nGood packaging for a gift that keeps on giving.",
           50
          ],
          [
           "Gift card worked/n/nIt’s a gift card you receive in the mail then use at the company on the card. Yea.",
           25
          ],
          [
           "Always the ideal gift./n/nI love Amazon gift cards. Unlike other cards Amazon's never expire, are always the right size and always can give someone something they really want. And this version with the gift box was an ideal presentation.",
           -1
          ],
          [
           "Great gifting option!/n/nGreat versatile gift idea! I got this for someone who is hard to shop for and they loved it! It gives them some options and an excuse to treat themselves to a nice dinner!",
           25
          ],
          [
           "Everything worked as needed./n/nGift card came fully loaded, no issues at all. Have already used it once without problem.",
           100
          ],
          [
           "Love that this card has the true meaning of Christmas .../n/nLove that this card has the true meaning of Christmas on it! It is the gift that is for everyone!",
           -1
          ],
          [
           "Five Stars/n/nSuper cute gift box!",
           25
          ],
          [
           "FUN POP UP BOX AND PROMPT DELIVERY/n/nGot Amazon gift card for my granddaughter's Christmas wish list.  Loved the box and had plans on items she would buy with it.",
           50
          ],
          [
           "Five Stars/n/nGood quality. Soft and comfortable.",
           -1
          ],
          [
           "Five Stars/n/nVery convenient. Quick delivery.",
           25
          ],
          [
           "Gave to my granddaughter she loved it/n/nLiked very much.would but agsin",
           25
          ],
          [
           "Five Stars/n/nSuch cute packaging!",
           -1
          ],
          [
           "Five Stars/n/nGreat gift",
           75
          ],
          [
           "It came exactly when it was supposed to/n/nThe gift card was nice and it was a present they enjoyed it.",
           15
          ],
          [
           "I'd do it again/n/nYay nice little box and it made a quick gift",
           25
          ],
          [
           "Very nice gift boxed/n/nIt was used for a wedding gift.......and just added a nice gift bag, perfect and traveled very well ~",
           50
          ],
          [
           "So cute/n/nAdorable container,useful",
           25
          ],
          [
           "Easy to purchase and redeem/n/nEasy to purchase and redeem. Just used my camera within the Amazon app",
           25
          ],
          [
           "Easiest way to Christmas shop/n/nOne touch shopping",
           50
          ],
          [
           "Five Stars/n/nLoved it! Thought it was so cute. It came so fast.",
           25
          ],
          [
           "Four Stars/n/nI liked it because I ordered it last minute and amazed how quickly it came thank you",
           25
          ],
          [
           "Five Stars/n/nexcellent",
           75
          ],
          [
           "Classy Looking Card!/n/nThis gift card was smart and different looking.  Presentation is really important,  and it was greatly appreciated.",
           10
          ],
          [
           "Super cute!/n/nWhat's not to love about this? Free teddy with the purchase of a gift card. The bear was wonderfully adorable and soft. Made a great gift for my friend!",
           -1
          ],
          [
           "Perfect gift for a Kindle lover/n/nThese always arrive fast, are nicely packaged, and easy to use. This one was for a friend who loves their Kindle and I'm not going to presume to choose her books :-) A perfect gift!",
           50
          ],
          [
           "Five Stars/n/nall good",
           -1
          ],
          [
           "Gift to myself/n/nIts a gift card what's not to like. Free food.",
           25
          ],
          [
           "Gift card/n/nIt's was quick and awesome",
           10
          ],
          [
           "Gift Card Review/n/nGot it quickly as usual from Amazon",
           -1
          ],
          [
           "Do not Purchase!/n/nI purchased eight cards for coworkers and family. I am now hearing these cards have no value. What a rip off!",
           25
          ],
          [
           "Worth it, so creative!/n/nSuch a cute box for a gift card! Made my friend’s day!",
           25
          ],
          [
           "What I expected./n/nWhat I expected.",
           100
          ],
          [
           "Good for ALl Ages/n/nWould buy again. Attractive.",
           -1
          ],
          [
           "Five Stars/n/nExcellent",
           -1
          ],
          [
           "Five Stars/n/nThe gift card got to the recipient on time and was set up as promised.",
           -1
          ],
          [
           "Credit card/n/nVery handy",
           28.95
          ],
          [
           "Five Stars/n/nA+",
           25
          ],
          [
           "now I can afford to buy gas/n/nI will buy again",
           25
          ],
          [
           "Item received is not what I ordered/n/nThe gift card in the picture is not the one I received. My main reason for ordering this gift card was Macaroni Grill but the card I received doesn't even have Macaroni Grill listed as a place it can be redeemed. And Amazon return policy doesn't allow you to send back gift cards.",
           100
          ],
          [
           "Really cute to give as a gift !/n/nMy granddaughter loves this gift card. She thought it was the cutest thing ever!",
           20
          ],
          [
           "Holiday Gift Card/n/nEasy to order. Delivered quickly. Ready to give to the ones you love!",
           10
          ],
          [
           "Love these/n/nHow can a gift card ever go wrong?<br /><br />Love these!",
           50
          ],
          [
           "Graduation surprise/n/nThe card was a gift for our daughter's graduation and allowed her to choose whatever she wanted. She was very happy with the card!",
           20
          ],
          [
           "It was a great gift for my husband to get what he wanted./n/nIt was a wonderful gift for my husband. He could choose anything he wanted.",
           25
          ],
          [
           "Gift card reindeer/n/nliked",
           25
          ],
          [
           "Five Stars/n/nWorked",
           -1
          ],
          [
           "Crowd Favorite/n/nCan't go wrong with an Amazon gift card.",
           10
          ],
          [
           "Five Stars/n/nIt's an Amazon gift card, can't go wrong",
           10
          ],
          [
           "Great Gift/n/nEasy to order, fast delivery, a better gift than cash.",
           25
          ],
          [
           "Its giftable!/n/nI have a number of times it's so huggable and easy to use.",
           28.95
          ],
          [
           "Good gift/n/nGood gift for a book worms",
           -1
          ],
          [
           "Five Stars/n/nVery good deal I got 20% back :D!!!",
           -1
          ],
          [
           "They seem to enjoy them and I don't have to stress about finding .../n/nI buy these every year for my daughters to give their teachers for Christmas. They seem to enjoy them and I don't have to stress about finding a decent gift.",
           20
          ],
          [
           "Easy to give gifts/n/nGreat job once again Amazon",
           25
          ],
          [
           "So pretty/n/nLove this gift card with bag",
           50
          ],
          [
           "Five Stars/n/nI bought this as a gift.  It was well received.",
           25
          ],
          [
           "The Perfect Gift/n/nWeddings, showers, birthdays, holidays, etc.. it's always the perfect gift. Free one-day shipping on the gift card also makes it a great last minute gift. I didn't request a gift message so I can't comment on that feature.",
           -1
          ],
          [
           "Love Them/n/nGreat for gift giving",
           -1
          ],
          [
           "Five Stars/n/nEasy gift",
           20
          ],
          [
           "Easy and great gift/n/nPerfect gift for Mother’s Day or birthdays",
           15
          ],
          [
           "Five Stars/n/nVery cute presentation of a gift card at Xmas time",
           25
          ],
          [
           "Great teachers gifts/n/nGreat gifts for teachers",
           -1
          ],
          [
           "It's a gift card./n/nCool!",
           -1
          ],
          [
           "Gift cards/n/nI enjoy being able to buy gift cards on line as opposed to in a store.<br />Makes it easier on older folk.",
           25
          ],
          [
           "Like the idea/n/nA pair of free happy socks? Why not! I keep the gift card which I would spend on amazon anyway and my dad has a pair of happy socks now :)",
           -1
          ],
          [
           "Excellent gift card presentation./n/nCute way to give gift card at no extra expense.",
           25
          ],
          [
           "easy gifts/n/neveryone liked them",
           25
          ],
          [
           "It arrived on time/n/nThis product was actually a gift for my mother on her birthday. It arrived exactly when it was supposed to it made her very happy.",
           10
          ],
          [
           "Gotta Love Cracker Barrell!/n/nLove Cracker Barrel and especially gift cards. It's a great country food type of place to eat.<br />Every one that I have been to has great service, great food and the gift card makes paying so much faster.",
           50
          ],
          [
           "Love Amazon/n/nAmazon is the best.  Great products with decent prices, great shipping times, absolutely great customer service and a very user friendly website.  Will definitely shop Amazon again and again.<br /><br />Karen",
           15
          ],
          [
           "The perfect gift/n/nWhen in doubt about what to get as a gift, an Amazon gift card is the answer. It allows the recipient to get anything he/she wants from the many offerings on Amazon. I purchased the kind that comes in a small box with a pretty orange bow on it. No need to wrap it.",
           25
          ],
          [
           "Card/n/nYes very easy to use",
           10
          ],
          [
           "It’s so great/n/nIt’s a cool thing ever you can put up to like a lot of money on it I like it I would Buy it",
           25
          ],
          [
           "Card would not work/n/nI purchased this gift card for my husband and on the first day of trying to use it at our local gas station, it asked for a pin.  He used the pin created and still wouldn’t work.  Contacted Amazon and got my money back and put the refund on our Amazon gift card balance attached to our account.  The agent that I spoke with through Amazon said I could use the refund to repurchase a new gift card, sadly I couldn’t use our gift card balance towards gift card purchases.  I wish the Amazon agent would have told me this ahead of time.  Very frustrated.",
           28.95
          ],
          [
           "Great/n/nBought as a deal. Would buy again. Would recommend.",
           25
          ],
          [
           "Christmas gift/n/nTIN case. No dents.<br /><br />Needed Christmas gift for the family. Got this last year for them, they enjoyed online shopping so much they have Amazon Prime now. Makes for a great, &#34;And here you go!&#34; gift to top off everything else or an expensive stocking stuffer.",
           25
          ],
          [
           "I always buy white elephant gifts that I personally wouldn't mind ending up with so I would have been happy to come back with th/n/nI bought this for a white elephant gift exchange and it was one of the most stolen gifts.  I always buy white elephant gifts that I personally wouldn't mind ending up with so I would have been happy to come back with this but everyone else also wanted it.  Can't go wrong with a Starbucks gift card.",
           50
          ],
          [
           "Five Stars/n/nHighly recommended!",
           50
          ],
          [
           "Loved the cute box for our grad!/n/nAfter not finding Amazon gift cards in stores, I found this one online. Loved the cute box it comes in at no extra charge - perfect for a graduation gift!",
           25
          ],
          [
           "Texas Roadhouse.../n/nYes, the gift card I ordered as a gift and shipped outta state was delivered as promised and on time!.. No problems what so ever and I will be doing this again..",
           100
          ],
          [
           "One size fits all/n/nShop from the comfort of home & it lands in your mailbox faster than you'll believe.  And what's especially nice is that the recipient will be able to do the same....",
           -1
          ],
          [
           "Amazon Gift Crads/n/nThe gift cards are always a big help for me.  Everyone who gets them are very happy.",
           20
          ],
          [
           "It's a gift card/n/nIt's a gift card. What else can I say?",
           20
          ],
          [
           "Our daughter absolutely loved it. Said \"I think this is too pretty .../n/nOur daughter absolutely loved it.  Said &#34;I think this is too pretty to spend&#34; and then laughed.  Great gift and very pretty.",
           50
          ],
          [
           "Five Stars/n/ngret",
           25
          ],
          [
           "Everything a gift card should be!/n/nEasy to use! great gift card!",
           10
          ],
          [
           "Great for any occasion/n/nGift card holder for any occasion cute and classy.",
           20
          ],
          [
           "Does not work at apple store!/n/nThe card says apple store or iTunes but does not work for the apple store!  Extremely disappointed as this was a gift that now cannot be used!",
           -1
          ],
          [
           "Card had no balance when I received/n/nThis is the third visa gift card I have recently received in the past few weeks that has arrived with no balance. I will be returning and submitting for a refund.",
           28.95
          ],
          [
           "Fandango makes it so easy to find a theater and choose seats before we .../n/nFandango makes it so easy to find a theater and choose seats before we get there. This lightening deal also made it an amazing deal!",
           45
          ],
          [
           "Stocking stuffer/n/nGifting made easy",
           25
          ],
          [
           "Gift card box/n/nPerfect for children",
           25
          ],
          [
           "gift card/n/nGood Content. on time",
           10
          ],
          [
           "It fits perfectly/n/nEveryone loves a gift card from Amazon",
           -1
          ],
          [
           "Five Stars/n/ncan't go wrong with a gift card. came promptly",
           -1
          ],
          [
           "Quick arrival/n/nGreat! Arrived quickly, just as advertised.",
           15
          ],
          [
           "They love/n/nFor older grandson and granddaughter",
           25
          ],
          [
           "Cute/n/nNice and good quality.",
           25
          ],
          [
           "love/n/ncute packaging. love it",
           25
          ],
          [
           "I hope it works!/n/nI am sending this as a gift. The attachment card came bent and ripped. Looks like it was in someone's pocket at one time. Hope it works.",
           25
          ],
          [
           "Great gift!/n/nPerfect gift.",
           -1
          ],
          [
           "Five Stars/n/nPerfect gift",
           -1
          ],
          [
           "Gift Cards/n/nsnowflakes arrived in great shape and were well-received by my children....the tins are also recyclable as cookie cutters or ring holders, etc.",
           25
          ],
          [
           "Fantastic Christmas Gift/n/nThe gift card gave my son the opportunity to select a very special gift for himself.  He was delighted!",
           25
          ],
          [
           "Don't order 3 different ones at a time. They dont tell you hoe much is on the card./n/nI have no idea how much is on each card. Kinda bummed.",
           50
          ],
          [
           "Great gift/n/nGreat gift.",
           10
          ],
          [
           "Five Stars/n/nGreat gift!!",
           25
          ],
          [
           "Five Stars/n/nDid the job!",
           25
          ],
          [
           "Great gift and it came in its own box with .../n/nGreat gift and it came in its own box with bow, love it just placed under the tree and I was good to go.",
           -1
          ],
          [
           "Perfect gift for shoppers/n/nGeneric gift card is always appreciated by a shopper. Arrived quickly and as expected",
           54.95
          ],
          [
           "Five Stars/n/nSis-in-law loves e-books - so she Loved this gift!!!",
           -1
          ],
          [
           "Quick/n/nGreat price and rapid delt",
           28.95
          ],
          [
           "They’ll thank you later!/n/nLetting them choose is a win win",
           25
          ],
          [
           "Great for the Big Lots Lover!/n/nCard works! No problems.",
           50
          ],
          [
           "Perfect gift/n/nI like being able to send a gift that will be used for what they pick out.",
           25
          ],
          [
           "cute packaging/n/ncute packaging. was for on a gift",
           10
          ],
          [
           "What's not to like?/n/nQuick to arrive and a $10.00 credit too? What's not to like?",
           -1
          ],
          [
           "Great design!!!/n/nI like the design.  I am a big amazon fan.",
           20
          ],
          [
           "Cute packaging!/n/nThe box was so cute!",
           25
          ],
          [
           "DoorDash Gift Card/n/nThis is a good gift to send to someone at the military academy (in the US - not sure if it can be used in other countries).",
           100
          ],
          [
           "Easy Trans Atlantic Purchase!/n/nGreat way to send a gift across the Atlantic, and it would get there the next day if required",
           -1
          ],
          [
           "Great Gift/n/nGreat gift for the grad",
           25
          ],
          [
           "Love it'/n/nLike",
           10
          ],
          [
           "Happiness is.../n/nMy daughter is  thrilled with her gift card.",
           50
          ],
          [
           "Five Stars/n/nIt's a gift card....what could go wrong",
           25
          ],
          [
           "Perfect fit!/n/nI bought a $50 Amazon gift card for our sitter's birthday and she told us it fit perfectly! Yay I got it right!",
           -1
          ],
          [
           "Great way to give a giftcard/n/nAmazon hits a homerun with providing great gift card presentations... Niece love it",
           -1
          ],
          [
           "easy to purchase/n/nI liked the variety of gift cards to buy for my family.<br />It is a gift they all like",
           25
          ],
          [
           "The right gift, EVERY TIME!/n/nWho doesn't enjoy a gift card, especially one from Amazon? No guessing, the right gift - every time.",
           10
          ],
          [
           "Track it closely/n/nHad issues getting it to the recipient. Took 2 weeks to track it down. Thought I'd lost my money. Eventually got there after several emails to Amazon.",
           10
          ],
          [
           "Gift/n/nGift",
           -1
          ],
          [
           "nice gift/n/nHad a great time giving this to my dad as a gift because he enjoys shopping on Amazon as much as me! ;)",
           20
          ],
          [
           "Great presentation though/n/nWould prefer if the value of the card was printed on it.  Great presentation though",
           25
          ],
          [
           "Five Stars/n/nAmazing how easy to use these gift card things are...",
           30
          ],
          [
           "Gift card/n/nWas above my expections.  Will use your gift cards for all gifts this year",
           25
          ],
          [
           "very good and easy/n/nthis product is very good and was easy to buy !",
           20
          ],
          [
           "Works Well !/n/nAnd cute!!!!!",
           25
          ],
          [
           "Fine/n/nWill make a nice gift",
           10
          ],
          [
           "GIFT CARDS/n/nTHE GIFT CARDS CAME IN BEATIFUL BOXES ,MY GRANDDAUGHTERS WERE THRILLED TO GET THEM",
           25
          ],
          [
           "Five Stars/n/nThank you.",
           50
          ],
          [
           "Has the $$amount on the face/n/nThere are other more desirable designs to choose from, but I love this one because it has the dollar value printed on the front of the card. Most all others you have to find a way to write the $$ on the card and often it wears off as soon as it's handled. To save yourself and the gift recipient from loosing out on the full value of the card, make sure to buy one that has the FACE VALUE printed on it.",
           25
          ],
          [
           "Great for donations to charities./n/nBought two. Donated one and kept the other for future purchases.",
           20
          ],
          [
           "Perfect for young kids/n/nGifted",
           10
          ],
          [
           "Simple/n/nEasy peasy",
           20
          ],
          [
           "Five Stars/n/nGreat gift card for meals.",
           25
          ],
          [
           "Five Stars/n/nIt was a gift the my grandsons love going to P.F. Changs.",
           -1
          ],
          [
           "It worked, buy with confidence/n/nIt worked, buy with confidence",
           -1
          ],
          [
           "Five Stars/n/nIt was very classy and my teenage granddaughter just loved it.",
           20
          ],
          [
           "Great gift/n/nPurchased as a gift and the recipient was very pleased.",
           25
          ],
          [
           "Great!/n/nEasy and fast!!",
           100
          ],
          [
           "Great Gift!/n/nKids loved them for Christmas!!",
           40
          ],
          [
           "Convenient./n/nIt's so convenient. This completed my friends birthday gift which I forgot to buy a gift.",
           5.99
          ],
          [
           "Nice looking box/n/nThe box was very nice and my wife loved the presentation.",
           -1
          ],
          [
           "Nice box. Has card. All good./n/nWhat can go wrong with gift cards?",
           -1
          ],
          [
           "Love Amazon Gift Giving!/n/nGood gift!",
           25
          ],
          [
           "It's and easy give to give someone when you don't what else to give./n/nGood value for the money it take the guest work out",
           25
          ],
          [
           "Works/n/nNothing may be wrong with a gift card! Very fast shipping!",
           25
          ],
          [
           "Five Stars/n/nthese make Great Gift's",
           100
          ],
          [
           "Great to keep on hand for a last minute gift!/n/nAlways a hit. Arrived quickly!",
           -1
          ],
          [
           "Gift card was torn/n/nI just got this gift card was torn",
           10
          ],
          [
           "Cute Gift Box/n/nGot to me quickly, with simple instructions on how to activate the card and in a gift box, all ready for me to give it as a gift. Very happy with it.",
           25
          ],
          [
           "Five Stars/n/nNice box that come with gift card",
           -1
          ],
          [
           "Pretty and friend loved it/n/nBox is pretty",
           50
          ],
          [
           "Five Stars/n/nGift cards are always great as long as amazon can get the order correct in the first place.",
           -1
          ],
          [
           "order incomplete/n/nI ordered 10 twenty-five dollars amazon gift cards but received only 9.  I was charged for 10 gift cards.  I am returning them.",
           25
          ],
          [
           "Five Stars/n/nGreat box great gift.",
           25
          ],
          [
           "Amazon Gift cards spend like cash money as long as you want to buy stuff from Amazon!/n/nIt's a gift card! You put the code in, you get the money allocated to your account, you spend it. Yay!",
           10
          ],
          [
           "… Was amazing/n/nNeeded something last minute was able to order while I was in the office and arrive the next morning… Who does that?!",
           25
          ],
          [
           "Excellent! Burgers were the BEST/n/nExcellent!  Burgers were the BEST!",
           25
          ],
          [
           "One Star/n/nTHEY DID NOT WORK.. AND DINT` GET MY MONEY BACK. NEVER AGAIN.",
           50
          ],
          [
           "Difficult for recipient to redeem/n/nUnfortunately, as nice as this looked, it was not the breeze to redeem that it should have been and left me embarrassed that I had given it instead of an email gift card.  Sadly, apparently, this has happened to other  people according to my recipient’s reading of other reviews. I didn’t even think I needed to read a review about a gift card, but I was wrong.",
           15
          ],
          [
           "lightning deal saved 20%/n/nLOVE ME CHIPOTLE burritos !  lightning deal saved me money",
           50
          ],
          [
           "It's a gift card. Duh!/n/nThis item was perfect for us because I can split them up and give them as gifts to several people.",
           40
          ],
          [
           "Great Gift!/n/nThe perfect gift for everyone!  This is a gift where it allows the recipient to choose their own taste in books, movies, music, household items and more.  Very cute presentation for Christmas!",
           -1
          ],
          [
           "Great daily deal!/n/nCaught this as a $40 for a $50. Worked perfectly and even able to be used as tip.",
           100
          ],
          [
           "Perfect/n/nPerfect gift for the difficult gift receivers on your list",
           -1
          ],
          [
           "Five Stars/n/nGreat",
           100
          ],
          [
           "It worked/n/nNo problems , perfect gift",
           28.95
          ],
          [
           "can't go wrong with a gift card/n/nGot this for my nephew and he loves it! He loves Hollister so I couldn't go wrong with a gift card",
           50
          ],
          [
           "Great Deal/n/nAmazing Great Deal",
           -1
          ],
          [
           "Cute/n/nVery cute!<br />The teacher loved it!",
           25
          ],
          [
           "Five Stars/n/nPerfect &#34;container&#34; for my amazon gift card Christmas gift for my son-in-law !  He loved it.",
           -1
          ],
          [
           "Can't go wrong with GC's/n/nGlad it came in before Christmas!",
           100
          ],
          [
           "Great gift/n/nTeen grand girls love",
           25
          ],
          [
           "gas/n/nanniversary gift...they liked it...yum yum! :)",
           25
          ],
          [
           "not what I ordered/n/ngift card received is not &#34;Snowboarding Snowman&#34; design - it is plain black &#34;a&#34; card - very disappointing as a gift for my nephew",
           -1
          ],
          [
           "Five Stars/n/nNice gift.",
           -1
          ],
          [
           "Good concept/n/nThe gift card was nicely surrounded  by the metal cover & presented beautifully. Wonderful touch",
           25
          ],
          [
           "easy use/n/ngreat",
           -1
          ],
          [
           "Five Stars/n/nMy daughter loved it!",
           25
          ],
          [
           "fast shipping/n/nGood value for your money. Fast shipping. Great gift! Price good.",
           100
          ],
          [
           "Great Restaurant Gift Card/n/nSent this to my friend who is a sports fanatic. Had no issues in using this gift card. #GreatGift",
           -1
          ],
          [
           "easy to use/n/nWe always get at least one person in our family an Amazon gift card, easy to use.",
           25
          ],
          [
           "you guys are the best!/n/nI loved getting the Amazon gift card. it came in a sexy little black box with an orange bow. and it is so easy to use.",
           25
          ],
          [
           "Five Stars/n/nWonderful gift for my daughter for Mother's Day.",
           -1
          ],
          [
           "so I like to save money/n/nSaved $5 on special offer, so I like to save money... 5 stars",
           25
          ],
          [
           "Five Stars/n/nGranddaughter loves gift cards",
           25
          ],
          [
           "Presentable/n/nThis makes for a very professional gift. It has a neat and clean design.",
           25
          ],
          [
           "Four Stars/n/nChristmas stocking stuffers.",
           50
          ],
          [
           "Very Cute/n/nVery cute. Just what I was looking for.",
           50
          ],
          [
           "gift cards/n/nI purchased $50 in gift cards with the understanding that I would receive a $15 bonus for this purchase.  Later I received an email that I did not qualify for the bonus.  There was no explanation why I did not qualify.  Why didn't I get my bonus?  Carol B.",
           10
          ],
          [
           "Five Stars/n/nson love this for his bday geat sales there too",
           50
          ],
          [
           "Gifts on the tree for grandkids to find./n/nPerfect gifts to hang on the Christmas tree.",
           25
          ],
          [
           "Good product./n/nEasy as a Gift item for all occasions.",
           25
          ],
          [
           "Cute 🎅🎅🎅🎅/n/nSuch a cute tin for gifting. Delivery was so fast. Perfect for the avid amazon shopper",
           25
          ],
          [
           "Card holder damaged, luckily card was not/n/nGot the gift card, and the card holder was already damaged inside the package. Luckily the gift card itself wasn't damaged in any way, but I had to purchase another card holder to give",
           25
          ],
          [
           "Five Stars/n/nFree tin!",
           25
          ],
          [
           "Gift card doesn't work/n/nThis was a birthday gift to a niece who saved it to go towards a big purchase. It is now outside of the return window and doesn't work. Big disappointment Amazon. Needs to try harder.",
           10
          ],
          [
           "My parents love this restaurant/n/nAn easy gift for people who have everything.",
           50
          ],
          [
           "Love it./n/nThis was  a present for Christmas for my nephew. I think is a cute design for a gift card! Love it.",
           25
          ],
          [
           "nicely boxed./n/nAs expected.  It's a gift card, nicely boxed.",
           -1
          ],
          [
           "Great gift/n/nGreat deal and great meals. The new salad bar is supreme.",
           25
          ],
          [
           "It’s a giftcard/n/nCute",
           50
          ],
          [
           "Everyone liked the cute tins/n/nThey all arrived on time.  Everyone liked the cute tins.",
           25
          ],
          [
           "Great last minute gift/n/nEverything",
           25
          ],
          [
           "VERSATILE GIFT/n/nA gift card that is so versatile it can be used to buy almost everything. Super fast delivery. Thank you Amazon.",
           -1
          ],
          [
           "Great product, no problems./n/nThank you, never had problems with any of gift cards I purchased on Amazon!",
           125
          ],
          [
           "Five Stars/n/nGreat product will buy again thanks.",
           50
          ],
          [
           "Amazon gift card/n/nIt was so easy, gift able & versatile!!!<br />Perfect way of sending a gift via email or handing it out personally...<br />Made Christmas shopping easy!!!!",
           -1
          ],
          [
           "Great gift!/n/nMy go to gift!",
           25
          ],
          [
           "Five Stars/n/nGave to s friend.",
           10
          ],
          [
           "This did not get delivered to my grandson so disgusting/n/nThis did not get delivered to my grandson for Easter I am so upset right now god only knows where it is<br />I need a response to this<br />I am fuming",
           -1
          ],
          [
           "Don't be late on birthday gifts order Amazon card get it next day/n/nIt was given as a birthday gift card and it was so easy to order the next day was not late for the birthday awesome Amazon",
           25
          ],
          [
           "great/n/ngrat",
           -1
          ],
          [
           "Everybody Wants One!/n/nThe silver snowflake box containing the Amazon.com gift card was so pretty.  It was the perfect way to present the one gift everyone wants.",
           25
          ],
          [
           "Nice gift./n/nThe card is good quality and will make a nice gift for anyone.  Plenty of room to write inside the card as well.",
           -1
          ],
          [
           "Amazon $75 gift card review/n/nThe gift card for my brother-in-law worked out great!  We received it in a very timely manner and he loved it!!",
           -1
          ],
          [
           "What more can I say!/n/nGreat Christmas gift 🎁",
           125
          ],
          [
           "Five Stars/n/nThe recipients loved the gift card!!",
           -1
          ],
          [
           "Great Gift Idea/n/nSo I bought this as a gift and it was delivered in 2 days! They loved it and it was nice to see they had a selection of cards available. Easier than going to the restaurant to buy it!",
           25
          ],
          [
           "Graduation/n/nWhat’s there not to like about money<br />Okkkkkk my niece love Amazon what better gift",
           25
          ],
          [
           "Easy gift idea/n/nGave to my Siblings as Christmas gifts.  Who doesn't love an Amazon Gift Card!",
           25
          ],
          [
           "Such a Cute Pop-Up card!!!/n/nI love pop-up cards. This gift card holder features a Pop-Up Christmas Tree. Bright, bold colors. A cute surprise when it is opened. I gave this card to a fourteen-year-old girl. So cute!!!",
           50
          ],
          [
           "Came quickly./n/nCame quickly, makes a great birthday gift.",
           50
          ],
          [
           "Best gift card to buy!/n/nEveryone loves gift cards!",
           20
          ],
          [
           "Five Stars/n/nBabys happy",
           25
          ],
          [
           "Easiest gifts to give/n/nEasiest gift to give.",
           25
          ],
          [
           "Five Stars/n/nAlways a good gift",
           15
          ],
          [
           "Nice gift to receive. Then that person can buy for themselves./n/nGreat and easy way to give a gift. The Amazon card comes in a nice box ready to give as a gift. Nice gift to give for that someone you don't know what to buy them.",
           25
          ],
          [
           "... was a Christmas gift for my parents and they loved it!/n/nIt was a Christmas gift for my parents and they loved it!!!!",
           25
          ],
          [
           "Five Stars/n/nI really enjoy this packaging. Great gift for fellow amazon fanatics.",
           25
          ],
          [
           "Tins instead/n/nI like giving the gift cards in these tins instead of giving them in a card, they are really cute, and no extra cost-Perfect",
           25
          ],
          [
           "Gift cards are always great gifts!/n/nSent this to my sister for her anniversary and she was thrilled.  She said there was always something to be found on Amazon!",
           25
          ],
          [
           "Five Stars/n/nLove it.",
           25
          ],
          [
           "this is a giod item/n/nThis is a very good gift card as a birthday gift.",
           50
          ],
          [
           "Good deal on the price and fast shipping/n/nChristmas gift for boys that are driving and $3.95 was cheapest I could find that I could ship for free to Texax . Since I'm a last minute Christmas shopper. Would buy again  for sure!",
           28.95
          ],
          [
           "Five Stars/n/ngreat to send all over for a gift!",
           -1
          ],
          [
           "Great gift for my kids and older grandkids. All were happy and liked the cute pop-up!!/n/nIt was easy to order, and all family enjoyed their gift!!",
           25
          ],
          [
           "Great gift sent right to the individuals :-)/n/nBirthdays x 4 and everyone loved them including adults :-)",
           25
          ],
          [
           "works!/n/nits a gift card!!",
           50
          ],
          [
           "Cute Birthday Gift/n/nI bought this tin for a friend who loves Amazon and she commented about the cute birthday tin.  Definitely recommend it.",
           25
          ],
          [
           "Gift Card Boxes/n/nLove the color of the box!",
           -1
          ],
          [
           "Great gift/n/nThis was a quick easy purchase of five gifts. Love ordering from Amazon. However this was the first time I had a poor delivery. It states on line pkg handed to person. Not true I looked everywhere finally found it in the mailbox.",
           28.95
          ],
          [
           "Cute Design/n/nvery liftable",
           25
          ],
          [
           "Perfect gift!!!/n/nWhen you're sending gifts \"long distance\" this is perfect!!!",
           54.95
          ],
          [
           "nice presentation/n/nnice presentation",
           50
          ],
          [
           "came on time/n/ngift",
           50
          ],
          [
           "My granddaughter liked it/n/nLoved it!",
           -1
          ],
          [
           "to use correctly/n/nTo play nintendo switch games",
           20
          ],
          [
           "SUPER CUTE PACKAGING/n/nLove the container this gift card came in.  Very pleased!",
           -1
          ],
          [
           "Easy Peasy ~ great way to show appreciation/n/nEasy Peasy, user friendly ~ great way to show appreciation. Someone cn purchase whatever they want or need",
           25
          ],
          [
           "wonderful way to send a gift/n/nkids were excited",
           15
          ],
          [
           "Coffee addicts/n/nA great gift for the addicts.",
           40
          ],
          [
           "One Star/n/nlies",
           -1
          ],
          [
           "Five Stars/n/ngreat",
           100
          ],
          [
           "Good desl/n/nPerfect",
           -1
          ],
          [
           "Nice savings/n/nAlways nice to save $10  $50 for $40 was irresistible.",
           25
          ],
          [
           "Love the box!/n/nLove it!",
           -1
          ],
          [
           "... am a hamburger lover and Burger King is the best. We eat Whoppers 3 or 4 times a .../n/nI am a hamburger lover and Burger King is the best.  We eat Whoppers 3 or 4 times a week!",
           25
          ],
          [
           "Nice packaging!/n/nItem arrived as promised & the packaging is nice..",
           15
          ],
          [
           "Great gift/n/nLiked the cute ornament and used it for a gift",
           25
          ],
          [
           "Convenient/n/nBest and easiest gift. Love this option",
           25
          ],
          [
           "Five Stars/n/ngreat presentation :)",
           -1
          ],
          [
           "Five Stars/n/njust as expected",
           25
          ],
          [
           "The perfect gift./n/nPerfect gift easy, fast, no stress!",
           25
          ],
          [
           "Love it!/n/nWho doesn’t love a Banana Republic gift card! I bought it for a friend then decided to keep it for myself!",
           50
          ],
          [
           "Five Stars/n/nthese were perfect for my nieces and nephews.",
           -1
          ],
          [
           "Simple gift giving./n/nPerfect if you can't decided what gift to purchase.",
           25
          ],
          [
           "Great speed!/n/nI was shocked at how fast it got here! I ordered it coming home from work one night, chose the free shipping and was shocked to receive it the very next afternoon! Not much to say about the actual gift card because its just a gift card, but it was cute.",
           -1
          ],
          [
           "Clever Graduation Gift/n/nHad no idea what to get my niece for her high school graduation.  This clever item did the job.<br />She can always use an Amazon gift card.",
           25
          ],
          [
           "Soo cute/n/nSoo cute. Everyone loved them",
           50
          ],
          [
           "Five Stars/n/nThe design is cute, and the shipping is fast.",
           -1
          ],
          [
           "Five Stars/n/nGreat Christmas gift!",
           50
          ],
          [
           "Quick and easy/n/nThis arrived quickly and was exactly what my nephew wanted.",
           79.99
          ],
          [
           "Five Stars/n/nEasy to use and great gift for friends.",
           50
          ],
          [
           "Great gift/n/nEasy to use.",
           25
          ],
          [
           "Cute Gift Card/n/nCute gift card, my daughter loved it.",
           -1
          ],
          [
           "Amazon is number one/n/nGood idea for present",
           20
          ],
          [
           "Five Stars/n/nYou can buy stuff. On amazon. So there's that.",
           -1
          ],
          [
           "Excellent, fun, reuseable/n/nExcellent, fun, reuseable",
           25
          ],
          [
           "Great card/n/nWho doesn’t love the Amazon gift card ?  Hard to criticize this one.",
           -1
          ],
          [
           "This is not good!/n/nThe gift card that was supposed to be delivered on the 15th is still traveling around according to tracking number. I have had no luck contacting the company for help!",
           10
          ],
          [
           "When you don’t know what to get a teenager./n/nEasy gift for teen ager.",
           25
          ],
          [
           "Does not have an area to write a message./n/nAmazon missed the mark. Last minute purchase for Mother's Day and was surprised that it's not a card. Even the back is printed and hard to write on.",
           15
          ],
          [
           "Great gift!/n/nBought during cyber Monday amazing deal!",
           25
          ],
          [
           "Amazon gift cards are always nice/n/nBought these as gifts for people who use amazon. It is nice that you can get gift cards for people and they can get whatever they want.",
           10
          ],
          [
           "confused about this $50 gift card came as two cards is it $25 for $50 did not want $25/n/nconfused about this $50 gift card came as two cards is it $25 for $50 did not want $25",
           50
          ],
          [
           "Five Stars/n/nBest service!",
           25
          ],
          [
           "Choices/n/nI sent this to my sister for Christmas! She was so thrilled!!! It’s great because there are choices! You know they will find a restaurant to use it at!!",
           25
          ],
          [
           "Good purchase/n/nBought for my son in law.  He liked it.",
           25
          ],
          [
           "Five Stars/n/nAlways good",
           20
          ],
          [
           "Did not receive!/n/nMy nephew did not receive his gift card. He was home but he did not receive it. What can I  do?",
           25
          ],
          [
           "Five Stars/n/nNothing to not like. Every thing was great. Process worked easy. Arrived in great shape",
           10
          ],
          [
           "Five Stars/n/nThese gift cards arrived sooner then expected",
           50
          ],
          [
           "Five Stars/n/nThe art was beautiful! Loved it.",
           15
          ],
          [
           "Very Cute/n/nCame shortly after ordering and cute graphic.",
           25
          ],
          [
           "Was perfect/n/nWas just as advertised",
           -1
          ],
          [
           "Five Stars/n/nPerfect",
           25
          ],
          [
           "Easy purchase/n/nAs expected 🤷‍♀️",
           -1
          ],
          [
           "Five Stars/n/nThis was a gift",
           -1
          ],
          [
           "Perfect birthday gift!/n/nGift card is great and just what I wanted for a friend's birthday gift.  Amazon saved me a trip to the store or restaurant and gift card arrived in a couple of days.  Love it!!",
           50
          ],
          [
           "handy gift/n/nclever little gift box",
           50
          ],
          [
           "Welcome gift saves my neck each Christmas/n/nAlways a welcome gift.",
           -1
          ],
          [
           "Five Stars/n/nJordyn loved it!!",
           50
          ],
          [
           "Fast shipping!/n/nWhat do you say? It's a gift card. Ridiculously fast shipping.",
           25
          ],
          [
           "its fast and easy/n/ni liked the gift box choices and that they were complimentary",
           25
          ],
          [
           "Convenient - didn't have to go to the store/n/nPurchased for a friend who loves this store.",
           50
          ],
          [
           "Amazon Gift Card/n/nAmazon gift cards are always a fine birthday gift.  As a &#34;senior&#34; citizen it's difficult for me to get out to shop anymore and a gift card from Amazon is always welcomed.",
           -1
          ],
          [
           "Easy gifts, giveaways, or prizes./n/nSuch an easy thing to use for prizes or gifts.",
           10
          ],
          [
           "Very pretty gift box for Amazon gift card./n/nYes, its an Amazon gift card, no surprises there, but the gift box, with the bow, is very pretty. My niece loved it.",
           20
          ],
          [
           "Five Stars/n/nFun way to give a gift card to an avid reader.",
           -1
          ],
          [
           "Five Stars/n/nGreat!",
           -1
          ],
          [
           "Five Stars/n/nConvenient and useful gift for out of towners",
           -1
          ],
          [
           "Great, useful gift idea!/n/nEase of purchasing and received quickly.",
           20
          ],
          [
           "great graduation gifts/n/nused these for gifts for graduation parties. Perfect amount and nice option instead of cash",
           -1
          ],
          [
           "Great gift/n/nMakes a great gift idea!",
           25
          ],
          [
           "Everyone just about since COVID hit us is shopping on line, more and more./n/nEasy decision on my difficult people to buy presents for! Quick, easy.",
           25
          ],
          [
           "How can you beat a gift card?/n/nEspecially if that gift card is for yourself.",
           -1
          ],
          [
           "Cute for Christmas/n/nLove these to give gift cards at Christmas.",
           25
          ],
          [
           "Five Stars/n/nVery good and thanks because I received on time.",
           -1
          ],
          [
           "Pretty/n/nSo much fun and beautiful cards my girl loved the style and colors",
           -1
          ],
          [
           "Five Stars/n/ngreat ITEM ARRIVED AS DESCRIBED ON TIME",
           50
          ],
          [
           "An impressive, no fuss gift/n/nLiked how the gift-card was already in a gif table box, easy to use by the recipient and an easy gift anyone would be very happy to get!!",
           15
          ],
          [
           "Good gift!/n/nMy son got a kick out of it!",
           25
          ],
          [
           "Original/n/nThese are the best gifts to give the book lover in your life.",
           -1
          ],
          [
           "Five Stars/n/nGreat  gift!!!",
           100
          ],
          [
           "Always Appreciated/n/nEasy, appreciated gift for new parents who got everything on their registry - ongoing needs a d forgotten items can be covered.",
           25
          ],
          [
           "Great gift card/n/nI gave the card as a gift to some friends  they can use it for whatever they want.",
           28.95
          ],
          [
           "Quick and easy/n/nEasy gift",
           25
          ],
          [
           "Five Stars/n/nit good to use. can I get a receipts from you if you don't mine thank-u",
           -1
          ],
          [
           "Seriously people/n/nFor the people that ordered different denominations  on their gift cards, it's very simple to figure out which is which.  Amazon includes an invoice that has each card listed with the serial number and amount.  Just match them up!",
           25
          ],
          [
           "Super cute!/n/nThe quality was better than I hoped for. I was super excited to give to my cousin.",
           25
          ],
          [
           "Easiest gift cards ever!/n/nI buy these for my team members, I buy 10 at a time and I buy the egift ones and send by text!",
           -1
          ],
          [
           "Great gift/n/nGreat gift",
           50
          ],
          [
           "Great deal!!!/n/nGreat deal. I use it during Express clearance sale. I got two pair of pants and a shirt, normally $50 can barely got me a pair. Awesome deal.",
           25
          ],
          [
           "Five Stars/n/nVery pretty packaging! My sister loved it.",
           50
          ],
          [
           "Five Stars/n/nReally? They asked me to review a gift card?",
           20
          ],
          [
           "Five Stars/n/nThank you Amazon for ensuring the replacement  cards made!  I so appreciate it",
           25
          ],
          [
           "It's a gift card/n/nIt's a gift card. What is there to say about that. It works fine and the box is cute. That's all.",
           -1
          ],
          [
           "Never again/n/nCards were no good",
           25
          ],
          [
           "Five Stars/n/nNothing to say really I am always very happy to receive a gift card as a present.<br />]",
           -1
          ],
          [
           "Giftable commodity/n/nThis is an excellent choice for a partner, friends, and family! Thank you, the gift arrived on time.",
           50
          ],
          [
           "Five Stars/n/ngiven to someone as a gift",
           50
          ],
          [
           "Gift cards work.../n/nThe gift card was used as a gift and worked great",
           -1
          ],
          [
           "Easy way to send a gift./n/nI send my grandchildren gift cards at holiday time.  They are always happy to receive them in a cute little gift box.  They love choosing their own special gift.  Makes it easy for me and happy for them.",
           25
          ],
          [
           "Great way to gift/n/nEasy and perfect gifts!",
           -1
          ],
          [
           "Cute bsg/n/nVery cute bag for the gift card",
           -1
          ],
          [
           "Wonderful gifts/n/nThe cards arrived earlier than expected and looked really nice with the yellow bow and the printed gift box.  These cards are easy to give as gifts because the denominations are flexible not pre-determined.",
           -1
          ],
          [
           "Five Stars/n/nAll as expected",
           -1
          ],
          [
           "cute box/n/nits a gift card.  it's wrapped in a fancy box!  what else do you need?!  it's the perfect gift!",
           25
          ],
          [
           "Amazing! Awesome! Super! Gift Cards! Yay!/n/nThese were amazing!<br />Absolutely everything I thought they would be.<br />They are like the kings of gift cards!",
           -1
          ],
          [
           "Works/n/nIt's a gift card, pretty straightforward",
           25
          ],
          [
           "It was good/n/nIt was good",
           50
          ],
          [
           "Five Stars/n/nWho doesn't like free money",
           -1
          ],
          [
           "As expected/n/nCame just as expected. Also was activated and ready to use",
           25
          ],
          [
           "No need to wrap!/n/nVery nice, colorful, heavy-duty, reusable tin.",
           25
          ],
          [
           "The $150 amazon gift card/n/nI received the $150 amazon gift card and I love it!! There is so much stuff to buy on this website. I recommend this to anyone! The only thing that I do not like about amazon is that the shipping and handling is a little pricey but it's worth it because you are saving money when that extra money would have been spent on the same item in the store.",
           25
          ],
          [
           "Enjoyed it.../n/nIt was a pleasant gift to the other party. They we pleased and enjoyed it! Thanks Amazon for saving us time and fuel once again!",
           50
          ],
          [
           "The Card is Papery Thin/n/nI wish this card had a real card like thickness like a normal gift card. The gift card I received was thin like newspaper. It feels CHEAP when you already feel kind of tacky for giving a gift card. I think next time I will just stop by a grocery store instead of ordering online.",
           -1
          ],
          [
           "Best last minute gift ever/n/nI have used this for last minute gifts many times, and will continue to do so",
           25
          ],
          [
           "Love love this book/n/nI love this book! Give 5 stars",
           -1
          ],
          [
           "Five Stars/n/nexcellent item, quick delivery",
           25
          ],
          [
           "Five Stars/n/nMy grandchildren will love this gift card, plus it is such a nice box!<br />Thank You,  Sidney",
           -1
          ],
          [
           "nice packaging for Holidays!/n/nperfect Christmas gift for someone loves Amazon!",
           25
          ],
          [
           "Such a great resturant. Card came in handy for little extra .../n/nUsed at Seasons52.<br />Such a great resturant.<br />Card came in handy for little extra spending on birthday occasion.",
           -1
          ],
          [
           "Loved being able to purchase gift card to Old navy .../n/nLoved being able to purchase gift card to Old navy without driving to get it.  Made Christmas shopping even easier.",
           25
          ],
          [
           "Money card/n/nEasy gift",
           10
          ],
          [
           "Five Stars/n/nKinda hard to write a review about a gift card...",
           25
          ],
          [
           "Get a free greeting card, you're welcome/n/nThank you for giving me an adorable card to put my gc in. SCORE!",
           -1
          ],
          [
           "Amazon Gift cards are the best. So easy and the super cute packaging is .../n/nAmazon Gift cards are the best. So easy and the super cute packaging is so awesome. Safes money and time because there is no need to buy additional wrapping or packaging for the gift card",
           25
          ],
          [
           "Very Cute/n/nThis of course was a gift.  The little Amazon Box is just adorable.  The person loved the box.  This will be the only way I will order an Amazon Gift Card.",
           25
          ],
          [
           "Great gift/n/nCute card holder",
           20
          ],
          [
           "Five Stars/n/nVery classy design.",
           20
          ],
          [
           "So cute!/n/nLove!",
           25
          ],
          [
           "Sought After Gift/n/nAmazon gift cards are easy to buy, whether electronic or actual card, and easy to redeem.  Additionally they are always appreciated.",
           20
          ],
          [
           "Five Stars/n/nGreat gift",
           -1
          ],
          [
           "Works at GME site/n/nWorks at GME site.",
           25
          ],
          [
           "Good./n/nEasy. Works.",
           25
          ],
          [
           "Great/n/nGreat coworker gifts",
           30
          ],
          [
           "Perfect shower gift/n/nA present for my daughter's shower. The couple was very happy to receive it. I felt a bit bad not being able to \"handle\" it, but that's the modern way",
           20
          ],
          [
           "Five Stars/n/ngift",
           20
          ],
          [
           "Great gift/n/nGift for family",
           50
          ],
          [
           "Very cute and very easy!!/n/nIt came in a cute card holder which was very clever...the card it self was so cute.",
           -1
          ],
          [
           "xmas18/n/ngift - fast service",
           10
          ],
          [
           "Perfect gift/n/nAlways the right size lol. Who doesn’t love a gift card. Allow that special someone to get what they really want.",
           25
          ],
          [
           "Great stocking stuffer/n/nMy son and his girlfriend really enjoyed this gift to their favorite restaurant.",
           50
          ],
          [
           "Quick gift/n/nEasy, quick gift! Came within a day.",
           75
          ],
          [
           "Fun package/n/nA darling little container for a gift card! Looks just like bubble packaging! So cute!",
           25
          ],
          [
           "Best gift for a 12 year old boy/n/nI got this for my 12 year old cousin for Christmas. When he unwrapped it he went crazy! The very next day he begged his mom to take him! I give this 5 stars!",
           25
          ],
          [
           "So easy/n/nMy sister loved her gift. Even though we're miles away, it's really nice to be able to give her something nice.",
           28.95
          ],
          [
           "Gift Card/n/nThey loved that they can get whatever they want!",
           25
          ],
          [
           "Five Stars/n/nGreat and elegant presentation!",
           -1
          ],
          [
           "Fast shipping and looks very nice./n/nThis gift card looks very pretty I. The red packaging. It arrived fast too.",
           20
          ],
          [
           "Great gift/n/nPerfect for holidays",
           25
          ],
          [
           "Five Stars/n/nThey loved it",
           -1
          ],
          [
           "Great birthday gift!/n/nIt’s a wonderful gift that slips into a card. Nicer than just the gift card itself!",
           10
          ],
          [
           "Amazon does not knot how to handle a gift card and never has./n/nIt was a gift for my wife and she was totally unable to use it for two weeks.  She hassled with Amazon and got no answer from them.  I left home to travel to a city 1000 miles away and left it for her to claim that same day.  She wasn't able to use it until I got home to fight with amazon reps to release the card so she could use it.  I was gone on  business for over a week.  Thus the GIFT CARD  I LEFT TO MAKE HER HAPPY  MADE HER FRUSTRATED AND ANGRY INSTEAD.",
           20
          ],
          [
           "Such a deal, try it you’ll like it! It’ll save you time also./n/nGreat for handing out Olive Garden gift cards to family for presents. It’s a great place to eat also, never had a bad meal there! Been there hundreds of times in different cities across America.",
           60
          ],
          [
           "Five Stars/n/nPerfect for hard to buy people. Life saver",
           25
          ],
          [
           "Five Stars/n/nDaughter in-law loved the Christmas gift",
           -1
          ],
          [
           "A gift that they love./n/nWe got these as teacher gifts.<br />What teacher doesn’t have an Amazon wishlist?",
           10
          ],
          [
           "Five Stars/n/nit was presented so beautiful",
           -1
          ],
          [
           "Five Stars/n/nItem arrived and put to good use right away.",
           25
          ],
          [
           "We live far away and easy t mgive a present/n/nI did send to my brother son wife that just have a baby and I do not know what she need now she can buy any thing she need or like.",
           10
          ],
          [
           "Works/n/nWorked at adidas outlet!",
           50
          ],
          [
           "Christmas for the Vendor made easy/n/nAmazon gift cards made beautiful...the box is almost aa neat as the Amazon money",
           20
          ],
          [
           "Great buy/n/nI received it on time. Only thing is security code is confusing. It is at the bottom border of the card.",
           50
          ],
          [
           "Five Stars/n/nnice packaging. Perfect for a man's gift",
           -1
          ],
          [
           "Great gift/n/nExcellent gift for teenage granddaughter",
           -1
          ],
          [
           "Great design/n/nGave this as a White Elephant gift and it was a big hit.  The design was eye catching",
           -1
          ],
          [
           "Easy, simple but cute/n/nEasy, simple, and cute gift card. Case came with the gift card so added bonus.",
           25
          ],
          [
           "Five Stars/n/nlove it",
           -1
          ],
          [
           "Five Stars/n/nPerfect for gift giving!!!",
           75
          ],
          [
           "ChesseCake Lover/n/nI Love these Gift cards I am addicted to Cheesecake",
           45
          ],
          [
           "Amazon gift cards/n/nThe amazon gift cards are perfect holiday gifts for co-workers and colleagues.  They were greatly appreciated by all who received them.",
           -1
          ],
          [
           "Real nice/n/nCame with birthday card holder.  Makes it nice.",
           15
          ],
          [
           "Adorable packaging made this graduation gift a hit with the .../n/nAdorable packaging made this graduation gift a hit with the recipient. A nice way to turn an ordinary gift card into something special.",
           25
          ],
          [
           "Delivery of gift card/n/nThe product is fine but when it was delivered it was left at edge of porch and wind blew it into front yard near pedestrian sidewalk so that was disturbing. Needs to be weighted down when delivering outside. Thank you.",
           25
          ],
          [
           "Good Choice!!/n/nQuick and easy to use and met my every need.",
           25
          ],
          [
           "Awesome Gift/n/nGood one to gift",
           50
          ],
          [
           "Five Stars/n/nGreat deal!",
           200
          ],
          [
           "Great Gift/n/nPerfect gift for someone difficult to buy for!",
           25
          ],
          [
           "Five Stars/n/nIs as I expected.",
           -1
          ],
          [
           "Five Stars/n/nGreat!",
           10
          ],
          [
           "Great gift/n/nGreat gift",
           25
          ],
          [
           "Time saver/n/nLove that I can get gift cards sent to me know. Such a Time saver.",
           25
          ],
          [
           "its a gift card/n/nit works",
           125
          ],
          [
           "Great new package!/n/nI loved the new package, easier to send out to friends.",
           20
          ],
          [
           "It is a gift card./n/nIt is a gift card to Red Lobster...what else is there to say?",
           50
          ],
          [
           "Picky people!/n/nPerfect gift for picky people, especially the younger generation!",
           20
          ],
          [
           "Would buy it again/n/nQuick delivery, and exactly as described. Great buy.",
           25
          ],
          [
           "Loved it/n/nVery cute for any age!",
           20
          ],
          [
           "Five Stars/n/nGreat gift",
           20
          ],
          [
           "Good/n/nNothing amazing it got here on time",
           25
          ],
          [
           "Novel way to Give/n/nWhat a novel way to give a very coveted gift.  And the speed with which it came can only be described as Awesome.",
           -1
          ],
          [
           "Five Stars/n/nLoved it",
           -1
          ],
          [
           "Great/n/nYou can't really go wrong with gift cards can you? Makes everyone happy, and people can get what they want!",
           -1
          ],
          [
           "You get what's advertised/n/nIt is what it says",
           50
          ],
          [
           "Five Stars/n/nexcellent",
           50
          ],
          [
           "Love the load card and shop til you drop!/n/nAlways a welcomed gift!",
           10
          ],
          [
           "Perfect Christmas 🎁/n/nPerfect!  Will be giving it to one of my daughters for Christmas!",
           10
          ],
          [
           "Free tin with Gift Card/n/nThe Cupcake tin is so cute, I am going to use it for other things when I use the giftcard.<br /><br />THey are also really neat for giving someone a gift, they will think you spent good money on them just for the tin alone.",
           25
          ],
          [
           "Fast Shipping Great Product/n/nJust what I needed for Christmas stocking stuffer!",
           50
          ],
          [
           "Five Stars/n/n$50 gift card with an extra $10 credit!",
           -1
          ],
          [
           "Grabbed one at 42.5 sale/n/nReceived in time and best value at 42.5",
           50
          ],
          [
           "I don’t need a gift card for hearing aids. I don’t have a hearing oroblem/n/nI am disappointed I thought I was getting a gift card that I could purchase anything I wanted or needed. I don’t need a gift card for hearing aids. I do not have any hearing problems",
           105.95
          ],
          [
           "Multi-use/n/nThese make such a great gift in their little envelope that you can write a note on. I love them for my son’s teachers, OT & SLP therapists, and bus drivers.",
           10
          ],
          [
           "Eat Fresh!/n/nas expected?",
           50
          ],
          [
           "Easy to monitor its arrival for an Xmas gift for out of state family./n/nEasier to monitor arrival for family out of state and last minute decision of gift direction.",
           50
          ],
          [
           "Perfect gift/n/nPerfect gift for my teenage niece who lives far away.",
           54.95
          ],
          [
           "Gift card/n/nWhat can I say about gift cards.  I guessed the user was able to buy products with it without using credit card?",
           -1
          ],
          [
           "Love It!!/n/nGreat as a birthday gift...I'm sure it's all been spent/",
           25
          ],
          [
           "Five Stars/n/nas promised.",
           -1
          ],
          [
           "Exactly what I wanted/n/nI needed gift cards for a holiday party. Love these, and with the box, it's ready to go!",
           25
          ],
          [
           "high quality. USA. Fair Internet price./n/nhigh quality. USA. Fair Internet price.",
           25
          ],
          [
           "Five Stars/n/nGood quality product, GOOD price & fast service and serves me as expected!",
           20
          ],
          [
           "Let the new graduate decide on the gift./n/nI love the ease of purchasing gift cards and sending them.  You have a wonderful selection of cards at a wide price range.  Especially useful to have since we aren't meeting face to face right now.",
           25
          ],
          [
           "Great/n/nLove",
           25
          ],
          [
           "Great gift idea!/n/nThe recipient certainly enjoyed this gift!",
           45
          ],
          [
           "Five Stars/n/nMakes nice present",
           -1
          ],
          [
           "Five Stars/n/nWhat could be wrong with Cold Stone Creamery Gift Cards...very well received.",
           30
          ],
          [
           "Five Stars/n/nThe perfect gift!",
           50
          ],
          [
           "Great gift/n/nNice little tins!",
           25
          ],
          [
           "works as promised/n/nCame quickly, works as promised.",
           100
          ]
         ],
         "hovertemplate": "Outlier=False<br>rating=%{x}<br>sentiment_score=%{y}<br>text_review=%{customdata[0]}<br>price=%{customdata[1]}<br>Cluster=%{marker.color}<extra></extra>",
         "legendgroup": "False",
         "marker": {
          "color": [
           9,
           9,
           9,
           9,
           9,
           9,
           9,
           9,
           9,
           9,
           0,
           9,
           9,
           9,
           9,
           9,
           9,
           9,
           9,
           9,
           9,
           9,
           9,
           9,
           9,
           9,
           9,
           9,
           9,
           9,
           9,
           9,
           9,
           9,
           9,
           9,
           9,
           9,
           9,
           0,
           9,
           9,
           9,
           9,
           9,
           9,
           9,
           9,
           9,
           9,
           9,
           9,
           9,
           9,
           9,
           9,
           9,
           9,
           9,
           9,
           9,
           9,
           9,
           9,
           9,
           9,
           9,
           9,
           9,
           9,
           9,
           9,
           9,
           9,
           9,
           9,
           9,
           9,
           9,
           1,
           9,
           9,
           9,
           9,
           9,
           6,
           9,
           9,
           9,
           9,
           9,
           9,
           9,
           9,
           9,
           9,
           2,
           9,
           9,
           9,
           9,
           9,
           9,
           9,
           9,
           9,
           9,
           9,
           9,
           9,
           9,
           9,
           9,
           7,
           9,
           9,
           9,
           9,
           9,
           9,
           9,
           9,
           9,
           9,
           9,
           9,
           9,
           9,
           8,
           9,
           9,
           9,
           9,
           9,
           9,
           9,
           9,
           9,
           9,
           9,
           9,
           9,
           9,
           9,
           9,
           9,
           9,
           9,
           9,
           9,
           9,
           9,
           9,
           9,
           9,
           9,
           9,
           9,
           9,
           9,
           9,
           9,
           9,
           9,
           9,
           9,
           9,
           9,
           9,
           9,
           9,
           9,
           9,
           9,
           9,
           9,
           9,
           9,
           9,
           9,
           9,
           9,
           9,
           9,
           9,
           9,
           9,
           9,
           9,
           9,
           9,
           9,
           9,
           9,
           9,
           9,
           9,
           9,
           9,
           9,
           9,
           9,
           9,
           9,
           9,
           9,
           9,
           9,
           9,
           9,
           9,
           9,
           9,
           9,
           9,
           9,
           9,
           9,
           9,
           9,
           9,
           9,
           9,
           9,
           8,
           9,
           9,
           9,
           9,
           9,
           9,
           9,
           9,
           9,
           9,
           9,
           9,
           9,
           9,
           9,
           9,
           9,
           9,
           9,
           9,
           9,
           9,
           9,
           9,
           9,
           9,
           9,
           9,
           9,
           9,
           9,
           9,
           9,
           9,
           9,
           9,
           9,
           9,
           9,
           9,
           9,
           9,
           9,
           9,
           9,
           9,
           9,
           9,
           9,
           9,
           9,
           9,
           9,
           9,
           9,
           9,
           6,
           9,
           9,
           9,
           9,
           9,
           9,
           9,
           9,
           9,
           9,
           9,
           9,
           9,
           9,
           9,
           9,
           9,
           9,
           9,
           9,
           9,
           9,
           9,
           9,
           9,
           3,
           9,
           9,
           9,
           9,
           9,
           9,
           9,
           9,
           9,
           9,
           8,
           9,
           9,
           9,
           9,
           9,
           9,
           9,
           10,
           9,
           9,
           9,
           9,
           9,
           9,
           9,
           9,
           9,
           9,
           9,
           9,
           9,
           9,
           9,
           9,
           9,
           9,
           9,
           9,
           9,
           9,
           9,
           9,
           9,
           9,
           9,
           9,
           9,
           9,
           9,
           9,
           2,
           9,
           9,
           9,
           9,
           9,
           9,
           9,
           9,
           9,
           9,
           2,
           9,
           9,
           9,
           9,
           9,
           9,
           9,
           9,
           9,
           9,
           9,
           9,
           9,
           9,
           9,
           9,
           9,
           9,
           9,
           9,
           9,
           9,
           9,
           9,
           9,
           9,
           9,
           2,
           9,
           9,
           9,
           9,
           9,
           9,
           8,
           0,
           9,
           9,
           9,
           9,
           9,
           9,
           9,
           9,
           9,
           9,
           9,
           9,
           9,
           9,
           9,
           9,
           9,
           9,
           9,
           9,
           9,
           9,
           9,
           9,
           9,
           9,
           9,
           9,
           9,
           9,
           9,
           9,
           9,
           9,
           9,
           9,
           9,
           9,
           9,
           9,
           9,
           9,
           9,
           9,
           9,
           9,
           9,
           9,
           9,
           9,
           9,
           9,
           9,
           9,
           9,
           9,
           9,
           9,
           9,
           9,
           9,
           9,
           9,
           9,
           9,
           9,
           9,
           9,
           9,
           9,
           9,
           8,
           9,
           9,
           9,
           9,
           9,
           9,
           9,
           9,
           7,
           9,
           9,
           9,
           9,
           9,
           9,
           9,
           9,
           9,
           9,
           9,
           9,
           9,
           9,
           9,
           9,
           9,
           9,
           9,
           9,
           9,
           9,
           9,
           9,
           9,
           9,
           9,
           9,
           9,
           9,
           9,
           9,
           9,
           9,
           10,
           9,
           9,
           9,
           9,
           9,
           9,
           9,
           9,
           9,
           9,
           9,
           9,
           9,
           9,
           10,
           9,
           9,
           9,
           9,
           9,
           9,
           9,
           9,
           9,
           9,
           4,
           9,
           9,
           9,
           9,
           8,
           9,
           9,
           9,
           9,
           9,
           9,
           9,
           9,
           9,
           9,
           9,
           9,
           9,
           9,
           9,
           9,
           9,
           9,
           9,
           9,
           9,
           9,
           9,
           9,
           5,
           9,
           9,
           9,
           9,
           9,
           9,
           9,
           9,
           9,
           9,
           9,
           9,
           9,
           9,
           9,
           9,
           9,
           9,
           9,
           9,
           9,
           9,
           9,
           9,
           9,
           9,
           9,
           9,
           9,
           5,
           9,
           9,
           9,
           9,
           8,
           9,
           9,
           9,
           9,
           4,
           9,
           9,
           9,
           9,
           9,
           9,
           9,
           9,
           9,
           9,
           9,
           9,
           1,
           9,
           9,
           9,
           9,
           9,
           9,
           9,
           9,
           9,
           9,
           9,
           9,
           9,
           9,
           9,
           9,
           9,
           6,
           9,
           9,
           9,
           9,
           9,
           9,
           6,
           9,
           9,
           9,
           9,
           9,
           9,
           9,
           9,
           9,
           9,
           9,
           9,
           9,
           3,
           9,
           9,
           9,
           9,
           9,
           9,
           9,
           9,
           9,
           9,
           9,
           9,
           9,
           9,
           9,
           9,
           9,
           9,
           9,
           9,
           9,
           9,
           9,
           9,
           9,
           9,
           9,
           9,
           9,
           9,
           9,
           9,
           9,
           9,
           9,
           9,
           9,
           9,
           9,
           9,
           9,
           3,
           9,
           9,
           9,
           9,
           9,
           9,
           9,
           9,
           9,
           9,
           9,
           9,
           9,
           9,
           9,
           9,
           9,
           9,
           9,
           9,
           9,
           9,
           9,
           9,
           9,
           9,
           9,
           5,
           9,
           9,
           9,
           9,
           8,
           9,
           9,
           9,
           9,
           8,
           9,
           9,
           9,
           9,
           9,
           9,
           9,
           9,
           9,
           9,
           9,
           9,
           9,
           9,
           9,
           9,
           9,
           9,
           9,
           9,
           9,
           9,
           9,
           9,
           9,
           9,
           9,
           9,
           9,
           9,
           9,
           9,
           9,
           9,
           9,
           9,
           9,
           9,
           9,
           9,
           9,
           9,
           9,
           9,
           9,
           9,
           9,
           3,
           9,
           9,
           9,
           9,
           9,
           9,
           9,
           9,
           9,
           9,
           9,
           9,
           9,
           9,
           9,
           9,
           9,
           9,
           9,
           9,
           9,
           9,
           9,
           9,
           9,
           9,
           9,
           9,
           9,
           9,
           9,
           9,
           9,
           9,
           9,
           9,
           9,
           9,
           9,
           9,
           9,
           9,
           9,
           9,
           9,
           9,
           9,
           9,
           9,
           9,
           9,
           9,
           9,
           9,
           9,
           9,
           10,
           9,
           9,
           9,
           9,
           9,
           9,
           9,
           9,
           9,
           9,
           9,
           9,
           9,
           9,
           9,
           9,
           9,
           9,
           9,
           9,
           8,
           9,
           9,
           2,
           9,
           9,
           9,
           9,
           9,
           9,
           9,
           9,
           9,
           9,
           9,
           9,
           9,
           9,
           9,
           9,
           9,
           9,
           9,
           9,
           9,
           9,
           9,
           9,
           1,
           9,
           9,
           9,
           9,
           9,
           9,
           9,
           9,
           9,
           9,
           9,
           9,
           9,
           9,
           9,
           9,
           9,
           9
          ],
          "coloraxis": "coloraxis",
          "opacity": 0.8,
          "size": 6,
          "symbol": "circle"
         },
         "mode": "markers",
         "name": "False",
         "orientation": "v",
         "showlegend": true,
         "type": "scatter",
         "x": [
          5,
          5,
          5,
          5,
          4,
          5,
          5,
          5,
          4,
          5,
          1,
          5,
          5,
          4,
          5,
          5,
          5,
          5,
          3,
          5,
          5,
          5,
          5,
          5,
          5,
          5,
          5,
          5,
          5,
          5,
          5,
          5,
          5,
          5,
          5,
          5,
          4,
          5,
          5,
          1,
          5,
          5,
          5,
          4,
          5,
          5,
          5,
          4,
          5,
          5,
          5,
          5,
          5,
          5,
          5,
          5,
          5,
          5,
          5,
          5,
          5,
          4,
          5,
          5,
          5,
          5,
          5,
          5,
          5,
          5,
          5,
          5,
          5,
          5,
          5,
          5,
          5,
          5,
          5,
          1,
          5,
          5,
          5,
          5,
          5,
          1,
          5,
          5,
          5,
          5,
          5,
          5,
          5,
          5,
          5,
          5,
          5,
          5,
          1,
          5,
          5,
          5,
          5,
          5,
          5,
          5,
          5,
          5,
          5,
          5,
          5,
          5,
          5,
          2,
          5,
          5,
          5,
          5,
          5,
          5,
          5,
          5,
          5,
          5,
          4,
          5,
          5,
          5,
          2,
          5,
          5,
          5,
          5,
          5,
          5,
          5,
          5,
          5,
          5,
          5,
          5,
          5,
          5,
          5,
          5,
          5,
          5,
          5,
          1,
          5,
          5,
          5,
          4,
          5,
          5,
          5,
          5,
          5,
          5,
          5,
          5,
          5,
          5,
          4,
          5,
          5,
          5,
          5,
          5,
          5,
          5,
          5,
          5,
          5,
          5,
          5,
          5,
          5,
          5,
          5,
          5,
          5,
          5,
          5,
          4,
          5,
          5,
          4,
          5,
          5,
          5,
          5,
          5,
          5,
          5,
          5,
          5,
          5,
          5,
          5,
          5,
          5,
          5,
          5,
          5,
          5,
          5,
          5,
          5,
          5,
          5,
          5,
          5,
          5,
          5,
          5,
          5,
          3,
          5,
          5,
          5,
          5,
          5,
          5,
          1,
          5,
          5,
          5,
          5,
          5,
          3,
          5,
          5,
          5,
          5,
          5,
          5,
          5,
          3,
          5,
          5,
          5,
          5,
          5,
          5,
          5,
          5,
          5,
          5,
          5,
          5,
          5,
          5,
          5,
          5,
          5,
          5,
          5,
          5,
          5,
          5,
          5,
          5,
          5,
          5,
          5,
          5,
          5,
          5,
          4,
          5,
          5,
          5,
          5,
          5,
          5,
          5,
          5,
          5,
          5,
          5,
          1,
          5,
          5,
          4,
          5,
          5,
          5,
          5,
          5,
          5,
          5,
          5,
          5,
          5,
          5,
          5,
          5,
          5,
          5,
          5,
          5,
          5,
          5,
          5,
          5,
          5,
          1,
          4,
          5,
          5,
          5,
          5,
          5,
          5,
          5,
          5,
          5,
          2,
          4,
          5,
          5,
          5,
          4,
          5,
          5,
          1,
          5,
          5,
          5,
          5,
          5,
          5,
          5,
          5,
          5,
          5,
          5,
          5,
          5,
          4,
          5,
          5,
          5,
          5,
          5,
          5,
          5,
          5,
          5,
          5,
          5,
          5,
          5,
          5,
          5,
          5,
          5,
          5,
          5,
          5,
          5,
          5,
          5,
          5,
          5,
          5,
          5,
          5,
          5,
          5,
          5,
          5,
          5,
          5,
          5,
          5,
          5,
          5,
          5,
          5,
          5,
          5,
          5,
          5,
          5,
          3,
          5,
          5,
          5,
          5,
          5,
          5,
          5,
          5,
          5,
          5,
          5,
          5,
          5,
          5,
          5,
          4,
          5,
          5,
          1,
          1,
          5,
          5,
          5,
          5,
          5,
          5,
          3,
          5,
          5,
          5,
          5,
          5,
          5,
          5,
          5,
          5,
          5,
          5,
          5,
          5,
          5,
          5,
          5,
          5,
          5,
          5,
          5,
          5,
          5,
          5,
          5,
          5,
          5,
          5,
          5,
          5,
          5,
          5,
          5,
          5,
          5,
          5,
          5,
          5,
          5,
          5,
          5,
          5,
          5,
          5,
          5,
          5,
          5,
          5,
          5,
          5,
          5,
          5,
          5,
          5,
          5,
          5,
          4,
          5,
          5,
          5,
          5,
          5,
          5,
          5,
          5,
          1,
          5,
          5,
          5,
          5,
          5,
          5,
          5,
          5,
          1,
          5,
          5,
          5,
          5,
          5,
          5,
          5,
          5,
          5,
          5,
          5,
          5,
          5,
          5,
          5,
          5,
          5,
          5,
          5,
          5,
          5,
          5,
          5,
          5,
          5,
          5,
          5,
          5,
          5,
          5,
          5,
          5,
          5,
          5,
          1,
          5,
          5,
          5,
          5,
          5,
          5,
          5,
          5,
          5,
          5,
          5,
          5,
          5,
          1,
          1,
          5,
          5,
          5,
          5,
          5,
          5,
          5,
          5,
          5,
          5,
          2,
          5,
          5,
          5,
          5,
          1,
          5,
          5,
          5,
          5,
          5,
          5,
          5,
          5,
          5,
          5,
          5,
          5,
          5,
          5,
          4,
          5,
          5,
          5,
          5,
          5,
          5,
          5,
          5,
          5,
          2,
          5,
          5,
          3,
          5,
          5,
          5,
          5,
          5,
          5,
          5,
          5,
          5,
          5,
          4,
          5,
          5,
          5,
          5,
          5,
          5,
          5,
          5,
          5,
          5,
          5,
          5,
          5,
          5,
          5,
          1,
          5,
          5,
          5,
          5,
          1,
          5,
          5,
          5,
          5,
          1,
          3,
          5,
          5,
          5,
          5,
          5,
          5,
          5,
          5,
          5,
          5,
          5,
          1,
          5,
          5,
          1,
          5,
          5,
          5,
          5,
          5,
          5,
          5,
          5,
          5,
          5,
          5,
          5,
          4,
          5,
          1,
          5,
          5,
          5,
          5,
          3,
          5,
          1,
          5,
          5,
          5,
          5,
          5,
          5,
          5,
          5,
          5,
          5,
          4,
          5,
          5,
          1,
          5,
          5,
          5,
          5,
          5,
          5,
          5,
          5,
          5,
          5,
          5,
          5,
          5,
          5,
          5,
          5,
          5,
          5,
          5,
          5,
          5,
          5,
          5,
          5,
          5,
          5,
          5,
          5,
          5,
          5,
          5,
          5,
          5,
          5,
          4,
          5,
          5,
          5,
          5,
          5,
          5,
          1,
          5,
          5,
          5,
          5,
          5,
          5,
          5,
          5,
          5,
          5,
          5,
          5,
          5,
          5,
          5,
          5,
          5,
          5,
          5,
          5,
          5,
          5,
          5,
          5,
          5,
          5,
          5,
          1,
          5,
          4,
          5,
          5,
          1,
          5,
          5,
          5,
          5,
          1,
          5,
          5,
          5,
          5,
          5,
          5,
          5,
          5,
          5,
          5,
          5,
          5,
          5,
          5,
          5,
          5,
          5,
          5,
          5,
          5,
          5,
          5,
          5,
          5,
          5,
          5,
          5,
          5,
          5,
          5,
          5,
          5,
          5,
          5,
          5,
          5,
          5,
          5,
          5,
          5,
          5,
          5,
          5,
          5,
          5,
          5,
          5,
          1,
          5,
          5,
          5,
          5,
          5,
          5,
          5,
          5,
          5,
          5,
          5,
          5,
          4,
          5,
          5,
          5,
          5,
          5,
          3,
          5,
          5,
          5,
          5,
          5,
          5,
          5,
          5,
          5,
          5,
          5,
          5,
          5,
          5,
          5,
          5,
          5,
          5,
          5,
          5,
          5,
          5,
          5,
          5,
          5,
          5,
          5,
          5,
          5,
          5,
          5,
          5,
          5,
          5,
          5,
          5,
          5,
          1,
          5,
          5,
          5,
          5,
          5,
          5,
          5,
          5,
          5,
          4,
          5,
          5,
          5,
          5,
          5,
          5,
          5,
          5,
          5,
          5,
          2,
          5,
          5,
          5,
          5,
          5,
          5,
          5,
          5,
          3,
          5,
          5,
          5,
          5,
          5,
          5,
          5,
          5,
          5,
          5,
          5,
          5,
          5,
          5,
          5,
          5,
          5,
          5,
          1,
          5,
          5,
          5,
          5,
          4,
          5,
          5,
          5,
          5,
          5,
          5,
          5,
          5,
          5,
          5,
          5,
          5,
          5
         ],
         "xaxis": "x",
         "y": [
          0.6249,
          0.4404,
          0.8786,
          -0.0516,
          0.9556,
          0.8555,
          0,
          0.8221,
          0.7814,
          0.9745,
          0.7096,
          0.7906,
          0.9813,
          0.431,
          0.9493,
          0.6249,
          0.7906,
          0.9891,
          -0.2755,
          0.6136,
          0.8834,
          0.8271,
          0.4404,
          0.8221,
          0.8932,
          0.8225,
          0.4926,
          0.4753,
          0.3182,
          0.9805,
          0.9336,
          0,
          0.8625,
          0.5228,
          0.8478,
          0.7003,
          0.6689,
          0.7269,
          0.8856,
          0.9333,
          0.9332,
          0.9337,
          0.8236,
          0,
          0.854,
          0.5719,
          0.8144,
          0.9374,
          0.7887,
          0,
          0.3274,
          0.4404,
          0.7003,
          0.9353,
          0.875,
          0.8217,
          0.9686,
          0.9752,
          0.8903,
          0.1511,
          0,
          0.9703,
          0.8934,
          0,
          0.9746,
          0.7156,
          0.886,
          0.4404,
          0,
          0.765,
          0.8902,
          0.8437,
          0.6988,
          0.4404,
          0,
          0,
          0,
          0.7408,
          0.2023,
          0,
          0.3591,
          0,
          0.9201,
          0,
          0.8625,
          0.4926,
          0.875,
          0.4404,
          0,
          0,
          0.4404,
          0.8271,
          0.7778,
          0.836,
          0,
          0,
          0.875,
          0.7893,
          0.5012,
          0,
          0.8074,
          0.7405,
          0.865,
          0.5719,
          0.9403,
          0.9041,
          0.8883,
          0.7964,
          0.4926,
          0.7003,
          0.8074,
          0.8807,
          0,
          -0.6249,
          0.9149,
          0,
          -0.6179,
          0.6249,
          0.8161,
          0.953,
          0.9323,
          0.7906,
          0.8669,
          0.4574,
          0,
          0.7574,
          0.4404,
          0.872,
          0.6983,
          0.8951,
          0.5574,
          0.9334,
          0.4404,
          0.784,
          0,
          0.9516,
          0.7269,
          0.7263,
          0.8165,
          0.5327,
          0.8463,
          0,
          0.7003,
          0.4378,
          0.3612,
          0.7563,
          0.765,
          0.5244,
          0.7003,
          0.9382,
          0.7003,
          0,
          0.8468,
          0.5994,
          0.717,
          0.9652,
          0.8507,
          0,
          0.4404,
          0.7906,
          0,
          0.9656,
          0.8439,
          0,
          0.8074,
          0.4926,
          0.8271,
          0.7783,
          0.8641,
          0.9643,
          0,
          0,
          0.7783,
          0,
          0.4404,
          0.7959,
          0.7845,
          0.9749,
          0,
          0.915,
          0.8844,
          0.9456,
          0.4404,
          0.7579,
          0.7548,
          0.8955,
          0.5994,
          0.9648,
          0.7964,
          0.7964,
          0,
          0.4404,
          0,
          0,
          0.5994,
          0.9585,
          0,
          0,
          0.6486,
          0.7184,
          0.926,
          0.9581,
          0.7003,
          0,
          0,
          0.8591,
          0,
          0.855,
          0.6901,
          0.8164,
          0.8271,
          0.8472,
          0.5994,
          0.6369,
          0.9636,
          0.6908,
          0.9743,
          0.7717,
          0.8271,
          0.943,
          0.4404,
          0,
          0.836,
          0.893,
          0.2263,
          0.5399,
          0.9449,
          -0.3786,
          0.9738,
          0.5719,
          0.546,
          0.8877,
          0.9763,
          0,
          0.4404,
          0.9712,
          0.7003,
          0.4404,
          0.8238,
          0,
          0.9893,
          0.5399,
          0,
          0.4404,
          0.8625,
          0.8516,
          0.7424,
          0.8122,
          0.8303,
          0.807,
          0.7003,
          0.7003,
          0.6872,
          0.4404,
          0.4404,
          0.4215,
          0.9431,
          0.9118,
          0,
          0,
          0.7263,
          0.9479,
          0.6468,
          0.8176,
          0,
          0.2657,
          0.8881,
          0.9348,
          0.8122,
          0.765,
          0.9725,
          0,
          0.8439,
          0.831,
          0,
          0.941,
          0.7906,
          0.6597,
          0.9022,
          0.7003,
          0.8658,
          0.8478,
          0.8074,
          0.9517,
          0.765,
          0,
          0.8704,
          -0.089,
          0.9451,
          0.8622,
          0.8547,
          0.4404,
          0.6249,
          0,
          0.7964,
          0.69,
          0.7906,
          0.8906,
          0.8455,
          0.4926,
          0,
          0.7003,
          0.7783,
          0.8217,
          0.4926,
          0.8169,
          0.8316,
          0,
          0.4404,
          0.8625,
          0.4404,
          0.4404,
          0,
          0,
          0.4404,
          0.4404,
          0,
          -0.5994,
          0.508,
          0.9153,
          0.4404,
          0.8316,
          -0.3404,
          0.2354,
          0,
          0.6908,
          0.9209,
          0,
          0.4927,
          0.7003,
          0.937,
          0,
          0.6908,
          0.7003,
          0.7081,
          0.6249,
          0.875,
          0.6597,
          0.9749,
          0.915,
          0.9442,
          0.7906,
          0.8331,
          0,
          0.9393,
          0.8316,
          0.4404,
          0.5719,
          0.9268,
          0.6249,
          0.9147,
          0.2732,
          0.6114,
          0.6361,
          0.7263,
          0.5719,
          0.8168,
          0.6114,
          0.8463,
          0.5622,
          0.8546,
          0.9311,
          0.6523,
          0.7003,
          0,
          0.5719,
          0.9169,
          0,
          0.9086,
          0.5994,
          0,
          0.4404,
          0.9505,
          0.4404,
          0,
          0.8553,
          0.7067,
          0.1511,
          0.9551,
          0.9183,
          0,
          0.4404,
          0.8993,
          0.7906,
          0.474,
          0,
          0.4767,
          0.4404,
          0,
          0.872,
          0.9908,
          0.9325,
          0,
          0.9145,
          0.4404,
          0.8165,
          0.7906,
          0.9227,
          0,
          0.902,
          0,
          0.6249,
          0.4404,
          0.4404,
          0.6249,
          0.0611,
          0.926,
          0.8934,
          0.4215,
          0.4404,
          0.9062,
          0.6467,
          0,
          -0.4654,
          0.8168,
          0.807,
          0.9153,
          0.9287,
          0.4404,
          0.6656,
          0.3818,
          0.9228,
          0.8402,
          0,
          0.802,
          0.9388,
          0.7362,
          0.8502,
          0.4754,
          0.9604,
          0.4404,
          0.4926,
          0.9324,
          0.9668,
          0.6249,
          0.4779,
          0.4895,
          0.7845,
          0.9282,
          0,
          0.8479,
          0.6705,
          0.4939,
          -0.2598,
          0.9557,
          0.4404,
          -0.235,
          0.7783,
          0.4404,
          0.6486,
          0.7003,
          0.9589,
          0.955,
          -0.0568,
          0.9229,
          0.7345,
          0.9353,
          0.5106,
          0,
          0.3506,
          0.5093,
          0.4404,
          0.8402,
          0.6908,
          0.9561,
          0,
          0.5574,
          0.4215,
          0.632,
          0.8176,
          0,
          0.9257,
          0.9767,
          0.9808,
          0.4404,
          0.2472,
          0.7906,
          0.5574,
          0.1984,
          0.8383,
          0,
          0.7003,
          0,
          0.6597,
          0.3818,
          0,
          0,
          -0.3641,
          0.953,
          0.9117,
          0.8122,
          0.8012,
          0.9274,
          0.4404,
          0,
          0.7314,
          0.7314,
          0.872,
          0.7976,
          0.7003,
          0.5826,
          0.918,
          0.5574,
          0.5725,
          0.6124,
          0.9818,
          0.8591,
          0.4404,
          0.872,
          0.7096,
          0.6249,
          0.4926,
          0.8957,
          0.9412,
          0.8074,
          0.6908,
          0.7841,
          0.9755,
          0.9827,
          0.93,
          0.4927,
          0.7635,
          0.9577,
          0.3612,
          0.9299,
          0.8906,
          0.2714,
          0.911,
          0.5707,
          0.6801,
          0.9216,
          0.7003,
          0.9817,
          0,
          0.8951,
          0.875,
          -0.385,
          -0.128,
          0.9113,
          0.4404,
          0.4404,
          0.4404,
          0.8074,
          0.6656,
          0,
          0,
          0.4404,
          0.6369,
          0.9134,
          0.807,
          0.4404,
          0.7906,
          0.9571,
          -0.296,
          0.7906,
          0.5399,
          0,
          0.9517,
          0.9153,
          0.9206,
          0,
          0.8858,
          0.1984,
          0.8442,
          0.7096,
          0.257,
          0.8879,
          0.8151,
          0.7742,
          0.7263,
          0.7906,
          0.6369,
          0.8555,
          -0.0516,
          0.96,
          0.946,
          0.9186,
          0.7292,
          -0.1531,
          0,
          0.9545,
          0.891,
          0.7003,
          0.7003,
          0.8617,
          0.5053,
          0.6908,
          0.8979,
          0,
          0.9836,
          0.6249,
          0.5719,
          0,
          0.4404,
          0.7964,
          0.5106,
          0.796,
          0.8805,
          0,
          0.8713,
          0.836,
          0.8687,
          0.3818,
          0.9059,
          0.6486,
          -0.1984,
          0.6249,
          0.8353,
          0.6457,
          0.9531,
          0.4404,
          0.926,
          0.7003,
          0.6059,
          0.7906,
          0.927,
          0,
          0.8887,
          0,
          -0.5789,
          0.7088,
          0.784,
          0.9587,
          0.8622,
          0.5106,
          0,
          0.5994,
          0.9559,
          0.8481,
          0.6688,
          0.8932,
          0.4303,
          0.9062,
          0.7263,
          -0.0847,
          0.4404,
          0.9442,
          0.4404,
          0.636,
          0.9117,
          0.9076,
          0.8555,
          0.9426,
          0.4404,
          0.935,
          0.765,
          0.835,
          0,
          0.507,
          0.9337,
          0.6369,
          0,
          0.7003,
          0.9166,
          0.3291,
          0,
          0.9001,
          0.875,
          0.9392,
          0.8271,
          0.9153,
          0,
          0.891,
          0.6249,
          0.8665,
          0.8422,
          0.4404,
          0.9361,
          0.8217,
          0.4939,
          -0.7155,
          0.9208,
          0,
          0.9314,
          0.91,
          0.9466,
          0.4926,
          0.8118,
          0.9637,
          0.8621,
          0.6256,
          0.9746,
          0.7906,
          0.9358,
          0.5719,
          0.6908,
          0.7003,
          0.9753,
          0.941,
          0.9041,
          0.8759,
          0.9039,
          0,
          0.8608,
          0.8932,
          0.4926,
          0.9794,
          0.9217,
          0.5826,
          0.9571,
          0.4926,
          0.816,
          0.4588,
          0.8614,
          0.4215,
          0,
          0.4753,
          0.34,
          0.9453,
          0.9578,
          0.7269,
          0.7906,
          0,
          0,
          0.4404,
          0.8807,
          0.6988,
          0.9538,
          0.68,
          0.875,
          0.872,
          0.4588,
          0,
          0.6996,
          0.9466,
          0.5719,
          0.7003,
          0.88,
          0.8126,
          0.7845,
          0.4588,
          0.4926,
          0,
          0.8779,
          0.6249,
          0.9136,
          0.25,
          0.1779,
          0.8834,
          0.872,
          0.4548,
          0.4404,
          -0.1779,
          0.8585,
          0.8834,
          0.4689,
          0,
          0.8827,
          0.6908,
          0.4404,
          -0.2488,
          0.8747,
          0.4404,
          0.8439,
          0.4588,
          0,
          0,
          0.4404,
          0.4404,
          0.9725,
          0.3832,
          0.8957,
          0.6688,
          0.2003,
          0.8225,
          0.7845,
          0.9287,
          0.8316,
          0.9733,
          0.6249,
          0,
          0.7003,
          0.8805,
          0.9231,
          0.908,
          0.1759,
          0.7003,
          0.7096,
          0.7003,
          0.9022,
          0,
          0.9369,
          0.5399,
          0.8402,
          0.5826,
          0.6486,
          0.9231,
          0.4404,
          0.4404,
          0.5411,
          0.9432,
          0.7418,
          0.7906,
          0.8772,
          0.8122,
          0.504,
          0.7638,
          0.8625,
          0.5842,
          0.7841,
          0.9098,
          0.4404,
          0.9153,
          0.9867,
          0.8439,
          0.836,
          0.9259,
          0,
          0.9243,
          0.9693,
          0.7269,
          0.4404,
          -0.5875,
          0.3612,
          0.2244,
          0.8741,
          0.9705,
          0.9524,
          0.7964,
          0.9312,
          0,
          0.8926,
          0.893,
          0.8481,
          0.91,
          0.4404,
          0.3612,
          0.8955,
          0.9921,
          0.9289,
          0.6249,
          0.4404,
          0,
          0.9001,
          0.4404,
          0,
          0,
          0,
          0.3811,
          0,
          0.6249,
          0.8876,
          0,
          0.9571,
          0.9371,
          0.4926,
          0.9469,
          0.7633,
          0.9224,
          0.8122,
          0.5255,
          0.7698,
          0.7717,
          0.5994,
          0.9523,
          0.6124,
          0.9445,
          -0.1027,
          0.7783,
          0.5574,
          0.7177,
          0.4404,
          0.6597,
          0,
          0.7447,
          0.6808,
          0.765,
          0.7906,
          0.7906,
          0.9629,
          0,
          0.7332,
          0.7964,
          0.9531,
          0.4215,
          0.9468,
          -0.0633,
          0.7494,
          0.7906,
          0,
          0.6996,
          0,
          0,
          0.7906,
          0.4404,
          0.4404,
          0.9348,
          0.7003,
          0.5399,
          0.6249,
          0.8016,
          0.4404,
          0.5859,
          0.8974,
          0,
          0.8736,
          0,
          0,
          0.8774,
          0.7707,
          0.9629,
          0.6588,
          0.6996,
          0.765,
          0.4404,
          0.9042,
          0,
          0.8271,
          0.765,
          0.5597,
          0.7955,
          0.3612,
          0.9359,
          0.5574,
          0.6027,
          0.9476,
          0,
          0.9449,
          0.4215,
          0.2263,
          0.784,
          0.6588,
          0.3612
         ],
         "yaxis": "y"
        },
        {
         "customdata": [
          [
           "Thankful & Satisfied! 😊/n/nI’m happy, because the delivery was so quick, like the next day! I am satisfied and thankful! 👍🏻",
           50
          ],
          [
           "Five Stars/n/ngreat buy",
           150
          ],
          [
           "No promotional credit/n/nThe gift cards were supposed to come with promotional credit.  They did not.",
           25
          ],
          [
           "Great gift/n/nBought this as a gift for someone, was delivered within 2 days and there were no issues.",
           125
          ],
          [
           "O/n/nGranddaughter",
           25
          ],
          [
           "not for me didn't order it was fraud/n/nnot for me",
           75
          ],
          [
           "Someone didn't care/n/nThe card and snowflake holder were intact but the gift note inside was crumpled.  What a way to present a gift!",
           25
          ],
          [
           "Don’t work, customer service has no clue/n/nThese gift cards do not work. May be a scam.",
           25
          ],
          [
           "Fake cards. Had zero value./n/nFake cards. Had zero value on all 4. I gave as a thank you gift and was humiliated",
           25
          ],
          [
           "Don’t buy!!!/n/nI got it went to use this item $25 gift card an couldn’t tried another place would not work called customer service said 7-10 days they would send me a new card because card wasn’t printed right seemed odd to me the expiration date was wrong on my card from what was on file for the card so it would not work I needed it an now aM out $25 till I get it in a week ridiculous not my fault couldn’t over night the card to me literally not my problem he gave a a case number he was really nice but come on 7-10 days when again not my fault it was made right now I have to wait when I needed the card in the first place ridiculous I’ll never buy a card off here again happy it was only $25 not the $50 card still upset",
           28.95
          ],
          [
           "Very unhappy/n/nIt came with a zero balance it was not activated",
           25
          ],
          [
           "Cute but sent black instead of white card/n/nJust as someone else mentioned, the gift card I requested was the white one to go with the baby shower envelope, but I was sent the black card instead. I like the envelope, but there's no place to write to, from & the amount. It comes open too easily so I secured it w/ tape. I also bought a little teddy bear from Amazon to hold the gift card.",
           15
          ],
          [
           "SIMPLY WONDERFUL!!!!!!/n/nWONDERFUL!!!!!",
           15
          ],
          [
           "Terrible/n/nI tried to use the card to purchase something on Amazon and it didn't work  Also, if you use it somewhere else the card has to be activated before you use it! It appears that you won't know beforehand if you can use it.Right now it seems like I am just out the money!",
           28.95
          ],
          [
           "Very Happy Customer/n/nI was extremely happy with the gift card I purchased. The card arrived before the promised time and the picture was even cuter in person than the picture on the website. Keep up the great work Amazon!! You have a life-long customer in me. I have gotten my mom to sign up with Amazon and even my dad has signed up and he avoinds most internet stores like the plague!<br /><br />~Natalia M.",
           -1
          ],
          [
           "So I recommend if you give this gift card or use one .../n/nReceived as a gift 2 yrs ago, Tried using it and the computer system said it does not exist! So I recommend if you give this gift card or use one use it ASP! :(",
           50
          ],
          [
           "It's not much of a savings but something is better than nothing/n/nI bought this when Amazon had a special deal on gift cards.  My wife and I fly Southwest every year so this was a way to reduce our airfare a little.  It's not much of a savings but something is better than nothing.",
           150
          ],
          [
           "RIP OFF/n/nThis is a total rip off. I bought this gift card as a Christmas present for my daughter.<br />She wasn't able to use it because all the numbers she entered were incorrect.<br /><br />Very surprised that a company like Amazon can sell crap like this",
           -1
          ],
          [
           "Love 'em - they really dress up a gift card!/n/nWe had two people on our gift list who are getting gift cards, and we wanted to dress the cards up so they looked a little festive.  These really do the job.  They're not flat evelope-like things - they're made of thick, glossy paper, are nicely decorated, and can fit three giftcards or two plus part of the backing card.  The cards are pushed up when you open the velcroed flap.  Behind the card spot is a small space for a couple flat Sees chocolate Santas or something like that.<br /><br />Absolutely delightful - I'm hoping to find birthday versions, as well.",
           -1
          ],
          [
           "One Star/n/narrived with a $0.00 balance, no refund by amazon",
           200
          ],
          [
           "There's only one reataurant anywhere near me in Palm Springs area./n/nI don't particularly like that one. So, no choices, so no buy.",
           25
          ],
          [
           "Do not buy!/n/nZero stars.  These gift cards have a ZERO balance. Do not buy, this is fraud.",
           25
          ],
          [
           "Complete disregard to product quality./n/nWhat a cutesy design on the product's page, right? I ordered this birthday one, and a graduation one. The graduation one was perfect; 5 stars, presentation, container, etc. This birthday one however, wasn't.<br /><br />They shipped it, WITHOUT THE OTHER CUPCAKE HALF.<br /><br />Someone shoved this half baked birthday card inside a brown envelope alongside a perfectly done one, and said \"Yep, this is fine!\"",
           25
          ],
          [
           "Sustainability???/n/nHappy with the overall presentation but the card is PVC (a known carcinogen).  Most cards are made of paper these days and am sorry to see that Amazon is not even joining in that push.",
           25
          ],
          [
           "Hugely Disappointing Gift/n/nHugely disappointing gift.<br /><br />I'm not a big fan of gift cards in general, but I have received Amazon cards in the past.  Amazon has a huge selection of items to purchase, great prices, and there were no problems activating and using my card - so that's fine.  ... but that was Amazon, and Staples is not Amazon.  By way of comparison, the Staples gift card has been a huge disappointment.<br /><br />First, there is NO VALUE PRINTED ON THE CARD, so you have to go check the balance to even know what you have.  Then when I went to the Staples website to check the cards balance, it kept telling me that the card number was invalid (though I verified both the card number and PIN were correctly entered several times, and even tried it a second and third time from another computer with a different browser).  I was beginning to think I had a counterfeit card, but decided to re-check the card using the Staples 888 phone number, and that did work, so the card was fine.  So the first disappointment was that Staples wasted over an hour of my time just trying to get the card to validate on the Staples website, only to find that the Staples website was screwed up for some reason, though the card was fine.<br /><br />The Staples phone verification system reported that my card is a valid $25 giftcard, but once I was finally able to verify the cards balance using the phone system, I was in for another HUGE disappointment, because prices at Staples are so horrible that, even after checking my local Staples &#34;Weekly Ad&#34; Sales and applying my &#34;Gift Card&#34; I found that in most cases, I might as well just buy the item on Amazon.  In fact, in some cases the prices were so bad that I would have actually saved money to throw my gift card in the garbage and just pay Amazon's full price (because Amazon's everyday price was more than $25 dollars less).<br /><br />The good thing about a gift card is that the person who receives the card has 'mad money' that they can use to pick out whatever gift they want, the BAD thing is that if you give them a gift card to a store with LOUSY PRICES, then they may feel like their windfall gift money is being spent foolishly and feel bad (which pretty much sums up my feelings dealing with Staples).<br /><br />Also, all my past experiences with Staples have seemed to involve that old-school bait-and-switch sales model where they dangle a sale item in your face, just to try to get you into the store, then RIP YOU OFF by telling you &#34;So sorry, the sale item you want isn't available, but we do have a fine selection of our outrageously overpriced non-sale items, so wouldn't you rather have one of those instead?&#34;  Staples is not as bad as Best Buy (who are the worst scum in the universe in regard to bait-and-switch B.S.) but after buying on Amazon for the last few years, I am not ancious to play ANY of the brick an mortar store games of scampering around town like a rat in a maze trying to find that 'deal' before it disapears.<br /><br />On Amazon, prices may change over time, but if an item is listed as available for a certain price, then you can buy it at the price shown, period, end of story.",
           -1
          ],
          [
           "Waste of money/n/nPizza Hut did not accept this gift card.",
           25
          ],
          [
           "did not work! had to return go through refund .../n/ndid not work! had to return go through refund process and now the birthday has passed so late gift embarrassing!!!",
           25
          ],
          [
           "Disappointed/n/nWas not delivered promptly.",
           -1
          ],
          [
           "Not as advertised/n/nWas posted as a $50 card for $40. Was billed 50 and tax",
           -1
          ],
          [
           "Five Stars/n/nNice",
           150
          ],
          [
           "Designer flaw - frustrating for a child to use/n/nThe sliding car would be very frustrating for a toddler to use as it requires one hand to create enough tension for it to slide along the string and the other hand to slide  the car.  Definitely a flaw that makes it incompatible for a child to use.",
           50
          ],
          [
           "Good product!/n/nLoved it!",
           25
          ],
          [
           "Quality product/n/nQuality product",
           25
          ],
          [
           "Our son always loves getting this./n/nGreat product",
           25
          ],
          [
           "Struggling to reload!/n/nEvery time I want to use my cards I can never remember how to load them!  I didnt keep the \"packing transaction slip\" of course.<br />Such a struggle! Why can't the qr code be used to load money on them??",
           -1
          ],
          [
           "Lousy service!/n/nNo gift box!  I had two orders both messed up big time!",
           -1
          ],
          [
           "NO GIFT CARDS!/n/nI bought this as a gift and it showed up without anything inside! Definitely not worth the risk of an empty package showing up.",
           25
          ],
          [
           "Beware of buying Amazon Gift Cards as Gifts!/n/nI am so upset with Amazon..ordered a gift card as a gift..on my payment page for all of My orders is specified only one card to use for purchases. Amazon took it upon themselves to charge the gift card for recent personal charges instead of our listed card to use.The gift card was for my Grand Daughter to use for her new baby..she has a Amazon account thru her family in New York..I am so disgusted with Amazon's lack of correctly using the method of payment specified on our account as payment!..You have to be complete idiots to assume that a gift card is for the customer buying it...obviously if it is a \"Gift Card\" you have to assume it is being given as an \"Gift\" to another account holder..Stop trying to swallow up all retail business in the world and try tuning up your system to work in sync with your customers!",
           50
          ],
          [
           "Five Stars/n/nGreat",
           -1
          ],
          [
           "Wrong envelopes and misleading description/n/nThe description is misleading.  The gift card do not have the \"holiday snow globe\" design.  Not the hugest deal.  The real annoyance was that they included envelopes that were too small for the greeting cards.",
           -1
          ],
          [
           "One Star/n/nHad problem with barcodes. Stay away people ..",
           50
          ],
          [
           "Worked great! No issues with using the gift cards/n/nWorked great!  No issues with using the gift cards.",
           150
          ],
          [
           "Poor service from Amazon/n/nThis is the 3rd and 4th gift boxes that has been sent WITHOUT the thank-you note I requested. If you can't complete a service, you shouldn't offer it. The recipients thought it was from AMAZON - had no clue it was a thank you from me.",
           25
          ],
          [
           "Limited use./n/nIt may have been an oversight on my part, but this card is NOT universally accepted. For online purchases (where my intention of using it originated) It was rejected a couple of times because it did not have my name on it. So now I'm stuck with $200.00 that I probably will have to use at a restaurant or something. I should have just applied for a MasterCard directly. In my opinion, these type of card are only good as a gift for someone and are not to be used as a true credit card. There are very much a debit card.",
           206.95
          ],
          [
           "Gift card tin arrived damaged!/n/nOrdered 6 gift cards total.  All of them came in plastic wrap except this one.  The tin was scratched and appeared to be used.  I’m hoping the gift card itself is good and not tampered with.  I’ve never had any problems before.",
           25
          ],
          [
           "One-Day Delivery Didn't Happen/n/nThis card was billed as one-day delivery.  It arrived in our city within the specified time, but was delivered at least 22 hours after that.  I normally don't choose rush delivery, but we wanted to include the gift card in a package.  Because we tried to wait for the card, we had to pay very pricey delivery charges on the main package -- and we still have to mail the gift card.  I know we could have done it direct but we were trying to surprise someone.  Lesson learned.",
           25
          ],
          [
           "Harley Davidson/n/nHopefully he'll find what he wants.",
           100
          ],
          [
           "Great holiday packaging for gift card/n/nI've been ordering gift cards in this adorable packaging for the past two holiday seasons.  I give them to those who go out of their way to do their job well and make my life easier.  Customer service goes a long way!  That includes grocery store employees who drop everything to assist me, and delivery & USPS folks who never misdeliver and leave bonuses like special notes to me or treats for my dog.<br /><br />The tin snowman package is perfectly secular when you're not sure whether the recipient celebrates Christmas.",
           25
          ],
          [
           "Appreciated/n/nGift",
           20
          ],
          [
           "Beautiful box design for the holidays/n/nI never received the gift cards. Really wanted to gift it to someone special for the holidays but they never arrived",
           25
          ],
          [
           "Disapointing/n/nI ordered 2 $50 gift cards. The order status said &#34;delivered&#34; but the shipment was not received.  I called Customer Service and  replacement gift cards were sent.  Several days later, order status of the replacement gift cards was listed as &#34;out for delivery&#34; but it was another 4 days before they were FINALLY received.<br />In the mean time, the original order was delivered.  I called Customer Service to let them know I had received the 1st order and the replacement order status was listed as out for delivery&#34;.  I was told to just keep and use both orders (all 4 $50 gift cards) as compensation for the hassle. When I tried to use the extra gift cards, I received the message &#34;purchase price has been refunded to purchaser&#34;. Although, I never expected to be told to keep and use both gift cards in the first place; I am very angry that customer service lied to me.",
           -1
          ],
          [
           "Price/n/nThanks",
           20
          ],
          [
           "Presentation/n/nLovely presentation",
           25
          ],
          [
           "The person it was going to were not right/n/nThe person receiving and person from was not put on correctly.",
           25
          ],
          [
           "Amazing/n/nAmazing",
           25
          ],
          [
           "code does not work/n/nthe code on the card does not work. i dont know what the problem is but im still trying to figure it out. either the card has not been activated by amazon or its a spotify issue. and its NOT a conflicting membership or country issue. i have had other issues with spotify so i wouldnt be surprised if it was something on their end.<br /><br />update:  contact spotify support on their website and they email you back within 20 min. took pictures of the card and reciept and emailed them back. they do something on their end and tell you to try again and it works. they are very quick.",
           99
          ],
          [
           "can always count on amazon for a last minute gift need! thats why I got this to insure I forgot no one on christmas! thanks/n/nThanks Amazon, your stuff is always the best, your prices always the lowest and you get to look thru prices and pic out the buy best for you....I luv your options and your kindness when someone works with you like you have worked with me you want to keep on coming back and keep on being a customer, this was for a friend, well I was afraid I would forget someone on Christmas as I have friends I dont always see all the time, this item came in on a pinch when I forgot someone a bigger gift, not that I needed something huge, and grabbed this and another item I had gotten and gave a friend something nice for christmas that they can use to their own choice and device!! Thanks again for your variety, its amazing that soooo sooo many people think amazon is still only about books and the occassional music, its their loss because allmost everything a girl or guy could want can come from here...thanks sooo much for that!!  your the greatest amazon!",
           -1
          ],
          [
           "when I came home good thing i saw that it was on my grass/n/ndelivered on time but came on a windy day and  was almost lost ,when I came home good thing i saw that it was on my grass",
           10
          ],
          [
           "They want our money, but.../n/nI purchased several gift cards last year, with greeting cards that had messages suitable to various recipients.  Many of my family members are Christians, who appreciate religious-themed cards.  This year, there were no such options. They had Hanukkah cards, but nothing mentioning Christmas, let alone anything actually expressing the Christian sentiments about the season!<br /><br />Amazon, like other retailers, makes a good bit of its money off Christmas.  I have no problem with them selling cards that are generic, or that relate to holidays of other faiths.  I appreciate it, in fact, but I'm a bit offended that they suddenly want nothing to do with the Christian faith or the actual word Christmas.  It's like they want the money from the 90% of us who celebrate Christmas, but they don't want to actually acknowledge the holiday or the reason behind it.  I usually do almost ALL of my CHRISTMAS shopping with Amazon, but I'll be shopping elsewhere this year, which is a huge hassle.<br /><br />What a bunch of Scrooges.",
           -1
          ],
          [
           "CLAIM CODE IS INVALID. >:(/n/nPurchased for family member. Packaging and Serial Number match the order receipt. However, &#34;the Claim Code is Invalid!&#34; So, now I have a family member demanding a new code.",
           25
          ],
          [
           "Fer/n/nExcelente!",
           125
          ],
          [
           "Box issue/n/nBox had no bow, just a glob of glue. Gift card was fine.",
           25
          ],
          [
           "Package received was torn open./n/nI am very surprised that I received the item ($100) gift card.  The package had purposely been torn to the point that the gift card (in a box) could easily have fallen out.  I believe you  are probably having a problem with the packaging since I failed to receive a prior order.  I would hate to see these gift cards become unavailable because of this problem.  Perhaps they can be included with other orders in a box.",
           50
          ],
          [
           "Empty box -  no gift card/n/nSo glad I opened this before gifting it at a bridal shower. I was charged $50 for what was described as “Amazon gift card in gift box.” The box itself is lovely, but not worth $50!",
           50
          ],
          [
           "BEWARE: card did NOT function; promised refund NOT HAPPENING !!!/n/nBEWARE:  Purchased in DEC 2020.  The card never worked.  I have asked for a refund on multiple occasions over the past 4 months.  Each time, an Amazon customer service representative  promises that a refund will occur \"in the next 3-5 days, with notification\"  but to date, no refund has happened!!!  This is NOT the kind of support service I expected from Amazon. APRIL 10, 2012",
           25
          ],
          [
           "Some issues/n/nMy sister did mot even recognize it was from me due to lack of labels and such",
           50
          ],
          [
           "First one didn't work !/n/nI always use Amazon for myself, BUT used it for a gift card for my son.<br />Very disappointed the , card arrived , and didn't work , I did receive a email saying \" Amazon was having issues with the card working and another would be sent out asap\"  So a week later He did get the card , and it worked , BUT very disappointed the \"gift cards\" I can get at any store locally , have always worked first time.  I was hoping going right to Amazon would have been easier and better service than getting one from a convenience store , BUT it was not .",
           -1
          ],
          [
           "Cute tin to present a gift card in, however.../n/nI sent this as a gift and the recipient loved the tin that the card arrived in; however, there was nothing sent with the tin and gift card to indicate WHO the gift was from. In the past, when I have sent Amazon Gift Cards, there has been an option to include a note. Not sure why this wasn't an option on this occasion. I love the convenience and speed of delivery and would have given 5 stars had it not been for this very disappointing occurrence. It resulted in a rather awkward inquiry.",
           25
          ],
          [
           "Deceiving/n/nThere should never be fine print that you have to read when buying a gift card. This came hand-taped onto the the cardboard display, so since it looked fishy, I went online to read reviews. (It seems ridiculous to have to read reviews for a gift card, right?) First, it arrived late and then I find it won’t even work where I live in Western WA. THIS SHOULD BE IN BOLD PRINT WITH THE MAIN TITlE OF THE CARD. EX. “Taco Time Gift Card NOT FOR WESTERN WA”. It is deceiving to put that in the fine print.  This was supposed to be a last day of school gift for my daughter’s teacher who loves taco time. Oh, and it arrived late and it was supposed to be part of a gift. I am now delivering the rest of the gift late without the taco time card I was waiting on bc it doesn’t work.",
           25
          ],
          [
           "They licked the envelope for me./n/nThey sealed the envelope.<br /><br />The last time I bought an amazon gift card in a greeting card I remember being able to write a nice note on the inside. I don't know if this is standard practice or if someone got overexcited, but I don't particularly like pre-licked envelopes. I ended up sticking the whole envelope in a bag and hoping for the best.",
           -1
          ],
          [
           "Convenient/n/nConvenient",
           50
          ],
          [
           "Assume it worked/n/nI had never purchased a gift card on Amazon before, but we don't have a Sephora nearby and I wanted to get as a Christmas gift.  The person I gave it to never told me if there was a problem with it, so I assume it worked",
           75
          ],
          [
           "Works as advertised./n/nI got what I ordered. The product was as described on the web site. It arrived in a timely manner. Works as advertised.",
           25
          ],
          [
           "Late so didn't work for gift/n/nThis was over 1 day late.  Though Amazon notified me of the delay on the day it was supposed to deliver it was frustrating as I had to go purchase an alternative gift and now am stuck with this gift card.",
           100
          ],
          [
           "Gift Card Empty/n/nI purchased this $100.00 gift card on December 14 2019 and yesterday April 26 2010 My wife scratched the pin and she was unable to used it the card is empty we called Kohls and the number does not show nothin in the system, I have been trying to call Amazon and it is impossible for the Coronavirus pandemic",
           125
          ],
          [
           "Extremely satisfied!/n/nVery fast delivery! Extremely satisfied!",
           -1
          ],
          [
           "Poor choice of options./n/nCard states $15 -$100, yet $50 is the only option.",
           50
          ]
         ],
         "hovertemplate": "Outlier=True<br>rating=%{x}<br>sentiment_score=%{y}<br>text_review=%{customdata[0]}<br>price=%{customdata[1]}<br>Cluster=%{marker.color}<extra></extra>",
         "legendgroup": "True",
         "marker": {
          "color": [
           -1,
           -1,
           -1,
           -1,
           -1,
           -1,
           -1,
           -1,
           -1,
           -1,
           -1,
           -1,
           -1,
           -1,
           -1,
           -1,
           -1,
           -1,
           -1,
           -1,
           -1,
           -1,
           -1,
           -1,
           -1,
           -1,
           -1,
           -1,
           -1,
           -1,
           -1,
           -1,
           -1,
           -1,
           -1,
           -1,
           -1,
           -1,
           -1,
           -1,
           -1,
           -1,
           -1,
           -1,
           -1,
           -1,
           -1,
           -1,
           -1,
           -1,
           -1,
           -1,
           -1,
           -1,
           -1,
           -1,
           -1,
           -1,
           -1,
           -1,
           -1,
           -1,
           -1,
           -1,
           -1,
           -1,
           -1,
           -1,
           -1,
           -1,
           -1,
           -1,
           -1,
           -1,
           -1,
           -1,
           -1
          ],
          "coloraxis": "coloraxis",
          "opacity": 0.8,
          "size": 6,
          "symbol": "diamond"
         },
         "mode": "markers",
         "name": "True",
         "orientation": "v",
         "showlegend": true,
         "type": "scatter",
         "x": [
          5,
          5,
          1,
          5,
          5,
          5,
          3,
          1,
          1,
          1,
          1,
          4,
          5,
          1,
          5,
          1,
          5,
          1,
          5,
          1,
          1,
          1,
          1,
          2,
          1,
          1,
          1,
          1,
          1,
          5,
          1,
          5,
          5,
          5,
          3,
          1,
          1,
          1,
          5,
          2,
          1,
          5,
          1,
          1,
          3,
          1,
          5,
          5,
          5,
          1,
          1,
          5,
          5,
          3,
          5,
          1,
          5,
          3,
          1,
          1,
          5,
          1,
          2,
          1,
          1,
          3,
          2,
          3,
          1,
          3,
          5,
          5,
          5,
          1,
          1,
          5,
          3
         ],
         "xaxis": "x",
         "y": [
          0.9655,
          0,
          0.5106,
          0.7003,
          0,
          0,
          0.8553,
          -0.4588,
          0.3182,
          0.627,
          0,
          0.964,
          0,
          0.5837,
          0.9795,
          0.9245,
          0.9528,
          0.8113,
          0.9854,
          -0.128,
          -0.744,
          -0.2942,
          0.8805,
          0.2824,
          0.2026,
          -0.1553,
          0.3575,
          0,
          0,
          0,
          0.4767,
          0.5399,
          0,
          0.5719,
          -0.7215,
          -0.5962,
          0.3125,
          0.9051,
          0,
          -0.762,
          -0.4019,
          0.9039,
          0.368,
          0.6988,
          0.9428,
          0.772,
          0,
          0.9891,
          0,
          0.4007,
          0.9419,
          0,
          0,
          0,
          0,
          0.6419,
          0.9927,
          0.5089,
          0.987,
          -0.2244,
          0,
          0.3612,
          -0.6815,
          0.6301,
          0.6278,
          -0.3182,
          0.937,
          0.965,
          0.9542,
          0.9102,
          0,
          -0.7913,
          0,
          0.0772,
          0.7184,
          0.6084,
          -0.4767
         ],
         "yaxis": "y"
        }
       ],
       "layout": {
        "coloraxis": {
         "colorbar": {
          "title": {
           "text": "Cluster"
          }
         },
         "colorscale": [
          [
           0,
           "#0d0887"
          ],
          [
           0.1111111111111111,
           "#46039f"
          ],
          [
           0.2222222222222222,
           "#7201a8"
          ],
          [
           0.3333333333333333,
           "#9c179e"
          ],
          [
           0.4444444444444444,
           "#bd3786"
          ],
          [
           0.5555555555555556,
           "#d8576b"
          ],
          [
           0.6666666666666666,
           "#ed7953"
          ],
          [
           0.7777777777777778,
           "#fb9f3a"
          ],
          [
           0.8888888888888888,
           "#fdca26"
          ],
          [
           1,
           "#f0f921"
          ]
         ]
        },
        "legend": {
         "title": {
          "text": "Outlier"
         },
         "tracegroupgap": 0
        },
        "template": {
         "data": {
          "bar": [
           {
            "error_x": {
             "color": "#f2f5fa"
            },
            "error_y": {
             "color": "#f2f5fa"
            },
            "marker": {
             "line": {
              "color": "rgb(17,17,17)",
              "width": 0.5
             },
             "pattern": {
              "fillmode": "overlay",
              "size": 10,
              "solidity": 0.2
             }
            },
            "type": "bar"
           }
          ],
          "barpolar": [
           {
            "marker": {
             "line": {
              "color": "rgb(17,17,17)",
              "width": 0.5
             },
             "pattern": {
              "fillmode": "overlay",
              "size": 10,
              "solidity": 0.2
             }
            },
            "type": "barpolar"
           }
          ],
          "carpet": [
           {
            "aaxis": {
             "endlinecolor": "#A2B1C6",
             "gridcolor": "#506784",
             "linecolor": "#506784",
             "minorgridcolor": "#506784",
             "startlinecolor": "#A2B1C6"
            },
            "baxis": {
             "endlinecolor": "#A2B1C6",
             "gridcolor": "#506784",
             "linecolor": "#506784",
             "minorgridcolor": "#506784",
             "startlinecolor": "#A2B1C6"
            },
            "type": "carpet"
           }
          ],
          "choropleth": [
           {
            "colorbar": {
             "outlinewidth": 0,
             "ticks": ""
            },
            "type": "choropleth"
           }
          ],
          "contour": [
           {
            "colorbar": {
             "outlinewidth": 0,
             "ticks": ""
            },
            "colorscale": [
             [
              0,
              "#0d0887"
             ],
             [
              0.1111111111111111,
              "#46039f"
             ],
             [
              0.2222222222222222,
              "#7201a8"
             ],
             [
              0.3333333333333333,
              "#9c179e"
             ],
             [
              0.4444444444444444,
              "#bd3786"
             ],
             [
              0.5555555555555556,
              "#d8576b"
             ],
             [
              0.6666666666666666,
              "#ed7953"
             ],
             [
              0.7777777777777778,
              "#fb9f3a"
             ],
             [
              0.8888888888888888,
              "#fdca26"
             ],
             [
              1,
              "#f0f921"
             ]
            ],
            "type": "contour"
           }
          ],
          "contourcarpet": [
           {
            "colorbar": {
             "outlinewidth": 0,
             "ticks": ""
            },
            "type": "contourcarpet"
           }
          ],
          "heatmap": [
           {
            "colorbar": {
             "outlinewidth": 0,
             "ticks": ""
            },
            "colorscale": [
             [
              0,
              "#0d0887"
             ],
             [
              0.1111111111111111,
              "#46039f"
             ],
             [
              0.2222222222222222,
              "#7201a8"
             ],
             [
              0.3333333333333333,
              "#9c179e"
             ],
             [
              0.4444444444444444,
              "#bd3786"
             ],
             [
              0.5555555555555556,
              "#d8576b"
             ],
             [
              0.6666666666666666,
              "#ed7953"
             ],
             [
              0.7777777777777778,
              "#fb9f3a"
             ],
             [
              0.8888888888888888,
              "#fdca26"
             ],
             [
              1,
              "#f0f921"
             ]
            ],
            "type": "heatmap"
           }
          ],
          "heatmapgl": [
           {
            "colorbar": {
             "outlinewidth": 0,
             "ticks": ""
            },
            "colorscale": [
             [
              0,
              "#0d0887"
             ],
             [
              0.1111111111111111,
              "#46039f"
             ],
             [
              0.2222222222222222,
              "#7201a8"
             ],
             [
              0.3333333333333333,
              "#9c179e"
             ],
             [
              0.4444444444444444,
              "#bd3786"
             ],
             [
              0.5555555555555556,
              "#d8576b"
             ],
             [
              0.6666666666666666,
              "#ed7953"
             ],
             [
              0.7777777777777778,
              "#fb9f3a"
             ],
             [
              0.8888888888888888,
              "#fdca26"
             ],
             [
              1,
              "#f0f921"
             ]
            ],
            "type": "heatmapgl"
           }
          ],
          "histogram": [
           {
            "marker": {
             "pattern": {
              "fillmode": "overlay",
              "size": 10,
              "solidity": 0.2
             }
            },
            "type": "histogram"
           }
          ],
          "histogram2d": [
           {
            "colorbar": {
             "outlinewidth": 0,
             "ticks": ""
            },
            "colorscale": [
             [
              0,
              "#0d0887"
             ],
             [
              0.1111111111111111,
              "#46039f"
             ],
             [
              0.2222222222222222,
              "#7201a8"
             ],
             [
              0.3333333333333333,
              "#9c179e"
             ],
             [
              0.4444444444444444,
              "#bd3786"
             ],
             [
              0.5555555555555556,
              "#d8576b"
             ],
             [
              0.6666666666666666,
              "#ed7953"
             ],
             [
              0.7777777777777778,
              "#fb9f3a"
             ],
             [
              0.8888888888888888,
              "#fdca26"
             ],
             [
              1,
              "#f0f921"
             ]
            ],
            "type": "histogram2d"
           }
          ],
          "histogram2dcontour": [
           {
            "colorbar": {
             "outlinewidth": 0,
             "ticks": ""
            },
            "colorscale": [
             [
              0,
              "#0d0887"
             ],
             [
              0.1111111111111111,
              "#46039f"
             ],
             [
              0.2222222222222222,
              "#7201a8"
             ],
             [
              0.3333333333333333,
              "#9c179e"
             ],
             [
              0.4444444444444444,
              "#bd3786"
             ],
             [
              0.5555555555555556,
              "#d8576b"
             ],
             [
              0.6666666666666666,
              "#ed7953"
             ],
             [
              0.7777777777777778,
              "#fb9f3a"
             ],
             [
              0.8888888888888888,
              "#fdca26"
             ],
             [
              1,
              "#f0f921"
             ]
            ],
            "type": "histogram2dcontour"
           }
          ],
          "mesh3d": [
           {
            "colorbar": {
             "outlinewidth": 0,
             "ticks": ""
            },
            "type": "mesh3d"
           }
          ],
          "parcoords": [
           {
            "line": {
             "colorbar": {
              "outlinewidth": 0,
              "ticks": ""
             }
            },
            "type": "parcoords"
           }
          ],
          "pie": [
           {
            "automargin": true,
            "type": "pie"
           }
          ],
          "scatter": [
           {
            "marker": {
             "line": {
              "color": "#283442"
             }
            },
            "type": "scatter"
           }
          ],
          "scatter3d": [
           {
            "line": {
             "colorbar": {
              "outlinewidth": 0,
              "ticks": ""
             }
            },
            "marker": {
             "colorbar": {
              "outlinewidth": 0,
              "ticks": ""
             }
            },
            "type": "scatter3d"
           }
          ],
          "scattercarpet": [
           {
            "marker": {
             "colorbar": {
              "outlinewidth": 0,
              "ticks": ""
             }
            },
            "type": "scattercarpet"
           }
          ],
          "scattergeo": [
           {
            "marker": {
             "colorbar": {
              "outlinewidth": 0,
              "ticks": ""
             }
            },
            "type": "scattergeo"
           }
          ],
          "scattergl": [
           {
            "marker": {
             "line": {
              "color": "#283442"
             }
            },
            "type": "scattergl"
           }
          ],
          "scattermapbox": [
           {
            "marker": {
             "colorbar": {
              "outlinewidth": 0,
              "ticks": ""
             }
            },
            "type": "scattermapbox"
           }
          ],
          "scatterpolar": [
           {
            "marker": {
             "colorbar": {
              "outlinewidth": 0,
              "ticks": ""
             }
            },
            "type": "scatterpolar"
           }
          ],
          "scatterpolargl": [
           {
            "marker": {
             "colorbar": {
              "outlinewidth": 0,
              "ticks": ""
             }
            },
            "type": "scatterpolargl"
           }
          ],
          "scatterternary": [
           {
            "marker": {
             "colorbar": {
              "outlinewidth": 0,
              "ticks": ""
             }
            },
            "type": "scatterternary"
           }
          ],
          "surface": [
           {
            "colorbar": {
             "outlinewidth": 0,
             "ticks": ""
            },
            "colorscale": [
             [
              0,
              "#0d0887"
             ],
             [
              0.1111111111111111,
              "#46039f"
             ],
             [
              0.2222222222222222,
              "#7201a8"
             ],
             [
              0.3333333333333333,
              "#9c179e"
             ],
             [
              0.4444444444444444,
              "#bd3786"
             ],
             [
              0.5555555555555556,
              "#d8576b"
             ],
             [
              0.6666666666666666,
              "#ed7953"
             ],
             [
              0.7777777777777778,
              "#fb9f3a"
             ],
             [
              0.8888888888888888,
              "#fdca26"
             ],
             [
              1,
              "#f0f921"
             ]
            ],
            "type": "surface"
           }
          ],
          "table": [
           {
            "cells": {
             "fill": {
              "color": "#506784"
             },
             "line": {
              "color": "rgb(17,17,17)"
             }
            },
            "header": {
             "fill": {
              "color": "#2a3f5f"
             },
             "line": {
              "color": "rgb(17,17,17)"
             }
            },
            "type": "table"
           }
          ]
         },
         "layout": {
          "annotationdefaults": {
           "arrowcolor": "#f2f5fa",
           "arrowhead": 0,
           "arrowwidth": 1
          },
          "autotypenumbers": "strict",
          "coloraxis": {
           "colorbar": {
            "outlinewidth": 0,
            "ticks": ""
           }
          },
          "colorscale": {
           "diverging": [
            [
             0,
             "#8e0152"
            ],
            [
             0.1,
             "#c51b7d"
            ],
            [
             0.2,
             "#de77ae"
            ],
            [
             0.3,
             "#f1b6da"
            ],
            [
             0.4,
             "#fde0ef"
            ],
            [
             0.5,
             "#f7f7f7"
            ],
            [
             0.6,
             "#e6f5d0"
            ],
            [
             0.7,
             "#b8e186"
            ],
            [
             0.8,
             "#7fbc41"
            ],
            [
             0.9,
             "#4d9221"
            ],
            [
             1,
             "#276419"
            ]
           ],
           "sequential": [
            [
             0,
             "#0d0887"
            ],
            [
             0.1111111111111111,
             "#46039f"
            ],
            [
             0.2222222222222222,
             "#7201a8"
            ],
            [
             0.3333333333333333,
             "#9c179e"
            ],
            [
             0.4444444444444444,
             "#bd3786"
            ],
            [
             0.5555555555555556,
             "#d8576b"
            ],
            [
             0.6666666666666666,
             "#ed7953"
            ],
            [
             0.7777777777777778,
             "#fb9f3a"
            ],
            [
             0.8888888888888888,
             "#fdca26"
            ],
            [
             1,
             "#f0f921"
            ]
           ],
           "sequentialminus": [
            [
             0,
             "#0d0887"
            ],
            [
             0.1111111111111111,
             "#46039f"
            ],
            [
             0.2222222222222222,
             "#7201a8"
            ],
            [
             0.3333333333333333,
             "#9c179e"
            ],
            [
             0.4444444444444444,
             "#bd3786"
            ],
            [
             0.5555555555555556,
             "#d8576b"
            ],
            [
             0.6666666666666666,
             "#ed7953"
            ],
            [
             0.7777777777777778,
             "#fb9f3a"
            ],
            [
             0.8888888888888888,
             "#fdca26"
            ],
            [
             1,
             "#f0f921"
            ]
           ]
          },
          "colorway": [
           "#636efa",
           "#EF553B",
           "#00cc96",
           "#ab63fa",
           "#FFA15A",
           "#19d3f3",
           "#FF6692",
           "#B6E880",
           "#FF97FF",
           "#FECB52"
          ],
          "font": {
           "color": "#f2f5fa"
          },
          "geo": {
           "bgcolor": "rgb(17,17,17)",
           "lakecolor": "rgb(17,17,17)",
           "landcolor": "rgb(17,17,17)",
           "showlakes": true,
           "showland": true,
           "subunitcolor": "#506784"
          },
          "hoverlabel": {
           "align": "left"
          },
          "hovermode": "closest",
          "mapbox": {
           "style": "dark"
          },
          "paper_bgcolor": "rgb(17,17,17)",
          "plot_bgcolor": "rgb(17,17,17)",
          "polar": {
           "angularaxis": {
            "gridcolor": "#506784",
            "linecolor": "#506784",
            "ticks": ""
           },
           "bgcolor": "rgb(17,17,17)",
           "radialaxis": {
            "gridcolor": "#506784",
            "linecolor": "#506784",
            "ticks": ""
           }
          },
          "scene": {
           "xaxis": {
            "backgroundcolor": "rgb(17,17,17)",
            "gridcolor": "#506784",
            "gridwidth": 2,
            "linecolor": "#506784",
            "showbackground": true,
            "ticks": "",
            "zerolinecolor": "#C8D4E3"
           },
           "yaxis": {
            "backgroundcolor": "rgb(17,17,17)",
            "gridcolor": "#506784",
            "gridwidth": 2,
            "linecolor": "#506784",
            "showbackground": true,
            "ticks": "",
            "zerolinecolor": "#C8D4E3"
           },
           "zaxis": {
            "backgroundcolor": "rgb(17,17,17)",
            "gridcolor": "#506784",
            "gridwidth": 2,
            "linecolor": "#506784",
            "showbackground": true,
            "ticks": "",
            "zerolinecolor": "#C8D4E3"
           }
          },
          "shapedefaults": {
           "line": {
            "color": "#f2f5fa"
           }
          },
          "sliderdefaults": {
           "bgcolor": "#C8D4E3",
           "bordercolor": "rgb(17,17,17)",
           "borderwidth": 1,
           "tickwidth": 0
          },
          "ternary": {
           "aaxis": {
            "gridcolor": "#506784",
            "linecolor": "#506784",
            "ticks": ""
           },
           "baxis": {
            "gridcolor": "#506784",
            "linecolor": "#506784",
            "ticks": ""
           },
           "bgcolor": "rgb(17,17,17)",
           "caxis": {
            "gridcolor": "#506784",
            "linecolor": "#506784",
            "ticks": ""
           }
          },
          "title": {
           "x": 0.05
          },
          "updatemenudefaults": {
           "bgcolor": "#506784",
           "borderwidth": 0
          },
          "xaxis": {
           "automargin": true,
           "gridcolor": "#283442",
           "linecolor": "#506784",
           "ticks": "",
           "title": {
            "standoff": 15
           },
           "zerolinecolor": "#283442",
           "zerolinewidth": 2
          },
          "yaxis": {
           "automargin": true,
           "gridcolor": "#283442",
           "linecolor": "#506784",
           "ticks": "",
           "title": {
            "standoff": 15
           },
           "zerolinecolor": "#283442",
           "zerolinewidth": 2
          }
         }
        },
        "title": {
         "text": "HDBSCAN Clustering and Outlier Detection"
        },
        "xaxis": {
         "anchor": "y",
         "domain": [
          0,
          1
         ],
         "title": {
          "text": "rating"
         }
        },
        "yaxis": {
         "anchor": "x",
         "domain": [
          0,
          1
         ],
         "title": {
          "text": "sentiment_score"
         }
        }
       }
      }
     },
     "metadata": {},
     "output_type": "display_data"
    }
   ],
   "source": [
    "import pandas as pd\n",
    "import numpy as np\n",
    "import hdbscan\n",
    "import plotly.express as px\n",
    "\n",
    "# Apply HDBSCAN\n",
    "X = test_df_encoded.values\n",
    "clusterer = hdbscan.HDBSCAN(min_cluster_size=2)\n",
    "cluster_labels = clusterer.fit_predict(X)\n",
    "\n",
    "# Create a DataFrame for easier plotting\n",
    "df_hdbscan = pd.DataFrame(X, columns=test_df_encoded.columns)\n",
    "df_hdbscan['Cluster'] = cluster_labels\n",
    "df_hdbscan['Outlier'] = cluster_labels == -1\n",
    "\n",
    "# Include relevant columns from test_df_enriched\n",
    "df_hdbscan['rating'] = test_df_enriched['rating']\n",
    "df_hdbscan['text_review'] = test_df_enriched['text_review']\n",
    "df_hdbscan['price'] = test_df_enriched['price']\n",
    "df_hdbscan['sentiment_score'] = test_df_enriched['sentiment_score']\n",
    "\n",
    "# Create an interactive plot using Plotly\n",
    "fig = px.scatter(\n",
    "    df_hdbscan, \n",
    "    x='rating', \n",
    "    y='sentiment_score', \n",
    "    color='Cluster',\n",
    "    symbol='Outlier',\n",
    "    title='HDBSCAN Clustering and Outlier Detection',\n",
    "    labels={'rating': 'rating', 'sentiment_score': 'sentiment_score'},\n",
    "    template='plotly_dark',\n",
    "    hover_data=['rating', 'text_review', 'price', 'sentiment_score']\n",
    ")\n",
    "\n",
    "# Customize the plot to highlight outliers\n",
    "fig.update_traces(marker=dict(size=6, opacity=0.8), selector=dict(mode='markers'))\n",
    "fig.update_traces(marker=dict(size=8, opacity=1, line=dict(width=1, color='DarkSlateGrey')),\n",
    "                  selector=dict(marker_symbol='x'))\n",
    "\n",
    "# Show the plot\n",
    "fig.show()\n"
   ]
  },
  {
   "cell_type": "markdown",
   "metadata": {},
   "source": [
    "# T-sne vizualization"
   ]
  },
  {
   "cell_type": "code",
   "execution_count": 68,
   "metadata": {},
   "outputs": [
    {
     "data": {
      "application/vnd.plotly.v1+json": {
       "config": {
        "plotlyServerURL": "https://plot.ly"
       },
       "data": [
        {
         "customdata": [
          [
           5,
           "Five Stars/n/nwhat a great idea",
           25
          ],
          [
           5,
           "Five Stars/n/nIt is a gift card.",
           -1
          ],
          [
           5,
           "My thought/n/nI got this gift card for a Christmas present and it went with another gift that my brother and his girlfriend gave to the person who I got this gift card for.",
           -1
          ],
          [
           5,
           "****/n/ncant go wrong with a gift card",
           100
          ],
          [
           4,
           "Good gift/n/nCan't really go wrong with an Amazon gift card. Recipient love the card and thought the card holder was awesome.",
           50
          ],
          [
           5,
           "Great gift/n/nRecipient of the gift card was excited about using",
           25
          ],
          [
           5,
           "Five Stars/n/nGreat!",
           20
          ],
          [
           5,
           "Five Stars/n/nEveryone loves receiving Amazon Gift cards!",
           25
          ],
          [
           4,
           "It was a gift order but no gift note was enclosed/n/nThe Visa Gift card was ordered with a 'note' but that was not part of the received item.  As such the recipient did not know who it was from",
           54.95
          ],
          [
           5,
           "GIFT CARDASAURUS/n/nThis is,perhaps,the easiest review to compose;the card was a gift and,hence,since it cost me nothing,ideal! It was an addition to the Kindle Fire that was also given to me and since I have an Amazon account,transferred quite smoothly into an active card. A splendid way to spend someone eles's money and it has worked extremely well. Would highly recommend you find someone to buy a Gift Card for you to spend as you please.",
           25
          ],
          [
           1,
           "These gift cards were blank and were taken by the sales clerk at American Eagle./n/nI gave two $50 gift cards as presents.  When the young ladies attempted to use them at American Eagle, First Colony Mall, Sugarland, Texas, over the weekend, they were told the cards were blank and the clerk refused to return the cards.  Please email lsparmer@msn.com or call 281-341-0647.  The cards were purchased 12-14-18 (see my orders).",
           25
          ],
          [
           5,
           "Great gift/n/nGreat gift",
           25
          ],
          [
           5,
           "Gift Card/n/nI received a $75 Gift Card for Christmas. I have not spent it yet - but will. I received a Kindle from Santa and will be adding additional books when I have read a few more that were downloaded on it as part of the gift. I think a Gift Card is a wonderful idea because it lets you get exactly the item you want at the time you want it. I have given them before and am happy to be the recipant this time. I know I will have happy shopping. How can you go wrong -- it is like money.",
           -1
          ],
          [
           4,
           "took a few days to arrive/n/nIt was a nice gift but it took a few days to arrive and it couldn't be printed out.",
           -1
          ],
          [
           5,
           "Great Service/n/nI ordered these gift cards on 12/22 as Christmas gifts on 12/24 at 7:15 AM they arrived at my door in perfect condition This service helped me solve last minuet gift problems. Very Happy",
           20
          ],
          [
           5,
           "Great design/n/nBeautifully  designed box.",
           25
          ],
          [
           5,
           "Cards/n/nThis a great gift",
           25
          ],
          [
           5,
           "Perfect gift card with a little extra/n/nThese Amazon gift cards are perfect for all occasions.  I love that there are a selection of cards to choose from, and the gift card and card itself coordinate.  These arrive promptly the day after you order them (typically) and arrive in a pouch, inside an envelope, with an envelope to use.  You're basically getting a card and envelope for free just for getting a gift card through Amazon!  It's the perfect gift for anyone as you can get, well, ANYTHING from Amazon!",
           -1
          ],
          [
           3,
           "As expected/n/nWhat’s not to like?",
           25
          ],
          [
           5,
           "Thankful & Satisfied! 😊/n/nI’m happy, because the delivery was so quick, like the next day! I am satisfied and thankful! 👍🏻",
           50
          ],
          [
           5,
           "Five Stars/n/ngreat buy",
           150
          ],
          [
           5,
           "Good for gifting/n/nCan't complain about it.",
           -1
          ],
          [
           5,
           "A box you can keep/n/nGot this since there was a promo for gift cards. My family loves getting amazon items to the door, but we can't keep or need the boxes. Saw this option and thought it would be a great item to have on display at our house.",
           25
          ],
          [
           1,
           "No promotional credit/n/nThe gift cards were supposed to come with promotional credit.  They did not.",
           25
          ],
          [
           5,
           "Nicely boxed gift card/n/nGreat gift card for a young child.",
           50
          ],
          [
           5,
           "Five Stars/n/nGood gift",
           -1
          ],
          [
           5,
           "convenience plus!/n/nmy son has an Amazon account so this was the perfect Christmas gift for him.",
           50
          ],
          [
           5,
           "Nice gift box!/n/nFast delivery, and a vey nice gift box.",
           -1
          ],
          [
           5,
           "Nice set of gift cards/n/nThey're gift cards",
           30
          ],
          [
           5,
           "Cute/n/nAdorable gift!",
           15
          ],
          [
           5,
           "Nice box/n/nnice box, fast delivery!",
           50
          ],
          [
           5,
           "Christmas gift/n/nI'm sure it will be used and I know they can find ANYTHING",
           25
          ],
          [
           5,
           "Great gift/n/nBought this as a gift for someone, was delivered within 2 days and there were no issues.",
           125
          ],
          [
           5,
           "For my pharmacist of thirty years/n/nI surprised my pharmacist of thirty years with a $100 gift card and she loved it.  She regularly shops on Amazon, so the gift was welcome.  Overall, it shows that I care that she always answers the phone quickly and courteously, and she always has my meds ready.  That's something to reward with this Amazon gift card.",
           20
          ],
          [
           5,
           "Happyness to special family/n/nWe dont know what to gitf to our nice sister and family, so we decided this car because the box, loop and the color very nice. The felt very happy and bought whatever they want. Thank u",
           25
          ],
          [
           5,
           "Five Stars/n/nGreat",
           -1
          ],
          [
           5,
           "Happy Kid/n/nIt's a gift card, what more needs to be said :)",
           25
          ],
          [
           5,
           "Five Stars/n/nPrefect way to give this gift",
           25
          ],
          [
           5,
           "Great gift!/n/nEasy gift for someone who is hard yo buy gifts for but u know they have an Amazon wish list. Arrived quickly.",
           -1
          ],
          [
           5,
           "Five Stars/n/nVery nicely packed and easy to use.",
           -1
          ],
          [
           5,
           "O/n/nGranddaughter",
           25
          ],
          [
           4,
           "Not for me/n/nAlthough I was a tad disappointed with the quality of the &#34;gift wrapping,&#34; my sister was delighted with this gift for her Kindle...and that's what's most important!",
           -1
          ],
          [
           5,
           "Five Stars/n/nNice pretty box for your gift card.",
           -1
          ],
          [
           5,
           "Quick Delivery in a short period of time is one thing!/n/nThe Amazon Gift Card gives the opportunity for the receiver to buy what he or she wants and maybe needs.<br /><br />We do not always get what we want so this give the opportunity to buy what you do want!",
           50
          ],
          [
           1,
           "SUper unhappy with this gift card/n/nThere is no visible indication on the card of how much the card is worth AND as the purchaser of the gift card I would like TO CHECK THAT THE MONEY IS ACTUALLY ON THE CARD BEFORE I GIVE IT TO SOMEONE!  I have no way on Amazon.com to do this!  I can only redeem it to my account! So frustrating!!!!!!!  Anybody that can help me with this would be much appreciated before COB today since I have to give them out tomorrow at a business meeting! OMG!",
           -1
          ],
          [
           5,
           "Easy gift/n/nThis is a great gift. I didn’t even need to buy a bag because the tin was so cute!",
           25
          ],
          [
           5,
           "Everyone loves gift cards/n/nEveryone loved the Amazon gift cards for Christmas other then stuff they willnever use.",
           50
          ],
          [
           5,
           "EVERYBODY LOVES AMAZON❤️/n/nAMAZON has EVERYTHING!  The gift card “fits all”",
           50
          ],
          [
           4,
           "Gift/n/nGift",
           25
          ],
          [
           5,
           "Great gift/n/nI find these to be very popular with friends and family.  Quick delivery and no use issues.",
           50
          ],
          [
           5,
           "Nancy/n/nThe receiver was happy.",
           20
          ],
          [
           5,
           "Amazon Bookmark Gift Card/n/nGreat. Nice that even after they spend the cash part, it can be used as a bookmark and not just discarded.",
           -1
          ],
          [
           4,
           "A Cute Gift Card/n/nThis was a most appreciated gift.  I wish it had been packed more carefully,  it was stuck under the flap of the box and I almost threw it out.",
           -1
          ],
          [
           5,
           "not for me didn't order it was fraud/n/nnot for me",
           75
          ],
          [
           5,
           "Easy gift giving!!!/n/nGreat for in-laws!!",
           50
          ],
          [
           5,
           "As Described/n/nItem as described and shipped in a timely manner.",
           -1
          ],
          [
           5,
           "Bought as a gift/n/nBought as a gift and no idea how easy these are to use or even how many resturants are included as the product page and cards did not clearly say.",
           25
          ],
          [
           5,
           "New box doesnt have hole in bottom/n/nIts a gift card with a box.  A giftcard is a giftcard.  So the box is the defining nature.  The box is reusable for other cards and Doesnt have bottom window anymore.",
           50
          ],
          [
           5,
           "easy gift/n/nlike that it came in gift box",
           25
          ],
          [
           5,
           "PERFECT GRADUATION GIFT/n/nThis is quite possibly the most perfect graduation gift, and it's graduation themed in cap and gown decor. Graduates don't wan't more 'stuff' but they will always take $$ in the form of gift cards. Will be getting these for years to come, it's simple and nice, and hip and functional, all rolled into one.",
           25
          ],
          [
           5,
           "Easy.../n/nOrder one of this for my sister baby shower gift due to Covid-19 distancing and it was best and easy option to go for.",
           10
          ],
          [
           5,
           "Great buy!/n/nLove the gift card lightening deals on products we use everyday!",
           50
          ],
          [
           5,
           "Super convenient/n/nGot this for my dad for Christmas he loves it! I appreciate the option to buy it on here as the place is drive thru only right now I didn't wanna sit in a long line just for gift card. Thanks for making it easier as most stores with gift cards near me don't carry Arby's.",
           50
          ],
          [
           5,
           "Christmas Gift/n/nI received two Amazon gift cards for Christmas.  One from my son and daughter-in-law and another one from my friend.  This is the greatest way to shop. It's very easy to register the gift cards and once it's set up all you have to do is shop!!!!!!!  The gift card is automatically charged.  It's the perfect give to give someone.",
           25
          ],
          [
           5,
           "Awesome/n/nI wanted to get something different n my dads always complaining about breakfast n first watch has amazing breakfast so great gift card",
           25
          ],
          [
           5,
           "It arrived quickly!/n/nEasy way to send to someone in another state. They can purchase what they want.",
           25
          ],
          [
           5,
           "Five Stars/n/nExactly as described.",
           25
          ],
          [
           4,
           "Great gift!/n/nBought for a wedding gift as there was no registration. They loved it as they use Amazon Prime all of the time. While the gift box was nice, it was a little flimsy and the gift card is a thin piece of cardboard they would type into their gift card balance. Not exactly as expected but a great gift nonetheless!",
           25
          ],
          [
           3,
           "Someone didn't care/n/nThe card and snowflake holder were intact but the gift note inside was crumpled.  What a way to present a gift!",
           25
          ],
          [
           1,
           "Don’t work, customer service has no clue/n/nThese gift cards do not work. May be a scam.",
           25
          ],
          [
           5,
           "and my mom loved it./n/nThis was a gift, and my mom loved it.",
           25
          ],
          [
           5,
           "Headline/n/nThey got here",
           25
          ],
          [
           5,
           "Happy with this purchase/n/nI thought this was cuter and more fun to get than just a plain gift card. It made giving this as a Christmas gift more special and easier to keep track of (amidst all the wrapping paper and boxes).",
           25
          ],
          [
           5,
           "$25 dollars! Wow!/n/n$25 dollars! Wow!",
           50
          ],
          [
           5,
           "Nice gift box/n/nThe box is nice enough for any gift occasion",
           25
          ],
          [
           5,
           "Five Stars/n/nfor those last minute &#34;teen&#34; gift --I break them up when ever I have a &#34;ATTAGIRL/BOY&#34; MOMENT",
           -1
          ],
          [
           5,
           "Five Stars/n/nPerfect Christmas present!",
           25
          ],
          [
           5,
           "Great Gift For amazon Shoppers/n/nIt's a gift card. You know. Not a toy or an item you cherish for life. BUT, it comes in very handy for other amazon.com shoppers you know. Therefore, it works.",
           25
          ],
          [
           5,
           "Adorable/n/nMy son loved this gift box.  He is keeping it to hold other trinkets.  The box folds shut and it kept closed with a magnet.  Very cute.",
           25
          ],
          [
           5,
           "A really cute way to disguise cold hard cash/n/nVery cute. My daughter loved it.",
           20
          ],
          [
           5,
           "Nice gift idea!/n/nGot them as gifts and can't say the receiving party was mad about it!",
           25
          ],
          [
           5,
           "Easy gift/n/nIt was a gift to our postal delivery person that is retiring.  Don’t have to worry about returning something",
           10
          ],
          [
           5,
           "Five Stars/n/nAwesome.",
           100
          ],
          [
           5,
           "Christmas present/n/nChristmas present",
           25
          ],
          [
           5,
           "Gift/n/nGift",
           50
          ],
          [
           5,
           "Impressive/n/nThis makes a very nice gift.",
           25
          ],
          [
           5,
           "Baby/n/nI have no video.  They live in New Orleans. Cute and arrived on time.",
           50
          ],
          [
           1,
           "One Star/n/nI didn’t get it when I was supposed to.",
           100
          ],
          [
           5,
           "Five Stars/n/nWhat's not to like about an Amazon gift card?",
           20
          ],
          [
           5,
           "Five Stars/n/nYou did good!!!!",
           20
          ],
          [
           5,
           "Its a gift card.../n/nGift cards are fantastic in my family. It is wonderful to be able to send my Grandmother and Mother card for such a good burger joint.",
           25
          ],
          [
           5,
           "Five Stars/n/nYes",
           25
          ],
          [
           5,
           "If you or a someone you know likes Ihop it works like it supposed to work/n/nIf you or a someone you know likes Ihop it works like it supposed to work",
           25
          ],
          [
           1,
           "False information/n/nThis company advertised a $20 gift card for $15, once purchased changed the amount. Now I can’t return them!",
           20
          ],
          [
           5,
           "Five Stars/n/nThe best way to gift is give the option of letting the receiver pick their own gift.",
           25
          ],
          [
           5,
           "Five Stars/n/nGreat gift box, arrived quickly.",
           75
          ],
          [
           5,
           "Five Stars/n/ngreat",
           25
          ],
          [
           5,
           "It is just a giftcard/n/nIt arrived very fast. I can only assume the correct amount was loaded.",
           25
          ],
          [
           5,
           "Easy/n/nFast and easy.",
           50
          ],
          [
           5,
           "Good gift idea/n/nGreat gift idea.",
           20
          ],
          [
           5,
           "Amazon Gift Card in Snowflake Tin/n/nThe recipient was very pleased. He can now combine cards and get what his heart most desires.",
           25
          ],
          [
           5,
           "Love it/n/nMade my son Happy",
           100
          ],
          [
           1,
           "Fake cards. Had zero value./n/nFake cards. Had zero value on all 4. I gave as a thank you gift and was humiliated",
           25
          ],
          [
           5,
           "???????/n/nTo return becauce didn’t do anything gor me!",
           25
          ],
          [
           5,
           "Five Stars/n/nas expected",
           100
          ],
          [
           5,
           "The best for these times/n/nConvenient. Quick. In these times it is a good long distance gift.",
           206.95
          ],
          [
           5,
           "Gift card to limitless possibilities/n/nCome on! Who doesn’t like receiving an Amazon gift card?!?! You can find anything you need and stuff you don’t need but want!",
           25
          ],
          [
           1,
           "amazon gift cards/n/nI  ordered amazon gift cards on Dec. 11 2011 and they still have not shipped.  It is now 1-12-12. Do I really have to cancel this order and reorder?  Very inconvenient for me",
           -1
          ],
          [
           5,
           "Five Stars/n/ncute",
           -1
          ],
          [
           5,
           "Five Stars/n/nGiving gift cards like this makes the gift seem more personal. They arrive SO fast, too.",
           -1
          ],
          [
           5,
           "Shopping made easy!!!/n/nEverything about was great!",
           50
          ],
          [
           5,
           "He loved it!/n/nPurchased for one of my grandchildren.  He loved it!!",
           25
          ],
          [
           5,
           "Five Stars/n/neverybody loves these, right?",
           -1
          ],
          [
           5,
           "Easy to use/n/nGreat gift idea and easy to use. The pop up gift box was a great added touch.",
           50
          ],
          [
           5,
           "Gift that's always appreciated!/n/nHow can you go wrong with a gift certificate, where you can find anything you might need, great price with great selection.",
           -1
          ],
          [
           5,
           "Gift cards and they gift card well./n/nummm they are gift cards.  Do really like the tins tho...",
           -1
          ],
          [
           5,
           "Tin is adorable/n/nThe tin is adorable. The grandkids loved it",
           25
          ],
          [
           5,
           "Five Stars/n/nGreat Gift Card!",
           25
          ],
          [
           5,
           "Gift/n/nHad to return a gift, do now I can give her this to pick her own gift",
           50
          ],
          [
           5,
           "It's a gift card. Not much more I can .../n/nIt's a gift card.  Not much more I can say about it.  Arrived on time and the theme fit with my sister's graduation.",
           25
          ],
          [
           5,
           "Great gift/n/nAlways like Amazon gift cards",
           -1
          ],
          [
           5,
           "Card/n/nGood card",
           25
          ],
          [
           2,
           "cheap cardboard/n/nI was embarrassed to give these cheap cardboard cards out at Christmas. In fact, I was shocked. They were all stuck together and one tore during the process of separating them. CHEAP for Amazon Learned my lesson and won't order these again",
           125
          ],
          [
           5,
           "The best gift./n/nEverybody love this gift.",
           50
          ],
          [
           5,
           "Five Stars/n/none of my favorites....will do again next year.",
           -1
          ],
          [
           5,
           "Five Stars/n/nWhat's to go wrong ?? It's food !!",
           25
          ],
          [
           5,
           "Great/n/nOn time. Great food.",
           -1
          ],
          [
           5,
           "Five Stars/n/nRecipients really liked the box, asked if it was ok to regift the box. Said sure!!!",
           50
          ],
          [
           5,
           "Love, love, love the containers they came in/n/nI don't like giving money or gift cards but these came in such cute metal containers that I<br />decided to get them and I was pleasantly surprised.",
           25
          ],
          [
           1,
           "Don’t buy!!!/n/nI got it went to use this item $25 gift card an couldn’t tried another place would not work called customer service said 7-10 days they would send me a new card because card wasn’t printed right seemed odd to me the expiration date was wrong on my card from what was on file for the card so it would not work I needed it an now aM out $25 till I get it in a week ridiculous not my fault couldn’t over night the card to me literally not my problem he gave a a case number he was really nice but come on 7-10 days when again not my fault it was made right now I have to wait when I needed the card in the first place ridiculous I’ll never buy a card off here again happy it was only $25 not the $50 card still upset",
           28.95
          ],
          [
           5,
           "Very nice packaging for a gift card/n/nGift cards are always welcome by my gift recipients. They then have thousands of items to choose from. This presentation packaging is very nice.",
           50
          ],
          [
           5,
           "Great for Christmas or winter birthday gift card./n/nLoved the snowflake tin.",
           25
          ],
          [
           5,
           "I would buy it again./n/nThis card is so easy to use and very gift able. It was given to my granddaughter and the thickness was right for her to carry comfortably.",
           25
          ],
          [
           5,
           "Gift card/n/nCan’t go wrong with a gift card!",
           50
          ],
          [
           4,
           "Four Stars/n/nLove the Idea",
           25
          ],
          [
           5,
           "12 hour delivery/n/nGreat gift. Free bear!",
           -1
          ],
          [
           5,
           "Good/n/nWhat can I say, its a gift card",
           25
          ],
          [
           5,
           "😎/n/nThis made a great gift. Got it for my brother as a Christmas gift.",
           100
          ],
          [
           2,
           "No receipt for gift card/n/nI have ordered quite a few Amazon gift cards this year and this one did not come with the receipt which is worrisome for me as it is a gift...All the other gift cards I purchased had receipt I could tape on box ... Hopefully the Recipient won’t have any problems cashing it in",
           50
          ],
          [
           5,
           "Gift cards/n/nA great Christmas gift for all the family!!!",
           50
          ],
          [
           5,
           "Easy no hassle gift/n/nGood gift",
           100
          ],
          [
           5,
           "They're very happy with the gift/n/nBought for a client as a gift when they purchased their new home. They're very happy with the gift, and Lowe's has something for most any homeowner or renter!",
           100
          ],
          [
           5,
           "Five Stars/n/nNice gift card.",
           75
          ],
          [
           5,
           "Everyone was very happy!/n/nThey where the perfect gift for my grandkids.",
           20
          ],
          [
           5,
           "Easy/n/nEasy peasy",
           25
          ],
          [
           5,
           "Great gift card box/n/nI really likes this box with the Amazon gift card.  Really cute for a baby shower or baby's arrival.",
           25
          ],
          [
           5,
           "Easy Christmas present/n/nMakes it easy to Christmas shop and everyone gets what they want",
           -1
          ],
          [
           1,
           "Very unhappy/n/nIt came with a zero balance it was not activated",
           25
          ],
          [
           5,
           "Easy gift/n/nEasy gift!",
           15
          ],
          [
           5,
           "Big hit !/n/nMy hubby was very happy with the gift card. Always the right size and color !",
           -1
          ],
          [
           5,
           "Good idea for those who you aren't sure which type of restaurant they prefer/n/nI like it because it can be used at a variety of restaurants that are part of the Millennium group.",
           -1
          ],
          [
           5,
           "Happy Recipient/n/nYou can't go wrong with a gift card",
           25
          ],
          [
           5,
           "Great!/n/nGreat deal!",
           -1
          ],
          [
           5,
           "It served a good purpose/n/nQuick and simple gift",
           -1
          ],
          [
           5,
           "Didn’t get scammed so I’m happy./n/nIt worked so I’m happy. Bought as Xmas gift for my mom. Was a little nervous about it being a scam but the card worked fine.",
           54.95
          ],
          [
           5,
           "✔️/n/nArrived with USPS already activated and ready to be use. Register it at the website on back for purchases requiring zip code.",
           28.95
          ],
          [
           5,
           "Nice!/n/nGreat gift card. Purchased on Prime day for $5 off which made it that much more special!",
           25
          ],
          [
           4,
           "Cute but sent black instead of white card/n/nJust as someone else mentioned, the gift card I requested was the white one to go with the baby shower envelope, but I was sent the black card instead. I like the envelope, but there's no place to write to, from & the amount. It comes open too easily so I secured it w/ tape. I also bought a little teddy bear from Amazon to hold the gift card.",
           15
          ],
          [
           5,
           "Perfect for someone who has everything/n/nPerfect gift",
           25
          ],
          [
           5,
           "Right color and fits/n/nThe people who received these as gifts really liked them!",
           25
          ],
          [
           1,
           "The gift card did not arrive on time and I .../n/nThe gift card did not arrive on time and I ended having to go to the store and buy one.",
           -1
          ],
          [
           5,
           "Grest Christmas Gift/n/nBest Christmas gift for your grown up nieces and nephews because they know exactly what they want and most likely Amszon has the item.<br /><br />I personally love it's creative design.<br /><br />My nieces and nephews love the $$$$ part.",
           50
          ],
          [
           5,
           "SIMPLY WONDERFUL!!!!!!/n/nWONDERFUL!!!!!",
           15
          ],
          [
           5,
           "Good product/n/nitem was good",
           -1
          ],
          [
           5,
           "Five Stars/n/nCute Santa tin. Just put a name tag on it and put it under the tree!",
           25
          ],
          [
           1,
           "Terrible/n/nI tried to use the card to purchase something on Amazon and it didn't work  Also, if you use it somewhere else the card has to be activated before you use it! It appears that you won't know beforehand if you can use it.Right now it seems like I am just out the money!",
           28.95
          ],
          [
           4,
           "Beautiful packaging./n/nGift card with beautiful packaging. Impressive. With NO extra charge.",
           50
          ],
          [
           5,
           "Husband loved it/n/nJust as described",
           25
          ],
          [
           5,
           "A no brainer perfect gift!/n/nVery convenient gift for a tween girl!",
           20
          ],
          [
           5,
           "Comes in a beautiful box/n/nAmazon gift cards make great Christmas gifts. Comes in a beautiful box with a pop-up Christmas card. Love it!",
           50
          ],
          [
           5,
           "Love this series!  The characters are so believable!  They make me feel right at home!/n/nPerfect for a gift!",
           25
          ],
          [
           5,
           "Five Stars/n/nGood",
           50
          ],
          [
           5,
           "liked/n/ngreat gift",
           25
          ],
          [
           5,
           "and better than trying to find one and pay extra for .../n/nJust as cute as pictures, and better than trying to find one and pay extra for a box at the store.",
           25
          ],
          [
           5,
           "Five Stars/n/nPerfect.",
           100
          ],
          [
           5,
           "A gift card with an extra touch./n/nI loved the little pop-up gift box that came with the $100. gift card I purchased.  My daughter loved the presentation and is planning to reuse the box when she gives a gift card to someone.  Way to go Amazon!",
           50
          ],
          [
           5,
           "Packaging is a Hit!/n/nGave as a gift for my granddaughter. She kept the cute container after she used the gift card.",
           -1
          ],
          [
           4,
           "Four Stars/n/nThis allowed me to purchase some songs and movies",
           -1
          ],
          [
           5,
           "Gift tag/n/nI like this for a gift tag",
           -1
          ],
          [
           5,
           "Five Stars/n/ncute packaging & thanks for the PRIME shipping!",
           25
          ],
          [
           5,
           "Very pleased/n/nThis was a Christmas gift. I was pleased with the presentation and it was effortless to add to a gift basket.",
           50
          ],
          [
           5,
           "Beautiful gift card holder/n/nSee above",
           50
          ],
          [
           5,
           "Very nice cute tin/n/nGreat cute tin",
           25
          ],
          [
           5,
           "Makes a great gift to give ./n/nThese gift cards are great. I used it to give to my daughter for helping me after my surgery. She loved it ,she used it to get something she h as d wanted.",
           10
          ],
          [
           5,
           "Five Stars/n/nGift",
           25
          ],
          [
           5,
           "xmas gift/n/nlove the place",
           25
          ],
          [
           5,
           "Super easy./n/nVery fast delivery.  Usually the next day<br />Christmas gift for the mail carrier.",
           10
          ],
          [
           5,
           "Five Stars/n/nPerfect",
           25
          ],
          [
           5,
           "This is a simple way for me to give as .../n/nThis is a simple way for me to give as a Christmas gift. The person who received this gife is a  Amazon's prime shopper.",
           -1
          ],
          [
           5,
           "Five Stars/n/nI loved these bookmark gift cards!",
           -1
          ],
          [
           5,
           "Very Happy Customer/n/nI was extremely happy with the gift card I purchased. The card arrived before the promised time and the picture was even cuter in person than the picture on the website. Keep up the great work Amazon!! You have a life-long customer in me. I have gotten my mom to sign up with Amazon and even my dad has signed up and he avoinds most internet stores like the plague!<br /><br />~Natalia M.",
           -1
          ],
          [
           5,
           "Great way to knock out a year subscription to Spotify/n/nIt’s nice saving money and not having a monthly payment",
           99
          ],
          [
           1,
           "So I recommend if you give this gift card or use one .../n/nReceived as a gift 2 yrs ago, Tried using it and the computer system said it does not exist! So I recommend if you give this gift card or use one use it ASP! :(",
           50
          ],
          [
           5,
           "Great way to give a gift card!!!/n/nReally liked the snowman tin holding the gift card -- what a fun way to present the card as a Christmas gift!  Loved it.",
           25
          ],
          [
           5,
           "Five Stars/n/nGreat deal spend 40 get 50.",
           50
          ],
          [
           5,
           "Girl that loves her gift!/n/nGiven as a gift to our youngest daughter. Use the gift card for an smart watch!",
           25
          ],
          [
           5,
           "Quick and easy!/n/nThank you for the delivery photo!  I did a screenshot and texted it to my brother so he could see that his gift card package was on his front porch!!  Very helpful!! Thanks!!",
           20
          ],
          [
           5,
           "Very classy!/n/nGreat gift for someone you don’t know too well.  Love the way AMAZON packages their gift cards!!!",
           -1
          ],
          [
           5,
           "Gift/n/nEasy gift",
           50
          ],
          [
           5,
           "It's not much of a savings but something is better than nothing/n/nI bought this when Amazon had a special deal on gift cards.  My wife and I fly Southwest every year so this was a way to reduce our airfare a little.  It's not much of a savings but something is better than nothing.",
           150
          ],
          [
           5,
           "The perfect size 👌 😍/n/nJust the right size lol",
           10
          ],
          [
           4,
           "Much larger than I expected./n/nLarge sturdy item, really a bargain, looked great on the tree.",
           25
          ],
          [
           5,
           "I liked the packaging/n/nThe gift card looked very festive, I liked the packaging.",
           20
          ],
          [
           1,
           "RIP OFF/n/nThis is a total rip off. I bought this gift card as a Christmas present for my daughter.<br />She wasn't able to use it because all the numbers she entered were incorrect.<br /><br />Very surprised that a company like Amazon can sell crap like this",
           -1
          ],
          [
           5,
           "Arrived quickly/n/nGift cards for my hubby's birthday.  He loved them.",
           -1
          ],
          [
           4,
           "Happy customer/n/nLove these cards, great for anyone, movies, concerts broadway shows and so much more let them choose. Bought for Christmas and even though we had a issue with one of the packs, Amazon was great and replaced immediately. As a tip you must talk to a representative to replace gift cards. Amazon works very hard at keeping customers happy",
           45
          ],
          [
           5,
           "Five Stars/n/nWe love these gift cards. They come in handy.",
           50
          ],
          [
           5,
           "Five Stars/n/nalways the best gift",
           -1
          ],
          [
           5,
           "Five Stars/n/nGift",
           25
          ],
          [
           5,
           "gift card/n/ngreat",
           50
          ],
          [
           5,
           "Came in 2 days just in time for xmas/n/nGift",
           25
          ],
          [
           5,
           "Price and availability./n/nPrice and availability.",
           25
          ],
          [
           5,
           "she loved the bear/n/nnice bear",
           -1
          ],
          [
           5,
           "AMAZON DELIVERS ON TIME/n/nThank you for the fast delivery of a gift card to a dear friend.  This was perfect and they loved it!",
           -1
          ],
          [
           5,
           "Super!/n/nGreat way to send gifts!",
           25
          ],
          [
           5,
           "Five Stars/n/nOrder was accurate and as expected.",
           -1
          ],
          [
           5,
           "A money guift with out giving cash/n/nwas purchased as Christmas gift.",
           25
          ],
          [
           5,
           "Love 'em - they really dress up a gift card!/n/nWe had two people on our gift list who are getting gift cards, and we wanted to dress the cards up so they looked a little festive.  These really do the job.  They're not flat evelope-like things - they're made of thick, glossy paper, are nicely decorated, and can fit three giftcards or two plus part of the backing card.  The cards are pushed up when you open the velcroed flap.  Behind the card spot is a small space for a couple flat Sees chocolate Santas or something like that.<br /><br />Absolutely delightful - I'm hoping to find birthday versions, as well.",
           -1
          ],
          [
           5,
           "Cute card/n/nVery cute card",
           15
          ],
          [
           5,
           "BEST EVER PURCHASE/n/nGOT IT IN TIME TO SEND TO MY FRIEND FOR HER ANNIVERSARY...… THANKS",
           25
          ],
          [
           5,
           "Amazon works with you they’re great/n/nWas going to return but decided to keep it my family will love it and I plan on giving it as a gift. Not the amount I wanted. But since they came to me I will give them as a gift",
           25
          ],
          [
           5,
           "Five Stars/n/nAlways a good gift.",
           15
          ],
          [
           5,
           "Five Stars/n/nGreat food",
           50
          ],
          [
           5,
           "Free/n/nFree",
           10
          ],
          [
           5,
           "fun money/n/nCute pop-up box.  Was a fun way to give a gift card.",
           50
          ],
          [
           5,
           "Five Stars/n/nThank you!!",
           100
          ],
          [
           5,
           "very cute box idea/n/nIt was a gift. She was very pleased with it.",
           -1
          ],
          [
           5,
           "50th Birthday/n/nIt was for our daughters 50th birthday. She uses Amazon a lot and was very happy.",
           15
          ],
          [
           5,
           "Looked good!/n/nLet's face it - It is a Gift Card!<br />The kids were happy!",
           25
          ],
          [
           5,
           "An easy and fast gift/n/nThis is an easy gift that is delivered fast.",
           50
          ],
          [
           5,
           "Ease/n/nEveryone loves gift cards—ease of ordering and gift wrapped to boot! Used to buy in grocery store. No more!!",
           -1
          ],
          [
           5,
           "Granddaughter loved it./n/nExcellent product.",
           25
          ],
          [
           5,
           "Five Stars/n/nthe best pizzas in town",
           20
          ],
          [
           5,
           "Nice Presentation/n/nI prefer to give an actual physical gift card, and this fit the bill for a lovely presentation. The box and ribbon are of good quality, and it makes it look more like an actual present, with forethought given to the gift.",
           50
          ],
          [
           5,
           "Everyone Likes Ice Cream/n/nSuch a handy gift to give without having to go to the shop as Baskin-Robbins cards usually aren't in other stores.",
           25
          ],
          [
           5,
           "A girl's best gift card!/n/nYou cannot go wrong with a gift card to Sephora - ever.  Great gift for any female in your life - and Amazon makes it easy to send!",
           75
          ],
          [
           3,
           "Three Stars/n/nwhat can you say about a gift card.  It's lovely.",
           -1
          ],
          [
           5,
           "Quick and easy gift/n/nQuick and easy gift",
           25
          ],
          [
           5,
           "Perfect gift/n/nI love the packaging on this gift card.  It was perfect.",
           25
          ],
          [
           5,
           "Five Stars/n/nBest gift option available",
           -1
          ],
          [
           1,
           "One Star/n/narrived with a $0.00 balance, no refund by amazon",
           200
          ],
          [
           5,
           "👍🏻/n/n👍🏻",
           20
          ],
          [
           5,
           "Great gift/n/nCan’t go wrong with an Amazon gift card and the Santa made a fun presentation.",
           20
          ],
          [
           5,
           "Make Gift Giving a Breeze!/n/nMade Christs gift giving a breeze this year. Don't knoww anyone who c an't find something they like on Amazon and you can't find better customer service anywhere.",
           25
          ],
          [
           1,
           "Ripoff/n/nI purchased a $50 card and when I used it, it was only worth $43.75",
           25
          ],
          [
           5,
           "Christmas gifts/n/neasy to shop for and easy to use!!",
           10
          ],
          [
           5,
           "Cute for Coworker Gift Cards/n/nI order a version of this gift card set for each of the work gifts for my coworkers for weddings and special occasions. The inside part of the box has a frame that holds the card in place and the satin fabric helps to create a \"special\" feeling to go with the card. For me, it's a staple card choice.",
           50
          ],
          [
           1,
           "There's only one reataurant anywhere near me in Palm Springs area./n/nI don't particularly like that one. So, no choices, so no buy.",
           25
          ],
          [
           5,
           "Five Stars/n/nFantastic box that comes with it. Some places charge for the box, I'm glad amazon didn't! Great gift!",
           -1
          ],
          [
           5,
           "Great gift!/n/nI purchased as a Christmas gift for my great niece.  It’s a great presentation for a gift card.  She loved it!",
           50
          ],
          [
           5,
           "perfect gift/n/nNicely packaged for Christmas",
           25
          ],
          [
           3,
           "MESSAGE/n/nWAS PARTLY MY FAULT FOR CHOOSING A DESIGN THAT DID NOT GO WITH THE BOX JUST WITH A CARD, BUT I DID NOT RECEIVE THE PERSONALIZED MESSAGE I WROTE TO ACCOMPANY THE GIFT.",
           -1
          ],
          [
           1,
           "Do not buy!/n/nZero stars.  These gift cards have a ZERO balance. Do not buy, this is fraud.",
           25
          ],
          [
           5,
           "Very easy to use/n/nMy oldest loved this gift",
           25
          ],
          [
           5,
           "Love the gift box!/n/nThis was a gift for my son-in-law and loved that the gift card came in a really nice box.  He was very happy of course with it!",
           25
          ],
          [
           5,
           "Five Stars/n/nas expected",
           -1
          ],
          [
           5,
           "Five Stars/n/nGood Christmas gift.",
           -1
          ],
          [
           5,
           "Great Santa tin with an Amazon Gift card/n/nGreat Santa tin with an Amazon Gift card.  Appreciate getting a full value $25 card and a quality gift tin included in the price.  Thank you Amazon!",
           25
          ],
          [
           5,
           "It's a gift card/n/nNice gift card",
           20
          ],
          [
           5,
           "gift/n/ngreat gift for the reader in the family",
           -1
          ],
          [
           3,
           "Should be simple and trouble-free, but.../n/nI've bought these gift cards before, without problems. But this time I purchased 6 together. One of the cards, given as a gift, turned out to have had no monetary value assigned to it. I managed to sort things out by calling Amazon customer service, but it was a bit awkward hearing from the card recipient that the card didn't work. I guess this situation can be avoided by printing out a gift card/certificate at home, but it's not the same thing.",
           -1
          ],
          [
           1,
           "Complete disregard to product quality./n/nWhat a cutesy design on the product's page, right? I ordered this birthday one, and a graduation one. The graduation one was perfect; 5 stars, presentation, container, etc. This birthday one however, wasn't.<br /><br />They shipped it, WITHOUT THE OTHER CUPCAKE HALF.<br /><br />Someone shoved this half baked birthday card inside a brown envelope alongside a perfectly done one, and said \"Yep, this is fine!\"",
           25
          ],
          [
           5,
           "Perfect/n/nLove it",
           25
          ],
          [
           5,
           "These gift card holders are awesome and CUTE CUTE CUTE and are so cute  Merry Christmas &lt;3/n/nTHEY ARE SO CUTE!!!!! MERRY CHRISTMAS :)",
           20
          ],
          [
           5,
           "AND REUSABLE TIN!/n/nCute Christmas / winter gift!",
           25
          ],
          [
           5,
           "As Advertised/n/nGift cards, plain & simple.",
           -1
          ],
          [
           5,
           "Five Stars/n/nGreat gift",
           -1
          ],
          [
           5,
           "Just Thank you Amazon/n/nYou are kind Amazon and I am grateful.",
           10
          ],
          [
           5,
           "Attractive packaging/n/nThese gift cards were a hit. So pretty and could be hung on the tree.",
           50
          ],
          [
           5,
           "Great present/n/nPleasantly surprised by how large the bear is!",
           -1
          ],
          [
           5,
           "Love that I can purchase such a wide variety of .../n/nLove that I can purchase such a wide variety of gift cards, keeps me from having to travel around town!",
           25
          ],
          [
           5,
           "Hot Topic!/n/nExactly as described! $25 gift card for Hot Topic. My sister will be very happy on her birthday!",
           25
          ],
          [
           5,
           "Always a great gift!/n/nvery pleased with the promptness of delivery",
           25
          ],
          [
           2,
           "Sustainability???/n/nHappy with the overall presentation but the card is PVC (a known carcinogen).  Most cards are made of paper these days and am sorry to see that Amazon is not even joining in that push.",
           25
          ],
          [
           5,
           "They were all good, so don't be afraid to buy them/n/nI read the reviews after I had ordered 4 50.00 cards.  Instead of saving for Christmas gifts I used them to buy gifts so I could test them out.<br />They were all good, so don't be afraid to buy them.",
           -1
          ],
          [
           5,
           "Easy and quick/n/nIt was a gift",
           25
          ],
          [
           5,
           "My sister was so happy/n/nMy family loves Amazon and shop with them all the time",
           15
          ],
          [
           5,
           "Five Stars/n/nIt’s a gift card.",
           25
          ],
          [
           5,
           "Conventient/n/nExcellent gift item",
           10
          ],
          [
           5,
           "Five stars/n/nI liked the convenience the most.",
           -1
          ],
          [
           5,
           "Great deal!/n/nMy daughter loved her gift card to American Eagle.  Getting it at a discount was a bonus!",
           25
          ],
          [
           5,
           "Gift cards are always a good gift/n/nGrandsons loved receiving gift card so they could go pick out what they wanted.",
           100
          ],
          [
           5,
           "Five Stars/n/nThanks for making everything so simple!",
           -1
          ],
          [
           5,
           "Expected/n/nHappy with purchase.",
           10
          ],
          [
           5,
           "Cute tin and arrived fast!/n/nGift for my niece’s birthday.  She’s 13 years old and likes to be able to pick out her own things.  Fast arrival.",
           25
          ],
          [
           5,
           "Great gift./n/nThe little container was so cute!  Great gift.",
           25
          ],
          [
           5,
           "Jack's graduation/n/nMade my nephew very happy!",
           25
          ],
          [
           5,
           "Amazon.com Gift Card in a Holiday Gift Box/n/nGift<br />easy to use",
           25
          ],
          [
           5,
           "Five Stars/n/n:)",
           25
          ],
          [
           5,
           "bad luck on delivery, but we found it../n/nThe card was delivered to the wrong address. But we found so I'm happy again...",
           25
          ],
          [
           1,
           "Hugely Disappointing Gift/n/nHugely disappointing gift.<br /><br />I'm not a big fan of gift cards in general, but I have received Amazon cards in the past.  Amazon has a huge selection of items to purchase, great prices, and there were no problems activating and using my card - so that's fine.  ... but that was Amazon, and Staples is not Amazon.  By way of comparison, the Staples gift card has been a huge disappointment.<br /><br />First, there is NO VALUE PRINTED ON THE CARD, so you have to go check the balance to even know what you have.  Then when I went to the Staples website to check the cards balance, it kept telling me that the card number was invalid (though I verified both the card number and PIN were correctly entered several times, and even tried it a second and third time from another computer with a different browser).  I was beginning to think I had a counterfeit card, but decided to re-check the card using the Staples 888 phone number, and that did work, so the card was fine.  So the first disappointment was that Staples wasted over an hour of my time just trying to get the card to validate on the Staples website, only to find that the Staples website was screwed up for some reason, though the card was fine.<br /><br />The Staples phone verification system reported that my card is a valid $25 giftcard, but once I was finally able to verify the cards balance using the phone system, I was in for another HUGE disappointment, because prices at Staples are so horrible that, even after checking my local Staples &#34;Weekly Ad&#34; Sales and applying my &#34;Gift Card&#34; I found that in most cases, I might as well just buy the item on Amazon.  In fact, in some cases the prices were so bad that I would have actually saved money to throw my gift card in the garbage and just pay Amazon's full price (because Amazon's everyday price was more than $25 dollars less).<br /><br />The good thing about a gift card is that the person who receives the card has 'mad money' that they can use to pick out whatever gift they want, the BAD thing is that if you give them a gift card to a store with LOUSY PRICES, then they may feel like their windfall gift money is being spent foolishly and feel bad (which pretty much sums up my feelings dealing with Staples).<br /><br />Also, all my past experiences with Staples have seemed to involve that old-school bait-and-switch sales model where they dangle a sale item in your face, just to try to get you into the store, then RIP YOU OFF by telling you &#34;So sorry, the sale item you want isn't available, but we do have a fine selection of our outrageously overpriced non-sale items, so wouldn't you rather have one of those instead?&#34;  Staples is not as bad as Best Buy (who are the worst scum in the universe in regard to bait-and-switch B.S.) but after buying on Amazon for the last few years, I am not ancious to play ANY of the brick an mortar store games of scampering around town like a rat in a maze trying to find that 'deal' before it disapears.<br /><br />On Amazon, prices may change over time, but if an item is listed as available for a certain price, then you can buy it at the price shown, period, end of story.",
           -1
          ],
          [
           5,
           "Easy order and fast delivery/n/nObviously it was the right size and color! Great gift!",
           25
          ],
          [
           5,
           "Great gift for a 4 year old!/n/nThis was a great gift for my four year old grandson. It allowed him to pick out a toy that he wanted and pay for it with the Amazon Gift Card. No risk attached as the child gets exactly what he/she wants.",
           20
          ],
          [
           5,
           "Five Stars/n/nGreat gift card for those who love Subway and saving a little money!",
           50
          ],
          [
           4,
           "people were happy./n/nWhat is there to say about gift cards, they arrived, I gave them away, people were happy.",
           -1
          ],
          [
           5,
           "gift card in a really cool little diamondplate case! A great gift idea for guys./n/nwhat is not to love about getting a gift card in a cool diamond plate case? Nothing to say about it other than it is very cool looking and makes a gift card seem a lot nicer. Any guy who likes working on cars or has a mancave will love this one!",
           -1
          ],
          [
           5,
           "Funciona/n/nUn gran regalo",
           10
          ],
          [
           5,
           "Looks nice./n/nWe sent it to our son for Christmas.  He loved the card (especially the amount) and loved the star-shaped container!",
           25
          ],
          [
           5,
           "Five Stars/n/nGift cards make gift giving so easy!",
           25
          ],
          [
           5,
           "Five Stars/n/ngreat",
           -1
          ],
          [
           5,
           "Best gift!!/n/nSo cute!!! The ornament is such a great little extra!!! We gave them to our teachers and they were a huge hit!!",
           25
          ],
          [
           5,
           "Great gift/n/nGreat gift for someone who shops on Smazon.",
           25
          ],
          [
           5,
           "Five Stars/n/nI like the quite delivery on my gift card",
           25
          ],
          [
           5,
           "Great gift idea/n/nThese make great gifts",
           10
          ],
          [
           1,
           "Waste of money/n/nPizza Hut did not accept this gift card.",
           25
          ],
          [
           5,
           "Gift card/n/nIt’s a gift card 🤷‍♀️",
           -1
          ],
          [
           5,
           "Cute Container/n/nJust what I was looking for to give someone as a gift. The container is built pretty solid and does not flex.",
           25
          ],
          [
           1,
           "No gift card or gift box/n/nI sent one of these as a birthday present.  The recipient only received the invoice for the amount of the gift card and the packing envelope with nothing inside. Very embarrassing!",
           25
          ],
          [
           5,
           "Gift cards/n/nThese were gifts for my daughter-in-law and 2 granddaughters for Christmas.  I purchased other items but wanted them to be able to pick one of their own.  They all loved them.",
           -1
          ],
          [
           5,
           "Great gift/n/nMany of our family love their Amazon gift cards for birthdays and Christmas. Great service.",
           10
          ],
          [
           4,
           "Good gifts/n/nI will use as gifts, always happy with quality at Chili’s",
           30
          ],
          [
           1,
           "did not work! had to return go through refund .../n/ndid not work! had to return go through refund process and now the birthday has passed so late gift embarrassing!!!",
           25
          ],
          [
           5,
           "Great/n/nGreat",
           25
          ],
          [
           5,
           "Five Stars/n/nCame fast and makes a great stocking stuffer.  Can't go wrong with a gift Certificate!",
           20
          ],
          [
           5,
           "Convenient perfect gift/n/nWho doesn't love a gift card of your favorite place?!  What I absolutely love about this is how convenient it is for me.  I don't have to goto a store to purchase this gift card.  Just click of a button & I get it in 1 day.  There is a few decorative options for the gift card,  which I think it's pretty neat.",
           50
          ],
          [
           1,
           "Disappointed/n/nWas not delivered promptly.",
           -1
          ],
          [
           1,
           "Not as advertised/n/nWas posted as a $50 card for $40. Was billed 50 and tax",
           -1
          ],
          [
           5,
           "best gift for kids teachers/n/ni like the Christmas color envelopes and i think the teachers should be happy to get the gift.",
           -1
          ],
          [
           5,
           "The $10 cards make excellent gifts for individuals who do service work for you/n/nThe $10 cards make excellent gifts for individuals who do service work for you.  Doctor offices, rescue, hospital, police, restaurants, fire dept,, teachers, plumbers, electricians, handy persons, letter carrier, delivery (like our &#34;GO BOLTS DAVE!&#34; from FedEx), neighbors, teenagers, etc.",
           40
          ],
          [
           5,
           "Super fast shipping!/n/nPurchased these when I forgot to get gifts for some family members, whoops. They arrived in right the next day and I couldn’t be more appreciative!",
           10
          ],
          [
           5,
           "Christmas gift card/n/nVery convenient",
           25
          ],
          [
           5,
           "Five Stars/n/nNice",
           150
          ],
          [
           5,
           "It's great/n/nIt's great",
           15
          ],
          [
           5,
           "Fine/n/nEasy to purchase",
           28.95
          ],
          [
           5,
           "I love it/n/nit's a gift card, what else is there to say?",
           -1
          ],
          [
           5,
           "Very quick delivery!/n/nHey they are gift cards. The things you get for those people you don't know what to get them because you don't associate with them enough to really know what they like or need.",
           10
          ],
          [
           5,
           "Great gift/n/nGreat gift",
           20
          ],
          [
           5,
           "Great gift for the holidays!/n/nI plan to put this in the Christmas tree for my son as a decoration Christmas morning! :)",
           10
          ],
          [
           1,
           "Designer flaw - frustrating for a child to use/n/nThe sliding car would be very frustrating for a toddler to use as it requires one hand to create enough tension for it to slide along the string and the other hand to slide  the car.  Definitely a flaw that makes it incompatible for a child to use.",
           50
          ],
          [
           5,
           "HAPPY FATHER'S DAY/n/nI bought this for my 10 yr old Granddaughter to give her daddy for Father's Day. She was happy and so was daddy.🙂",
           25
          ],
          [
           5,
           "Good deal/n/nPrice!",
           25
          ],
          [
           5,
           "Five Stars/n/nGreat way to shop",
           50
          ],
          [
           5,
           "Gift card/n/nGreat gift",
           25
          ],
          [
           5,
           "Perfect for anyone/n/nGreat gifts  terrific  Let’s them pick what they<br />Want",
           25
          ],
          [
           5,
           "Awesome promo!/n/nAwesome promo! Got office365 (1 year) and a $50 gift card for $100.",
           -1
          ],
          [
           5,
           "Five Stars/n/nYa, it's a gift card!",
           -1
          ],
          [
           5,
           "Very Cute/n/nThis came very quickly in a very cute package. The receiver loved the ornament too!",
           25
          ],
          [
           5,
           "great way to send gift/n/nCupcake tin perfect for birthday presentation.  Quick delivery",
           25
          ],
          [
           1,
           "One Star/n/nDid not gettttty😭",
           -1
          ],
          [
           4,
           "Four Stars/n/nThe note I wrote to accompany the gift card may not have been delivered.",
           25
          ],
          [
           5,
           "Lovely gift card/n/nPerfect gift",
           25
          ],
          [
           5,
           "I don't have to mail it sent direct./n/nIt's a gift card.",
           54.95
          ],
          [
           5,
           "Convenience/n/nIt was a gift.",
           28.95
          ],
          [
           5,
           "Five Stars/n/narrived exactly as expected",
           -1
          ],
          [
           5,
           "Five Stars/n/nGift card",
           15
          ],
          [
           5,
           "Gift card/n/nAs described",
           25
          ],
          [
           5,
           "Review/n/nI would buy a gift card again, very giftable?",
           25
          ],
          [
           5,
           "Gift/n/nGift",
           20
          ],
          [
           5,
           "Five Stars/n/nHADE no problems using it",
           20
          ],
          [
           2,
           "Not a real tree!/n/nAttention buyers, please be weary when purchasing this form of gift card because the tree that pops up is NOT real; it is made of hard paper stock.  So don't go investing in fertilizer, a stand, or even a string of lights because it's not a real tree!",
           50
          ],
          [
           4,
           "Cute card holder, however gift card not inserted/n/nHeads up..Recipient reported that the flowered card holder was cute BUT the Amazon gift card was not inserted into it. It was actually on the bottom of the box and could easily have been overlooked and thrown out.",
           15
          ],
          [
           5,
           "Fast/n/nLiked the gift card",
           25
          ],
          [
           5,
           "great deal/n/nits ihop family loves it",
           -1
          ],
          [
           5,
           "Whatever you wish!/n/nWhat’s not to like?",
           25
          ],
          [
           5,
           "Good product!/n/nLoved it!",
           25
          ],
          [
           4,
           "Four Stars/n/nThe gift cards came very quickly. As they are gifts, I am not sure how to rate them.",
           20
          ],
          [
           5,
           "Exactly as described/n/nExactly as described",
           40
          ],
          [
           5,
           "Nice Gift/n/nNice way for me to send a gift to my Niece and her husband.",
           20
          ],
          [
           1,
           "Ordered two, one arrived in poor condition/n/nI ordered two of these.  On one of them, the plastic cover was broken.  Card was bent and folded.  It looks like someone crumpled it and returned it.  It was a bit embarrassing to give a gift that looks like this, but I needed it the next day so I didn't have time to return it for a replacement.<br />The other one was perfect and flat and made a nice gift.",
           15
          ],
          [
           5,
           "Quality product/n/nQuality product",
           25
          ],
          [
           5,
           "Yummmm/n/nLove this place...",
           25
          ],
          [
           5,
           "Arrived next day/n/nArrived next day, and very easy to use online.",
           -1
          ],
          [
           5,
           "easy to use/n/ngot it on prime day deal, easy to use, ordered cat food right away.",
           25
          ],
          [
           5,
           "great gift!/n/nFast and easy gift to send a college student.  My sister loved it!",
           50
          ],
          [
           5,
           "Great/n/nLiked",
           10
          ],
          [
           5,
           "Our son always loves getting this./n/nGreat product",
           25
          ],
          [
           5,
           "Five Stars/n/nVery nice gift to give.",
           -1
          ],
          [
           5,
           "Good buy/n/nGot them in a day .. Simple buy and easy .",
           20
          ],
          [
           5,
           "Perfect gift!/n/nBuy what they want not what we THINK they want!",
           50
          ],
          [
           5,
           "Great Price/n/nGreat Price",
           25
          ],
          [
           5,
           "Good deal/n/nI always love a good deal.",
           50
          ],
          [
           5,
           "Like this gift card/n/nEasy to use",
           25
          ],
          [
           5,
           "Great Gift/n/nI love this gift. I love also how it is wrapped in packaging from the store. Great gift for hard to buy people.",
           10
          ],
          [
           5,
           "Impressive!/n/nBought the thank you gift card inserted in a gift tag with string to give as gifts for a panel of college students who came to speak to my high school mentoring group. They loved them!",
           -1
          ],
          [
           4,
           "Great gift/n/nOne of my best friends loves Bath and Body Works so...no brainer",
           50
          ],
          [
           5,
           "Great gift/n/nPerfect gift for the one who has everything",
           25
          ],
          [
           5,
           "LOVE gift cards/n/nReceived it quickly and already put it to use.",
           25
          ],
          [
           5,
           "Five Stars/n/nGreat",
           -1
          ],
          [
           5,
           "Easy and happy giving/n/nSo easy to send gift card in pretty box",
           25
          ],
          [
           5,
           "beautiful boxing/n/nLove the way it came in, beautiful box and colors",
           25
          ],
          [
           5,
           "Five Stars/n/nGreat gift",
           25
          ],
          [
           5,
           "Great item fast shipping/n/nGreat idea for someone who’s hard to buy for. Shipped fast",
           25
          ],
          [
           5,
           "AMAZON GIFT CARD/n/nI have a very good deal on Amazon gift card<br />Thanks Amazon staff",
           25
          ],
          [
           5,
           "Great gift/n/nAdorable",
           25
          ],
          [
           5,
           "I love AMAZON/n/nGift card was at my door in hours from ordering! Last minute gift and Amazon saved the day!!!!",
           25
          ],
          [
           5,
           "Five Stars/n/neverything went well",
           -1
          ],
          [
           5,
           "The perfect gift!/n/nCandcas expected and described",
           10
          ],
          [
           5,
           "we;;received/n/nMy son absolutely loved it, he couldn't qait to show his mom",
           -1
          ],
          [
           5,
           "Gift Card/n/nGift card arrived quickly and worked when it was used so every thing is good!",
           100
          ],
          [
           5,
           "Five Stars/n/nArrived on time and happy as usual",
           -1
          ],
          [
           5,
           "Super cute!/n/nSuper cute and Giftable!",
           -1
          ],
          [
           5,
           "Fast delivery/n/nEasy to give, fast delivery and perfect for anyone!",
           25
          ],
          [
           5,
           "Great, easy gift!/n/nGreat gift, couldn't be easier!",
           25
          ],
          [
           5,
           "Five Stars/n/nGREAT CHRISTMAS GIFT",
           200
          ],
          [
           5,
           "Cute design for gifting!/n/nI thought Santa in chimney as a  gift card holder was very cute and who doesn't love an Amazon gift card!!!",
           20
          ],
          [
           5,
           "Gift card came in nice box. Very nicely and discreetly packed/n/nGift card came in nice box.  Very nicely and discreetly packed.",
           -1
          ],
          [
           5,
           "Son is an AMAZON ADDICT/n/nSelf explanatory. Christmas gift for my son.",
           -1
          ],
          [
           5,
           "Five Stars/n/nalways a good gift",
           25
          ],
          [
           5,
           ":-)/n/n:-)",
           25
          ],
          [
           5,
           "Yes/n/nGot here in time and is perfect",
           25
          ],
          [
           5,
           "Great gift for older grand daughters/n/nLike it for a gift",
           10
          ],
          [
           5,
           "Five Stars/n/nBest packaging for any grad student!",
           25
          ],
          [
           5,
           "Does a gift card need a review!???/n/nYes, when you get to shop at the best retailer of anything that your heart desires... short of a spouse :)) enjoy!",
           25
          ],
          [
           5,
           "Five Stars/n/nMy mom loved this.",
           25
          ],
          [
           5,
           "Five Stars/n/nWorth the price",
           200
          ],
          [
           5,
           "Five Stars/n/nVery pleased.",
           -1
          ],
          [
           5,
           "Easy and Quick/n/nMade it so easy to buy gifts for my teenage twin granddaughters. They are Amazon shoppers and their gift cards were the perfect gift",
           10
          ],
          [
           5,
           "good deal/n/nI bought this on sale",
           100
          ],
          [
           5,
           "Gift/n/nEasy",
           20
          ],
          [
           5,
           "My grandson's 13th birthday/n/nHe loved the card. I will use this method in the future. Amazon.com is one of the best ways to shop!",
           -1
          ],
          [
           5,
           "Perfect look !!/n/nWow!!!",
           20
          ],
          [
           5,
           "what's not to love?/n/nIt's an Amazon gift card...what's not to love?",
           25
          ],
          [
           5,
           "A great inexpensive gift 🎁 packaged quite nicely!/n/nExactly as described. Makes a great gift 🎁 to keep on hand.",
           30
          ],
          [
           5,
           "Easy shopping!/n/nFun and easy way to shop for the perfect gift!",
           -1
          ],
          [
           5,
           "Five Stars/n/nawesome",
           -1
          ],
          [
           5,
           "It just works/n/nIt's a gift card, I ordered 3 of differing amounts, they were listed by numbers so I could tell which was which.",
           25
          ],
          [
           5,
           "Very prompt and safe delivery./n/nI used the gift card for an engagement gift.",
           50
          ],
          [
           5,
           "Great gift for mom/n/nLove getting these for my mom",
           50
          ],
          [
           5,
           "Let your grandchildren pick their own presents!/n/nI gave them as a Christmas present to my grandchildren.  They really like picking out their own stuff.",
           -1
          ],
          [
           5,
           "Cute/n/nGreat product",
           50
          ],
          [
           3,
           "Missed inscription/n/nI requested a personal note, but the card was blank. Either the service of personal note should not be provided, or must be fulfilled if asked for.",
           -1
          ],
          [
           5,
           "Just what the granddaughters wanted/n/nArrived quickly already wrapped in a small box.....my granddaughters were thrilled",
           25
          ],
          [
           5,
           "Works as expected/n/nBought as Christmas worked right the first and the last time and everytime inbetween",
           100
          ],
          [
           5,
           "Great gift for office party/n/nGreat item for white elephant gift exchanges",
           25
          ],
          [
           5,
           "Perfect!! They did a fantastic job!/n/nI was very happy with how The gift card arrived!! It was perfectly wrapped in a beautiful gift bag!! I’m so happy!! The gift looks so professional! Great job amazon!!! ❤️❤️❤️❤️",
           10
          ],
          [
           5,
           "Great Card/n/nAll good. Thanks for a great transaction.",
           50
          ],
          [
           5,
           "Five Stars/n/nParents lived this card.",
           -1
          ],
          [
           3,
           "Struggling to reload!/n/nEvery time I want to use my cards I can never remember how to load them!  I didnt keep the \"packing transaction slip\" of course.<br />Such a struggle! Why can't the qr code be used to load money on them??",
           -1
          ],
          [
           5,
           "Good Gift/n/nThis is a great gift for someone you don't know exactly what they want.  You can't go wrong.",
           10
          ],
          [
           5,
           "It's a gift card/n/nAs expected",
           -1
          ],
          [
           5,
           "very easy bday present/n/ncomes already boxed with a bow! perfect!",
           25
          ],
          [
           5,
           "Great value/n/nLove this as a gift. Light weight enough if you wanted to ship too.",
           25
          ],
          [
           1,
           "Lousy service!/n/nNo gift box!  I had two orders both messed up big time!",
           -1
          ],
          [
           5,
           "Great gift!!/n/nAlways a great gift idea and delivered right to your door!!",
           25
          ],
          [
           5,
           "Five Stars/n/nGreat deal",
           200
          ],
          [
           5,
           "Presentations is GREAT!/n/nI love this snowflakes was the perfect gift for my team members",
           25
          ],
          [
           5,
           "Five Stars/n/nGreat",
           50
          ],
          [
           5,
           "Nothing/n/nIt’ss gift card ok",
           25
          ],
          [
           4,
           "Four Stars/n/nit is what it is......came quickly.....gave as gift",
           -1
          ],
          [
           5,
           "Five Stars/n/nPerfect gift idea.",
           -1
          ],
          [
           5,
           "Great for a gift/n/nGift",
           25
          ],
          [
           1,
           "Nice idea/n/nAdorable concept but there was a problem with the cards not being activated several times. I ordered 9 for my grandchildren and had nothing but problems",
           50
          ],
          [
           1,
           "I was told I would get a 10 dollar gift .../n/nI was told I would get a 10 dollar gift card when I ordered these, and the coupon code took appropriately; however, i never received any confirmation of the 10 dollar gift card.  I would not have gotten these without the 10 dollar gift card.  I have never purchased gift cards previously.",
           45
          ],
          [
           5,
           "Great for the Grad/n/nThis is a perfect gift for a high school or college graduate.  They get what the want/need.",
           25
          ],
          [
           5,
           "Nice product/n/nAnd I bought it on discount",
           -1
          ],
          [
           5,
           "Five Stars/n/ncute little tin box for a gift card..",
           25
          ],
          [
           5,
           "I like it./n/nIt's a gift card that I will be giving out at Christmas. The pop up is cute & a little unusual. I like it.",
           -1
          ],
          [
           5,
           "Perfect!/n/nJust Perfect!",
           50
          ],
          [
           5,
           "Five Stars/n/nGreat for a Birthday that you don't know what to get for the person!",
           25
          ],
          [
           3,
           "Coffee Maker/n/nThe coffee maker is difficult to fill with water and almost impossible to empty the hot water dispener with out removing the plug from the outlet.",
           -1
          ],
          [
           5,
           "Loved then/n/nBeautiful! Festive!",
           25
          ],
          [
           5,
           "Great tin/n/nLove these tins for the gift cards!",
           25
          ],
          [
           5,
           "Let them pick what they want with a gift card./n/nI got the Amazon gift cards for Christmas gifts for the family. I’m sure they will be happy with it. Who wouldn’t.",
           25
          ],
          [
           5,
           "Perfect gift for ne Baby/n/nThe best gift for new baby during covid 19.  I just will deliver to doorstep with a card.",
           25
          ],
          [
           5,
           "Five Stars/n/nperfect gift",
           50
          ],
          [
           5,
           "Five Stars/n/nOne can't go wrong with gift cards.",
           -1
          ],
          [
           5,
           "Nice/n/nGreat ty",
           25
          ],
          [
           5,
           "Always a great gift!/n/nWas a great gift to myself lol. But seriously Amazon is on point. Always on time. Very easy to use. No hassle. Thank you!",
           25
          ],
          [
           5,
           "Great Birthday gift/n/nMy grandson just turned 10 and he loved it.",
           -1
          ],
          [
           5,
           "Ok/n/nOk",
           25
          ],
          [
           5,
           "its a giftcard/n/nIt's a giftcard.  Does all the things that normal gift cards do.  Arrived in one day as promised with nice card to give to someone in.",
           -1
          ],
          [
           5,
           "You can never..../n/nYou can never go wrong with this Gift Card. Amazon offers such a vast selection of products that this card is always a hit with my kids. They even request it a gift giving time. Sure makes my life easier.",
           -1
          ],
          [
           5,
           "Great gift/n/nI used it for a white elephant gift card exchange. My gift card was stolen the most times--high demand!",
           20
          ],
          [
           5,
           "Can't go wrong with a gift card/n/nArrived quickly and packaged well, just as described. Will definitely do business again",
           25
          ],
          [
           5,
           "Five Stars/n/nThis item came on time in a very nice box.",
           25
          ],
          [
           5,
           "Very cute packaging!/n/nThis little cupcake tin is a very cute way to present the gift card to the recipient. I gave it to my 8 year old granddaughter for her birthday. She is excited to shop with her Mom. There is no extra charge for it which is a nice perk! I highly recommend it!  Also, you can choose any amount you want the gift card to be.",
           25
          ],
          [
           5,
           "Great/n/nIt’s a gift card",
           -1
          ],
          [
           5,
           "It’s a gift card/n/nPrime day discounts!",
           25
          ],
          [
           5,
           "Unique gift card/n/nWe are always looking for different and unique cards. This was one of them. I love the look of it and really you wouldn't take it as a gift card at first glace. Very happy with the overall product.",
           -1
          ],
          [
           5,
           "Amazon gift cards make shopping easy!!/n/nI ordered the gift card for my husbands birthday.  Running out of gift ideas so ordering a amazon gift card was easy for me and I knew my husband could enjoy shopping at Amazon at his leisure.",
           10
          ],
          [
           5,
           "Awesome/n/nReally a great idea",
           25
          ],
          [
           5,
           "A gift that keeps on giving, at least a few times/n/nUnless a person absolutely despises Starbucks for whatever reason, these  cards are well received as gifts.",
           100
          ],
          [
           5,
           "Five Stars/n/nHusband is happy.  I don't like Subway!  Yuck!",
           50
          ],
          [
           1,
           "NO GIFT CARDS!/n/nI bought this as a gift and it showed up without anything inside! Definitely not worth the risk of an empty package showing up.",
           25
          ],
          [
           5,
           "Nice Stocking Stuffer/n/nA great idea as people I know shop on Amazon.com.",
           -1
          ],
          [
           5,
           "Makes a good present for people that are hard to shop for/n/nIt’s gift card in a box, not much to say.<br /><br />The recipient loved it, so it did a great job.",
           25
          ],
          [
           5,
           "Five Stars/n/nGreat product",
           25
          ],
          [
           5,
           "Cute gift card./n/nDesign very cute & card sturdy.",
           25
          ],
          [
           5,
           "Five Stars/n/ncame protected in clear cover",
           25
          ],
          [
           5,
           "Reusable/n/nNice tin box the gift certificate came in. Can be reused for whatever you want.",
           25
          ],
          [
           5,
           "Isn't really Australian but hey, its YUMMY/n/nOutback rocks, high calorie meals though but on cheat day (once in 10 or so?) I like consuming 4k calories at the outback before wine and the cheese fries get you half way there!",
           100
          ],
          [
           5,
           "Grrrrrrrrrrrrr8 gift/n/nThe Amazon Christmas gift card was perfect for the person I bought it for.  It arrived promptly and the rebate was a very nice surprise.  I will buy gift cards often for gifts.  Thanks for having the Christmas manger scene as one of the choices.",
           -1
          ],
          [
           5,
           "Five Stars/n/nThis was a gift.",
           75
          ],
          [
           5,
           "Activates easily/n/nI like that you only need use the last four numbers on card at first use to activate card; no phone calls or registering needed, can be used anywhere ,very convenient and not expensive. I will use these instead of checks as gifts from now on. No more monitoring your account to see if your check has been deposited/cashed, no more headaches, it's worth paying a few extra $ to eliminate check-giving hassles.",
           28.95
          ],
          [
           1,
           "Beware of buying Amazon Gift Cards as Gifts!/n/nI am so upset with Amazon..ordered a gift card as a gift..on my payment page for all of My orders is specified only one card to use for purchases. Amazon took it upon themselves to charge the gift card for recent personal charges instead of our listed card to use.The gift card was for my Grand Daughter to use for her new baby..she has a Amazon account thru her family in New York..I am so disgusted with Amazon's lack of correctly using the method of payment specified on our account as payment!..You have to be complete idiots to assume that a gift card is for the customer buying it...obviously if it is a \"Gift Card\" you have to assume it is being given as an \"Gift\" to another account holder..Stop trying to swallow up all retail business in the world and try tuning up your system to work in sync with your customers!",
           50
          ],
          [
           5,
           "Terrific packaging/n/nIt was perfect for the Grandchildren",
           25
          ],
          [
           5,
           "Five Stars/n/nThis was a Christmas 🎄 gift 🎁 for my hubby to use to purchase books for his Kindle.",
           25
          ],
          [
           5,
           "Buy these every Christmas/n/nGood packaging for a gift that keeps on giving.",
           50
          ],
          [
           5,
           "Gift card worked/n/nIt’s a gift card you receive in the mail then use at the company on the card. Yea.",
           25
          ],
          [
           5,
           "Always the ideal gift./n/nI love Amazon gift cards. Unlike other cards Amazon's never expire, are always the right size and always can give someone something they really want. And this version with the gift box was an ideal presentation.",
           -1
          ],
          [
           5,
           "Great gifting option!/n/nGreat versatile gift idea! I got this for someone who is hard to shop for and they loved it! It gives them some options and an excuse to treat themselves to a nice dinner!",
           25
          ],
          [
           5,
           "Everything worked as needed./n/nGift card came fully loaded, no issues at all. Have already used it once without problem.",
           100
          ],
          [
           5,
           "Love that this card has the true meaning of Christmas .../n/nLove that this card has the true meaning of Christmas on it! It is the gift that is for everyone!",
           -1
          ],
          [
           5,
           "Five Stars/n/nSuper cute gift box!",
           25
          ],
          [
           5,
           "FUN POP UP BOX AND PROMPT DELIVERY/n/nGot Amazon gift card for my granddaughter's Christmas wish list.  Loved the box and had plans on items she would buy with it.",
           50
          ],
          [
           5,
           "Five Stars/n/nGood quality. Soft and comfortable.",
           -1
          ],
          [
           5,
           "Five Stars/n/nVery convenient. Quick delivery.",
           25
          ],
          [
           5,
           "Gave to my granddaughter she loved it/n/nLiked very much.would but agsin",
           25
          ],
          [
           5,
           "Five Stars/n/nSuch cute packaging!",
           -1
          ],
          [
           5,
           "Five Stars/n/nGreat gift",
           75
          ],
          [
           5,
           "It came exactly when it was supposed to/n/nThe gift card was nice and it was a present they enjoyed it.",
           15
          ],
          [
           5,
           "I'd do it again/n/nYay nice little box and it made a quick gift",
           25
          ],
          [
           5,
           "Very nice gift boxed/n/nIt was used for a wedding gift.......and just added a nice gift bag, perfect and traveled very well ~",
           50
          ],
          [
           5,
           "So cute/n/nAdorable container,useful",
           25
          ],
          [
           5,
           "Easy to purchase and redeem/n/nEasy to purchase and redeem. Just used my camera within the Amazon app",
           25
          ],
          [
           5,
           "Easiest way to Christmas shop/n/nOne touch shopping",
           50
          ],
          [
           5,
           "Five Stars/n/nLoved it! Thought it was so cute. It came so fast.",
           25
          ],
          [
           4,
           "Four Stars/n/nI liked it because I ordered it last minute and amazed how quickly it came thank you",
           25
          ],
          [
           5,
           "Five Stars/n/nexcellent",
           75
          ],
          [
           5,
           "Classy Looking Card!/n/nThis gift card was smart and different looking.  Presentation is really important,  and it was greatly appreciated.",
           10
          ],
          [
           5,
           "Super cute!/n/nWhat's not to love about this? Free teddy with the purchase of a gift card. The bear was wonderfully adorable and soft. Made a great gift for my friend!",
           -1
          ],
          [
           5,
           "Perfect gift for a Kindle lover/n/nThese always arrive fast, are nicely packaged, and easy to use. This one was for a friend who loves their Kindle and I'm not going to presume to choose her books :-) A perfect gift!",
           50
          ],
          [
           5,
           "Five Stars/n/nall good",
           -1
          ],
          [
           5,
           "Gift to myself/n/nIts a gift card what's not to like. Free food.",
           25
          ],
          [
           5,
           "Gift card/n/nIt's was quick and awesome",
           10
          ],
          [
           5,
           "Gift Card Review/n/nGot it quickly as usual from Amazon",
           -1
          ],
          [
           1,
           "Do not Purchase!/n/nI purchased eight cards for coworkers and family. I am now hearing these cards have no value. What a rip off!",
           25
          ],
          [
           5,
           "Worth it, so creative!/n/nSuch a cute box for a gift card! Made my friend’s day!",
           25
          ],
          [
           5,
           "What I expected./n/nWhat I expected.",
           100
          ],
          [
           5,
           "Five Stars/n/nGreat",
           -1
          ],
          [
           2,
           "Wrong envelopes and misleading description/n/nThe description is misleading.  The gift card do not have the \"holiday snow globe\" design.  Not the hugest deal.  The real annoyance was that they included envelopes that were too small for the greeting cards.",
           -1
          ],
          [
           5,
           "Good for ALl Ages/n/nWould buy again. Attractive.",
           -1
          ],
          [
           5,
           "Five Stars/n/nExcellent",
           -1
          ],
          [
           5,
           "Five Stars/n/nThe gift card got to the recipient on time and was set up as promised.",
           -1
          ],
          [
           5,
           "Credit card/n/nVery handy",
           28.95
          ],
          [
           5,
           "Five Stars/n/nA+",
           25
          ],
          [
           5,
           "now I can afford to buy gas/n/nI will buy again",
           25
          ],
          [
           1,
           "Item received is not what I ordered/n/nThe gift card in the picture is not the one I received. My main reason for ordering this gift card was Macaroni Grill but the card I received doesn't even have Macaroni Grill listed as a place it can be redeemed. And Amazon return policy doesn't allow you to send back gift cards.",
           100
          ],
          [
           1,
           "One Star/n/nHad problem with barcodes. Stay away people ..",
           50
          ],
          [
           5,
           "Really cute to give as a gift !/n/nMy granddaughter loves this gift card. She thought it was the cutest thing ever!",
           20
          ],
          [
           5,
           "Holiday Gift Card/n/nEasy to order. Delivered quickly. Ready to give to the ones you love!",
           10
          ],
          [
           5,
           "Love these/n/nHow can a gift card ever go wrong?<br /><br />Love these!",
           50
          ],
          [
           5,
           "Graduation surprise/n/nThe card was a gift for our daughter's graduation and allowed her to choose whatever she wanted. She was very happy with the card!",
           20
          ],
          [
           5,
           "It was a great gift for my husband to get what he wanted./n/nIt was a wonderful gift for my husband. He could choose anything he wanted.",
           25
          ],
          [
           5,
           "Gift card reindeer/n/nliked",
           25
          ],
          [
           5,
           "Five Stars/n/nWorked",
           -1
          ],
          [
           5,
           "Crowd Favorite/n/nCan't go wrong with an Amazon gift card.",
           10
          ],
          [
           5,
           "Five Stars/n/nIt's an Amazon gift card, can't go wrong",
           10
          ],
          [
           5,
           "Worked great! No issues with using the gift cards/n/nWorked great!  No issues with using the gift cards.",
           150
          ],
          [
           5,
           "Great Gift/n/nEasy to order, fast delivery, a better gift than cash.",
           25
          ],
          [
           5,
           "Its giftable!/n/nI have a number of times it's so huggable and easy to use.",
           28.95
          ],
          [
           5,
           "Good gift/n/nGood gift for a book worms",
           -1
          ],
          [
           5,
           "Five Stars/n/nVery good deal I got 20% back :D!!!",
           -1
          ],
          [
           5,
           "They seem to enjoy them and I don't have to stress about finding .../n/nI buy these every year for my daughters to give their teachers for Christmas. They seem to enjoy them and I don't have to stress about finding a decent gift.",
           20
          ],
          [
           5,
           "Easy to give gifts/n/nGreat job once again Amazon",
           25
          ],
          [
           5,
           "So pretty/n/nLove this gift card with bag",
           50
          ],
          [
           5,
           "Five Stars/n/nI bought this as a gift.  It was well received.",
           25
          ],
          [
           5,
           "The Perfect Gift/n/nWeddings, showers, birthdays, holidays, etc.. it's always the perfect gift. Free one-day shipping on the gift card also makes it a great last minute gift. I didn't request a gift message so I can't comment on that feature.",
           -1
          ],
          [
           5,
           "Love Them/n/nGreat for gift giving",
           -1
          ],
          [
           5,
           "Five Stars/n/nEasy gift",
           20
          ],
          [
           5,
           "Easy and great gift/n/nPerfect gift for Mother’s Day or birthdays",
           15
          ],
          [
           5,
           "Five Stars/n/nVery cute presentation of a gift card at Xmas time",
           25
          ],
          [
           5,
           "Great teachers gifts/n/nGreat gifts for teachers",
           -1
          ],
          [
           5,
           "It's a gift card./n/nCool!",
           -1
          ],
          [
           5,
           "Gift cards/n/nI enjoy being able to buy gift cards on line as opposed to in a store.<br />Makes it easier on older folk.",
           25
          ],
          [
           5,
           "Like the idea/n/nA pair of free happy socks? Why not! I keep the gift card which I would spend on amazon anyway and my dad has a pair of happy socks now :)",
           -1
          ],
          [
           5,
           "Excellent gift card presentation./n/nCute way to give gift card at no extra expense.",
           25
          ],
          [
           5,
           "easy gifts/n/neveryone liked them",
           25
          ],
          [
           5,
           "It arrived on time/n/nThis product was actually a gift for my mother on her birthday. It arrived exactly when it was supposed to it made her very happy.",
           10
          ],
          [
           5,
           "Gotta Love Cracker Barrell!/n/nLove Cracker Barrel and especially gift cards. It's a great country food type of place to eat.<br />Every one that I have been to has great service, great food and the gift card makes paying so much faster.",
           50
          ],
          [
           5,
           "Love Amazon/n/nAmazon is the best.  Great products with decent prices, great shipping times, absolutely great customer service and a very user friendly website.  Will definitely shop Amazon again and again.<br /><br />Karen",
           15
          ],
          [
           5,
           "The perfect gift/n/nWhen in doubt about what to get as a gift, an Amazon gift card is the answer. It allows the recipient to get anything he/she wants from the many offerings on Amazon. I purchased the kind that comes in a small box with a pretty orange bow on it. No need to wrap it.",
           25
          ],
          [
           5,
           "Card/n/nYes very easy to use",
           10
          ],
          [
           1,
           "Poor service from Amazon/n/nThis is the 3rd and 4th gift boxes that has been sent WITHOUT the thank-you note I requested. If you can't complete a service, you shouldn't offer it. The recipients thought it was from AMAZON - had no clue it was a thank you from me.",
           25
          ],
          [
           5,
           "It’s so great/n/nIt’s a cool thing ever you can put up to like a lot of money on it I like it I would Buy it",
           25
          ],
          [
           1,
           "Card would not work/n/nI purchased this gift card for my husband and on the first day of trying to use it at our local gas station, it asked for a pin.  He used the pin created and still wouldn’t work.  Contacted Amazon and got my money back and put the refund on our Amazon gift card balance attached to our account.  The agent that I spoke with through Amazon said I could use the refund to repurchase a new gift card, sadly I couldn’t use our gift card balance towards gift card purchases.  I wish the Amazon agent would have told me this ahead of time.  Very frustrated.",
           28.95
          ],
          [
           5,
           "Great/n/nBought as a deal. Would buy again. Would recommend.",
           25
          ],
          [
           5,
           "Christmas gift/n/nTIN case. No dents.<br /><br />Needed Christmas gift for the family. Got this last year for them, they enjoyed online shopping so much they have Amazon Prime now. Makes for a great, &#34;And here you go!&#34; gift to top off everything else or an expensive stocking stuffer.",
           25
          ],
          [
           5,
           "I always buy white elephant gifts that I personally wouldn't mind ending up with so I would have been happy to come back with th/n/nI bought this for a white elephant gift exchange and it was one of the most stolen gifts.  I always buy white elephant gifts that I personally wouldn't mind ending up with so I would have been happy to come back with this but everyone else also wanted it.  Can't go wrong with a Starbucks gift card.",
           50
          ],
          [
           5,
           "Five Stars/n/nHighly recommended!",
           50
          ],
          [
           5,
           "Loved the cute box for our grad!/n/nAfter not finding Amazon gift cards in stores, I found this one online. Loved the cute box it comes in at no extra charge - perfect for a graduation gift!",
           25
          ],
          [
           5,
           "Texas Roadhouse.../n/nYes, the gift card I ordered as a gift and shipped outta state was delivered as promised and on time!.. No problems what so ever and I will be doing this again..",
           100
          ],
          [
           5,
           "One size fits all/n/nShop from the comfort of home & it lands in your mailbox faster than you'll believe.  And what's especially nice is that the recipient will be able to do the same....",
           -1
          ],
          [
           5,
           "Amazon Gift Crads/n/nThe gift cards are always a big help for me.  Everyone who gets them are very happy.",
           20
          ],
          [
           5,
           "It's a gift card/n/nIt's a gift card. What else can I say?",
           20
          ],
          [
           5,
           "Our daughter absolutely loved it. Said \"I think this is too pretty .../n/nOur daughter absolutely loved it.  Said &#34;I think this is too pretty to spend&#34; and then laughed.  Great gift and very pretty.",
           50
          ],
          [
           5,
           "Five Stars/n/ngret",
           25
          ],
          [
           5,
           "Everything a gift card should be!/n/nEasy to use! great gift card!",
           10
          ],
          [
           1,
           "Limited use./n/nIt may have been an oversight on my part, but this card is NOT universally accepted. For online purchases (where my intention of using it originated) It was rejected a couple of times because it did not have my name on it. So now I'm stuck with $200.00 that I probably will have to use at a restaurant or something. I should have just applied for a MasterCard directly. In my opinion, these type of card are only good as a gift for someone and are not to be used as a true credit card. There are very much a debit card.",
           206.95
          ],
          [
           3,
           "Gift card tin arrived damaged!/n/nOrdered 6 gift cards total.  All of them came in plastic wrap except this one.  The tin was scratched and appeared to be used.  I’m hoping the gift card itself is good and not tampered with.  I’ve never had any problems before.",
           25
          ],
          [
           1,
           "One-Day Delivery Didn't Happen/n/nThis card was billed as one-day delivery.  It arrived in our city within the specified time, but was delivered at least 22 hours after that.  I normally don't choose rush delivery, but we wanted to include the gift card in a package.  Because we tried to wait for the card, we had to pay very pricey delivery charges on the main package -- and we still have to mail the gift card.  I know we could have done it direct but we were trying to surprise someone.  Lesson learned.",
           25
          ],
          [
           5,
           "Great for any occasion/n/nGift card holder for any occasion cute and classy.",
           20
          ],
          [
           1,
           "Does not work at apple store!/n/nThe card says apple store or iTunes but does not work for the apple store!  Extremely disappointed as this was a gift that now cannot be used!",
           -1
          ],
          [
           1,
           "Card had no balance when I received/n/nThis is the third visa gift card I have recently received in the past few weeks that has arrived with no balance. I will be returning and submitting for a refund.",
           28.95
          ],
          [
           5,
           "Fandango makes it so easy to find a theater and choose seats before we .../n/nFandango makes it so easy to find a theater and choose seats before we get there. This lightening deal also made it an amazing deal!",
           45
          ],
          [
           5,
           "Stocking stuffer/n/nGifting made easy",
           25
          ],
          [
           5,
           "Gift card box/n/nPerfect for children",
           25
          ],
          [
           5,
           "Harley Davidson/n/nHopefully he'll find what he wants.",
           100
          ],
          [
           5,
           "gift card/n/nGood Content. on time",
           10
          ],
          [
           5,
           "It fits perfectly/n/nEveryone loves a gift card from Amazon",
           -1
          ],
          [
           5,
           "Five Stars/n/ncan't go wrong with a gift card. came promptly",
           -1
          ],
          [
           5,
           "Quick arrival/n/nGreat! Arrived quickly, just as advertised.",
           15
          ],
          [
           5,
           "They love/n/nFor older grandson and granddaughter",
           25
          ],
          [
           5,
           "Cute/n/nNice and good quality.",
           25
          ],
          [
           5,
           "love/n/ncute packaging. love it",
           25
          ],
          [
           5,
           "Great holiday packaging for gift card/n/nI've been ordering gift cards in this adorable packaging for the past two holiday seasons.  I give them to those who go out of their way to do their job well and make my life easier.  Customer service goes a long way!  That includes grocery store employees who drop everything to assist me, and delivery & USPS folks who never misdeliver and leave bonuses like special notes to me or treats for my dog.<br /><br />The tin snowman package is perfectly secular when you're not sure whether the recipient celebrates Christmas.",
           25
          ],
          [
           2,
           "I hope it works!/n/nI am sending this as a gift. The attachment card came bent and ripped. Looks like it was in someone's pocket at one time. Hope it works.",
           25
          ],
          [
           5,
           "Appreciated/n/nGift",
           20
          ],
          [
           5,
           "Great gift!/n/nPerfect gift.",
           -1
          ],
          [
           5,
           "Five Stars/n/nPerfect gift",
           -1
          ],
          [
           5,
           "Gift Cards/n/nsnowflakes arrived in great shape and were well-received by my children....the tins are also recyclable as cookie cutters or ring holders, etc.",
           25
          ],
          [
           5,
           "Fantastic Christmas Gift/n/nThe gift card gave my son the opportunity to select a very special gift for himself.  He was delighted!",
           25
          ],
          [
           1,
           "Don't order 3 different ones at a time. They dont tell you hoe much is on the card./n/nI have no idea how much is on each card. Kinda bummed.",
           50
          ],
          [
           5,
           "Great gift/n/nGreat gift.",
           10
          ],
          [
           1,
           "Beautiful box design for the holidays/n/nI never received the gift cards. Really wanted to gift it to someone special for the holidays but they never arrived",
           25
          ],
          [
           5,
           "Five Stars/n/nGreat gift!!",
           25
          ],
          [
           5,
           "Five Stars/n/nDid the job!",
           25
          ],
          [
           5,
           "Great gift and it came in its own box with .../n/nGreat gift and it came in its own box with bow, love it just placed under the tree and I was good to go.",
           -1
          ],
          [
           5,
           "Perfect gift for shoppers/n/nGeneric gift card is always appreciated by a shopper. Arrived quickly and as expected",
           54.95
          ],
          [
           5,
           "Five Stars/n/nSis-in-law loves e-books - so she Loved this gift!!!",
           -1
          ],
          [
           5,
           "Quick/n/nGreat price and rapid delt",
           28.95
          ],
          [
           5,
           "They’ll thank you later!/n/nLetting them choose is a win win",
           25
          ],
          [
           5,
           "Great for the Big Lots Lover!/n/nCard works! No problems.",
           50
          ],
          [
           5,
           "Perfect gift/n/nI like being able to send a gift that will be used for what they pick out.",
           25
          ],
          [
           5,
           "cute packaging/n/ncute packaging. was for on a gift",
           10
          ],
          [
           1,
           "Disapointing/n/nI ordered 2 $50 gift cards. The order status said &#34;delivered&#34; but the shipment was not received.  I called Customer Service and  replacement gift cards were sent.  Several days later, order status of the replacement gift cards was listed as &#34;out for delivery&#34; but it was another 4 days before they were FINALLY received.<br />In the mean time, the original order was delivered.  I called Customer Service to let them know I had received the 1st order and the replacement order status was listed as out for delivery&#34;.  I was told to just keep and use both orders (all 4 $50 gift cards) as compensation for the hassle. When I tried to use the extra gift cards, I received the message &#34;purchase price has been refunded to purchaser&#34;. Although, I never expected to be told to keep and use both gift cards in the first place; I am very angry that customer service lied to me.",
           -1
          ],
          [
           5,
           "What's not to like?/n/nQuick to arrive and a $10.00 credit too? What's not to like?",
           -1
          ],
          [
           5,
           "Great design!!!/n/nI like the design.  I am a big amazon fan.",
           20
          ],
          [
           5,
           "Cute packaging!/n/nThe box was so cute!",
           25
          ],
          [
           4,
           "DoorDash Gift Card/n/nThis is a good gift to send to someone at the military academy (in the US - not sure if it can be used in other countries).",
           100
          ],
          [
           5,
           "Easy Trans Atlantic Purchase!/n/nGreat way to send a gift across the Atlantic, and it would get there the next day if required",
           -1
          ],
          [
           5,
           "Great Gift/n/nGreat gift for the grad",
           25
          ],
          [
           5,
           "Love it'/n/nLike",
           10
          ],
          [
           5,
           "Happiness is.../n/nMy daughter is  thrilled with her gift card.",
           50
          ],
          [
           5,
           "Five Stars/n/nIt's a gift card....what could go wrong",
           25
          ],
          [
           5,
           "Perfect fit!/n/nI bought a $50 Amazon gift card for our sitter's birthday and she told us it fit perfectly! Yay I got it right!",
           -1
          ],
          [
           5,
           "Great way to give a giftcard/n/nAmazon hits a homerun with providing great gift card presentations... Niece love it",
           -1
          ],
          [
           5,
           "easy to purchase/n/nI liked the variety of gift cards to buy for my family.<br />It is a gift they all like",
           25
          ],
          [
           5,
           "The right gift, EVERY TIME!/n/nWho doesn't enjoy a gift card, especially one from Amazon? No guessing, the right gift - every time.",
           10
          ],
          [
           2,
           "Track it closely/n/nHad issues getting it to the recipient. Took 2 weeks to track it down. Thought I'd lost my money. Eventually got there after several emails to Amazon.",
           10
          ],
          [
           5,
           "Gift/n/nGift",
           -1
          ],
          [
           5,
           "nice gift/n/nHad a great time giving this to my dad as a gift because he enjoys shopping on Amazon as much as me! ;)",
           20
          ],
          [
           3,
           "Great presentation though/n/nWould prefer if the value of the card was printed on it.  Great presentation though",
           25
          ],
          [
           5,
           "Five Stars/n/nAmazing how easy to use these gift card things are...",
           30
          ],
          [
           5,
           "Gift card/n/nWas above my expections.  Will use your gift cards for all gifts this year",
           25
          ],
          [
           5,
           "very good and easy/n/nthis product is very good and was easy to buy !",
           20
          ],
          [
           5,
           "Works Well !/n/nAnd cute!!!!!",
           25
          ],
          [
           5,
           "Fine/n/nWill make a nice gift",
           10
          ],
          [
           5,
           "GIFT CARDS/n/nTHE GIFT CARDS CAME IN BEATIFUL BOXES ,MY GRANDDAUGHTERS WERE THRILLED TO GET THEM",
           25
          ],
          [
           5,
           "Five Stars/n/nThank you.",
           50
          ],
          [
           5,
           "Has the $$amount on the face/n/nThere are other more desirable designs to choose from, but I love this one because it has the dollar value printed on the front of the card. Most all others you have to find a way to write the $$ on the card and often it wears off as soon as it's handled. To save yourself and the gift recipient from loosing out on the full value of the card, make sure to buy one that has the FACE VALUE printed on it.",
           25
          ],
          [
           5,
           "Great for donations to charities./n/nBought two. Donated one and kept the other for future purchases.",
           20
          ],
          [
           5,
           "Perfect for young kids/n/nGifted",
           10
          ],
          [
           4,
           "Simple/n/nEasy peasy",
           20
          ],
          [
           5,
           "Five Stars/n/nGreat gift card for meals.",
           25
          ],
          [
           5,
           "Five Stars/n/nIt was a gift the my grandsons love going to P.F. Changs.",
           -1
          ],
          [
           5,
           "It worked, buy with confidence/n/nIt worked, buy with confidence",
           -1
          ],
          [
           5,
           "Five Stars/n/nIt was very classy and my teenage granddaughter just loved it.",
           20
          ],
          [
           5,
           "Great gift/n/nPurchased as a gift and the recipient was very pleased.",
           25
          ],
          [
           5,
           "Great!/n/nEasy and fast!!",
           100
          ],
          [
           5,
           "Great Gift!/n/nKids loved them for Christmas!!",
           40
          ],
          [
           5,
           "Convenient./n/nIt's so convenient. This completed my friends birthday gift which I forgot to buy a gift.",
           5.99
          ],
          [
           5,
           "Price/n/nThanks",
           20
          ],
          [
           5,
           "Presentation/n/nLovely presentation",
           25
          ],
          [
           5,
           "Nice looking box/n/nThe box was very nice and my wife loved the presentation.",
           -1
          ],
          [
           5,
           "Nice box. Has card. All good./n/nWhat can go wrong with gift cards?",
           -1
          ],
          [
           5,
           "Love Amazon Gift Giving!/n/nGood gift!",
           25
          ],
          [
           5,
           "It's and easy give to give someone when you don't what else to give./n/nGood value for the money it take the guest work out",
           25
          ],
          [
           5,
           "Works/n/nNothing may be wrong with a gift card! Very fast shipping!",
           25
          ],
          [
           5,
           "Five Stars/n/nthese make Great Gift's",
           100
          ],
          [
           5,
           "Great to keep on hand for a last minute gift!/n/nAlways a hit. Arrived quickly!",
           -1
          ],
          [
           1,
           "Gift card was torn/n/nI just got this gift card was torn",
           10
          ],
          [
           5,
           "Cute Gift Box/n/nGot to me quickly, with simple instructions on how to activate the card and in a gift box, all ready for me to give it as a gift. Very happy with it.",
           25
          ],
          [
           5,
           "Five Stars/n/nNice box that come with gift card",
           -1
          ],
          [
           5,
           "Pretty and friend loved it/n/nBox is pretty",
           50
          ],
          [
           5,
           "Five Stars/n/nGift cards are always great as long as amazon can get the order correct in the first place.",
           -1
          ],
          [
           1,
           "order incomplete/n/nI ordered 10 twenty-five dollars amazon gift cards but received only 9.  I was charged for 10 gift cards.  I am returning them.",
           25
          ],
          [
           5,
           "Five Stars/n/nGreat box great gift.",
           25
          ],
          [
           5,
           "Amazon Gift cards spend like cash money as long as you want to buy stuff from Amazon!/n/nIt's a gift card! You put the code in, you get the money allocated to your account, you spend it. Yay!",
           10
          ],
          [
           5,
           "… Was amazing/n/nNeeded something last minute was able to order while I was in the office and arrive the next morning… Who does that?!",
           25
          ],
          [
           5,
           "Excellent! Burgers were the BEST/n/nExcellent!  Burgers were the BEST!",
           25
          ],
          [
           1,
           "One Star/n/nTHEY DID NOT WORK.. AND DINT` GET MY MONEY BACK. NEVER AGAIN.",
           50
          ],
          [
           3,
           "Difficult for recipient to redeem/n/nUnfortunately, as nice as this looked, it was not the breeze to redeem that it should have been and left me embarrassed that I had given it instead of an email gift card.  Sadly, apparently, this has happened to other  people according to my recipient’s reading of other reviews. I didn’t even think I needed to read a review about a gift card, but I was wrong.",
           15
          ],
          [
           5,
           "lightning deal saved 20%/n/nLOVE ME CHIPOTLE burritos !  lightning deal saved me money",
           50
          ],
          [
           5,
           "It's a gift card. Duh!/n/nThis item was perfect for us because I can split them up and give them as gifts to several people.",
           40
          ],
          [
           5,
           "Great Gift!/n/nThe perfect gift for everyone!  This is a gift where it allows the recipient to choose their own taste in books, movies, music, household items and more.  Very cute presentation for Christmas!",
           -1
          ],
          [
           5,
           "Great daily deal!/n/nCaught this as a $40 for a $50. Worked perfectly and even able to be used as tip.",
           100
          ],
          [
           5,
           "Perfect/n/nPerfect gift for the difficult gift receivers on your list",
           -1
          ],
          [
           5,
           "Five Stars/n/nGreat",
           100
          ],
          [
           5,
           "It worked/n/nNo problems , perfect gift",
           28.95
          ],
          [
           5,
           "can't go wrong with a gift card/n/nGot this for my nephew and he loves it! He loves Hollister so I couldn't go wrong with a gift card",
           50
          ],
          [
           3,
           "The person it was going to were not right/n/nThe person receiving and person from was not put on correctly.",
           25
          ],
          [
           5,
           "Great Deal/n/nAmazing Great Deal",
           -1
          ],
          [
           5,
           "Cute/n/nVery cute!<br />The teacher loved it!",
           25
          ],
          [
           5,
           "Five Stars/n/nPerfect &#34;container&#34; for my amazon gift card Christmas gift for my son-in-law !  He loved it.",
           -1
          ],
          [
           1,
           "Can't go wrong with GC's/n/nGlad it came in before Christmas!",
           100
          ],
          [
           5,
           "Great gift/n/nTeen grand girls love",
           25
          ],
          [
           5,
           "gas/n/nanniversary gift...they liked it...yum yum! :)",
           25
          ],
          [
           5,
           "Amazing/n/nAmazing",
           25
          ],
          [
           1,
           "not what I ordered/n/ngift card received is not &#34;Snowboarding Snowman&#34; design - it is plain black &#34;a&#34; card - very disappointing as a gift for my nephew",
           -1
          ],
          [
           5,
           "Five Stars/n/nNice gift.",
           -1
          ],
          [
           5,
           "Good concept/n/nThe gift card was nicely surrounded  by the metal cover & presented beautifully. Wonderful touch",
           25
          ],
          [
           5,
           "easy use/n/ngreat",
           -1
          ],
          [
           5,
           "Five Stars/n/nMy daughter loved it!",
           25
          ],
          [
           5,
           "fast shipping/n/nGood value for your money. Fast shipping. Great gift! Price good.",
           100
          ],
          [
           5,
           "Great Restaurant Gift Card/n/nSent this to my friend who is a sports fanatic. Had no issues in using this gift card. #GreatGift",
           -1
          ],
          [
           5,
           "easy to use/n/nWe always get at least one person in our family an Amazon gift card, easy to use.",
           25
          ],
          [
           1,
           "code does not work/n/nthe code on the card does not work. i dont know what the problem is but im still trying to figure it out. either the card has not been activated by amazon or its a spotify issue. and its NOT a conflicting membership or country issue. i have had other issues with spotify so i wouldnt be surprised if it was something on their end.<br /><br />update:  contact spotify support on their website and they email you back within 20 min. took pictures of the card and reciept and emailed them back. they do something on their end and tell you to try again and it works. they are very quick.",
           99
          ],
          [
           5,
           "you guys are the best!/n/nI loved getting the Amazon gift card. it came in a sexy little black box with an orange bow. and it is so easy to use.",
           25
          ],
          [
           5,
           "Five Stars/n/nWonderful gift for my daughter for Mother's Day.",
           -1
          ],
          [
           5,
           "so I like to save money/n/nSaved $5 on special offer, so I like to save money... 5 stars",
           25
          ],
          [
           5,
           "Five Stars/n/nGranddaughter loves gift cards",
           25
          ],
          [
           5,
           "Presentable/n/nThis makes for a very professional gift. It has a neat and clean design.",
           25
          ],
          [
           4,
           "Four Stars/n/nChristmas stocking stuffers.",
           50
          ],
          [
           5,
           "Very Cute/n/nVery cute. Just what I was looking for.",
           50
          ],
          [
           1,
           "gift cards/n/nI purchased $50 in gift cards with the understanding that I would receive a $15 bonus for this purchase.  Later I received an email that I did not qualify for the bonus.  There was no explanation why I did not qualify.  Why didn't I get my bonus?  Carol B.",
           10
          ],
          [
           5,
           "Five Stars/n/nson love this for his bday geat sales there too",
           50
          ],
          [
           5,
           "Gifts on the tree for grandkids to find./n/nPerfect gifts to hang on the Christmas tree.",
           25
          ],
          [
           5,
           "Good product./n/nEasy as a Gift item for all occasions.",
           25
          ],
          [
           5,
           "Cute 🎅🎅🎅🎅/n/nSuch a cute tin for gifting. Delivery was so fast. Perfect for the avid amazon shopper",
           25
          ],
          [
           3,
           "Card holder damaged, luckily card was not/n/nGot the gift card, and the card holder was already damaged inside the package. Luckily the gift card itself wasn't damaged in any way, but I had to purchase another card holder to give",
           25
          ],
          [
           5,
           "Five Stars/n/nFree tin!",
           25
          ],
          [
           1,
           "Gift card doesn't work/n/nThis was a birthday gift to a niece who saved it to go towards a big purchase. It is now outside of the return window and doesn't work. Big disappointment Amazon. Needs to try harder.",
           10
          ],
          [
           5,
           "My parents love this restaurant/n/nAn easy gift for people who have everything.",
           50
          ],
          [
           5,
           "Love it./n/nThis was  a present for Christmas for my nephew. I think is a cute design for a gift card! Love it.",
           25
          ],
          [
           5,
           "nicely boxed./n/nAs expected.  It's a gift card, nicely boxed.",
           -1
          ],
          [
           5,
           "Great gift/n/nGreat deal and great meals. The new salad bar is supreme.",
           25
          ],
          [
           5,
           "It’s a giftcard/n/nCute",
           50
          ],
          [
           5,
           "Everyone liked the cute tins/n/nThey all arrived on time.  Everyone liked the cute tins.",
           25
          ],
          [
           5,
           "can always count on amazon for a last minute gift need! thats why I got this to insure I forgot no one on christmas! thanks/n/nThanks Amazon, your stuff is always the best, your prices always the lowest and you get to look thru prices and pic out the buy best for you....I luv your options and your kindness when someone works with you like you have worked with me you want to keep on coming back and keep on being a customer, this was for a friend, well I was afraid I would forget someone on Christmas as I have friends I dont always see all the time, this item came in on a pinch when I forgot someone a bigger gift, not that I needed something huge, and grabbed this and another item I had gotten and gave a friend something nice for christmas that they can use to their own choice and device!! Thanks again for your variety, its amazing that soooo sooo many people think amazon is still only about books and the occassional music, its their loss because allmost everything a girl or guy could want can come from here...thanks sooo much for that!!  your the greatest amazon!",
           -1
          ],
          [
           5,
           "Great last minute gift/n/nEverything",
           25
          ],
          [
           5,
           "VERSATILE GIFT/n/nA gift card that is so versatile it can be used to buy almost everything. Super fast delivery. Thank you Amazon.",
           -1
          ],
          [
           5,
           "Great product, no problems./n/nThank you, never had problems with any of gift cards I purchased on Amazon!",
           125
          ],
          [
           5,
           "Five Stars/n/nGreat product will buy again thanks.",
           50
          ],
          [
           4,
           "Amazon gift card/n/nIt was so easy, gift able & versatile!!!<br />Perfect way of sending a gift via email or handing it out personally...<br />Made Christmas shopping easy!!!!",
           -1
          ],
          [
           5,
           "Great gift!/n/nMy go to gift!",
           25
          ],
          [
           5,
           "Five Stars/n/nGave to s friend.",
           10
          ],
          [
           1,
           "This did not get delivered to my grandson so disgusting/n/nThis did not get delivered to my grandson for Easter I am so upset right now god only knows where it is<br />I need a response to this<br />I am fuming",
           -1
          ],
          [
           5,
           "Don't be late on birthday gifts order Amazon card get it next day/n/nIt was given as a birthday gift card and it was so easy to order the next day was not late for the birthday awesome Amazon",
           25
          ],
          [
           5,
           "great/n/ngrat",
           -1
          ],
          [
           5,
           "Everybody Wants One!/n/nThe silver snowflake box containing the Amazon.com gift card was so pretty.  It was the perfect way to present the one gift everyone wants.",
           25
          ],
          [
           5,
           "Nice gift./n/nThe card is good quality and will make a nice gift for anyone.  Plenty of room to write inside the card as well.",
           -1
          ],
          [
           5,
           "Amazon $75 gift card review/n/nThe gift card for my brother-in-law worked out great!  We received it in a very timely manner and he loved it!!",
           -1
          ],
          [
           5,
           "What more can I say!/n/nGreat Christmas gift 🎁",
           125
          ],
          [
           5,
           "Five Stars/n/nThe recipients loved the gift card!!",
           -1
          ],
          [
           5,
           "Great Gift Idea/n/nSo I bought this as a gift and it was delivered in 2 days! They loved it and it was nice to see they had a selection of cards available. Easier than going to the restaurant to buy it!",
           25
          ],
          [
           5,
           "Graduation/n/nWhat’s there not to like about money<br />Okkkkkk my niece love Amazon what better gift",
           25
          ],
          [
           5,
           "Easy gift idea/n/nGave to my Siblings as Christmas gifts.  Who doesn't love an Amazon Gift Card!",
           25
          ],
          [
           5,
           "Such a Cute Pop-Up card!!!/n/nI love pop-up cards. This gift card holder features a Pop-Up Christmas Tree. Bright, bold colors. A cute surprise when it is opened. I gave this card to a fourteen-year-old girl. So cute!!!",
           50
          ],
          [
           5,
           "Came quickly./n/nCame quickly, makes a great birthday gift.",
           50
          ],
          [
           5,
           "Best gift card to buy!/n/nEveryone loves gift cards!",
           20
          ],
          [
           5,
           "Five Stars/n/nBabys happy",
           25
          ],
          [
           3,
           "when I came home good thing i saw that it was on my grass/n/ndelivered on time but came on a windy day and  was almost lost ,when I came home good thing i saw that it was on my grass",
           10
          ],
          [
           5,
           "Easiest gifts to give/n/nEasiest gift to give.",
           25
          ],
          [
           5,
           "Five Stars/n/nAlways a good gift",
           15
          ],
          [
           1,
           "They want our money, but.../n/nI purchased several gift cards last year, with greeting cards that had messages suitable to various recipients.  Many of my family members are Christians, who appreciate religious-themed cards.  This year, there were no such options. They had Hanukkah cards, but nothing mentioning Christmas, let alone anything actually expressing the Christian sentiments about the season!<br /><br />Amazon, like other retailers, makes a good bit of its money off Christmas.  I have no problem with them selling cards that are generic, or that relate to holidays of other faiths.  I appreciate it, in fact, but I'm a bit offended that they suddenly want nothing to do with the Christian faith or the actual word Christmas.  It's like they want the money from the 90% of us who celebrate Christmas, but they don't want to actually acknowledge the holiday or the reason behind it.  I usually do almost ALL of my CHRISTMAS shopping with Amazon, but I'll be shopping elsewhere this year, which is a huge hassle.<br /><br />What a bunch of Scrooges.",
           -1
          ],
          [
           5,
           "Nice gift to receive. Then that person can buy for themselves./n/nGreat and easy way to give a gift. The Amazon card comes in a nice box ready to give as a gift. Nice gift to give for that someone you don't know what to buy them.",
           25
          ],
          [
           5,
           "... was a Christmas gift for my parents and they loved it!/n/nIt was a Christmas gift for my parents and they loved it!!!!",
           25
          ],
          [
           5,
           "Five Stars/n/nI really enjoy this packaging. Great gift for fellow amazon fanatics.",
           25
          ],
          [
           5,
           "Tins instead/n/nI like giving the gift cards in these tins instead of giving them in a card, they are really cute, and no extra cost-Perfect",
           25
          ],
          [
           5,
           "Gift cards are always great gifts!/n/nSent this to my sister for her anniversary and she was thrilled.  She said there was always something to be found on Amazon!",
           25
          ],
          [
           5,
           "Five Stars/n/nLove it.",
           25
          ],
          [
           5,
           "this is a giod item/n/nThis is a very good gift card as a birthday gift.",
           50
          ],
          [
           5,
           "Good deal on the price and fast shipping/n/nChristmas gift for boys that are driving and $3.95 was cheapest I could find that I could ship for free to Texax . Since I'm a last minute Christmas shopper. Would buy again  for sure!",
           28.95
          ],
          [
           5,
           "Five Stars/n/ngreat to send all over for a gift!",
           -1
          ],
          [
           5,
           "Great gift for my kids and older grandkids. All were happy and liked the cute pop-up!!/n/nIt was easy to order, and all family enjoyed their gift!!",
           25
          ],
          [
           5,
           "Great gift sent right to the individuals :-)/n/nBirthdays x 4 and everyone loved them including adults :-)",
           25
          ],
          [
           5,
           "works!/n/nits a gift card!!",
           50
          ],
          [
           5,
           "Cute Birthday Gift/n/nI bought this tin for a friend who loves Amazon and she commented about the cute birthday tin.  Definitely recommend it.",
           25
          ],
          [
           5,
           "Gift Card Boxes/n/nLove the color of the box!",
           -1
          ],
          [
           5,
           "Great gift/n/nThis was a quick easy purchase of five gifts. Love ordering from Amazon. However this was the first time I had a poor delivery. It states on line pkg handed to person. Not true I looked everywhere finally found it in the mailbox.",
           28.95
          ],
          [
           5,
           "Cute Design/n/nvery liftable",
           25
          ],
          [
           5,
           "Perfect gift!!!/n/nWhen you're sending gifts \"long distance\" this is perfect!!!",
           54.95
          ],
          [
           5,
           "nice presentation/n/nnice presentation",
           50
          ],
          [
           4,
           "came on time/n/ngift",
           50
          ],
          [
           5,
           "My granddaughter liked it/n/nLoved it!",
           -1
          ],
          [
           5,
           "to use correctly/n/nTo play nintendo switch games",
           20
          ],
          [
           5,
           "SUPER CUTE PACKAGING/n/nLove the container this gift card came in.  Very pleased!",
           -1
          ],
          [
           5,
           "Easy Peasy ~ great way to show appreciation/n/nEasy Peasy, user friendly ~ great way to show appreciation. Someone cn purchase whatever they want or need",
           25
          ],
          [
           5,
           "wonderful way to send a gift/n/nkids were excited",
           15
          ],
          [
           5,
           "Coffee addicts/n/nA great gift for the addicts.",
           40
          ],
          [
           1,
           "CLAIM CODE IS INVALID. >:(/n/nPurchased for family member. Packaging and Serial Number match the order receipt. However, &#34;the Claim Code is Invalid!&#34; So, now I have a family member demanding a new code.",
           25
          ],
          [
           1,
           "One Star/n/nlies",
           -1
          ],
          [
           5,
           "Five Stars/n/ngreat",
           100
          ],
          [
           5,
           "Good desl/n/nPerfect",
           -1
          ],
          [
           5,
           "Nice savings/n/nAlways nice to save $10  $50 for $40 was irresistible.",
           25
          ],
          [
           5,
           "Love the box!/n/nLove it!",
           -1
          ],
          [
           5,
           "... am a hamburger lover and Burger King is the best. We eat Whoppers 3 or 4 times a .../n/nI am a hamburger lover and Burger King is the best.  We eat Whoppers 3 or 4 times a week!",
           25
          ],
          [
           5,
           "Nice packaging!/n/nItem arrived as promised & the packaging is nice..",
           15
          ],
          [
           5,
           "Great gift/n/nLiked the cute ornament and used it for a gift",
           25
          ],
          [
           5,
           "Convenient/n/nBest and easiest gift. Love this option",
           25
          ],
          [
           5,
           "Five Stars/n/ngreat presentation :)",
           -1
          ],
          [
           5,
           "Five Stars/n/njust as expected",
           25
          ],
          [
           5,
           "Fer/n/nExcelente!",
           125
          ],
          [
           5,
           "The perfect gift./n/nPerfect gift easy, fast, no stress!",
           25
          ],
          [
           5,
           "Love it!/n/nWho doesn’t love a Banana Republic gift card! I bought it for a friend then decided to keep it for myself!",
           50
          ],
          [
           5,
           "Five Stars/n/nthese were perfect for my nieces and nephews.",
           -1
          ],
          [
           5,
           "Simple gift giving./n/nPerfect if you can't decided what gift to purchase.",
           25
          ],
          [
           5,
           "Great speed!/n/nI was shocked at how fast it got here! I ordered it coming home from work one night, chose the free shipping and was shocked to receive it the very next afternoon! Not much to say about the actual gift card because its just a gift card, but it was cute.",
           -1
          ],
          [
           5,
           "Clever Graduation Gift/n/nHad no idea what to get my niece for her high school graduation.  This clever item did the job.<br />She can always use an Amazon gift card.",
           25
          ],
          [
           5,
           "Soo cute/n/nSoo cute. Everyone loved them",
           50
          ],
          [
           5,
           "Five Stars/n/nThe design is cute, and the shipping is fast.",
           -1
          ],
          [
           5,
           "Five Stars/n/nGreat Christmas gift!",
           50
          ],
          [
           5,
           "Quick and easy/n/nThis arrived quickly and was exactly what my nephew wanted.",
           79.99
          ],
          [
           5,
           "Five Stars/n/nEasy to use and great gift for friends.",
           50
          ],
          [
           5,
           "Great gift/n/nEasy to use.",
           25
          ],
          [
           1,
           "Box issue/n/nBox had no bow, just a glob of glue. Gift card was fine.",
           25
          ],
          [
           5,
           "Cute Gift Card/n/nCute gift card, my daughter loved it.",
           -1
          ],
          [
           5,
           "Amazon is number one/n/nGood idea for present",
           20
          ],
          [
           5,
           "Five Stars/n/nYou can buy stuff. On amazon. So there's that.",
           -1
          ],
          [
           5,
           "Excellent, fun, reuseable/n/nExcellent, fun, reuseable",
           25
          ],
          [
           5,
           "Great card/n/nWho doesn’t love the Amazon gift card ?  Hard to criticize this one.",
           -1
          ],
          [
           1,
           "This is not good!/n/nThe gift card that was supposed to be delivered on the 15th is still traveling around according to tracking number. I have had no luck contacting the company for help!",
           10
          ],
          [
           5,
           "When you don’t know what to get a teenager./n/nEasy gift for teen ager.",
           25
          ],
          [
           4,
           "Does not have an area to write a message./n/nAmazon missed the mark. Last minute purchase for Mother's Day and was surprised that it's not a card. Even the back is printed and hard to write on.",
           15
          ],
          [
           5,
           "Great gift!/n/nBought during cyber Monday amazing deal!",
           25
          ],
          [
           5,
           "Amazon gift cards are always nice/n/nBought these as gifts for people who use amazon. It is nice that you can get gift cards for people and they can get whatever they want.",
           10
          ],
          [
           1,
           "confused about this $50 gift card came as two cards is it $25 for $50 did not want $25/n/nconfused about this $50 gift card came as two cards is it $25 for $50 did not want $25",
           50
          ],
          [
           2,
           "Package received was torn open./n/nI am very surprised that I received the item ($100) gift card.  The package had purposely been torn to the point that the gift card (in a box) could easily have fallen out.  I believe you  are probably having a problem with the packaging since I failed to receive a prior order.  I would hate to see these gift cards become unavailable because of this problem.  Perhaps they can be included with other orders in a box.",
           50
          ],
          [
           5,
           "Five Stars/n/nBest service!",
           25
          ],
          [
           1,
           "Empty box -  no gift card/n/nSo glad I opened this before gifting it at a bridal shower. I was charged $50 for what was described as “Amazon gift card in gift box.” The box itself is lovely, but not worth $50!",
           50
          ],
          [
           5,
           "Choices/n/nI sent this to my sister for Christmas! She was so thrilled!!! It’s great because there are choices! You know they will find a restaurant to use it at!!",
           25
          ],
          [
           5,
           "Good purchase/n/nBought for my son in law.  He liked it.",
           25
          ],
          [
           5,
           "Five Stars/n/nAlways good",
           20
          ],
          [
           1,
           "Did not receive!/n/nMy nephew did not receive his gift card. He was home but he did not receive it. What can I  do?",
           25
          ],
          [
           5,
           "Five Stars/n/nNothing to not like. Every thing was great. Process worked easy. Arrived in great shape",
           10
          ],
          [
           5,
           "Five Stars/n/nThese gift cards arrived sooner then expected",
           50
          ],
          [
           5,
           "Five Stars/n/nThe art was beautiful! Loved it.",
           15
          ],
          [
           5,
           "Very Cute/n/nCame shortly after ordering and cute graphic.",
           25
          ],
          [
           5,
           "Was perfect/n/nWas just as advertised",
           -1
          ],
          [
           5,
           "Five Stars/n/nPerfect",
           25
          ],
          [
           5,
           "Easy purchase/n/nAs expected 🤷‍♀️",
           -1
          ],
          [
           5,
           "Five Stars/n/nThis was a gift",
           -1
          ],
          [
           5,
           "Perfect birthday gift!/n/nGift card is great and just what I wanted for a friend's birthday gift.  Amazon saved me a trip to the store or restaurant and gift card arrived in a couple of days.  Love it!!",
           50
          ],
          [
           1,
           "BEWARE: card did NOT function; promised refund NOT HAPPENING !!!/n/nBEWARE:  Purchased in DEC 2020.  The card never worked.  I have asked for a refund on multiple occasions over the past 4 months.  Each time, an Amazon customer service representative  promises that a refund will occur \"in the next 3-5 days, with notification\"  but to date, no refund has happened!!!  This is NOT the kind of support service I expected from Amazon. APRIL 10, 2012",
           25
          ],
          [
           5,
           "handy gift/n/nclever little gift box",
           50
          ],
          [
           5,
           "Welcome gift saves my neck each Christmas/n/nAlways a welcome gift.",
           -1
          ],
          [
           5,
           "Five Stars/n/nJordyn loved it!!",
           50
          ],
          [
           5,
           "Fast shipping!/n/nWhat do you say? It's a gift card. Ridiculously fast shipping.",
           25
          ],
          [
           5,
           "its fast and easy/n/ni liked the gift box choices and that they were complimentary",
           25
          ],
          [
           5,
           "Convenient - didn't have to go to the store/n/nPurchased for a friend who loves this store.",
           50
          ],
          [
           5,
           "Amazon Gift Card/n/nAmazon gift cards are always a fine birthday gift.  As a &#34;senior&#34; citizen it's difficult for me to get out to shop anymore and a gift card from Amazon is always welcomed.",
           -1
          ],
          [
           3,
           "Some issues/n/nMy sister did mot even recognize it was from me due to lack of labels and such",
           50
          ],
          [
           5,
           "Easy gifts, giveaways, or prizes./n/nSuch an easy thing to use for prizes or gifts.",
           10
          ],
          [
           5,
           "Very pretty gift box for Amazon gift card./n/nYes, its an Amazon gift card, no surprises there, but the gift box, with the bow, is very pretty. My niece loved it.",
           20
          ],
          [
           5,
           "Five Stars/n/nFun way to give a gift card to an avid reader.",
           -1
          ],
          [
           5,
           "Five Stars/n/nGreat!",
           -1
          ],
          [
           5,
           "Five Stars/n/nConvenient and useful gift for out of towners",
           -1
          ],
          [
           5,
           "Great, useful gift idea!/n/nEase of purchasing and received quickly.",
           20
          ],
          [
           5,
           "great graduation gifts/n/nused these for gifts for graduation parties. Perfect amount and nice option instead of cash",
           -1
          ],
          [
           5,
           "Great gift/n/nMakes a great gift idea!",
           25
          ],
          [
           5,
           "Everyone just about since COVID hit us is shopping on line, more and more./n/nEasy decision on my difficult people to buy presents for! Quick, easy.",
           25
          ],
          [
           5,
           "How can you beat a gift card?/n/nEspecially if that gift card is for yourself.",
           -1
          ],
          [
           5,
           "Cute for Christmas/n/nLove these to give gift cards at Christmas.",
           25
          ],
          [
           5,
           "Five Stars/n/nVery good and thanks because I received on time.",
           -1
          ],
          [
           5,
           "Pretty/n/nSo much fun and beautiful cards my girl loved the style and colors",
           -1
          ],
          [
           5,
           "Five Stars/n/ngreat ITEM ARRIVED AS DESCRIBED ON TIME",
           50
          ],
          [
           5,
           "An impressive, no fuss gift/n/nLiked how the gift-card was already in a gif table box, easy to use by the recipient and an easy gift anyone would be very happy to get!!",
           15
          ],
          [
           5,
           "Good gift!/n/nMy son got a kick out of it!",
           25
          ],
          [
           5,
           "Original/n/nThese are the best gifts to give the book lover in your life.",
           -1
          ],
          [
           5,
           "Five Stars/n/nGreat  gift!!!",
           100
          ],
          [
           5,
           "Always Appreciated/n/nEasy, appreciated gift for new parents who got everything on their registry - ongoing needs a d forgotten items can be covered.",
           25
          ],
          [
           5,
           "Great gift card/n/nI gave the card as a gift to some friends  they can use it for whatever they want.",
           28.95
          ],
          [
           5,
           "Quick and easy/n/nEasy gift",
           25
          ],
          [
           5,
           "Five Stars/n/nit good to use. can I get a receipts from you if you don't mine thank-u",
           -1
          ],
          [
           5,
           "Seriously people/n/nFor the people that ordered different denominations  on their gift cards, it's very simple to figure out which is which.  Amazon includes an invoice that has each card listed with the serial number and amount.  Just match them up!",
           25
          ],
          [
           5,
           "Super cute!/n/nThe quality was better than I hoped for. I was super excited to give to my cousin.",
           25
          ],
          [
           5,
           "Easiest gift cards ever!/n/nI buy these for my team members, I buy 10 at a time and I buy the egift ones and send by text!",
           -1
          ],
          [
           5,
           "Great gift/n/nGreat gift",
           50
          ],
          [
           5,
           "Great deal!!!/n/nGreat deal. I use it during Express clearance sale. I got two pair of pants and a shirt, normally $50 can barely got me a pair. Awesome deal.",
           25
          ],
          [
           5,
           "Five Stars/n/nVery pretty packaging! My sister loved it.",
           50
          ],
          [
           5,
           "Five Stars/n/nReally? They asked me to review a gift card?",
           20
          ],
          [
           5,
           "Five Stars/n/nThank you Amazon for ensuring the replacement  cards made!  I so appreciate it",
           25
          ],
          [
           5,
           "It's a gift card/n/nIt's a gift card. What is there to say about that. It works fine and the box is cute. That's all.",
           -1
          ],
          [
           1,
           "Never again/n/nCards were no good",
           25
          ],
          [
           5,
           "Five Stars/n/nNothing to say really I am always very happy to receive a gift card as a present.<br />]",
           -1
          ],
          [
           5,
           "Giftable commodity/n/nThis is an excellent choice for a partner, friends, and family! Thank you, the gift arrived on time.",
           50
          ],
          [
           5,
           "Five Stars/n/ngiven to someone as a gift",
           50
          ],
          [
           5,
           "Gift cards work.../n/nThe gift card was used as a gift and worked great",
           -1
          ],
          [
           5,
           "Easy way to send a gift./n/nI send my grandchildren gift cards at holiday time.  They are always happy to receive them in a cute little gift box.  They love choosing their own special gift.  Makes it easy for me and happy for them.",
           25
          ],
          [
           5,
           "Great way to gift/n/nEasy and perfect gifts!",
           -1
          ],
          [
           5,
           "Cute bsg/n/nVery cute bag for the gift card",
           -1
          ],
          [
           5,
           "Wonderful gifts/n/nThe cards arrived earlier than expected and looked really nice with the yellow bow and the printed gift box.  These cards are easy to give as gifts because the denominations are flexible not pre-determined.",
           -1
          ],
          [
           5,
           "Five Stars/n/nAll as expected",
           -1
          ],
          [
           5,
           "cute box/n/nits a gift card.  it's wrapped in a fancy box!  what else do you need?!  it's the perfect gift!",
           25
          ],
          [
           5,
           "Amazing! Awesome! Super! Gift Cards! Yay!/n/nThese were amazing!<br />Absolutely everything I thought they would be.<br />They are like the kings of gift cards!",
           -1
          ],
          [
           5,
           "Works/n/nIt's a gift card, pretty straightforward",
           25
          ],
          [
           4,
           "It was good/n/nIt was good",
           50
          ],
          [
           5,
           "Five Stars/n/nWho doesn't like free money",
           -1
          ],
          [
           5,
           "As expected/n/nCame just as expected. Also was activated and ready to use",
           25
          ],
          [
           5,
           "No need to wrap!/n/nVery nice, colorful, heavy-duty, reusable tin.",
           25
          ],
          [
           5,
           "The $150 amazon gift card/n/nI received the $150 amazon gift card and I love it!! There is so much stuff to buy on this website. I recommend this to anyone! The only thing that I do not like about amazon is that the shipping and handling is a little pricey but it's worth it because you are saving money when that extra money would have been spent on the same item in the store.",
           25
          ],
          [
           5,
           "Enjoyed it.../n/nIt was a pleasant gift to the other party. They we pleased and enjoyed it! Thanks Amazon for saving us time and fuel once again!",
           50
          ],
          [
           3,
           "The Card is Papery Thin/n/nI wish this card had a real card like thickness like a normal gift card. The gift card I received was thin like newspaper. It feels CHEAP when you already feel kind of tacky for giving a gift card. I think next time I will just stop by a grocery store instead of ordering online.",
           -1
          ],
          [
           2,
           "First one didn't work !/n/nI always use Amazon for myself, BUT used it for a gift card for my son.<br />Very disappointed the , card arrived , and didn't work , I did receive a email saying \" Amazon was having issues with the card working and another would be sent out asap\"  So a week later He did get the card , and it worked , BUT very disappointed the \"gift cards\" I can get at any store locally , have always worked first time.  I was hoping going right to Amazon would have been easier and better service than getting one from a convenience store , BUT it was not .",
           -1
          ],
          [
           5,
           "Best last minute gift ever/n/nI have used this for last minute gifts many times, and will continue to do so",
           25
          ],
          [
           5,
           "Love love this book/n/nI love this book! Give 5 stars",
           -1
          ],
          [
           5,
           "Five Stars/n/nexcellent item, quick delivery",
           25
          ],
          [
           3,
           "Cute tin to present a gift card in, however.../n/nI sent this as a gift and the recipient loved the tin that the card arrived in; however, there was nothing sent with the tin and gift card to indicate WHO the gift was from. In the past, when I have sent Amazon Gift Cards, there has been an option to include a note. Not sure why this wasn't an option on this occasion. I love the convenience and speed of delivery and would have given 5 stars had it not been for this very disappointing occurrence. It resulted in a rather awkward inquiry.",
           25
          ],
          [
           5,
           "Five Stars/n/nMy grandchildren will love this gift card, plus it is such a nice box!<br />Thank You,  Sidney",
           -1
          ],
          [
           5,
           "nice packaging for Holidays!/n/nperfect Christmas gift for someone loves Amazon!",
           25
          ],
          [
           5,
           "Such a great resturant. Card came in handy for little extra .../n/nUsed at Seasons52.<br />Such a great resturant.<br />Card came in handy for little extra spending on birthday occasion.",
           -1
          ],
          [
           5,
           "Loved being able to purchase gift card to Old navy .../n/nLoved being able to purchase gift card to Old navy without driving to get it.  Made Christmas shopping even easier.",
           25
          ],
          [
           5,
           "Money card/n/nEasy gift",
           10
          ],
          [
           5,
           "Five Stars/n/nKinda hard to write a review about a gift card...",
           25
          ],
          [
           1,
           "Deceiving/n/nThere should never be fine print that you have to read when buying a gift card. This came hand-taped onto the the cardboard display, so since it looked fishy, I went online to read reviews. (It seems ridiculous to have to read reviews for a gift card, right?) First, it arrived late and then I find it won’t even work where I live in Western WA. THIS SHOULD BE IN BOLD PRINT WITH THE MAIN TITlE OF THE CARD. EX. “Taco Time Gift Card NOT FOR WESTERN WA”. It is deceiving to put that in the fine print.  This was supposed to be a last day of school gift for my daughter’s teacher who loves taco time. Oh, and it arrived late and it was supposed to be part of a gift. I am now delivering the rest of the gift late without the taco time card I was waiting on bc it doesn’t work.",
           25
          ],
          [
           5,
           "Get a free greeting card, you're welcome/n/nThank you for giving me an adorable card to put my gc in. SCORE!",
           -1
          ],
          [
           5,
           "Amazon Gift cards are the best. So easy and the super cute packaging is .../n/nAmazon Gift cards are the best. So easy and the super cute packaging is so awesome. Safes money and time because there is no need to buy additional wrapping or packaging for the gift card",
           25
          ],
          [
           5,
           "Very Cute/n/nThis of course was a gift.  The little Amazon Box is just adorable.  The person loved the box.  This will be the only way I will order an Amazon Gift Card.",
           25
          ],
          [
           5,
           "Great gift/n/nCute card holder",
           20
          ],
          [
           5,
           "Five Stars/n/nVery classy design.",
           20
          ],
          [
           5,
           "So cute!/n/nLove!",
           25
          ],
          [
           5,
           "Sought After Gift/n/nAmazon gift cards are easy to buy, whether electronic or actual card, and easy to redeem.  Additionally they are always appreciated.",
           20
          ],
          [
           5,
           "Five Stars/n/nGreat gift",
           -1
          ],
          [
           5,
           "Works at GME site/n/nWorks at GME site.",
           25
          ],
          [
           5,
           "Good./n/nEasy. Works.",
           25
          ],
          [
           5,
           "Great/n/nGreat coworker gifts",
           30
          ],
          [
           5,
           "Perfect shower gift/n/nA present for my daughter's shower. The couple was very happy to receive it. I felt a bit bad not being able to \"handle\" it, but that's the modern way",
           20
          ],
          [
           5,
           "Five Stars/n/ngift",
           20
          ],
          [
           5,
           "Great gift/n/nGift for family",
           50
          ],
          [
           5,
           "Very cute and very easy!!/n/nIt came in a cute card holder which was very clever...the card it self was so cute.",
           -1
          ],
          [
           3,
           "They licked the envelope for me./n/nThey sealed the envelope.<br /><br />The last time I bought an amazon gift card in a greeting card I remember being able to write a nice note on the inside. I don't know if this is standard practice or if someone got overexcited, but I don't particularly like pre-licked envelopes. I ended up sticking the whole envelope in a bag and hoping for the best.",
           -1
          ],
          [
           5,
           "xmas18/n/ngift - fast service",
           10
          ],
          [
           5,
           "Perfect gift/n/nAlways the right size lol. Who doesn’t love a gift card. Allow that special someone to get what they really want.",
           25
          ],
          [
           5,
           "Great stocking stuffer/n/nMy son and his girlfriend really enjoyed this gift to their favorite restaurant.",
           50
          ],
          [
           5,
           "Quick gift/n/nEasy, quick gift! Came within a day.",
           75
          ],
          [
           5,
           "Fun package/n/nA darling little container for a gift card! Looks just like bubble packaging! So cute!",
           25
          ],
          [
           5,
           "Best gift for a 12 year old boy/n/nI got this for my 12 year old cousin for Christmas. When he unwrapped it he went crazy! The very next day he begged his mom to take him! I give this 5 stars!",
           25
          ],
          [
           5,
           "So easy/n/nMy sister loved her gift. Even though we're miles away, it's really nice to be able to give her something nice.",
           28.95
          ],
          [
           5,
           "Gift Card/n/nThey loved that they can get whatever they want!",
           25
          ],
          [
           5,
           "Five Stars/n/nGreat and elegant presentation!",
           -1
          ],
          [
           5,
           "Fast shipping and looks very nice./n/nThis gift card looks very pretty I. The red packaging. It arrived fast too.",
           20
          ],
          [
           5,
           "Great gift/n/nPerfect for holidays",
           25
          ],
          [
           5,
           "Convenient/n/nConvenient",
           50
          ],
          [
           5,
           "Five Stars/n/nThey loved it",
           -1
          ],
          [
           5,
           "Great birthday gift!/n/nIt’s a wonderful gift that slips into a card. Nicer than just the gift card itself!",
           10
          ],
          [
           1,
           "Amazon does not knot how to handle a gift card and never has./n/nIt was a gift for my wife and she was totally unable to use it for two weeks.  She hassled with Amazon and got no answer from them.  I left home to travel to a city 1000 miles away and left it for her to claim that same day.  She wasn't able to use it until I got home to fight with amazon reps to release the card so she could use it.  I was gone on  business for over a week.  Thus the GIFT CARD  I LEFT TO MAKE HER HAPPY  MADE HER FRUSTRATED AND ANGRY INSTEAD.",
           20
          ],
          [
           5,
           "Such a deal, try it you’ll like it! It’ll save you time also./n/nGreat for handing out Olive Garden gift cards to family for presents. It’s a great place to eat also, never had a bad meal there! Been there hundreds of times in different cities across America.",
           60
          ],
          [
           5,
           "Five Stars/n/nPerfect for hard to buy people. Life saver",
           25
          ],
          [
           5,
           "Five Stars/n/nDaughter in-law loved the Christmas gift",
           -1
          ],
          [
           5,
           "A gift that they love./n/nWe got these as teacher gifts.<br />What teacher doesn’t have an Amazon wishlist?",
           10
          ],
          [
           5,
           "Five Stars/n/nit was presented so beautiful",
           -1
          ],
          [
           5,
           "Five Stars/n/nItem arrived and put to good use right away.",
           25
          ],
          [
           5,
           "We live far away and easy t mgive a present/n/nI did send to my brother son wife that just have a baby and I do not know what she need now she can buy any thing she need or like.",
           10
          ],
          [
           5,
           "Works/n/nWorked at adidas outlet!",
           50
          ],
          [
           5,
           "Christmas for the Vendor made easy/n/nAmazon gift cards made beautiful...the box is almost aa neat as the Amazon money",
           20
          ],
          [
           4,
           "Great buy/n/nI received it on time. Only thing is security code is confusing. It is at the bottom border of the card.",
           50
          ],
          [
           5,
           "Five Stars/n/nnice packaging. Perfect for a man's gift",
           -1
          ],
          [
           5,
           "Great gift/n/nExcellent gift for teenage granddaughter",
           -1
          ],
          [
           5,
           "Great design/n/nGave this as a White Elephant gift and it was a big hit.  The design was eye catching",
           -1
          ],
          [
           5,
           "Easy, simple but cute/n/nEasy, simple, and cute gift card. Case came with the gift card so added bonus.",
           25
          ],
          [
           5,
           "Five Stars/n/nlove it",
           -1
          ],
          [
           5,
           "Five Stars/n/nPerfect for gift giving!!!",
           75
          ],
          [
           5,
           "ChesseCake Lover/n/nI Love these Gift cards I am addicted to Cheesecake",
           45
          ],
          [
           5,
           "Amazon gift cards/n/nThe amazon gift cards are perfect holiday gifts for co-workers and colleagues.  They were greatly appreciated by all who received them.",
           -1
          ],
          [
           5,
           "Real nice/n/nCame with birthday card holder.  Makes it nice.",
           15
          ],
          [
           5,
           "Assume it worked/n/nI had never purchased a gift card on Amazon before, but we don't have a Sephora nearby and I wanted to get as a Christmas gift.  The person I gave it to never told me if there was a problem with it, so I assume it worked",
           75
          ],
          [
           5,
           "Works as advertised./n/nI got what I ordered. The product was as described on the web site. It arrived in a timely manner. Works as advertised.",
           25
          ],
          [
           5,
           "Adorable packaging made this graduation gift a hit with the .../n/nAdorable packaging made this graduation gift a hit with the recipient. A nice way to turn an ordinary gift card into something special.",
           25
          ],
          [
           2,
           "Delivery of gift card/n/nThe product is fine but when it was delivered it was left at edge of porch and wind blew it into front yard near pedestrian sidewalk so that was disturbing. Needs to be weighted down when delivering outside. Thank you.",
           25
          ],
          [
           5,
           "Good Choice!!/n/nQuick and easy to use and met my every need.",
           25
          ],
          [
           5,
           "Awesome Gift/n/nGood one to gift",
           50
          ],
          [
           5,
           "Five Stars/n/nGreat deal!",
           200
          ],
          [
           5,
           "Great Gift/n/nPerfect gift for someone difficult to buy for!",
           25
          ],
          [
           5,
           "Five Stars/n/nIs as I expected.",
           -1
          ],
          [
           5,
           "Five Stars/n/nGreat!",
           10
          ],
          [
           5,
           "Great gift/n/nGreat gift",
           25
          ],
          [
           5,
           "Time saver/n/nLove that I can get gift cards sent to me know. Such a Time saver.",
           25
          ],
          [
           3,
           "its a gift card/n/nit works",
           125
          ],
          [
           5,
           "Great new package!/n/nI loved the new package, easier to send out to friends.",
           20
          ],
          [
           5,
           "It is a gift card./n/nIt is a gift card to Red Lobster...what else is there to say?",
           50
          ],
          [
           5,
           "Picky people!/n/nPerfect gift for picky people, especially the younger generation!",
           20
          ],
          [
           5,
           "Would buy it again/n/nQuick delivery, and exactly as described. Great buy.",
           25
          ],
          [
           5,
           "Loved it/n/nVery cute for any age!",
           20
          ],
          [
           5,
           "Five Stars/n/nGreat gift",
           20
          ],
          [
           5,
           "Good/n/nNothing amazing it got here on time",
           25
          ],
          [
           5,
           "Novel way to Give/n/nWhat a novel way to give a very coveted gift.  And the speed with which it came can only be described as Awesome.",
           -1
          ],
          [
           5,
           "Five Stars/n/nLoved it",
           -1
          ],
          [
           1,
           "Late so didn't work for gift/n/nThis was over 1 day late.  Though Amazon notified me of the delay on the day it was supposed to deliver it was frustrating as I had to go purchase an alternative gift and now am stuck with this gift card.",
           100
          ],
          [
           5,
           "Great/n/nYou can't really go wrong with gift cards can you? Makes everyone happy, and people can get what they want!",
           -1
          ],
          [
           5,
           "You get what's advertised/n/nIt is what it says",
           50
          ],
          [
           5,
           "Five Stars/n/nexcellent",
           50
          ],
          [
           5,
           "Love the load card and shop til you drop!/n/nAlways a welcomed gift!",
           10
          ],
          [
           5,
           "Perfect Christmas 🎁/n/nPerfect!  Will be giving it to one of my daughters for Christmas!",
           10
          ],
          [
           5,
           "Free tin with Gift Card/n/nThe Cupcake tin is so cute, I am going to use it for other things when I use the giftcard.<br /><br />THey are also really neat for giving someone a gift, they will think you spent good money on them just for the tin alone.",
           25
          ],
          [
           5,
           "Fast Shipping Great Product/n/nJust what I needed for Christmas stocking stuffer!",
           50
          ],
          [
           1,
           "Gift Card Empty/n/nI purchased this $100.00 gift card on December 14 2019 and yesterday April 26 2010 My wife scratched the pin and she was unable to used it the card is empty we called Kohls and the number does not show nothin in the system, I have been trying to call Amazon and it is impossible for the Coronavirus pandemic",
           125
          ],
          [
           5,
           "Five Stars/n/n$50 gift card with an extra $10 credit!",
           -1
          ],
          [
           5,
           "Grabbed one at 42.5 sale/n/nReceived in time and best value at 42.5",
           50
          ],
          [
           1,
           "I don’t need a gift card for hearing aids. I don’t have a hearing oroblem/n/nI am disappointed I thought I was getting a gift card that I could purchase anything I wanted or needed. I don’t need a gift card for hearing aids. I do not have any hearing problems",
           105.95
          ],
          [
           5,
           "Multi-use/n/nThese make such a great gift in their little envelope that you can write a note on. I love them for my son’s teachers, OT & SLP therapists, and bus drivers.",
           10
          ],
          [
           5,
           "Extremely satisfied!/n/nVery fast delivery! Extremely satisfied!",
           -1
          ],
          [
           5,
           "Eat Fresh!/n/nas expected?",
           50
          ],
          [
           5,
           "Easy to monitor its arrival for an Xmas gift for out of state family./n/nEasier to monitor arrival for family out of state and last minute decision of gift direction.",
           50
          ],
          [
           5,
           "Perfect gift/n/nPerfect gift for my teenage niece who lives far away.",
           54.95
          ],
          [
           4,
           "Gift card/n/nWhat can I say about gift cards.  I guessed the user was able to buy products with it without using credit card?",
           -1
          ],
          [
           5,
           "Love It!!/n/nGreat as a birthday gift...I'm sure it's all been spent/",
           25
          ],
          [
           5,
           "Five Stars/n/nas promised.",
           -1
          ],
          [
           5,
           "Exactly what I wanted/n/nI needed gift cards for a holiday party. Love these, and with the box, it's ready to go!",
           25
          ],
          [
           5,
           "high quality. USA. Fair Internet price./n/nhigh quality. USA. Fair Internet price.",
           25
          ],
          [
           5,
           "Five Stars/n/nGood quality product, GOOD price & fast service and serves me as expected!",
           20
          ],
          [
           5,
           "Let the new graduate decide on the gift./n/nI love the ease of purchasing gift cards and sending them.  You have a wonderful selection of cards at a wide price range.  Especially useful to have since we aren't meeting face to face right now.",
           25
          ],
          [
           5,
           "Great/n/nLove",
           25
          ],
          [
           5,
           "Great gift idea!/n/nThe recipient certainly enjoyed this gift!",
           45
          ],
          [
           5,
           "Five Stars/n/nMakes nice present",
           -1
          ],
          [
           5,
           "Five Stars/n/nWhat could be wrong with Cold Stone Creamery Gift Cards...very well received.",
           30
          ],
          [
           5,
           "Five Stars/n/nThe perfect gift!",
           50
          ],
          [
           3,
           "Poor choice of options./n/nCard states $15 -$100, yet $50 is the only option.",
           50
          ],
          [
           5,
           "Great gift/n/nNice little tins!",
           25
          ],
          [
           5,
           "works as promised/n/nCame quickly, works as promised.",
           100
          ]
         ],
         "hovertemplate": "Component 1=%{x}<br>Component 2=%{y}<br>rating=%{marker.color}<br>text_review=%{customdata[1]}<br>price=%{customdata[2]}<extra></extra>",
         "legendgroup": "",
         "marker": {
          "color": [
           5,
           5,
           5,
           5,
           4,
           5,
           5,
           5,
           4,
           5,
           1,
           5,
           5,
           4,
           5,
           5,
           5,
           5,
           3,
           5,
           5,
           5,
           5,
           1,
           5,
           5,
           5,
           5,
           5,
           5,
           5,
           5,
           5,
           5,
           5,
           5,
           5,
           5,
           5,
           5,
           5,
           4,
           5,
           5,
           1,
           5,
           5,
           5,
           4,
           5,
           5,
           5,
           4,
           5,
           5,
           5,
           5,
           5,
           5,
           5,
           5,
           5,
           5,
           5,
           5,
           5,
           5,
           4,
           3,
           1,
           5,
           5,
           5,
           5,
           5,
           5,
           5,
           5,
           5,
           5,
           5,
           5,
           5,
           5,
           5,
           5,
           5,
           1,
           5,
           5,
           5,
           5,
           5,
           1,
           5,
           5,
           5,
           5,
           5,
           5,
           5,
           5,
           1,
           5,
           5,
           5,
           5,
           1,
           5,
           5,
           5,
           5,
           5,
           5,
           5,
           5,
           5,
           5,
           5,
           5,
           5,
           5,
           2,
           5,
           5,
           5,
           5,
           5,
           5,
           1,
           5,
           5,
           5,
           5,
           4,
           5,
           5,
           5,
           2,
           5,
           5,
           5,
           5,
           5,
           5,
           5,
           5,
           1,
           5,
           5,
           5,
           5,
           5,
           5,
           5,
           5,
           5,
           4,
           5,
           5,
           1,
           5,
           5,
           5,
           5,
           1,
           4,
           5,
           5,
           5,
           5,
           5,
           5,
           5,
           5,
           5,
           5,
           4,
           5,
           5,
           5,
           5,
           5,
           5,
           5,
           5,
           5,
           5,
           5,
           5,
           5,
           5,
           1,
           5,
           5,
           5,
           5,
           5,
           5,
           5,
           5,
           4,
           5,
           1,
           5,
           4,
           5,
           5,
           5,
           5,
           5,
           5,
           5,
           5,
           5,
           5,
           5,
           5,
           5,
           5,
           5,
           5,
           5,
           5,
           5,
           5,
           5,
           5,
           5,
           5,
           5,
           5,
           5,
           5,
           5,
           5,
           3,
           5,
           5,
           5,
           1,
           5,
           5,
           5,
           1,
           5,
           5,
           1,
           5,
           5,
           5,
           3,
           1,
           5,
           5,
           5,
           5,
           5,
           5,
           5,
           3,
           1,
           5,
           5,
           5,
           5,
           5,
           5,
           5,
           5,
           5,
           5,
           5,
           2,
           5,
           5,
           5,
           5,
           5,
           5,
           5,
           5,
           5,
           5,
           5,
           5,
           5,
           5,
           5,
           5,
           1,
           5,
           5,
           5,
           4,
           5,
           5,
           5,
           5,
           5,
           5,
           5,
           5,
           5,
           1,
           5,
           5,
           1,
           5,
           5,
           4,
           1,
           5,
           5,
           5,
           1,
           1,
           5,
           5,
           5,
           5,
           5,
           5,
           5,
           5,
           5,
           5,
           5,
           1,
           5,
           5,
           5,
           5,
           5,
           5,
           5,
           5,
           5,
           1,
           4,
           5,
           5,
           5,
           5,
           5,
           5,
           5,
           5,
           5,
           2,
           4,
           5,
           5,
           5,
           5,
           4,
           5,
           5,
           1,
           5,
           5,
           5,
           5,
           5,
           5,
           5,
           5,
           5,
           5,
           5,
           5,
           5,
           5,
           5,
           4,
           5,
           5,
           5,
           5,
           5,
           5,
           5,
           5,
           5,
           5,
           5,
           5,
           5,
           5,
           5,
           5,
           5,
           5,
           5,
           5,
           5,
           5,
           5,
           5,
           5,
           5,
           5,
           5,
           5,
           5,
           5,
           5,
           5,
           5,
           5,
           5,
           5,
           5,
           5,
           5,
           5,
           5,
           5,
           5,
           5,
           3,
           5,
           5,
           5,
           5,
           5,
           5,
           3,
           5,
           5,
           5,
           5,
           1,
           5,
           5,
           5,
           5,
           5,
           4,
           5,
           5,
           1,
           1,
           5,
           5,
           5,
           5,
           5,
           5,
           3,
           5,
           5,
           5,
           5,
           5,
           5,
           5,
           5,
           5,
           5,
           5,
           5,
           5,
           5,
           5,
           5,
           5,
           5,
           5,
           5,
           5,
           5,
           5,
           1,
           5,
           5,
           5,
           5,
           5,
           5,
           5,
           5,
           5,
           5,
           1,
           5,
           5,
           5,
           5,
           5,
           5,
           5,
           5,
           5,
           5,
           5,
           5,
           5,
           5,
           5,
           5,
           5,
           5,
           5,
           5,
           5,
           5,
           4,
           5,
           5,
           5,
           5,
           5,
           5,
           5,
           5,
           1,
           5,
           5,
           5,
           2,
           5,
           5,
           5,
           5,
           5,
           5,
           1,
           1,
           5,
           5,
           5,
           5,
           5,
           5,
           5,
           5,
           5,
           5,
           5,
           5,
           5,
           5,
           5,
           5,
           5,
           5,
           5,
           5,
           5,
           5,
           5,
           5,
           5,
           5,
           5,
           5,
           5,
           5,
           5,
           5,
           5,
           5,
           1,
           5,
           1,
           5,
           5,
           5,
           5,
           5,
           5,
           5,
           5,
           5,
           5,
           5,
           5,
           1,
           3,
           1,
           5,
           1,
           1,
           5,
           5,
           5,
           5,
           5,
           5,
           5,
           5,
           5,
           5,
           5,
           5,
           2,
           5,
           5,
           5,
           5,
           5,
           1,
           5,
           1,
           5,
           5,
           5,
           5,
           5,
           5,
           5,
           5,
           5,
           5,
           1,
           5,
           5,
           5,
           4,
           5,
           5,
           5,
           5,
           5,
           5,
           5,
           5,
           5,
           2,
           5,
           5,
           3,
           5,
           5,
           5,
           5,
           5,
           5,
           5,
           5,
           5,
           5,
           4,
           5,
           5,
           5,
           5,
           5,
           5,
           5,
           5,
           5,
           5,
           5,
           5,
           5,
           5,
           5,
           5,
           5,
           1,
           5,
           5,
           5,
           5,
           1,
           5,
           5,
           5,
           5,
           1,
           3,
           5,
           5,
           5,
           5,
           5,
           5,
           5,
           5,
           3,
           5,
           5,
           5,
           1,
           5,
           5,
           5,
           1,
           5,
           5,
           5,
           5,
           5,
           5,
           5,
           1,
           5,
           5,
           5,
           5,
           5,
           4,
           5,
           1,
           5,
           5,
           5,
           5,
           3,
           5,
           1,
           5,
           5,
           5,
           5,
           5,
           5,
           5,
           5,
           5,
           5,
           5,
           4,
           5,
           5,
           1,
           5,
           5,
           5,
           5,
           5,
           5,
           5,
           5,
           5,
           5,
           5,
           5,
           5,
           5,
           3,
           5,
           5,
           1,
           5,
           5,
           5,
           5,
           5,
           5,
           5,
           5,
           5,
           5,
           5,
           5,
           5,
           5,
           5,
           5,
           5,
           5,
           4,
           5,
           5,
           5,
           5,
           5,
           5,
           1,
           1,
           5,
           5,
           5,
           5,
           5,
           5,
           5,
           5,
           5,
           5,
           5,
           5,
           5,
           5,
           5,
           5,
           5,
           5,
           5,
           5,
           5,
           5,
           5,
           1,
           5,
           5,
           5,
           5,
           5,
           1,
           5,
           4,
           5,
           5,
           1,
           2,
           5,
           1,
           5,
           5,
           5,
           1,
           5,
           5,
           5,
           5,
           5,
           5,
           5,
           5,
           5,
           1,
           5,
           5,
           5,
           5,
           5,
           5,
           5,
           3,
           5,
           5,
           5,
           5,
           5,
           5,
           5,
           5,
           5,
           5,
           5,
           5,
           5,
           5,
           5,
           5,
           5,
           5,
           5,
           5,
           5,
           5,
           5,
           5,
           5,
           5,
           5,
           5,
           5,
           5,
           5,
           1,
           5,
           5,
           5,
           5,
           5,
           5,
           5,
           5,
           5,
           5,
           5,
           5,
           4,
           5,
           5,
           5,
           5,
           5,
           3,
           2,
           5,
           5,
           5,
           3,
           5,
           5,
           5,
           5,
           5,
           5,
           1,
           5,
           5,
           5,
           5,
           5,
           5,
           5,
           5,
           5,
           5,
           5,
           5,
           5,
           5,
           5,
           3,
           5,
           5,
           5,
           5,
           5,
           5,
           5,
           5,
           5,
           5,
           5,
           5,
           5,
           5,
           1,
           5,
           5,
           5,
           5,
           5,
           5,
           5,
           5,
           5,
           4,
           5,
           5,
           5,
           5,
           5,
           5,
           5,
           5,
           5,
           5,
           5,
           5,
           2,
           5,
           5,
           5,
           5,
           5,
           5,
           5,
           5,
           3,
           5,
           5,
           5,
           5,
           5,
           5,
           5,
           5,
           5,
           1,
           5,
           5,
           5,
           5,
           5,
           5,
           5,
           1,
           5,
           5,
           1,
           5,
           5,
           5,
           5,
           5,
           4,
           5,
           5,
           5,
           5,
           5,
           5,
           5,
           5,
           5,
           5,
           5,
           3,
           5,
           5
          ],
          "coloraxis": "coloraxis",
          "symbol": "circle"
         },
         "mode": "markers",
         "name": "",
         "orientation": "v",
         "showlegend": false,
         "type": "scatter",
         "x": [
          -7.169155597686768,
          -14.25964641571045,
          -19.698535919189453,
          -36.11619186401367,
          40.144798278808594,
          46.03740310668945,
          6.3616485595703125,
          51.61916732788086,
          -24.969444274902344,
          -28.788345336914062,
          5.479389667510986,
          -21.912899017333984,
          -27.21159553527832,
          -6.24549674987793,
          15.005717277526855,
          21.73849868774414,
          45.82887268066406,
          -27.66366958618164,
          41.82822036743164,
          -7.641726016998291,
          -35.194488525390625,
          -10.56625747680664,
          19.906930923461914,
          36.44733810424805,
          -32.4848518371582,
          -9.61899185180664,
          38.50338363647461,
          -18.188858032226562,
          -28.92308807373047,
          -19.109622955322266,
          -26.04593276977539,
          28.54180335998535,
          -34.94991683959961,
          24.406375885009766,
          -14.165013313293457,
          -0.1437310129404068,
          -22.702392578125,
          50.95039749145508,
          -12.515398979187012,
          -9.5473051071167,
          9.804338455200195,
          -8.174184799194336,
          -12.265722274780273,
          41.07108688354492,
          5.53455924987793,
          33.28233337402344,
          41.654327392578125,
          42.322261810302734,
          -23.263912200927734,
          -27.128684997558594,
          6.2417497634887695,
          -26.052494049072266,
          -21.06563949584961,
          -30.980388641357422,
          -27.2667179107666,
          -7.242332458496094,
          -18.77596664428711,
          -35.70381546020508,
          25.5181884765625,
          -32.277183532714844,
          35.16983413696289,
          -25.7415828704834,
          -32.125247955322266,
          -28.909034729003906,
          -26.574926376342773,
          46.66435241699219,
          -10.031631469726562,
          48.45267868041992,
          54.95013427734375,
          35.24555587768555,
          -7.953208923339844,
          41.666439056396484,
          52.56349563598633,
          -21.609237670898438,
          22.077199935913086,
          -12.314868927001953,
          -20.69176483154297,
          23.55014991760254,
          16.74379539489746,
          23.05855941772461,
          44.9725456237793,
          -8.267910957336426,
          -30.266775131225586,
          28.95488929748535,
          40.992210388183594,
          43.963497161865234,
          -11.806680679321289,
          -30.687288284301758,
          23.853256225585938,
          5.728318214416504,
          -27.330806732177734,
          -5.755138397216797,
          -20.760826110839844,
          4.780945301055908,
          20.98969078063965,
          -32.391536712646484,
          5.639737129211426,
          16.124357223510742,
          -12.487500190734863,
          24.596044540405273,
          53.50132751464844,
          -31.873382568359375,
          -6.87122106552124,
          38.96296691894531,
          -30.553159713745117,
          -36.84178161621094,
          25.064353942871094,
          0.835766613483429,
          -3.0078001022338867,
          -10.579559326171875,
          41.13748550415039,
          14.703346252441406,
          0.5869523882865906,
          39.75052261352539,
          -22.037450790405273,
          -24.299606323242188,
          45.124874114990234,
          18.091646194458008,
          41.99532699584961,
          -27.455238342285156,
          -12.898537635803223,
          -24.019397735595703,
          -37.52677536010742,
          40.18898391723633,
          -2.420562744140625,
          -8.630975723266602,
          -4.987824440002441,
          40.660160064697266,
          27.97420883178711,
          2.060105085372925,
          41.47378158569336,
          52.035980224609375,
          -24.60219383239746,
          39.57737731933594,
          37.82854080200195,
          -19.588302612304688,
          -26.04733657836914,
          -33.4864501953125,
          35.074031829833984,
          42.37631607055664,
          -34.86888122558594,
          -36.8162727355957,
          -33.989627838134766,
          32.85719680786133,
          13.019617080688477,
          -29.741769790649414,
          -15.264237403869629,
          41.19316482543945,
          -19.514978408813477,
          -17.915597915649414,
          -24.4838924407959,
          -27.787933349609375,
          -5.886837959289551,
          -8.727179527282715,
          -30.64445686340332,
          -12.822731971740723,
          -22.61061668395996,
          -2.856714963912964,
          53.209800720214844,
          47.116703033447266,
          1.951361894607544,
          42.23220443725586,
          -1.9836125373840332,
          -7.837164878845215,
          14.564709663391113,
          6.4190497398376465,
          -27.571252822875977,
          -5.42174768447876,
          23.761117935180664,
          41.91816329956055,
          14.673867225646973,
          -14.366500854492188,
          18.69182586669922,
          20.228866577148438,
          -30.346567153930664,
          42.93103790283203,
          -8.353811264038086,
          -5.5506720542907715,
          -26.27110481262207,
          49.07736587524414,
          40.24863052368164,
          -32.01476287841797,
          12.706670761108398,
          28.364505767822266,
          13.57278060913086,
          -24.258604049682617,
          -9.175773620605469,
          -9.692183494567871,
          -13.398409843444824,
          -19.093097686767578,
          -11.995750427246094,
          -36.54909133911133,
          -16.485307693481445,
          22.709758758544922,
          -21.547826766967773,
          27.410005569458008,
          24.550386428833008,
          -13.384777069091797,
          40.25676345825195,
          -36.45358657836914,
          -3.840221881866455,
          11.977997779846191,
          23.595073699951172,
          2.7877037525177,
          -12.434394836425781,
          -20.82115364074707,
          -28.636884689331055,
          -12.868245124816895,
          13.3505859375,
          -31.498760223388672,
          16.333465576171875,
          18.296152114868164,
          -13.89558219909668,
          -7.950787544250488,
          -14.55521297454834,
          0.5875094532966614,
          45.15774154663086,
          -26.62689971923828,
          -16.0757999420166,
          -24.035850524902344,
          47.81003189086914,
          -21.03351593017578,
          -24.600046157836914,
          3.9209113121032715,
          40.12449645996094,
          -31.087064743041992,
          -11.131503105163574,
          -15.335465431213379,
          26.43229866027832,
          39.98423385620117,
          -18.10323715209961,
          -16.917810440063477,
          -20.531923294067383,
          41.77166748046875,
          -34.05101776123047,
          -35.33208084106445,
          -9.62949275970459,
          33.05443572998047,
          -26.014663696289062,
          -14.795190811157227,
          -36.86997604370117,
          34.936683654785156,
          21.095975875854492,
          23.972055435180664,
          36.51887130737305,
          20.9464054107666,
          -36.288482666015625,
          -18.661779403686523,
          -17.23862648010254,
          38.83096694946289,
          23.087013244628906,
          0.031232135370373726,
          5.22653341293335,
          50.84832763671875,
          20.05985450744629,
          -0.8755326867103577,
          -14.075496673583984,
          24.582027435302734,
          27.687496185302734,
          -5.72211217880249,
          -0.09326356649398804,
          33.18106460571289,
          -8.143425941467285,
          25.526079177856445,
          17.451473236083984,
          -13.066530227661133,
          -13.335795402526855,
          13.986918449401855,
          -33.00918197631836,
          -14.078681945800781,
          -29.020273208618164,
          -33.503055572509766,
          -20.308284759521484,
          28.209781646728516,
          -8.716485023498535,
          47.38906478881836,
          -12.727025032043457,
          -28.169017791748047,
          28.449033737182617,
          -2.1927106380462646,
          -30.604740142822266,
          -37.426029205322266,
          -1.8422372341156006,
          13.558897972106934,
          36.3350715637207,
          34.23769760131836,
          -15.959510803222656,
          29.022016525268555,
          -8.192500114440918,
          21.81846046447754,
          0.7174004912376404,
          46.15644836425781,
          23.02674674987793,
          -32.34849548339844,
          -8.32480239868164,
          -25.46654510498047,
          5.24070405960083,
          51.72705078125,
          52.48271942138672,
          -1.2235558032989502,
          27.282039642333984,
          50.73351287841797,
          -23.60207748413086,
          27.86701202392578,
          2.730525016784668,
          -18.294261932373047,
          36.98655319213867,
          5.391745567321777,
          -25.595623016357422,
          25.268735885620117,
          -34.2371826171875,
          33.36228942871094,
          -8.610136032104492,
          17.00156593322754,
          -36.31501770019531,
          -1.031104326248169,
          2.730625867843628,
          -15.038678169250488,
          -36.06237030029297,
          26.96121597290039,
          26.68617057800293,
          -34.30992889404297,
          -3.3248653411865234,
          -15.13266372680664,
          -22.48468017578125,
          29.12051773071289,
          22.85614013671875,
          -10.375117301940918,
          -10.976967811584473,
          10.796770095825195,
          -17.936328887939453,
          -23.234426498413086,
          27.83260154724121,
          19.032756805419922,
          -14.091779708862305,
          -14.584115028381348,
          13.126389503479004,
          32.84049606323242,
          -7.562134742736816,
          21.2084903717041,
          31.22287940979004,
          -30.99153709411621,
          -11.90616512298584,
          0.7394145727157593,
          -10.398725509643555,
          31.142148971557617,
          46.623085021972656,
          24.899036407470703,
          34.69137954711914,
          36.43426513671875,
          -4.170099258422852,
          46.22780227661133,
          -18.23245620727539,
          11.648277282714844,
          47.71699523925781,
          17.556133270263672,
          -9.956116676330566,
          24.343908309936523,
          2.3634088039398193,
          48.955013275146484,
          -9.137701988220215,
          -7.163857936859131,
          -18.65826416015625,
          -26.015884399414062,
          6.128856182098389,
          24.5213623046875,
          -7.88778829574585,
          11.95672607421875,
          -26.522144317626953,
          -17.09811782836914,
          -25.654842376708984,
          23.07727813720703,
          13.562856674194336,
          -21.362634658813477,
          -33.34880065917969,
          45.655372619628906,
          -21.390071868896484,
          -3.3000972270965576,
          22.835206985473633,
          16.790512084960938,
          50.397239685058594,
          -18.09003448486328,
          21.417680740356445,
          -14.486472129821777,
          -24.533218383789062,
          -0.4435741603374481,
          28.039230346679688,
          -8.317148208618164,
          -35.210670471191406,
          0.005692521575838327,
          -13.642349243164062,
          24.768043518066406,
          21.17068862915039,
          -36.682613372802734,
          25.007678985595703,
          -22.757278442382812,
          -8.973579406738281,
          20.872371673583984,
          -9.20010757446289,
          -4.951581954956055,
          15.884294509887695,
          -22.947229385375977,
          44.59623718261719,
          -9.268346786499023,
          -36.32650375366211,
          -4.575344562530518,
          28.183582305908203,
          -33.685420989990234,
          -24.696361541748047,
          -23.31928825378418,
          34.4800910949707,
          19.269012451171875,
          -20.39861488342285,
          -15.143997192382812,
          -0.7256346940994263,
          47.32101058959961,
          -29.515300750732422,
          -25.90050506591797,
          -12.099379539489746,
          -17.511951446533203,
          -6.5993523597717285,
          21.920190811157227,
          -30.959156036376953,
          26.48431968688965,
          14.417621612548828,
          -28.210954666137695,
          -1.2870807647705078,
          0.4472455680370331,
          27.88160514831543,
          -16.288915634155273,
          44.17973327636719,
          35.49435043334961,
          2.4416162967681885,
          -23.680517196655273,
          -36.088050842285156,
          47.738250732421875,
          -13.760993003845215,
          -27.671253204345703,
          -3.436602830886841,
          -13.764266014099121,
          19.799022674560547,
          35.976593017578125,
          5.6623406410217285,
          -16.194961547851562,
          -10.061182022094727,
          22.402652740478516,
          -5.972692966461182,
          40.5369758605957,
          17.481460571289062,
          1.3695720434188843,
          15.66247272491455,
          26.735502243041992,
          19.813640594482422,
          -27.389650344848633,
          -28.816415786743164,
          -11.316044807434082,
          41.81660079956055,
          13.607405662536621,
          -13.251398086547852,
          -0.6375860571861267,
          -21.569616317749023,
          -8.405521392822266,
          24.22808265686035,
          22.98297119140625,
          46.2356071472168,
          32.143272399902344,
          -19.922780990600586,
          -25.945003509521484,
          -22.061031341552734,
          29.12942886352539,
          6.850838661193848,
          -36.31169891357422,
          -33.62873458862305,
          0.5734112858772278,
          -11.2039155960083,
          47.37690734863281,
          -18.151704788208008,
          53.55464172363281,
          -10.07103443145752,
          21.31072998046875,
          -31.268831253051758,
          -22.345510482788086,
          -32.08206558227539,
          -3.4381790161132812,
          34.061378479003906,
          25.308439254760742,
          20.251859664916992,
          39.36447525024414,
          -24.754064559936523,
          -20.930227279663086,
          -20.37262535095215,
          -30.67278289794922,
          -15.19006633758545,
          22.173261642456055,
          40.815956115722656,
          -6.205455780029297,
          18.55759048461914,
          36.856834411621094,
          -10.351930618286133,
          -32.93301010131836,
          -4.679677963256836,
          44.501277923583984,
          -29.940553665161133,
          37.756568908691406,
          19.79520606994629,
          42.9979133605957,
          5.0891571044921875,
          -19.069631576538086,
          -28.84827995300293,
          22.50660514831543,
          -23.62442970275879,
          39.58098220825195,
          -2.6092538833618164,
          -24.583942413330078,
          21.54806137084961,
          -15.837843894958496,
          36.581817626953125,
          18.984952926635742,
          -29.995145797729492,
          0.07216182351112366,
          -6.972055435180664,
          -5.858083724975586,
          -0.9859579205513,
          -16.62007713317871,
          -27.22662353515625,
          -7.4390668869018555,
          -8.388218879699707,
          -38.84770202636719,
          -17.657779693603516,
          24.259227752685547,
          21.20733070373535,
          -33.250244140625,
          20.32903289794922,
          49.49006271362305,
          28.535350799560547,
          -0.6986196041107178,
          22.711410522460938,
          25.343294143676758,
          -35.77387619018555,
          -26.01911163330078,
          -12.409622192382812,
          -15.208734512329102,
          -3.4809327125549316,
          22.733823776245117,
          -13.592826843261719,
          -32.72425842285156,
          48.78765106201172,
          -20.114389419555664,
          -13.181985855102539,
          16.952123641967773,
          -15.427210807800293,
          22.528642654418945,
          -14.069234848022461,
          -19.16640281677246,
          -26.384061813354492,
          -25.417264938354492,
          26.754423141479492,
          44.155616760253906,
          12.7520751953125,
          -33.49605941772461,
          -19.649309158325195,
          44.59161376953125,
          27.290422439575195,
          5.755678176879883,
          15.687746047973633,
          2.293818950653076,
          -23.25269317626953,
          22.559972763061523,
          -36.07188034057617,
          -16.22629737854004,
          -30.843284606933594,
          -35.92947006225586,
          -10.278252601623535,
          26.611928939819336,
          25.182758331298828,
          -14.346776008605957,
          -9.370627403259277,
          21.491798400878906,
          -37.99897384643555,
          20.647424697875977,
          19.871862411499023,
          23.831422805786133,
          1.3423875570297241,
          1.9870530366897583,
          -23.28598403930664,
          -9.638043403625488,
          22.499774932861328,
          -38.05303192138672,
          29.342679977416992,
          -13.545201301574707,
          -15.981902122497559,
          -7.359002113342285,
          42.27572250366211,
          12.1478910446167,
          12.238791465759277,
          24.33603286743164,
          -18.02899169921875,
          -0.6545877456665039,
          -13.49063777923584,
          -14.4658842086792,
          21.879512786865234,
          23.298995971679688,
          36.23845672607422,
          27.07815933227539,
          36.00647735595703,
          50.18448257446289,
          13.272795677185059,
          -12.124966621398926,
          -30.24754524230957,
          -11.929004669189453,
          -11.58706283569336,
          41.60235595703125,
          -25.90064811706543,
          32.6156120300293,
          -9.517796516418457,
          1.0607200860977173,
          -2.940553903579712,
          22.369237899780273,
          25.560012817382812,
          -37.760807037353516,
          -16.138729095458984,
          -15.446819305419922,
          37.01911544799805,
          -27.940021514892578,
          46.74370574951172,
          -5.409550666809082,
          -17.105812072753906,
          31.60000991821289,
          20.52297019958496,
          32.22651290893555,
          -15.658422470092773,
          23.425697326660156,
          28.235183715820312,
          -25.42959976196289,
          28.57202911376953,
          16.8319091796875,
          38.335601806640625,
          18.097122192382812,
          22.71499252319336,
          -13.703828811645508,
          23.43614959716797,
          19.690963745117188,
          6.700009346008301,
          35.748722076416016,
          -27.771995544433594,
          -21.50802993774414,
          -6.008873462677002,
          34.02111053466797,
          -23.813608169555664,
          -31.899431228637695,
          -25.0423583984375,
          -9.309823036193848,
          3.743950366973877,
          48.974815368652344,
          -13.147583961486816,
          -19.407913208007812,
          23.67539405822754,
          36.62054443359375,
          22.2575740814209,
          -34.52164840698242,
          -4.1679158210754395,
          32.014808654785156,
          47.06866455078125,
          -18.309814453125,
          -12.252176284790039,
          -10.668571472167969,
          35.1014289855957,
          25.345388412475586,
          18.919464111328125,
          -8.490406036376953,
          -6.792707443237305,
          -17.616313934326172,
          1.226851463317871,
          -31.138154983520508,
          -29.02884292602539,
          -17.306068420410156,
          -33.410465240478516,
          -15.414344787597656,
          -31.307727813720703,
          -14.33142375946045,
          -35.02402114868164,
          18.29932975769043,
          -5.735545635223389,
          37.68429183959961,
          -12.876951217651367,
          -30.882110595703125,
          19.277156829833984,
          -22.09319305419922,
          -0.5628576278686523,
          0.9368466734886169,
          -11.08392333984375,
          21.201383590698242,
          -1.9173603057861328,
          46.33034896850586,
          -33.48586654663086,
          -13.6859130859375,
          21.921648025512695,
          -39.53657531738281,
          -29.925350189208984,
          -12.731807708740234,
          -21.802661895751953,
          31.77891731262207,
          20.758222579956055,
          -14.461514472961426,
          -12.847099304199219,
          5.175696849822998,
          -23.83551597595215,
          19.555850982666016,
          12.60682487487793,
          19.405344009399414,
          -2.4256908893585205,
          12.677300453186035,
          4.9799652099609375,
          -31.291719436645508,
          20.46794891357422,
          -19.724449157714844,
          -17.99249267578125,
          -30.0827693939209,
          45.34120559692383,
          0.380330890417099,
          51.40375518798828,
          -20.0918025970459,
          -35.14191436767578,
          -23.075529098510742,
          -24.429121017456055,
          50.916996002197266,
          6.933024883270264,
          -1.0585263967514038,
          48.1174201965332,
          -2.682234764099121,
          54.448646545410156,
          -17.732709884643555,
          -23.42810821533203,
          -33.140262603759766,
          -14.373258590698242,
          -28.43301773071289,
          -16.92455291748047,
          54.1956901550293,
          42.669654846191406,
          -24.910511016845703,
          27.229198455810547,
          4.648571014404297,
          38.10282516479492,
          53.773353576660156,
          -20.76374053955078,
          0.7249289751052856,
          47.721065521240234,
          -17.142499923706055,
          12.94524097442627,
          28.125429153442383,
          -33.78501892089844,
          6.612582206726074,
          -30.24047088623047,
          -13.751593589782715,
          -10.339529991149902,
          19.148229598999023,
          33.3792724609375,
          -31.675443649291992,
          17.219154357910156,
          -19.51422691345215,
          -22.063016891479492,
          14.924761772155762,
          -25.569395065307617,
          -2.8416123390197754,
          -11.051451683044434,
          -5.9553961753845215,
          35.41960906982422,
          -11.503274917602539,
          43.749839782714844,
          -8.989757537841797,
          -31.541772842407227,
          18.998994827270508,
          -7.772736072540283,
          -30.778587341308594,
          -0.47660958766937256,
          -16.74612808227539,
          -9.67298698425293,
          -12.438822746276855,
          -6.953464031219482,
          26.182443618774414,
          -21.712970733642578,
          -3.6548218727111816,
          -5.752735614776611,
          -28.924583435058594,
          -21.395694732666016,
          -32.98345184326172,
          -4.708898067474365,
          24.587072372436523,
          -8.204782485961914,
          -30.779706954956055,
          40.475318908691406,
          -10.1841459274292,
          -28.147008895874023,
          -28.59518051147461,
          -27.116405487060547,
          -21.7498836517334,
          20.62171173095703,
          -21.997943878173828,
          21.87502098083496,
          -10.146492004394531,
          12.010939598083496,
          -18.30914878845215,
          32.234588623046875,
          52.655338287353516,
          -3.921361207962036,
          -23.184022903442383,
          30.135940551757812,
          36.0385627746582,
          0.7677413821220398,
          14.631871223449707,
          -15.673713684082031,
          -19.237600326538086,
          -23.154468536376953,
          6.738508701324463,
          34.95621109008789,
          8.926774978637695,
          -30.235023498535156,
          -7.61283016204834,
          15.73426628112793,
          -0.730954647064209,
          -8.161364555358887,
          -7.13830041885376,
          -3.3932931423187256,
          -29.618711471557617,
          37.29472351074219,
          40.704246520996094,
          -14.110706329345703,
          -11.155964851379395,
          48.69086456298828,
          26.754261016845703,
          -22.604782104492188,
          -25.086673736572266,
          40.67094421386719,
          -12.486916542053223,
          26.83926773071289,
          -19.310043334960938,
          -2.496483325958252,
          -9.3184814453125,
          20.173063278198242,
          -9.47620677947998,
          51.817466735839844,
          51.631927490234375,
          -22.453908920288086,
          27.372350692749023,
          -4.354004383087158,
          -14.942415237426758,
          -15.858915328979492,
          -19.28255271911621,
          34.741634368896484,
          -15.826549530029297,
          -34.47230911254883,
          44.671512603759766,
          -17.201459884643555,
          33.05423355102539,
          -3.3374056816101074,
          29.311363220214844,
          10.487126350402832,
          -25.196409225463867,
          40.650474548339844,
          -21.699697494506836,
          -23.696243286132812,
          23.178144454956055,
          21.755773544311523,
          -17.052806854248047,
          -7.93147087097168,
          -11.093545913696289,
          -28.44362449645996,
          -30.26915740966797,
          -22.981948852539062,
          -34.230194091796875,
          -14.368463516235352,
          -15.928543090820312,
          -19.329383850097656,
          -1.8600574731826782,
          24.932619094848633,
          -18.73370361328125,
          47.11614990234375,
          -10.506804466247559,
          -0.11567173153162003,
          -6.766159534454346,
          12.7321138381958,
          -28.603004455566406,
          -21.834741592407227,
          -3.813887357711792,
          0.1348567008972168,
          34.01588821411133,
          -4.184736251831055,
          49.28994369506836,
          -2.783696174621582,
          -16.11085319519043,
          24.101512908935547,
          -16.815767288208008,
          -30.090112686157227,
          29.827667236328125,
          -24.59092903137207,
          -6.10579252243042,
          -20.85794448852539,
          54.93001174926758,
          20.686370849609375,
          24.67328453063965,
          20.07900047302246,
          38.35840606689453,
          25.35072898864746,
          -9.55943489074707,
          -5.040674686431885,
          -7.1328864097595215,
          -23.96857452392578,
          22.160762786865234,
          6.142333030700684,
          -26.623796463012695,
          -13.298598289489746,
          -3.443265438079834,
          7.328800201416016,
          28.85978889465332,
          -30.390920639038086,
          -32.36043930053711,
          19.206727981567383,
          -14.04621410369873,
          -11.743532180786133,
          25.625093460083008,
          -3.1044058799743652,
          22.486495971679688,
          52.49604415893555,
          -2.031341075897217,
          0.6240227222442627,
          18.198841094970703,
          2.7804977893829346,
          -32.26022720336914,
          45.7769889831543,
          -12.192758560180664,
          20.216705322265625,
          -1.3323163986206055,
          -8.003511428833008,
          28.700620651245117,
          -32.756614685058594,
          25.988065719604492,
          -30.2545166015625,
          -11.865667343139648,
          -14.755064010620117,
          -14.850175857543945,
          54.31632614135742,
          -1.9904686212539673,
          -33.03718185424805,
          -33.65812301635742,
          -21.859224319458008,
          -10.418059349060059,
          -35.77507781982422,
          46.750728607177734,
          -29.95846939086914,
          35.22571563720703,
          46.750179290771484,
          -27.142038345336914,
          -36.01334762573242,
          24.378978729248047,
          -0.7190256118774414,
          -3.8609325885772705,
          17.524824142456055,
          -23.528444290161133,
          -36.387393951416016,
          11.313567161560059,
          -33.848079681396484,
          21.901674270629883,
          -20.368671417236328,
          34.98595428466797,
          16.97003173828125,
          -6.674983978271484,
          -19.094680786132812,
          -1.626159429550171,
          -38.88144302368164,
          -21.791364669799805,
          -15.180739402770996,
          -13.02963638305664,
          27.18220329284668,
          18.918203353881836,
          33.044403076171875,
          -24.141489028930664,
          -38.19586944580078,
          -17.94187355041504,
          -23.916526794433594,
          -30.939544677734375,
          15.955362319946289,
          -5.2494025230407715,
          -12.730599403381348,
          -12.878473281860352,
          -24.739168167114258,
          -21.355337142944336,
          33.84223937988281,
          -2.3533225059509277,
          46.57698059082031,
          48.66680145263672,
          16.84421157836914,
          -33.80788040161133,
          12.257610321044922,
          -25.48906135559082,
          -13.210923194885254,
          -27.920944213867188,
          -27.520851135253906,
          -20.384891510009766,
          18.64939308166504,
          -31.153701782226562
         ],
         "xaxis": "x",
         "y": [
          -8.12940788269043,
          23.62613296508789,
          19.483545303344727,
          -14.907569885253906,
          16.159648895263672,
          12.283531188964844,
          -14.190872192382812,
          8.293365478515625,
          -13.427902221679688,
          13.394174575805664,
          17.481002807617188,
          1.4810664653778076,
          15.6694917678833,
          8.699531555175781,
          -9.479990005493164,
          -26.706356048583984,
          13.759257316589355,
          15.350666046142578,
          0.8498619794845581,
          -15.098631858825684,
          -20.581506729125977,
          17.542747497558594,
          -3.27921986579895,
          22.246456146240234,
          0.33944758772850037,
          19.85403823852539,
          12.259244918823242,
          20.35507583618164,
          3.867405414581299,
          8.639753341674805,
          -9.039617538452148,
          -26.89286231994629,
          -18.143962860107422,
          0.5871991515159607,
          -2.1026034355163574,
          -5.047982215881348,
          4.466169357299805,
          6.440627098083496,
          26.552324295043945,
          16.437469482421875,
          -26.00285530090332,
          12.409067153930664,
          21.473031997680664,
          16.965713500976562,
          17.694561004638672,
          5.996071815490723,
          15.502934455871582,
          13.051675796508789,
          6.138329029083252,
          -5.626373291015625,
          -16.90746307373047,
          20.108034133911133,
          21.727384567260742,
          -10.703217506408691,
          -11.376630783081055,
          7.200638294219971,
          2.5354793071746826,
          -2.852266550064087,
          -30.627634048461914,
          9.212739944458008,
          0.9859015941619873,
          -3.5554323196411133,
          1.5908390283584595,
          13.403030395507812,
          8.0923433303833,
          9.366338729858398,
          -8.458653450012207,
          12.59360122680664,
          6.550914764404297,
          21.649335861206055,
          -7.0521626472473145,
          1.5537203550338745,
          9.151421546936035,
          -10.460637092590332,
          -8.749499320983887,
          8.161604881286621,
          3.623253107070923,
          -26.554628372192383,
          -11.944951057434082,
          0.937506914138794,
          10.718958854675293,
          7.397192478179932,
          -21.232341766357422,
          -26.544963836669922,
          12.58471965789795,
          8.0213623046875,
          -15.635703086853027,
          -18.259719848632812,
          5.946723461151123,
          -14.374759674072266,
          4.855380058288574,
          -9.699227333068848,
          7.495883941650391,
          13.268829345703125,
          -31.321712493896484,
          -12.436362266540527,
          -13.606690406799316,
          -9.394118309020996,
          -15.212286949157715,
          4.786184310913086,
          9.140798568725586,
          -20.525583267211914,
          28.734949111938477,
          0.33917665481567383,
          -21.43085289001465,
          -21.387004852294922,
          -31.029008865356445,
          11.609490394592285,
          -5.251821994781494,
          18.606426239013672,
          9.239205360412598,
          -26.46278190612793,
          -5.460869789123535,
          14.429374694824219,
          19.850601196289062,
          20.364294052124023,
          2.0123543739318848,
          -9.176536560058594,
          12.505537986755371,
          5.366841793060303,
          23.46671485900879,
          6.330099582672119,
          -17.49468231201172,
          11.41345500946045,
          -10.198338508605957,
          -12.26032829284668,
          -3.1242332458496094,
          8.72970199584961,
          -24.98044204711914,
          16.97188949584961,
          14.169634819030762,
          5.979304313659668,
          3.1094462871551514,
          14.494756698608398,
          0.24346348643302917,
          21.67505645751953,
          4.286858558654785,
          -16.7948055267334,
          18.754581451416016,
          15.815792083740234,
          -15.784309387207031,
          -14.033520698547363,
          -12.714972496032715,
          -1.4852166175842285,
          -23.722457885742188,
          5.925238609313965,
          12.552088737487793,
          -0.17129887640476227,
          6.088829040527344,
          17.621625900268555,
          15.77478313446045,
          7.468515872955322,
          2.916893720626831,
          17.678199768066406,
          -7.613591194152832,
          -7.988521575927734,
          2.512242555618286,
          17.409513473510742,
          7.0004730224609375,
          2.2262909412384033,
          12.044150352478027,
          13.746872901916504,
          -16.527666091918945,
          2.418581247329712,
          -27.290353775024414,
          18.03339958190918,
          -6.578569412231445,
          -11.518446922302246,
          3.1970691680908203,
          16.068496704101562,
          -25.762784957885742,
          -13.72177505493164,
          -27.201557159423828,
          -29.90793800354004,
          -22.015382766723633,
          16.03631019592285,
          10.079873085021973,
          6.838523864746094,
          20.58540916442871,
          4.677116394042969,
          10.058122634887695,
          -1.02937650680542,
          -26.596385955810547,
          5.545702934265137,
          -25.20421028137207,
          5.677942276000977,
          8.686442375183105,
          -9.053593635559082,
          27.573490142822266,
          23.09499168395996,
          27.545734405517578,
          -14.649344444274902,
          -8.231551170349121,
          -31.01982879638672,
          -11.125066757202148,
          -27.111759185791016,
          1.486558198928833,
          24.39961051940918,
          13.334160804748535,
          -19.473358154296875,
          -11.356252670288086,
          -25.54119110107422,
          4.577911376953125,
          10.781012535095215,
          13.840897560119629,
          -7.561206817626953,
          -4.275646209716797,
          20.33854103088379,
          -25.13796043395996,
          0.183543398976326,
          -24.936307907104492,
          -24.165891647338867,
          8.925841331481934,
          13.498658180236816,
          4.941949844360352,
          -7.909919261932373,
          12.869484901428223,
          16.005870819091797,
          10.304021835327148,
          -2.4494781494140625,
          10.069320678710938,
          -0.7850514650344849,
          -11.502623558044434,
          -17.9406681060791,
          15.431623458862305,
          -20.664306640625,
          13.158255577087402,
          6.114990234375,
          -25.94664764404297,
          12.671085357666016,
          17.4030818939209,
          -4.001506805419922,
          6.643158912658691,
          14.977190971374512,
          7.228665351867676,
          3.0344135761260986,
          22.926219940185547,
          6.582866191864014,
          -0.021025776863098145,
          24.629886627197266,
          -22.257535934448242,
          -2.5289039611816406,
          -8.028278350830078,
          -30.92344856262207,
          20.641876220703125,
          -4.915917873382568,
          -1.0422430038452148,
          -10.148938179016113,
          12.300585746765137,
          11.648845672607422,
          -29.215002059936523,
          13.02362060546875,
          12.19908618927002,
          4.154121398925781,
          -8.581751823425293,
          -6.383951187133789,
          20.5445556640625,
          -29.440330505371094,
          1.7422658205032349,
          21.694141387939453,
          17.35752296447754,
          19.046226501464844,
          -10.099516868591309,
          1.23834228515625,
          -28.4915828704834,
          16.256078720092773,
          21.149431228637695,
          -9.485944747924805,
          -4.907290935516357,
          10.054588317871094,
          5.33038854598999,
          6.292886257171631,
          -3.7802071571350098,
          -23.243297576904297,
          21.669649124145508,
          3.041289806365967,
          4.040378093719482,
          3.0155434608459473,
          7.697089195251465,
          -7.888290882110596,
          5.634498119354248,
          -13.590750694274902,
          -3.8035006523132324,
          -10.649633407592773,
          3.4351468086242676,
          7.956991672515869,
          6.880115032196045,
          -29.698497772216797,
          -8.66100788116455,
          -23.922414779663086,
          20.46152114868164,
          9.568760871887207,
          2.2444205284118652,
          2.8041210174560547,
          12.525856018066406,
          17.0189151763916,
          -16.805694580078125,
          5.9868903160095215,
          7.561319351196289,
          -5.151554107666016,
          -24.956418991088867,
          5.296609878540039,
          1.1654109954833984,
          6.631826400756836,
          12.586627006530762,
          23.210506439208984,
          2.501307249069214,
          14.046167373657227,
          19.00395965576172,
          8.302160263061523,
          6.971102237701416,
          20.526355743408203,
          -10.818985939025879,
          -7.166023254394531,
          -1.2014186382293701,
          7.60002326965332,
          10.788414001464844,
          11.280874252319336,
          0.2850346267223358,
          8.502874374389648,
          -31.545150756835938,
          -21.28300666809082,
          -9.171269416809082,
          2.793355941772461,
          20.59239959716797,
          4.310335159301758,
          4.008967399597168,
          16.547922134399414,
          -17.79844856262207,
          -12.705816268920898,
          -4.438921928405762,
          -9.715044975280762,
          -28.926658630371094,
          -4.705801486968994,
          24.997894287109375,
          24.638322830200195,
          -27.705678939819336,
          8.217524528503418,
          -2.1352524757385254,
          -24.287883758544922,
          8.050261497497559,
          -8.46901798248291,
          3.0948288440704346,
          -7.170257091522217,
          -4.726328372955322,
          8.022689819335938,
          13.405357360839844,
          4.079985618591309,
          -3.8163435459136963,
          18.482257843017578,
          12.84062671661377,
          13.1043701171875,
          23.929189682006836,
          -25.95397186279297,
          5.610747337341309,
          -6.062097072601318,
          -14.051863670349121,
          3.8519539833068848,
          15.53810977935791,
          2.189826726913452,
          -8.171398162841797,
          6.889237880706787,
          1.7666367292404175,
          -5.674708843231201,
          -16.26485252380371,
          -21.69171142578125,
          19.272119522094727,
          -7.298548221588135,
          -11.008788108825684,
          -1.8657116889953613,
          -10.530010223388672,
          -8.215469360351562,
          -8.733489036560059,
          17.30620765686035,
          3.117058515548706,
          12.247236251831055,
          4.2390055656433105,
          -6.1304612159729,
          -30.115577697753906,
          -27.678592681884766,
          5.734549045562744,
          -4.015420436859131,
          -10.125811576843262,
          3.9823615550994873,
          3.2692928314208984,
          -7.824026107788086,
          7.87510871887207,
          9.355525016784668,
          -14.031607627868652,
          -6.232611179351807,
          11.30715560913086,
          -23.13698959350586,
          -27.78915786743164,
          -20.98079490661621,
          1.695286750793457,
          15.534063339233398,
          18.298490524291992,
          -26.892667770385742,
          -9.923548698425293,
          -11.61130428314209,
          -6.360729217529297,
          1.2505409717559814,
          11.296587944030762,
          -6.805295944213867,
          -21.503450393676758,
          1.0433846712112427,
          3.7929179668426514,
          -16.477025985717773,
          6.9432373046875,
          19.321041107177734,
          -1.8894282579421997,
          -5.793959140777588,
          2.7861011028289795,
          19.53293800354004,
          -4.203229904174805,
          10.286999702453613,
          -6.533957004547119,
          -5.489196300506592,
          8.702314376831055,
          -12.761618614196777,
          10.924856185913086,
          -31.601839065551758,
          -23.041501998901367,
          -27.082942962646484,
          -9.437417030334473,
          -8.567706108093262,
          -0.5330637097358704,
          1.3084938526153564,
          5.792934894561768,
          26.335451126098633,
          11.974721908569336,
          8.510817527770996,
          11.901203155517578,
          -1.0217044353485107,
          -21.86909294128418,
          3.1582753658294678,
          -13.841154098510742,
          8.138784408569336,
          -0.1844729632139206,
          20.25909996032715,
          -28.546188354492188,
          19.256351470947266,
          17.275897979736328,
          4.078878402709961,
          28.228849411010742,
          -27.904226303100586,
          21.623620986938477,
          3.3787777423858643,
          -4.018387794494629,
          -8.399870872497559,
          -26.31614875793457,
          -25.445457458496094,
          -3.5582404136657715,
          8.049539566040039,
          -8.034961700439453,
          22.64949607849121,
          2.0258214473724365,
          -8.399596214294434,
          11.462984085083008,
          -11.414324760437012,
          23.530654907226562,
          28.888761520385742,
          6.945703983306885,
          -28.093910217285156,
          9.661816596984863,
          9.443933486938477,
          23.386634826660156,
          1.2019600868225098,
          22.099327087402344,
          3.7219371795654297,
          -17.01090431213379,
          -13.816779136657715,
          -3.0899529457092285,
          1.6897807121276855,
          17.256269454956055,
          12.830645561218262,
          -4.83627986907959,
          8.554533004760742,
          -11.138432502746582,
          -3.838827610015869,
          -22.399017333984375,
          24.341777801513672,
          -13.793663024902344,
          10.682161331176758,
          17.864646911621094,
          -23.52679443359375,
          -27.840164184570312,
          12.608108520507812,
          2.5416183471679688,
          19.955156326293945,
          5.466782093048096,
          -23.42037010192871,
          15.956567764282227,
          -29.43366050720215,
          16.225082397460938,
          0.9639748334884644,
          -24.248510360717773,
          1.4472296237945557,
          14.040270805358887,
          -13.403131484985352,
          11.982144355773926,
          11.171576499938965,
          -5.082075595855713,
          2.518657684326172,
          -26.566373825073242,
          14.04373836517334,
          -14.0372896194458,
          -3.2641072273254395,
          -20.81976890563965,
          -6.489190578460693,
          17.99359893798828,
          11.260878562927246,
          -4.62166166305542,
          6.232153415679932,
          -6.810657978057861,
          25.17452049255371,
          21.96141242980957,
          -6.737626075744629,
          -21.778146743774414,
          -1.5861611366271973,
          28.702198028564453,
          1.0335394144058228,
          -6.718484878540039,
          23.431304931640625,
          3.7028040885925293,
          -8.892287254333496,
          -7.540558815002441,
          -17.34214210510254,
          -9.371973991394043,
          2.7818143367767334,
          -6.634927272796631,
          -4.853620529174805,
          -7.272817134857178,
          5.312677383422852,
          -28.229467391967773,
          -1.504019021987915,
          -6.926414489746094,
          8.19861888885498,
          -19.15264129638672,
          0.3904258608818054,
          2.501141309738159,
          15.27371883392334,
          2.0378153324127197,
          0.2525920271873474,
          3.733994722366333,
          -1.7065562009811401,
          5.812798023223877,
          18.730154037475586,
          12.924110412597656,
          -8.414562225341797,
          5.983917713165283,
          -29.35589599609375,
          13.399260520935059,
          24.764171600341797,
          5.787691116333008,
          19.697696685791016,
          -28.993011474609375,
          12.847684860229492,
          -11.447883605957031,
          1.1417536735534668,
          -4.688475131988525,
          14.919562339782715,
          5.296121597290039,
          16.15810203552246,
          -27.798219680786133,
          16.086151123046875,
          -2.647831439971924,
          -32.61514663696289,
          0.4798683822154999,
          -14.894148826599121,
          8.704269409179688,
          -12.691336631774902,
          11.946331024169922,
          1.5100218057632446,
          4.296278476715088,
          -15.847344398498535,
          -9.519652366638184,
          -5.08922815322876,
          -20.65643310546875,
          -21.740829467773438,
          -20.562095642089844,
          2.0302305221557617,
          12.7505464553833,
          14.463598251342773,
          -11.845243453979492,
          -11.634952545166016,
          -9.182106971740723,
          -13.379448890686035,
          6.460137844085693,
          12.454174041748047,
          22.830888748168945,
          -13.188946723937988,
          1.7609775066375732,
          -26.953044891357422,
          -10.236599922180176,
          -33.991493225097656,
          -7.812536239624023,
          -18.04022216796875,
          21.633729934692383,
          20.791454315185547,
          -32.107669830322266,
          -30.086517333984375,
          19.46435546875,
          6.470790863037109,
          22.86283302307129,
          6.047553062438965,
          -24.73480796813965,
          9.547807693481445,
          -6.867537021636963,
          20.494239807128906,
          1.7796258926391602,
          2.2818210124969482,
          -11.495844841003418,
          7.817141532897949,
          6.82250452041626,
          18.445178985595703,
          -1.2537051439285278,
          4.210320472717285,
          -23.688825607299805,
          -14.174233436584473,
          21.800947189331055,
          4.330255031585693,
          -0.9765921235084534,
          -9.947286605834961,
          10.350046157836914,
          -1.7147979736328125,
          19.309295654296875,
          6.8907904624938965,
          -6.97519063949585,
          20.19881820678711,
          18.253690719604492,
          7.23243522644043,
          -23.839181900024414,
          5.361765384674072,
          -28.445068359375,
          2.2998154163360596,
          1.0019874572753906,
          -6.005669116973877,
          -9.546171188354492,
          -12.64101791381836,
          -33.31318664550781,
          2.741118907928467,
          -16.45532989501953,
          -2.8401906490325928,
          3.4055182933807373,
          18.272340774536133,
          4.714237213134766,
          -2.096708297729492,
          -1.7103594541549683,
          -21.67481803894043,
          -8.759346008300781,
          28.949417114257812,
          -18.029212951660156,
          1.4436801671981812,
          14.521194458007812,
          16.12726593017578,
          -27.9273681640625,
          1.6559237241744995,
          -23.987722396850586,
          -15.663151741027832,
          4.469624996185303,
          20.03190803527832,
          13.882258415222168,
          25.961334228515625,
          -14.9286470413208,
          22.58553695678711,
          21.100648880004883,
          -26.245067596435547,
          -8.016312599182129,
          5.225811004638672,
          -12.087263107299805,
          -9.116129875183105,
          14.805269241333008,
          -2.269101142883301,
          -3.3058462142944336,
          22.20952033996582,
          -16.052831649780273,
          14.224235534667969,
          -21.5074520111084,
          1.1349834203720093,
          3.838777542114258,
          -21.098499298095703,
          1.6637251377105713,
          1.331121802330017,
          18.699506759643555,
          -17.951292037963867,
          -28.861135482788086,
          4.536661624908447,
          -18.090330123901367,
          12.070348739624023,
          19.845163345336914,
          -30.042207717895508,
          -9.15571117401123,
          2.7817556858062744,
          -15.46243953704834,
          27.714704513549805,
          -30.50836181640625,
          -17.286237716674805,
          6.76884126663208,
          21.83375358581543,
          -0.45663028955459595,
          7.192363739013672,
          -30.90304946899414,
          -14.815926551818848,
          -14.944395065307617,
          13.886819839477539,
          -10.500468254089355,
          -31.94242286682129,
          -8.610133171081543,
          -25.843896865844727,
          12.904014587402344,
          -25.72039794921875,
          13.808850288391113,
          -4.325915813446045,
          -28.700363159179688,
          21.77254867553711,
          -0.5313267111778259,
          -0.4478338062763214,
          2.075068473815918,
          19.611709594726562,
          7.502553462982178,
          25.303375244140625,
          -18.159608840942383,
          -5.807650566101074,
          21.542978286743164,
          7.04319953918457,
          -14.525056838989258,
          7.502644062042236,
          11.933124542236328,
          -7.403388500213623,
          8.94882869720459,
          21.81772232055664,
          24.07744789123535,
          -20.005887985229492,
          21.820240020751953,
          5.169014930725098,
          6.828568935394287,
          8.46462631225586,
          15.450224876403809,
          -9.5333251953125,
          1.6601877212524414,
          -14.483003616333008,
          -1.1824562549591064,
          6.7672295570373535,
          -0.7281566262245178,
          19.11098861694336,
          13.482268333435059,
          -1.6176639795303345,
          -9.301030158996582,
          -25.676387786865234,
          9.250321388244629,
          -13.680699348449707,
          -1.708702802658081,
          2.759382724761963,
          19.77803611755371,
          -28.226165771484375,
          8.282190322875977,
          -6.19553279876709,
          -4.336319923400879,
          16.122241973876953,
          -2.4165310859680176,
          -25.393173217773438,
          -7.260135173797607,
          -17.131528854370117,
          -16.239126205444336,
          -4.5845441818237305,
          -2.7989182472229004,
          14.369523048400879,
          7.7381510734558105,
          7.988260269165039,
          -2.2012529373168945,
          -20.93000030517578,
          -2.436709403991699,
          -20.856651306152344,
          -8.414399147033691,
          -2.322343587875366,
          14.456035614013672,
          -1.4179937839508057,
          4.804924011230469,
          -24.668270111083984,
          2.2012059688568115,
          -1.819527506828308,
          -10.109861373901367,
          -22.81740379333496,
          4.626862049102783,
          2.727707624435425,
          -2.0613391399383545,
          -30.502927780151367,
          21.360862731933594,
          8.695536613464355,
          2.1919991970062256,
          18.846065521240234,
          -7.82849645614624,
          -21.252086639404297,
          -8.036330223083496,
          1.2974419593811035,
          -21.209720611572266,
          18.188581466674805,
          3.1061933040618896,
          28.919343948364258,
          -27.59543228149414,
          21.078601837158203,
          20.028478622436523,
          5.405964374542236,
          11.612285614013672,
          -1.7161298990249634,
          4.023849010467529,
          19.322423934936523,
          14.972768783569336,
          -24.39504051208496,
          -7.576464653015137,
          1.5165835618972778,
          -3.884488821029663,
          -13.132248878479004,
          19.74411964416504,
          -13.348746299743652,
          -8.570385932922363,
          -6.357238292694092,
          -25.862382888793945,
          -7.543386459350586,
          -8.854094505310059,
          17.26526641845703,
          1.5545982122421265,
          -3.890801429748535,
          21.8629093170166,
          14.04640007019043,
          17.88721466064453,
          -13.680546760559082,
          11.252161026000977,
          -26.91915512084961,
          -7.864209175109863,
          18.631572723388672,
          0.11922716349363327,
          10.828266143798828,
          0.6722266674041748,
          24.315628051757812,
          -5.4760518074035645,
          19.59682846069336,
          -9.916068077087402,
          28.892486572265625,
          6.891646862030029,
          5.151352405548096,
          18.749326705932617,
          -26.268653869628906,
          3.126044988632202,
          9.900821685791016,
          -12.760130882263184,
          4.465494632720947,
          8.079604148864746,
          16.884153366088867,
          -14.81086540222168,
          9.398996353149414,
          3.827662944793701,
          6.906927108764648,
          2.3107237815856934,
          -25.71470832824707,
          -12.900906562805176,
          18.218503952026367,
          11.519593238830566,
          -1.9941946268081665,
          -8.25955581665039,
          6.521937370300293,
          -26.98395347595215,
          23.17818832397461,
          -2.5991592407226562,
          21.875890731811523,
          -5.48947811126709,
          -2.485654592514038,
          20.086790084838867,
          9.922260284423828,
          17.074520111083984,
          16.409536361694336,
          17.269498825073242,
          -4.105062961578369,
          -32.062198638916016,
          18.606203079223633,
          11.716681480407715,
          -15.999715805053711,
          -3.2585654258728027,
          -13.480581283569336,
          -23.36122703552246,
          13.093161582946777,
          -7.738950729370117,
          15.212165832519531,
          17.351539611816406,
          7.597942352294922,
          -5.369243144989014,
          4.266284942626953,
          15.384565353393555,
          20.77125358581543,
          -28.817787170410156,
          20.760393142700195,
          6.513670921325684,
          5.290500164031982,
          1.4268182516098022,
          28.382017135620117,
          15.842875480651855,
          8.603816032409668,
          -7.624863147735596,
          5.428765296936035,
          2.7230513095855713,
          0.658279538154602,
          2.6002447605133057,
          28.384742736816406,
          -10.190825462341309,
          -11.045524597167969,
          7.506108283996582,
          2.4629011154174805,
          -14.054400444030762,
          -9.829611778259277,
          10.674877166748047,
          15.305074691772461,
          -15.707137107849121,
          -27.64246940612793,
          -4.820567607879639,
          -12.81359577178955,
          -6.625906944274902,
          -2.0705132484436035,
          2.555060625076294,
          -30.871334075927734,
          -2.4948065280914307,
          5.349191665649414,
          6.719089984893799,
          -17.98865509033203,
          -4.877227306365967,
          -7.449824810028076,
          15.91296672821045,
          1.265595555305481,
          7.986839771270752,
          12.333234786987305,
          -4.849987506866455,
          -7.408830642700195,
          -12.4928560256958,
          3.267120838165283,
          -6.420995235443115,
          2.6196818351745605,
          -9.637833595275879,
          18.49197006225586,
          14.10220718383789,
          13.33986759185791,
          7.408515453338623,
          -5.804553508758545,
          -13.067983627319336,
          0.28886815905570984,
          23.721921920776367,
          -4.371500492095947,
          -11.735652923583984,
          6.592531204223633,
          8.940028190612793,
          20.136066436767578,
          3.142657518386841,
          -10.445832252502441,
          -21.605918884277344,
          -28.652145385742188,
          -5.246937274932861,
          -7.5704264640808105,
          -7.653759479522705,
          4.96066427230835,
          -16.844608306884766,
          -11.534586906433105,
          3.3748397827148438,
          2.056774616241455,
          -3.643418788909912,
          -1.8529691696166992,
          -8.268288612365723,
          -11.624454498291016,
          14.69035530090332,
          -4.822023868560791,
          -17.33041000366211,
          20.466764450073242,
          -13.219255447387695,
          -13.361809730529785,
          7.904250144958496,
          -4.696255207061768,
          4.637332916259766,
          -8.08857250213623,
          -17.244470596313477,
          26.503232955932617,
          -11.355520248413086,
          -17.972558975219727,
          -6.414482116699219,
          8.671629905700684,
          -13.347028732299805,
          -16.600223541259766,
          -10.33115291595459,
          22.58467674255371,
          5.8026814460754395,
          -0.6728135347366333,
          14.07521915435791,
          4.115384101867676,
          2.290456533432007,
          9.315164566040039,
          -26.42682647705078,
          -7.06906795501709,
          19.547513961791992,
          9.113008499145508,
          -8.265165328979492,
          -10.634142875671387,
          -26.59579849243164,
          -21.327228546142578
         ],
         "yaxis": "y"
        }
       ],
       "layout": {
        "coloraxis": {
         "colorbar": {
          "title": {
           "text": "rating"
          }
         },
         "colorscale": [
          [
           0,
           "#0d0887"
          ],
          [
           0.1111111111111111,
           "#46039f"
          ],
          [
           0.2222222222222222,
           "#7201a8"
          ],
          [
           0.3333333333333333,
           "#9c179e"
          ],
          [
           0.4444444444444444,
           "#bd3786"
          ],
          [
           0.5555555555555556,
           "#d8576b"
          ],
          [
           0.6666666666666666,
           "#ed7953"
          ],
          [
           0.7777777777777778,
           "#fb9f3a"
          ],
          [
           0.8888888888888888,
           "#fdca26"
          ],
          [
           1,
           "#f0f921"
          ]
         ]
        },
        "legend": {
         "tracegroupgap": 0
        },
        "template": {
         "data": {
          "bar": [
           {
            "error_x": {
             "color": "#f2f5fa"
            },
            "error_y": {
             "color": "#f2f5fa"
            },
            "marker": {
             "line": {
              "color": "rgb(17,17,17)",
              "width": 0.5
             },
             "pattern": {
              "fillmode": "overlay",
              "size": 10,
              "solidity": 0.2
             }
            },
            "type": "bar"
           }
          ],
          "barpolar": [
           {
            "marker": {
             "line": {
              "color": "rgb(17,17,17)",
              "width": 0.5
             },
             "pattern": {
              "fillmode": "overlay",
              "size": 10,
              "solidity": 0.2
             }
            },
            "type": "barpolar"
           }
          ],
          "carpet": [
           {
            "aaxis": {
             "endlinecolor": "#A2B1C6",
             "gridcolor": "#506784",
             "linecolor": "#506784",
             "minorgridcolor": "#506784",
             "startlinecolor": "#A2B1C6"
            },
            "baxis": {
             "endlinecolor": "#A2B1C6",
             "gridcolor": "#506784",
             "linecolor": "#506784",
             "minorgridcolor": "#506784",
             "startlinecolor": "#A2B1C6"
            },
            "type": "carpet"
           }
          ],
          "choropleth": [
           {
            "colorbar": {
             "outlinewidth": 0,
             "ticks": ""
            },
            "type": "choropleth"
           }
          ],
          "contour": [
           {
            "colorbar": {
             "outlinewidth": 0,
             "ticks": ""
            },
            "colorscale": [
             [
              0,
              "#0d0887"
             ],
             [
              0.1111111111111111,
              "#46039f"
             ],
             [
              0.2222222222222222,
              "#7201a8"
             ],
             [
              0.3333333333333333,
              "#9c179e"
             ],
             [
              0.4444444444444444,
              "#bd3786"
             ],
             [
              0.5555555555555556,
              "#d8576b"
             ],
             [
              0.6666666666666666,
              "#ed7953"
             ],
             [
              0.7777777777777778,
              "#fb9f3a"
             ],
             [
              0.8888888888888888,
              "#fdca26"
             ],
             [
              1,
              "#f0f921"
             ]
            ],
            "type": "contour"
           }
          ],
          "contourcarpet": [
           {
            "colorbar": {
             "outlinewidth": 0,
             "ticks": ""
            },
            "type": "contourcarpet"
           }
          ],
          "heatmap": [
           {
            "colorbar": {
             "outlinewidth": 0,
             "ticks": ""
            },
            "colorscale": [
             [
              0,
              "#0d0887"
             ],
             [
              0.1111111111111111,
              "#46039f"
             ],
             [
              0.2222222222222222,
              "#7201a8"
             ],
             [
              0.3333333333333333,
              "#9c179e"
             ],
             [
              0.4444444444444444,
              "#bd3786"
             ],
             [
              0.5555555555555556,
              "#d8576b"
             ],
             [
              0.6666666666666666,
              "#ed7953"
             ],
             [
              0.7777777777777778,
              "#fb9f3a"
             ],
             [
              0.8888888888888888,
              "#fdca26"
             ],
             [
              1,
              "#f0f921"
             ]
            ],
            "type": "heatmap"
           }
          ],
          "heatmapgl": [
           {
            "colorbar": {
             "outlinewidth": 0,
             "ticks": ""
            },
            "colorscale": [
             [
              0,
              "#0d0887"
             ],
             [
              0.1111111111111111,
              "#46039f"
             ],
             [
              0.2222222222222222,
              "#7201a8"
             ],
             [
              0.3333333333333333,
              "#9c179e"
             ],
             [
              0.4444444444444444,
              "#bd3786"
             ],
             [
              0.5555555555555556,
              "#d8576b"
             ],
             [
              0.6666666666666666,
              "#ed7953"
             ],
             [
              0.7777777777777778,
              "#fb9f3a"
             ],
             [
              0.8888888888888888,
              "#fdca26"
             ],
             [
              1,
              "#f0f921"
             ]
            ],
            "type": "heatmapgl"
           }
          ],
          "histogram": [
           {
            "marker": {
             "pattern": {
              "fillmode": "overlay",
              "size": 10,
              "solidity": 0.2
             }
            },
            "type": "histogram"
           }
          ],
          "histogram2d": [
           {
            "colorbar": {
             "outlinewidth": 0,
             "ticks": ""
            },
            "colorscale": [
             [
              0,
              "#0d0887"
             ],
             [
              0.1111111111111111,
              "#46039f"
             ],
             [
              0.2222222222222222,
              "#7201a8"
             ],
             [
              0.3333333333333333,
              "#9c179e"
             ],
             [
              0.4444444444444444,
              "#bd3786"
             ],
             [
              0.5555555555555556,
              "#d8576b"
             ],
             [
              0.6666666666666666,
              "#ed7953"
             ],
             [
              0.7777777777777778,
              "#fb9f3a"
             ],
             [
              0.8888888888888888,
              "#fdca26"
             ],
             [
              1,
              "#f0f921"
             ]
            ],
            "type": "histogram2d"
           }
          ],
          "histogram2dcontour": [
           {
            "colorbar": {
             "outlinewidth": 0,
             "ticks": ""
            },
            "colorscale": [
             [
              0,
              "#0d0887"
             ],
             [
              0.1111111111111111,
              "#46039f"
             ],
             [
              0.2222222222222222,
              "#7201a8"
             ],
             [
              0.3333333333333333,
              "#9c179e"
             ],
             [
              0.4444444444444444,
              "#bd3786"
             ],
             [
              0.5555555555555556,
              "#d8576b"
             ],
             [
              0.6666666666666666,
              "#ed7953"
             ],
             [
              0.7777777777777778,
              "#fb9f3a"
             ],
             [
              0.8888888888888888,
              "#fdca26"
             ],
             [
              1,
              "#f0f921"
             ]
            ],
            "type": "histogram2dcontour"
           }
          ],
          "mesh3d": [
           {
            "colorbar": {
             "outlinewidth": 0,
             "ticks": ""
            },
            "type": "mesh3d"
           }
          ],
          "parcoords": [
           {
            "line": {
             "colorbar": {
              "outlinewidth": 0,
              "ticks": ""
             }
            },
            "type": "parcoords"
           }
          ],
          "pie": [
           {
            "automargin": true,
            "type": "pie"
           }
          ],
          "scatter": [
           {
            "marker": {
             "line": {
              "color": "#283442"
             }
            },
            "type": "scatter"
           }
          ],
          "scatter3d": [
           {
            "line": {
             "colorbar": {
              "outlinewidth": 0,
              "ticks": ""
             }
            },
            "marker": {
             "colorbar": {
              "outlinewidth": 0,
              "ticks": ""
             }
            },
            "type": "scatter3d"
           }
          ],
          "scattercarpet": [
           {
            "marker": {
             "colorbar": {
              "outlinewidth": 0,
              "ticks": ""
             }
            },
            "type": "scattercarpet"
           }
          ],
          "scattergeo": [
           {
            "marker": {
             "colorbar": {
              "outlinewidth": 0,
              "ticks": ""
             }
            },
            "type": "scattergeo"
           }
          ],
          "scattergl": [
           {
            "marker": {
             "line": {
              "color": "#283442"
             }
            },
            "type": "scattergl"
           }
          ],
          "scattermapbox": [
           {
            "marker": {
             "colorbar": {
              "outlinewidth": 0,
              "ticks": ""
             }
            },
            "type": "scattermapbox"
           }
          ],
          "scatterpolar": [
           {
            "marker": {
             "colorbar": {
              "outlinewidth": 0,
              "ticks": ""
             }
            },
            "type": "scatterpolar"
           }
          ],
          "scatterpolargl": [
           {
            "marker": {
             "colorbar": {
              "outlinewidth": 0,
              "ticks": ""
             }
            },
            "type": "scatterpolargl"
           }
          ],
          "scatterternary": [
           {
            "marker": {
             "colorbar": {
              "outlinewidth": 0,
              "ticks": ""
             }
            },
            "type": "scatterternary"
           }
          ],
          "surface": [
           {
            "colorbar": {
             "outlinewidth": 0,
             "ticks": ""
            },
            "colorscale": [
             [
              0,
              "#0d0887"
             ],
             [
              0.1111111111111111,
              "#46039f"
             ],
             [
              0.2222222222222222,
              "#7201a8"
             ],
             [
              0.3333333333333333,
              "#9c179e"
             ],
             [
              0.4444444444444444,
              "#bd3786"
             ],
             [
              0.5555555555555556,
              "#d8576b"
             ],
             [
              0.6666666666666666,
              "#ed7953"
             ],
             [
              0.7777777777777778,
              "#fb9f3a"
             ],
             [
              0.8888888888888888,
              "#fdca26"
             ],
             [
              1,
              "#f0f921"
             ]
            ],
            "type": "surface"
           }
          ],
          "table": [
           {
            "cells": {
             "fill": {
              "color": "#506784"
             },
             "line": {
              "color": "rgb(17,17,17)"
             }
            },
            "header": {
             "fill": {
              "color": "#2a3f5f"
             },
             "line": {
              "color": "rgb(17,17,17)"
             }
            },
            "type": "table"
           }
          ]
         },
         "layout": {
          "annotationdefaults": {
           "arrowcolor": "#f2f5fa",
           "arrowhead": 0,
           "arrowwidth": 1
          },
          "autotypenumbers": "strict",
          "coloraxis": {
           "colorbar": {
            "outlinewidth": 0,
            "ticks": ""
           }
          },
          "colorscale": {
           "diverging": [
            [
             0,
             "#8e0152"
            ],
            [
             0.1,
             "#c51b7d"
            ],
            [
             0.2,
             "#de77ae"
            ],
            [
             0.3,
             "#f1b6da"
            ],
            [
             0.4,
             "#fde0ef"
            ],
            [
             0.5,
             "#f7f7f7"
            ],
            [
             0.6,
             "#e6f5d0"
            ],
            [
             0.7,
             "#b8e186"
            ],
            [
             0.8,
             "#7fbc41"
            ],
            [
             0.9,
             "#4d9221"
            ],
            [
             1,
             "#276419"
            ]
           ],
           "sequential": [
            [
             0,
             "#0d0887"
            ],
            [
             0.1111111111111111,
             "#46039f"
            ],
            [
             0.2222222222222222,
             "#7201a8"
            ],
            [
             0.3333333333333333,
             "#9c179e"
            ],
            [
             0.4444444444444444,
             "#bd3786"
            ],
            [
             0.5555555555555556,
             "#d8576b"
            ],
            [
             0.6666666666666666,
             "#ed7953"
            ],
            [
             0.7777777777777778,
             "#fb9f3a"
            ],
            [
             0.8888888888888888,
             "#fdca26"
            ],
            [
             1,
             "#f0f921"
            ]
           ],
           "sequentialminus": [
            [
             0,
             "#0d0887"
            ],
            [
             0.1111111111111111,
             "#46039f"
            ],
            [
             0.2222222222222222,
             "#7201a8"
            ],
            [
             0.3333333333333333,
             "#9c179e"
            ],
            [
             0.4444444444444444,
             "#bd3786"
            ],
            [
             0.5555555555555556,
             "#d8576b"
            ],
            [
             0.6666666666666666,
             "#ed7953"
            ],
            [
             0.7777777777777778,
             "#fb9f3a"
            ],
            [
             0.8888888888888888,
             "#fdca26"
            ],
            [
             1,
             "#f0f921"
            ]
           ]
          },
          "colorway": [
           "#636efa",
           "#EF553B",
           "#00cc96",
           "#ab63fa",
           "#FFA15A",
           "#19d3f3",
           "#FF6692",
           "#B6E880",
           "#FF97FF",
           "#FECB52"
          ],
          "font": {
           "color": "#f2f5fa"
          },
          "geo": {
           "bgcolor": "rgb(17,17,17)",
           "lakecolor": "rgb(17,17,17)",
           "landcolor": "rgb(17,17,17)",
           "showlakes": true,
           "showland": true,
           "subunitcolor": "#506784"
          },
          "hoverlabel": {
           "align": "left"
          },
          "hovermode": "closest",
          "mapbox": {
           "style": "dark"
          },
          "paper_bgcolor": "rgb(17,17,17)",
          "plot_bgcolor": "rgb(17,17,17)",
          "polar": {
           "angularaxis": {
            "gridcolor": "#506784",
            "linecolor": "#506784",
            "ticks": ""
           },
           "bgcolor": "rgb(17,17,17)",
           "radialaxis": {
            "gridcolor": "#506784",
            "linecolor": "#506784",
            "ticks": ""
           }
          },
          "scene": {
           "xaxis": {
            "backgroundcolor": "rgb(17,17,17)",
            "gridcolor": "#506784",
            "gridwidth": 2,
            "linecolor": "#506784",
            "showbackground": true,
            "ticks": "",
            "zerolinecolor": "#C8D4E3"
           },
           "yaxis": {
            "backgroundcolor": "rgb(17,17,17)",
            "gridcolor": "#506784",
            "gridwidth": 2,
            "linecolor": "#506784",
            "showbackground": true,
            "ticks": "",
            "zerolinecolor": "#C8D4E3"
           },
           "zaxis": {
            "backgroundcolor": "rgb(17,17,17)",
            "gridcolor": "#506784",
            "gridwidth": 2,
            "linecolor": "#506784",
            "showbackground": true,
            "ticks": "",
            "zerolinecolor": "#C8D4E3"
           }
          },
          "shapedefaults": {
           "line": {
            "color": "#f2f5fa"
           }
          },
          "sliderdefaults": {
           "bgcolor": "#C8D4E3",
           "bordercolor": "rgb(17,17,17)",
           "borderwidth": 1,
           "tickwidth": 0
          },
          "ternary": {
           "aaxis": {
            "gridcolor": "#506784",
            "linecolor": "#506784",
            "ticks": ""
           },
           "baxis": {
            "gridcolor": "#506784",
            "linecolor": "#506784",
            "ticks": ""
           },
           "bgcolor": "rgb(17,17,17)",
           "caxis": {
            "gridcolor": "#506784",
            "linecolor": "#506784",
            "ticks": ""
           }
          },
          "title": {
           "x": 0.05
          },
          "updatemenudefaults": {
           "bgcolor": "#506784",
           "borderwidth": 0
          },
          "xaxis": {
           "automargin": true,
           "gridcolor": "#283442",
           "linecolor": "#506784",
           "ticks": "",
           "title": {
            "standoff": 15
           },
           "zerolinecolor": "#283442",
           "zerolinewidth": 2
          },
          "yaxis": {
           "automargin": true,
           "gridcolor": "#283442",
           "linecolor": "#506784",
           "ticks": "",
           "title": {
            "standoff": 15
           },
           "zerolinecolor": "#283442",
           "zerolinewidth": 2
          }
         }
        },
        "title": {
         "text": "t-SNE Visualization of the Dataset"
        },
        "xaxis": {
         "anchor": "y",
         "domain": [
          0,
          1
         ],
         "title": {
          "text": "Component 1"
         }
        },
        "yaxis": {
         "anchor": "x",
         "domain": [
          0,
          1
         ],
         "title": {
          "text": "Component 2"
         }
        }
       }
      }
     },
     "metadata": {},
     "output_type": "display_data"
    }
   ],
   "source": [
    "import pandas as pd\n",
    "import numpy as np\n",
    "from sklearn.manifold import TSNE\n",
    "import plotly.express as px\n",
    "\n",
    "# Apply t-SNE\n",
    "X = test_df_encoded\n",
    "tsne = TSNE(n_components=2, random_state=42)\n",
    "X_tsne = tsne.fit_transform(X)\n",
    "\n",
    "# Create a DataFrame for easier plotting\n",
    "df_tsne = pd.DataFrame(X_tsne, columns=['Component 1', 'Component 2'])\n",
    "df_tsne['rating'] = test_df_enriched['rating']\n",
    "df_tsne['text_review'] = test_df_enriched['text_review']\n",
    "df_tsne['price'] = test_df_enriched['price']\n",
    "df_tsne['sentiment_score'] = test_df_enriched['sentiment_score']\n",
    "\n",
    "# Create an interactive plot using Plotly\n",
    "fig = px.scatter(\n",
    "    df_tsne, \n",
    "    x='Component 1', \n",
    "    y='Component 2', \n",
    "    color='rating',\n",
    "    title='t-SNE Visualization of the Dataset',\n",
    "    labels={'Component 1': 'Component 1', 'Component 2': 'Component 2'},\n",
    "    template='plotly_dark',\n",
    "    hover_data=['rating', 'text_review', 'price', \"sentiment_score\"]\n",
    ")\n",
    "\n",
    "# Show the plot\n",
    "fig.show()\n"
   ]
  },
  {
   "cell_type": "markdown",
   "metadata": {},
   "source": [
    "# Outlier detection with PyOD\n"
   ]
  },
  {
   "cell_type": "code",
   "execution_count": 19,
   "metadata": {},
   "outputs": [
    {
     "name": "stderr",
     "output_type": "stream",
     "text": [
      "2024-08-06 09:43:36,532 - src.config - DEBUG - calling load_dataframe\n",
      "2024-08-06 09:43:36,533 - src.config - INFO - Current working directory: C:\\Users\\alexi\\WORKSPACE\\interview_abwaab\\ReviewOutliers\n",
      "2024-08-06 09:43:36,564 - src.config - DEBUG - calling load_dataframe\n",
      "2024-08-06 09:43:36,564 - src.config - INFO - Current working directory: C:\\Users\\alexi\\WORKSPACE\\interview_abwaab\\ReviewOutliers\n",
      "2024-08-06 09:43:36,582 - src.config - DEBUG - calling load_dataframe\n",
      "2024-08-06 09:43:36,583 - src.config - INFO - Current working directory: C:\\Users\\alexi\\WORKSPACE\\interview_abwaab\\ReviewOutliers\n",
      "2024-08-06 09:43:36,598 - src.config - DEBUG - calling outlier_prediction\n",
      "c:\\Users\\alexi\\AppData\\Local\\pypoetry\\Cache\\virtualenvs\\reviewoutliers-SwZO3ms--py3.12\\Lib\\site-packages\\sklearn\\base.py:486: UserWarning: X has feature names, but OneClassSVM was fitted without feature names\n",
      "  warnings.warn(\n",
      "2024-08-06 09:43:36,874 - src.config - DEBUG - calling outlier_prediction\n",
      "c:\\Users\\alexi\\AppData\\Local\\pypoetry\\Cache\\virtualenvs\\reviewoutliers-SwZO3ms--py3.12\\Lib\\site-packages\\sklearn\\base.py:486: UserWarning: X has feature names, but OneClassSVM was fitted without feature names\n",
      "  warnings.warn(\n"
     ]
    }
   ],
   "source": [
    "import numpy as np\n",
    "from src.tasks.outliers import outlier_prediction\n",
    "\n",
    "# train and inference\n",
    "outliers_train, scores_train = outlier_prediction(train_df_encoded, training=True)\n",
    "outliers_test, scores_test = outlier_prediction(test_df_encoded, training=False) \n",
    "\n",
    "# categorize samples\n",
    "train_scores_inliers = scores_train[outliers_train==0]\n",
    "train_scores_outliers = scores_train[outliers_train==1]\n",
    "\n",
    "test_scores_inliers = scores_test[outliers_test==0]\n",
    "test_scores_outliers = scores_test[outliers_test==1]\n",
    "\n",
    "# Calculate average outlier scores for train and test sets\n",
    "average_score_inlier_train = np.mean(train_scores_inliers)\n",
    "average_score_outlier_train = np.mean(train_scores_outliers)\n",
    "\n",
    "average_score_inlier_test = np.mean(test_scores_inliers)\n",
    "average_score_outlier_test = np.mean(test_scores_outliers)\n"
   ]
  },
  {
   "cell_type": "markdown",
   "metadata": {},
   "source": [
    "# Visualizations"
   ]
  },
  {
   "cell_type": "code",
   "execution_count": 71,
   "metadata": {},
   "outputs": [
    {
     "data": {
      "image/png": "[encoded data removed]",
      "text/plain": [
       "<Figure size 1000x1200 with 2 Axes>"
      ]
     },
     "metadata": {},
     "output_type": "display_data"
    }
   ],
   "source": [
    "import matplotlib.pyplot as plt\n",
    "\n",
    "# Creating subplots\n",
    "fig, (ax1, ax2) = plt.subplots(2, 1, figsize=(10, 12))\n",
    "\n",
    "# Plotting the histogram of outlier scores for train and test sets\n",
    "ax1.hist(scores_train, bins=50, alpha=0.5, color='blue', edgecolor='black', label='Train')\n",
    "ax1.hist(scores_test, bins=50, alpha=0.5, color='red', edgecolor='black', label='Test')\n",
    "\n",
    "ax1.axvline(average_score_inlier_train, color='b', linestyle='dashed', linewidth=2, label=f'Avg Score inlier Train: {average_score_inlier_train:.2f}')\n",
    "ax1.axvline(average_score_inlier_test, color='m', linestyle='dashed', linewidth=2, label=f'Avg Score inlier Test: {average_score_inlier_test:.2f}')\n",
    "ax1.axvline(average_score_outlier_train, color='c', linestyle='dashed', linewidth=2, label=f'Avg Score outlier Train: {average_score_outlier_train:.2f}')\n",
    "ax1.axvline(average_score_outlier_test, color='r', linestyle='dashed', linewidth=2, label=f'Avg Score outlier Test: {average_score_outlier_test:.2f}')\n",
    "\n",
    "ax1.set_title('Distribution of Outlier Scores')\n",
    "ax1.set_xlabel('Outlier Score')\n",
    "ax1.set_ylabel('Frequency')\n",
    "ax1.legend(loc='upper right')\n",
    "ax1.grid(True)\n",
    "\n",
    "# Plotting the cumulative histogram of outlier scores for train and test sets\n",
    "ax2.hist(scores_train, bins=50, alpha=0.5, color='blue', edgecolor=None, label='Train', cumulative=True)\n",
    "ax2.hist(scores_test, bins=50, alpha=0.5, color='red', edgecolor=None, label='Test', cumulative=True)\n",
    "\n",
    "ax2.axvline(average_score_inlier_train, color='b',  linestyle='dashed', linewidth=2, label=f'Avg Score inlier Train: {average_score_inlier_train:.2f}')\n",
    "ax2.axvline(average_score_inlier_test, color='m',  linestyle='dashed', linewidth=2, label=f'Avg Score inlier Test: {average_score_inlier_test:.2f}')\n",
    "ax2.axvline(average_score_outlier_train, color='c', linestyle='dashed', linewidth=2, label=f'Avg Score outlier Train: {average_score_outlier_train:.2f}')\n",
    "ax2.axvline(average_score_outlier_test, color='r',  linestyle='dashed', linewidth=2, label=f'Avg Score outlier Test: {average_score_outlier_test:.2f}')\n",
    "\n",
    "ax2.set_title('Cumulative Distribution of Outlier Scores')\n",
    "ax2.set_xlabel('Outlier Score')\n",
    "ax2.set_ylabel('Cumulative Frequency')\n",
    "ax2.legend(loc='upper left')\n",
    "ax2.grid(True)\n",
    "\n",
    "# Display the plots\n",
    "plt.tight_layout()\n",
    "plt.show()\n"
   ]
  },
  {
   "cell_type": "code",
   "execution_count": 101,
   "metadata": {},
   "outputs": [
    {
     "data": {
      "image/png": "[encoded data removed]",
      "text/plain": [
       "<Figure size 1084.88x1000 with 20 Axes>"
      ]
     },
     "metadata": {},
     "output_type": "display_data"
    }
   ],
   "source": [
    "import pandas as pd\n",
    "import numpy as np\n",
    "import seaborn as sns\n",
    "import matplotlib.pyplot as plt\n",
    "\n",
    "# Create a DataFrame for easier plotting\n",
    "df_visu = pd.DataFrame()\n",
    "df_visu['scores_test'] = scores_test\n",
    "df_visu['Outlier'] = outliers_test\n",
    "\n",
    "# Include relevant columns from test_df_enriched\n",
    "cols_of_interest = ['rating', 'price', 'sentiment_score', 'average_rating']\n",
    "for col in cols_of_interest:\n",
    "    df_visu[col] = test_df_enriched[col].reset_index(drop=True)\n",
    "\n",
    "# Plot the pairplot to visualize feature distributions and pairwise relationships\n",
    "g = sns.pairplot(df_visu, hue='Outlier', diag_kind='kde', palette={False: 'blue', True: 'red'}, vars=cols_of_interest)\n",
    "\n",
    "# Map the diagonal to use histplot with kde and density normalization\n",
    "g.map_diag(sns.histplot, kde=True, element='step', stat='density', common_norm=False)\n",
    "\n",
    "# Set titles and adjust layout\n",
    "for ax in g.axes.flatten():\n",
    "    ax.set_xlabel(ax.get_xlabel(), fontsize=10)\n",
    "    ax.set_ylabel(ax.get_ylabel(), fontsize=10)\n",
    "    ax.set_title(ax.get_title(), fontsize=12)\n",
    "\n",
    "# Adjust the title of the entire plot\n",
    "plt.suptitle('Pairplot of Selected Features for Inliers and Outliers', y=1.02, fontsize=16)\n",
    "\n",
    "# Show the plot\n",
    "plt.show()\n"
   ]
  },
  {
   "cell_type": "code",
   "execution_count": null,
   "metadata": {},
   "outputs": [],
   "source": []
  },
  {
   "cell_type": "code",
   "execution_count": null,
   "metadata": {},
   "outputs": [],
   "source": []
  },
  {
   "cell_type": "code",
   "execution_count": 21,
   "metadata": {},
   "outputs": [
    {
     "name": "stderr",
     "output_type": "stream",
     "text": [
      "2024-08-06 09:43:37,615 - src.config - DEBUG - calling distribution_shift_scoring\n",
      "2024-08-06 09:43:37,618 - src.config - DEBUG - calling distribution_shift_scoring\n",
      "2024-08-06 09:43:37,621 - src.config - DEBUG - calling distribution_shift_scoring\n",
      "2024-08-06 09:43:37,622 - src.config - DEBUG - calling distribution_shift_scoring\n"
     ]
    },
    {
     "name": "stdout",
     "output_type": "stream",
     "text": [
      "KS Score - Train: 0.97, Test: 0.97, (higher is more different)\n",
      "PSI Score - Train: 7.09, Test: 0.94, (higher is more different)\n"
     ]
    }
   ],
   "source": [
    "from src.tasks.distribution_shift import distribution_shift_scoring\n",
    "ks_score_train = distribution_shift_scoring(scores_train, train_scores_outliers, method='ks')\n",
    "ks_score_test = distribution_shift_scoring(scores_train, test_scores_outliers, method='ks')\n",
    "\n",
    "psi_score_train = distribution_shift_scoring(scores_train, train_scores_outliers, method='psi')\n",
    "psi_score_test = distribution_shift_scoring(scores_train, test_scores_outliers, method='psi')\n",
    "\n",
    "print(f'KS Score - Train: {ks_score_train:.2f}, Test: {ks_score_test:.2f}, (higher is more different)')\n",
    "print(f'PSI Score - Train: {psi_score_train:.2f}, Test: {psi_score_test:.2f}, (higher is more different)')"
   ]
  },
  {
   "cell_type": "markdown",
   "metadata": {},
   "source": [
    "# Exploring outliers"
   ]
  },
  {
   "cell_type": "code",
   "execution_count": 36,
   "metadata": {},
   "outputs": [
    {
     "data": {
      "text/html": [
       "<div>\n",
       "<style scoped>\n",
       "    .dataframe tbody tr th:only-of-type {\n",
       "        vertical-align: middle;\n",
       "    }\n",
       "\n",
       "    .dataframe tbody tr th {\n",
       "        vertical-align: top;\n",
       "    }\n",
       "\n",
       "    .dataframe thead th {\n",
       "        text-align: right;\n",
       "    }\n",
       "</style>\n",
       "<table border=\"1\" class=\"dataframe\">\n",
       "  <thead>\n",
       "    <tr style=\"text-align: right;\">\n",
       "      <th></th>\n",
       "      <th>rating</th>\n",
       "      <th>average_rating</th>\n",
       "      <th>sentiment_score</th>\n",
       "      <th>similarity_good</th>\n",
       "      <th>similarity_bad</th>\n",
       "      <th>similarity_expensive</th>\n",
       "      <th>similarity_scam</th>\n",
       "      <th>similarity_error</th>\n",
       "      <th>text_review</th>\n",
       "      <th>text_metadata</th>\n",
       "      <th>hour</th>\n",
       "      <th>helpful_vote</th>\n",
       "      <th>price</th>\n",
       "      <th>length_char</th>\n",
       "      <th>interaction_score</th>\n",
       "      <th>readability</th>\n",
       "    </tr>\n",
       "  </thead>\n",
       "  <tbody>\n",
       "    <tr>\n",
       "      <th>3433</th>\n",
       "      <td>1</td>\n",
       "      <td>3.4</td>\n",
       "      <td>0.2026</td>\n",
       "      <td>0.110251</td>\n",
       "      <td>0.170367</td>\n",
       "      <td>0.090186</td>\n",
       "      <td>0.238859</td>\n",
       "      <td>0.350568</td>\n",
       "      <td>Hugely Disappointing Gift/n/nHugely disappointing gift.&lt;br /&gt;&lt;br /&gt;I'm not a big fan of gift cards in general, but I have received Amazon cards in the past.  Amazon has a huge selection of items t...</td>\n",
       "      <td>Staples Holiday Gift Card $25/n/n/n/n</td>\n",
       "      <td>22</td>\n",
       "      <td>0</td>\n",
       "      <td>-1.00</td>\n",
       "      <td>3207</td>\n",
       "      <td>0.665174</td>\n",
       "      <td>0.5991</td>\n",
       "    </tr>\n",
       "    <tr>\n",
       "      <th>1147</th>\n",
       "      <td>1</td>\n",
       "      <td>4.8</td>\n",
       "      <td>0.5837</td>\n",
       "      <td>0.113505</td>\n",
       "      <td>0.183616</td>\n",
       "      <td>0.106053</td>\n",
       "      <td>0.288690</td>\n",
       "      <td>0.346771</td>\n",
       "      <td>Terrible/n/nI tried to use the card to purchase something on Amazon and it didn't work  Also, if you use it somewhere else the card has to be activated before you use it! It appears that you won't...</td>\n",
       "      <td>Visa $25 Gift Card (plus $3.95 Purchase Fee)/n/n/n/n</td>\n",
       "      <td>4</td>\n",
       "      <td>152</td>\n",
       "      <td>28.95</td>\n",
       "      <td>279</td>\n",
       "      <td>0.438307</td>\n",
       "      <td>0.7859</td>\n",
       "    </tr>\n",
       "    <tr>\n",
       "      <th>14756</th>\n",
       "      <td>1</td>\n",
       "      <td>4.6</td>\n",
       "      <td>0.6988</td>\n",
       "      <td>0.070332</td>\n",
       "      <td>0.101796</td>\n",
       "      <td>0.200176</td>\n",
       "      <td>0.267648</td>\n",
       "      <td>0.077780</td>\n",
       "      <td>Limited use./n/nIt may have been an oversight on my part, but this card is NOT universally accepted. For online purchases (where my intention of using it originated) It was rejected a couple of ti...</td>\n",
       "      <td>$200 Mastercard Gift Card (plus $6.95 Purchase Fee)/n/n/n/n</td>\n",
       "      <td>11</td>\n",
       "      <td>44</td>\n",
       "      <td>206.95</td>\n",
       "      <td>535</td>\n",
       "      <td>0.664616</td>\n",
       "      <td>0.8193</td>\n",
       "    </tr>\n",
       "    <tr>\n",
       "      <th>18566</th>\n",
       "      <td>1</td>\n",
       "      <td>4.8</td>\n",
       "      <td>-0.1280</td>\n",
       "      <td>0.138065</td>\n",
       "      <td>0.201071</td>\n",
       "      <td>0.137780</td>\n",
       "      <td>0.295046</td>\n",
       "      <td>0.271063</td>\n",
       "      <td>One Star/n/narrived with a $0.00 balance, no refund by amazon</td>\n",
       "      <td>JCPenney Gift Card/n/n/n/n</td>\n",
       "      <td>1</td>\n",
       "      <td>1</td>\n",
       "      <td>200.00</td>\n",
       "      <td>61</td>\n",
       "      <td>0.251060</td>\n",
       "      <td>0.7486</td>\n",
       "    </tr>\n",
       "    <tr>\n",
       "      <th>16808</th>\n",
       "      <td>5</td>\n",
       "      <td>4.6</td>\n",
       "      <td>0.8750</td>\n",
       "      <td>0.273418</td>\n",
       "      <td>0.205082</td>\n",
       "      <td>0.283000</td>\n",
       "      <td>0.269687</td>\n",
       "      <td>0.160399</td>\n",
       "      <td>The best for these times/n/nConvenient. Quick. In these times it is a good long distance gift.</td>\n",
       "      <td>$200 Mastercard Gift Card (plus $6.95 Purchase Fee)/n/n/n/n</td>\n",
       "      <td>16</td>\n",
       "      <td>0</td>\n",
       "      <td>206.95</td>\n",
       "      <td>94</td>\n",
       "      <td>0.383441</td>\n",
       "      <td>0.9720</td>\n",
       "    </tr>\n",
       "  </tbody>\n",
       "</table>\n",
       "</div>"
      ],
      "text/plain": [
       "       rating  average_rating  sentiment_score  similarity_good  similarity_bad  similarity_expensive  similarity_scam  similarity_error                                                                                                                                                                                              text_review                                                text_metadata  hour  helpful_vote   price  length_char  interaction_score  readability\n",
       "3433        1             3.4           0.2026         0.110251        0.170367              0.090186         0.238859          0.350568  Hugely Disappointing Gift/n/nHugely disappointing gift.<br /><br />I'm not a big fan of gift cards in general, but I have received Amazon cards in the past.  Amazon has a huge selection of items t...                        Staples Holiday Gift Card $25/n/n/n/n    22             0   -1.00         3207           0.665174       0.5991\n",
       "1147        1             4.8           0.5837         0.113505        0.183616              0.106053         0.288690          0.346771  Terrible/n/nI tried to use the card to purchase something on Amazon and it didn't work  Also, if you use it somewhere else the card has to be activated before you use it! It appears that you won't...         Visa $25 Gift Card (plus $3.95 Purchase Fee)/n/n/n/n     4           152   28.95          279           0.438307       0.7859\n",
       "14756       1             4.6           0.6988         0.070332        0.101796              0.200176         0.267648          0.077780  Limited use./n/nIt may have been an oversight on my part, but this card is NOT universally accepted. For online purchases (where my intention of using it originated) It was rejected a couple of ti...  $200 Mastercard Gift Card (plus $6.95 Purchase Fee)/n/n/n/n    11            44  206.95          535           0.664616       0.8193\n",
       "18566       1             4.8          -0.1280         0.138065        0.201071              0.137780         0.295046          0.271063                                                                                                                                            One Star/n/narrived with a $0.00 balance, no refund by amazon                                   JCPenney Gift Card/n/n/n/n     1             1  200.00           61           0.251060       0.7486\n",
       "16808       5             4.6           0.8750         0.273418        0.205082              0.283000         0.269687          0.160399                                                                                                           The best for these times/n/nConvenient. Quick. In these times it is a good long distance gift.  $200 Mastercard Gift Card (plus $6.95 Purchase Fee)/n/n/n/n    16             0  206.95           94           0.383441       0.9720"
      ]
     },
     "metadata": {},
     "output_type": "display_data"
    },
    {
     "name": "stdout",
     "output_type": "stream",
     "text": [
      "       rating  average_rating  sentiment_score  similarity_good  similarity_bad  similarity_expensive  similarity_scam  similarity_error                                                                                                                                                                                              text_review                                                text_metadata  hour  helpful_vote   price  length_char  interaction_score  readability\n",
      "3433        1             3.4           0.2026         0.110251        0.170367              0.090186         0.238859          0.350568  Hugely Disappointing Gift/n/nHugely disappointing gift.<br /><br />I'm not a big fan of gift cards in general, but I have received Amazon cards in the past.  Amazon has a huge selection of items t...                        Staples Holiday Gift Card $25/n/n/n/n    22             0   -1.00         3207           0.665174       0.5991\n",
      "1147        1             4.8           0.5837         0.113505        0.183616              0.106053         0.288690          0.346771  Terrible/n/nI tried to use the card to purchase something on Amazon and it didn't work  Also, if you use it somewhere else the card has to be activated before you use it! It appears that you won't...         Visa $25 Gift Card (plus $3.95 Purchase Fee)/n/n/n/n     4           152   28.95          279           0.438307       0.7859\n",
      "14756       1             4.6           0.6988         0.070332        0.101796              0.200176         0.267648          0.077780  Limited use./n/nIt may have been an oversight on my part, but this card is NOT universally accepted. For online purchases (where my intention of using it originated) It was rejected a couple of ti...  $200 Mastercard Gift Card (plus $6.95 Purchase Fee)/n/n/n/n    11            44  206.95          535           0.664616       0.8193\n",
      "18566       1             4.8          -0.1280         0.138065        0.201071              0.137780         0.295046          0.271063                                                                                                                                            One Star/n/narrived with a $0.00 balance, no refund by amazon                                   JCPenney Gift Card/n/n/n/n     1             1  200.00           61           0.251060       0.7486\n",
      "16808       5             4.6           0.8750         0.273418        0.205082              0.283000         0.269687          0.160399                                                                                                           The best for these times/n/nConvenient. Quick. In these times it is a good long distance gift.  $200 Mastercard Gift Card (plus $6.95 Purchase Fee)/n/n/n/n    16             0  206.95           94           0.383441       0.9720\n"
     ]
    }
   ],
   "source": [
    "# add the score to the dataframe and sort it\n",
    "test_df_enriched[\"scores\"] = scores_test\n",
    "test_df_sorted = test_df_enriched.sort_values(by='scores', ascending=False)\n",
    "\n",
    "col_to_display = [\n",
    "    \"rating\",\n",
    "    \"average_rating\",\n",
    "    \"sentiment_score\",\n",
    "    \"similarity_good\",\n",
    "    \"similarity_bad\",\n",
    "    \"similarity_expensive\",\n",
    "    \"similarity_scam\",\n",
    "    \"similarity_error\",\n",
    "    \"text_review\",\n",
    "    \"text_metadata\",\n",
    "    \"hour\",\n",
    "    \"helpful_vote\",\n",
    "    \"price\",\n",
    "    \"length_char\",\n",
    "    \"interaction_score\",\n",
    "    \"readability\",\n",
    "    ]\n",
    "\n",
    "# show top rows\n",
    "display(test_df_sorted[col_to_display].head(5))\n",
    "print(test_df_sorted[col_to_display].head(5))\n"
   ]
  },
  {
   "cell_type": "code",
   "execution_count": null,
   "metadata": {},
   "outputs": [],
   "source": [
    "import qgrid\n",
    "widget = qgrid.show_grid(test_df_sorted[col_to_display])\n",
    "widget"
   ]
  },
  {
   "cell_type": "code",
   "execution_count": 46,
   "metadata": {},
   "outputs": [
    {
     "data": {
      "text/html": [
       "<div>\n",
       "<style scoped>\n",
       "    .dataframe tbody tr th:only-of-type {\n",
       "        vertical-align: middle;\n",
       "    }\n",
       "\n",
       "    .dataframe tbody tr th {\n",
       "        vertical-align: top;\n",
       "    }\n",
       "\n",
       "    .dataframe thead th {\n",
       "        text-align: right;\n",
       "    }\n",
       "</style>\n",
       "<table border=\"1\" class=\"dataframe\">\n",
       "  <thead>\n",
       "    <tr style=\"text-align: right;\">\n",
       "      <th></th>\n",
       "      <th>rating</th>\n",
       "      <th>average_rating</th>\n",
       "      <th>sentiment_score</th>\n",
       "      <th>similarity_good</th>\n",
       "      <th>similarity_bad</th>\n",
       "      <th>similarity_expensive</th>\n",
       "      <th>similarity_scam</th>\n",
       "      <th>similarity_error</th>\n",
       "      <th>text_review</th>\n",
       "      <th>text_metadata</th>\n",
       "      <th>hour</th>\n",
       "      <th>helpful_vote</th>\n",
       "      <th>price</th>\n",
       "      <th>length_char</th>\n",
       "      <th>interaction_score</th>\n",
       "      <th>readability</th>\n",
       "    </tr>\n",
       "  </thead>\n",
       "  <tbody>\n",
       "    <tr>\n",
       "      <th>12047</th>\n",
       "      <td>5</td>\n",
       "      <td>4.8</td>\n",
       "      <td>0.0000</td>\n",
       "      <td>0.181690</td>\n",
       "      <td>0.250507</td>\n",
       "      <td>0.274545</td>\n",
       "      <td>0.342439</td>\n",
       "      <td>0.152507</td>\n",
       "      <td>Five Stars/n/nWorth the price</td>\n",
       "      <td>JCPenney Gift Card/n/n/n/n</td>\n",
       "      <td>16</td>\n",
       "      <td>0</td>\n",
       "      <td>200.0</td>\n",
       "      <td>29</td>\n",
       "      <td>0.320807</td>\n",
       "      <td>1.1818</td>\n",
       "    </tr>\n",
       "    <tr>\n",
       "      <th>17002</th>\n",
       "      <td>5</td>\n",
       "      <td>4.8</td>\n",
       "      <td>0.0000</td>\n",
       "      <td>0.161135</td>\n",
       "      <td>0.165927</td>\n",
       "      <td>0.134747</td>\n",
       "      <td>0.258112</td>\n",
       "      <td>0.125208</td>\n",
       "      <td>Five Stars/n/nGreat deal</td>\n",
       "      <td>JCPenney Gift Card/n/n/n/n</td>\n",
       "      <td>8</td>\n",
       "      <td>0</td>\n",
       "      <td>200.0</td>\n",
       "      <td>24</td>\n",
       "      <td>0.268259</td>\n",
       "      <td>1.1919</td>\n",
       "    </tr>\n",
       "    <tr>\n",
       "      <th>12964</th>\n",
       "      <td>5</td>\n",
       "      <td>4.8</td>\n",
       "      <td>0.0000</td>\n",
       "      <td>0.202606</td>\n",
       "      <td>0.182167</td>\n",
       "      <td>0.118330</td>\n",
       "      <td>0.260086</td>\n",
       "      <td>0.146014</td>\n",
       "      <td>Five Stars/n/nGreat deal!</td>\n",
       "      <td>JCPenney Gift Card/n/n/n/n</td>\n",
       "      <td>16</td>\n",
       "      <td>0</td>\n",
       "      <td>200.0</td>\n",
       "      <td>25</td>\n",
       "      <td>0.274439</td>\n",
       "      <td>1.1919</td>\n",
       "    </tr>\n",
       "    <tr>\n",
       "      <th>12973</th>\n",
       "      <td>5</td>\n",
       "      <td>4.8</td>\n",
       "      <td>0.0000</td>\n",
       "      <td>0.142470</td>\n",
       "      <td>0.166011</td>\n",
       "      <td>0.010466</td>\n",
       "      <td>0.093891</td>\n",
       "      <td>0.031031</td>\n",
       "      <td>Fer/n/nExcelente!</td>\n",
       "      <td>Kohl's Gift Card/n/n/n/n</td>\n",
       "      <td>18</td>\n",
       "      <td>0</td>\n",
       "      <td>125.0</td>\n",
       "      <td>17</td>\n",
       "      <td>0.065869</td>\n",
       "      <td>-1.3259</td>\n",
       "    </tr>\n",
       "    <tr>\n",
       "      <th>6879</th>\n",
       "      <td>5</td>\n",
       "      <td>4.9</td>\n",
       "      <td>0.0000</td>\n",
       "      <td>0.170709</td>\n",
       "      <td>0.199800</td>\n",
       "      <td>0.073928</td>\n",
       "      <td>0.183070</td>\n",
       "      <td>0.092794</td>\n",
       "      <td>Five Stars/n/nNice</td>\n",
       "      <td>Southwest Airlines Gift Card/n/n/n/n</td>\n",
       "      <td>12</td>\n",
       "      <td>0</td>\n",
       "      <td>150.0</td>\n",
       "      <td>18</td>\n",
       "      <td>0.198004</td>\n",
       "      <td>1.2021</td>\n",
       "    </tr>\n",
       "    <tr>\n",
       "      <th>7558</th>\n",
       "      <td>5</td>\n",
       "      <td>4.9</td>\n",
       "      <td>0.0000</td>\n",
       "      <td>0.223837</td>\n",
       "      <td>0.236459</td>\n",
       "      <td>0.165697</td>\n",
       "      <td>0.340745</td>\n",
       "      <td>0.178944</td>\n",
       "      <td>Five Stars/n/ngreat buy</td>\n",
       "      <td>Southwest Airlines Gift Card/n/n/n/n</td>\n",
       "      <td>12</td>\n",
       "      <td>0</td>\n",
       "      <td>150.0</td>\n",
       "      <td>23</td>\n",
       "      <td>0.294108</td>\n",
       "      <td>1.1919</td>\n",
       "    </tr>\n",
       "    <tr>\n",
       "      <th>6867</th>\n",
       "      <td>5</td>\n",
       "      <td>4.9</td>\n",
       "      <td>0.0000</td>\n",
       "      <td>0.220020</td>\n",
       "      <td>0.171175</td>\n",
       "      <td>0.105094</td>\n",
       "      <td>0.104645</td>\n",
       "      <td>0.107030</td>\n",
       "      <td>Presentation/n/nLovely presentation</td>\n",
       "      <td>Amazon.com Gift Card in a Holiday Gift Box (Various Designs)/n/n/n/n</td>\n",
       "      <td>8</td>\n",
       "      <td>0</td>\n",
       "      <td>25.0</td>\n",
       "      <td>35</td>\n",
       "      <td>0.209423</td>\n",
       "      <td>-1.7590</td>\n",
       "    </tr>\n",
       "    <tr>\n",
       "      <th>19088</th>\n",
       "      <td>5</td>\n",
       "      <td>4.9</td>\n",
       "      <td>0.0000</td>\n",
       "      <td>0.334212</td>\n",
       "      <td>0.426896</td>\n",
       "      <td>0.112843</td>\n",
       "      <td>0.134687</td>\n",
       "      <td>0.257143</td>\n",
       "      <td>Quality product/n/nQuality product</td>\n",
       "      <td>Amazon.com Gift Card in a Holiday Gift Box (Various Designs)/n/n/n/n</td>\n",
       "      <td>18</td>\n",
       "      <td>0</td>\n",
       "      <td>25.0</td>\n",
       "      <td>34</td>\n",
       "      <td>0.169381</td>\n",
       "      <td>-0.5002</td>\n",
       "    </tr>\n",
       "    <tr>\n",
       "      <th>18597</th>\n",
       "      <td>5</td>\n",
       "      <td>4.9</td>\n",
       "      <td>0.0000</td>\n",
       "      <td>0.237890</td>\n",
       "      <td>0.103041</td>\n",
       "      <td>0.132116</td>\n",
       "      <td>0.065189</td>\n",
       "      <td>0.048804</td>\n",
       "      <td>Amazing/n/nAmazing</td>\n",
       "      <td>Amazon.com Gift Card in Various Gift Boxes/n/n/n/n</td>\n",
       "      <td>2</td>\n",
       "      <td>0</td>\n",
       "      <td>25.0</td>\n",
       "      <td>18</td>\n",
       "      <td>0.037315</td>\n",
       "      <td>-2.1719</td>\n",
       "    </tr>\n",
       "    <tr>\n",
       "      <th>6138</th>\n",
       "      <td>5</td>\n",
       "      <td>4.9</td>\n",
       "      <td>0.0000</td>\n",
       "      <td>0.342278</td>\n",
       "      <td>0.381642</td>\n",
       "      <td>0.036755</td>\n",
       "      <td>0.362679</td>\n",
       "      <td>0.418296</td>\n",
       "      <td>Works as advertised./n/nI got what I ordered. The product was as described on the web site. It arrived in a timely manner. Works as advertised.</td>\n",
       "      <td>Amazon.com Gift Card in Various Gift Boxes/n/n/n/n</td>\n",
       "      <td>22</td>\n",
       "      <td>0</td>\n",
       "      <td>25.0</td>\n",
       "      <td>143</td>\n",
       "      <td>0.090575</td>\n",
       "      <td>0.8332</td>\n",
       "    </tr>\n",
       "    <tr>\n",
       "      <th>13710</th>\n",
       "      <td>5</td>\n",
       "      <td>4.9</td>\n",
       "      <td>0.0000</td>\n",
       "      <td>0.140003</td>\n",
       "      <td>0.125724</td>\n",
       "      <td>-0.029215</td>\n",
       "      <td>0.067964</td>\n",
       "      <td>0.083395</td>\n",
       "      <td>Headline/n/nThey got here</td>\n",
       "      <td>Amazon.com Gift Card in Various Gift Boxes/n/n/n/n</td>\n",
       "      <td>19</td>\n",
       "      <td>0</td>\n",
       "      <td>25.0</td>\n",
       "      <td>25</td>\n",
       "      <td>0.025984</td>\n",
       "      <td>0.3459</td>\n",
       "    </tr>\n",
       "    <tr>\n",
       "      <th>12027</th>\n",
       "      <td>5</td>\n",
       "      <td>4.8</td>\n",
       "      <td>0.4926</td>\n",
       "      <td>0.233356</td>\n",
       "      <td>0.130506</td>\n",
       "      <td>0.047162</td>\n",
       "      <td>0.114175</td>\n",
       "      <td>0.163731</td>\n",
       "      <td>What more can I say!/n/nGreat Christmas gift 🎁</td>\n",
       "      <td>Kohl's Gift Card/n/n/n/n</td>\n",
       "      <td>21</td>\n",
       "      <td>0</td>\n",
       "      <td>125.0</td>\n",
       "      <td>46</td>\n",
       "      <td>0.388400</td>\n",
       "      <td>0.9330</td>\n",
       "    </tr>\n",
       "    <tr>\n",
       "      <th>19000</th>\n",
       "      <td>5</td>\n",
       "      <td>4.9</td>\n",
       "      <td>0.0000</td>\n",
       "      <td>0.240928</td>\n",
       "      <td>0.158310</td>\n",
       "      <td>0.114997</td>\n",
       "      <td>0.115095</td>\n",
       "      <td>0.114892</td>\n",
       "      <td>Appreciated/n/nGift</td>\n",
       "      <td>Amazon.com Gift Card in a Reveal (Various Designs)/n/n/n/n</td>\n",
       "      <td>19</td>\n",
       "      <td>0</td>\n",
       "      <td>20.0</td>\n",
       "      <td>19</td>\n",
       "      <td>0.068096</td>\n",
       "      <td>-2.1719</td>\n",
       "    </tr>\n",
       "    <tr>\n",
       "      <th>3578</th>\n",
       "      <td>5</td>\n",
       "      <td>4.9</td>\n",
       "      <td>0.0000</td>\n",
       "      <td>0.182099</td>\n",
       "      <td>0.108967</td>\n",
       "      <td>0.161221</td>\n",
       "      <td>0.132310</td>\n",
       "      <td>0.107134</td>\n",
       "      <td>Convenient/n/nConvenient</td>\n",
       "      <td>SUBWAY Gift Card/n/n/n/n</td>\n",
       "      <td>16</td>\n",
       "      <td>0</td>\n",
       "      <td>50.0</td>\n",
       "      <td>24</td>\n",
       "      <td>0.251569</td>\n",
       "      <td>-2.1719</td>\n",
       "    </tr>\n",
       "    <tr>\n",
       "      <th>20280</th>\n",
       "      <td>5</td>\n",
       "      <td>4.8</td>\n",
       "      <td>-0.0568</td>\n",
       "      <td>0.168578</td>\n",
       "      <td>0.090904</td>\n",
       "      <td>0.036759</td>\n",
       "      <td>0.030199</td>\n",
       "      <td>0.300426</td>\n",
       "      <td>Everything worked as needed./n/nGift card came fully loaded, no issues at all. Have already used it once without problem.</td>\n",
       "      <td>Regal Entertainment Gift Card/n/n/n/n</td>\n",
       "      <td>1</td>\n",
       "      <td>0</td>\n",
       "      <td>100.0</td>\n",
       "      <td>121</td>\n",
       "      <td>0.156123</td>\n",
       "      <td>0.7354</td>\n",
       "    </tr>\n",
       "    <tr>\n",
       "      <th>1077</th>\n",
       "      <td>5</td>\n",
       "      <td>4.9</td>\n",
       "      <td>0.4926</td>\n",
       "      <td>0.311675</td>\n",
       "      <td>0.251702</td>\n",
       "      <td>0.159640</td>\n",
       "      <td>0.253306</td>\n",
       "      <td>0.293878</td>\n",
       "      <td>Five Stars/n/ncute packaging &amp; thanks for the PRIME shipping!</td>\n",
       "      <td>Amazon.com Gift Card in a Holiday Gift Box (Various Designs)/n/n/n/n</td>\n",
       "      <td>15</td>\n",
       "      <td>0</td>\n",
       "      <td>25.0</td>\n",
       "      <td>61</td>\n",
       "      <td>0.298226</td>\n",
       "      <td>0.7182</td>\n",
       "    </tr>\n",
       "    <tr>\n",
       "      <th>8094</th>\n",
       "      <td>5</td>\n",
       "      <td>4.9</td>\n",
       "      <td>0.0000</td>\n",
       "      <td>0.071912</td>\n",
       "      <td>0.111910</td>\n",
       "      <td>0.167296</td>\n",
       "      <td>0.077935</td>\n",
       "      <td>-0.021433</td>\n",
       "      <td>Harley Davidson/n/nHopefully he'll find what he wants.</td>\n",
       "      <td>Harley-Davidson Gift Card/n/n/n/n</td>\n",
       "      <td>20</td>\n",
       "      <td>0</td>\n",
       "      <td>100.0</td>\n",
       "      <td>54</td>\n",
       "      <td>0.598803</td>\n",
       "      <td>0.8129</td>\n",
       "    </tr>\n",
       "    <tr>\n",
       "      <th>18480</th>\n",
       "      <td>5</td>\n",
       "      <td>4.9</td>\n",
       "      <td>0.0000</td>\n",
       "      <td>0.232011</td>\n",
       "      <td>0.225816</td>\n",
       "      <td>0.157894</td>\n",
       "      <td>0.221210</td>\n",
       "      <td>0.314839</td>\n",
       "      <td>Five Stars/n/nexcellent item, quick delivery</td>\n",
       "      <td>Amazon.com Gift Card in a Holiday Gift Box (Various Designs)/n/n/n/n</td>\n",
       "      <td>18</td>\n",
       "      <td>0</td>\n",
       "      <td>25.0</td>\n",
       "      <td>44</td>\n",
       "      <td>0.328608</td>\n",
       "      <td>0.4948</td>\n",
       "    </tr>\n",
       "    <tr>\n",
       "      <th>13474</th>\n",
       "      <td>5</td>\n",
       "      <td>4.9</td>\n",
       "      <td>0.4404</td>\n",
       "      <td>0.232230</td>\n",
       "      <td>0.202417</td>\n",
       "      <td>0.137588</td>\n",
       "      <td>0.286897</td>\n",
       "      <td>0.202105</td>\n",
       "      <td>Five Stars/n/nGreat gift</td>\n",
       "      <td>Amazon.com Gift Card in a Holiday Gift Box (Various Designs)/n/n/n/n</td>\n",
       "      <td>2</td>\n",
       "      <td>0</td>\n",
       "      <td>25.0</td>\n",
       "      <td>24</td>\n",
       "      <td>0.404982</td>\n",
       "      <td>1.1919</td>\n",
       "    </tr>\n",
       "    <tr>\n",
       "      <th>5170</th>\n",
       "      <td>5</td>\n",
       "      <td>4.9</td>\n",
       "      <td>0.0000</td>\n",
       "      <td>0.096459</td>\n",
       "      <td>0.102547</td>\n",
       "      <td>0.043364</td>\n",
       "      <td>0.069653</td>\n",
       "      <td>0.078500</td>\n",
       "      <td>O/n/nGranddaughter</td>\n",
       "      <td>Amazon.com Gift Card in a Holiday Gift Box (Various Designs)/n/n/n/n</td>\n",
       "      <td>20</td>\n",
       "      <td>0</td>\n",
       "      <td>25.0</td>\n",
       "      <td>18</td>\n",
       "      <td>0.157780</td>\n",
       "      <td>-1.3259</td>\n",
       "    </tr>\n",
       "  </tbody>\n",
       "</table>\n",
       "</div>"
      ],
      "text/plain": [
       "       rating  average_rating  sentiment_score  similarity_good  similarity_bad  similarity_expensive  similarity_scam  similarity_error                                                                                                                                      text_review                                                         text_metadata  hour  helpful_vote  price  length_char  interaction_score  readability\n",
       "12047       5             4.8           0.0000         0.181690        0.250507              0.274545         0.342439          0.152507                                                                                                                    Five Stars/n/nWorth the price                                            JCPenney Gift Card/n/n/n/n    16             0  200.0           29           0.320807       1.1818\n",
       "17002       5             4.8           0.0000         0.161135        0.165927              0.134747         0.258112          0.125208                                                                                                                         Five Stars/n/nGreat deal                                            JCPenney Gift Card/n/n/n/n     8             0  200.0           24           0.268259       1.1919\n",
       "12964       5             4.8           0.0000         0.202606        0.182167              0.118330         0.260086          0.146014                                                                                                                        Five Stars/n/nGreat deal!                                            JCPenney Gift Card/n/n/n/n    16             0  200.0           25           0.274439       1.1919\n",
       "12973       5             4.8           0.0000         0.142470        0.166011              0.010466         0.093891          0.031031                                                                                                                                Fer/n/nExcelente!                                              Kohl's Gift Card/n/n/n/n    18             0  125.0           17           0.065869      -1.3259\n",
       "6879        5             4.9           0.0000         0.170709        0.199800              0.073928         0.183070          0.092794                                                                                                                               Five Stars/n/nNice                                  Southwest Airlines Gift Card/n/n/n/n    12             0  150.0           18           0.198004       1.2021\n",
       "7558        5             4.9           0.0000         0.223837        0.236459              0.165697         0.340745          0.178944                                                                                                                          Five Stars/n/ngreat buy                                  Southwest Airlines Gift Card/n/n/n/n    12             0  150.0           23           0.294108       1.1919\n",
       "6867        5             4.9           0.0000         0.220020        0.171175              0.105094         0.104645          0.107030                                                                                                              Presentation/n/nLovely presentation  Amazon.com Gift Card in a Holiday Gift Box (Various Designs)/n/n/n/n     8             0   25.0           35           0.209423      -1.7590\n",
       "19088       5             4.9           0.0000         0.334212        0.426896              0.112843         0.134687          0.257143                                                                                                               Quality product/n/nQuality product  Amazon.com Gift Card in a Holiday Gift Box (Various Designs)/n/n/n/n    18             0   25.0           34           0.169381      -0.5002\n",
       "18597       5             4.9           0.0000         0.237890        0.103041              0.132116         0.065189          0.048804                                                                                                                               Amazing/n/nAmazing                    Amazon.com Gift Card in Various Gift Boxes/n/n/n/n     2             0   25.0           18           0.037315      -2.1719\n",
       "6138        5             4.9           0.0000         0.342278        0.381642              0.036755         0.362679          0.418296  Works as advertised./n/nI got what I ordered. The product was as described on the web site. It arrived in a timely manner. Works as advertised.                    Amazon.com Gift Card in Various Gift Boxes/n/n/n/n    22             0   25.0          143           0.090575       0.8332\n",
       "13710       5             4.9           0.0000         0.140003        0.125724             -0.029215         0.067964          0.083395                                                                                                                        Headline/n/nThey got here                    Amazon.com Gift Card in Various Gift Boxes/n/n/n/n    19             0   25.0           25           0.025984       0.3459\n",
       "12027       5             4.8           0.4926         0.233356        0.130506              0.047162         0.114175          0.163731                                                                                                   What more can I say!/n/nGreat Christmas gift 🎁                                              Kohl's Gift Card/n/n/n/n    21             0  125.0           46           0.388400       0.9330\n",
       "19000       5             4.9           0.0000         0.240928        0.158310              0.114997         0.115095          0.114892                                                                                                                              Appreciated/n/nGift            Amazon.com Gift Card in a Reveal (Various Designs)/n/n/n/n    19             0   20.0           19           0.068096      -2.1719\n",
       "3578        5             4.9           0.0000         0.182099        0.108967              0.161221         0.132310          0.107134                                                                                                                         Convenient/n/nConvenient                                              SUBWAY Gift Card/n/n/n/n    16             0   50.0           24           0.251569      -2.1719\n",
       "20280       5             4.8          -0.0568         0.168578        0.090904              0.036759         0.030199          0.300426                        Everything worked as needed./n/nGift card came fully loaded, no issues at all. Have already used it once without problem.                                 Regal Entertainment Gift Card/n/n/n/n     1             0  100.0          121           0.156123       0.7354\n",
       "1077        5             4.9           0.4926         0.311675        0.251702              0.159640         0.253306          0.293878                                                                                    Five Stars/n/ncute packaging & thanks for the PRIME shipping!  Amazon.com Gift Card in a Holiday Gift Box (Various Designs)/n/n/n/n    15             0   25.0           61           0.298226       0.7182\n",
       "8094        5             4.9           0.0000         0.071912        0.111910              0.167296         0.077935         -0.021433                                                                                           Harley Davidson/n/nHopefully he'll find what he wants.                                     Harley-Davidson Gift Card/n/n/n/n    20             0  100.0           54           0.598803       0.8129\n",
       "18480       5             4.9           0.0000         0.232011        0.225816              0.157894         0.221210          0.314839                                                                                                     Five Stars/n/nexcellent item, quick delivery  Amazon.com Gift Card in a Holiday Gift Box (Various Designs)/n/n/n/n    18             0   25.0           44           0.328608       0.4948\n",
       "13474       5             4.9           0.4404         0.232230        0.202417              0.137588         0.286897          0.202105                                                                                                                         Five Stars/n/nGreat gift  Amazon.com Gift Card in a Holiday Gift Box (Various Designs)/n/n/n/n     2             0   25.0           24           0.404982       1.1919\n",
       "5170        5             4.9           0.0000         0.096459        0.102547              0.043364         0.069653          0.078500                                                                                                                               O/n/nGranddaughter  Amazon.com Gift Card in a Holiday Gift Box (Various Designs)/n/n/n/n    20             0   25.0           18           0.157780      -1.3259"
      ]
     },
     "metadata": {},
     "output_type": "display_data"
    }
   ],
   "source": [
    "# top rows with discrepency in sentiment analysis and rating\n",
    "df_too_high_rating = test_df_sorted[(test_df_sorted[\"rating\"] >= 4) & (test_df_sorted[\"sentiment_score\"] < 0.5)]\n",
    "display(df_too_high_rating[col_to_display].head(20))"
   ]
  },
  {
   "cell_type": "code",
   "execution_count": 47,
   "metadata": {},
   "outputs": [
    {
     "data": {
      "text/html": [
       "<div>\n",
       "<style scoped>\n",
       "    .dataframe tbody tr th:only-of-type {\n",
       "        vertical-align: middle;\n",
       "    }\n",
       "\n",
       "    .dataframe tbody tr th {\n",
       "        vertical-align: top;\n",
       "    }\n",
       "\n",
       "    .dataframe thead th {\n",
       "        text-align: right;\n",
       "    }\n",
       "</style>\n",
       "<table border=\"1\" class=\"dataframe\">\n",
       "  <thead>\n",
       "    <tr style=\"text-align: right;\">\n",
       "      <th></th>\n",
       "      <th>rating</th>\n",
       "      <th>average_rating</th>\n",
       "      <th>sentiment_score</th>\n",
       "      <th>similarity_good</th>\n",
       "      <th>similarity_bad</th>\n",
       "      <th>similarity_expensive</th>\n",
       "      <th>similarity_scam</th>\n",
       "      <th>similarity_error</th>\n",
       "      <th>text_review</th>\n",
       "      <th>text_metadata</th>\n",
       "      <th>hour</th>\n",
       "      <th>helpful_vote</th>\n",
       "      <th>price</th>\n",
       "      <th>length_char</th>\n",
       "      <th>interaction_score</th>\n",
       "      <th>readability</th>\n",
       "    </tr>\n",
       "  </thead>\n",
       "  <tbody>\n",
       "    <tr>\n",
       "      <th>1147</th>\n",
       "      <td>1</td>\n",
       "      <td>4.8</td>\n",
       "      <td>0.5837</td>\n",
       "      <td>0.113505</td>\n",
       "      <td>0.183616</td>\n",
       "      <td>0.106053</td>\n",
       "      <td>0.288690</td>\n",
       "      <td>0.346771</td>\n",
       "      <td>Terrible/n/nI tried to use the card to purchase something on Amazon and it didn't work  Also, if you use it somewhere else the card has to be activated before you use it! It appears that you won't...</td>\n",
       "      <td>Visa $25 Gift Card (plus $3.95 Purchase Fee)/n/n/n/n</td>\n",
       "      <td>4</td>\n",
       "      <td>152</td>\n",
       "      <td>28.95</td>\n",
       "      <td>279</td>\n",
       "      <td>0.438307</td>\n",
       "      <td>0.7859</td>\n",
       "    </tr>\n",
       "    <tr>\n",
       "      <th>14756</th>\n",
       "      <td>1</td>\n",
       "      <td>4.6</td>\n",
       "      <td>0.6988</td>\n",
       "      <td>0.070332</td>\n",
       "      <td>0.101796</td>\n",
       "      <td>0.200176</td>\n",
       "      <td>0.267648</td>\n",
       "      <td>0.077780</td>\n",
       "      <td>Limited use./n/nIt may have been an oversight on my part, but this card is NOT universally accepted. For online purchases (where my intention of using it originated) It was rejected a couple of ti...</td>\n",
       "      <td>$200 Mastercard Gift Card (plus $6.95 Purchase Fee)/n/n/n/n</td>\n",
       "      <td>11</td>\n",
       "      <td>44</td>\n",
       "      <td>206.95</td>\n",
       "      <td>535</td>\n",
       "      <td>0.664616</td>\n",
       "      <td>0.8193</td>\n",
       "    </tr>\n",
       "    <tr>\n",
       "      <th>20442</th>\n",
       "      <td>1</td>\n",
       "      <td>3.5</td>\n",
       "      <td>0.9542</td>\n",
       "      <td>0.137594</td>\n",
       "      <td>0.165611</td>\n",
       "      <td>0.059950</td>\n",
       "      <td>0.222202</td>\n",
       "      <td>0.307266</td>\n",
       "      <td>Deceiving/n/nThere should never be fine print that you have to read when buying a gift card. This came hand-taped onto the the cardboard display, so since it looked fishy, I went online to read re...</td>\n",
       "      <td>Taco Time Gift Card/n/n/n/n</td>\n",
       "      <td>2</td>\n",
       "      <td>0</td>\n",
       "      <td>25.00</td>\n",
       "      <td>787</td>\n",
       "      <td>0.596247</td>\n",
       "      <td>0.8958</td>\n",
       "    </tr>\n",
       "    <tr>\n",
       "      <th>31</th>\n",
       "      <td>1</td>\n",
       "      <td>4.8</td>\n",
       "      <td>0.7184</td>\n",
       "      <td>0.124143</td>\n",
       "      <td>0.147500</td>\n",
       "      <td>0.142213</td>\n",
       "      <td>0.248157</td>\n",
       "      <td>0.343595</td>\n",
       "      <td>Gift Card Empty/n/nI purchased this $100.00 gift card on December 14 2019 and yesterday April 26 2010 My wife scratched the pin and she was unable to used it the card is empty we called Kohls and ...</td>\n",
       "      <td>Kohl's Gift Card/n/n/n/n</td>\n",
       "      <td>21</td>\n",
       "      <td>0</td>\n",
       "      <td>125.00</td>\n",
       "      <td>326</td>\n",
       "      <td>0.642018</td>\n",
       "      <td>0.6590</td>\n",
       "    </tr>\n",
       "    <tr>\n",
       "      <th>18487</th>\n",
       "      <td>1</td>\n",
       "      <td>4.8</td>\n",
       "      <td>0.9870</td>\n",
       "      <td>0.094591</td>\n",
       "      <td>0.033352</td>\n",
       "      <td>0.088345</td>\n",
       "      <td>0.129007</td>\n",
       "      <td>0.148938</td>\n",
       "      <td>They want our money, but.../n/nI purchased several gift cards last year, with greeting cards that had messages suitable to various recipients.  Many of my family members are Christians, who apprec...</td>\n",
       "      <td>Amazon.com Gift Card in a Greeting Card (Various Designs)/n/n/n/n</td>\n",
       "      <td>4</td>\n",
       "      <td>9</td>\n",
       "      <td>-1.00</td>\n",
       "      <td>1061</td>\n",
       "      <td>0.476276</td>\n",
       "      <td>0.6390</td>\n",
       "    </tr>\n",
       "  </tbody>\n",
       "</table>\n",
       "</div>"
      ],
      "text/plain": [
       "       rating  average_rating  sentiment_score  similarity_good  similarity_bad  similarity_expensive  similarity_scam  similarity_error                                                                                                                                                                                              text_review                                                      text_metadata  hour  helpful_vote   price  length_char  interaction_score  readability\n",
       "1147        1             4.8           0.5837         0.113505        0.183616              0.106053         0.288690          0.346771  Terrible/n/nI tried to use the card to purchase something on Amazon and it didn't work  Also, if you use it somewhere else the card has to be activated before you use it! It appears that you won't...               Visa $25 Gift Card (plus $3.95 Purchase Fee)/n/n/n/n     4           152   28.95          279           0.438307       0.7859\n",
       "14756       1             4.6           0.6988         0.070332        0.101796              0.200176         0.267648          0.077780  Limited use./n/nIt may have been an oversight on my part, but this card is NOT universally accepted. For online purchases (where my intention of using it originated) It was rejected a couple of ti...        $200 Mastercard Gift Card (plus $6.95 Purchase Fee)/n/n/n/n    11            44  206.95          535           0.664616       0.8193\n",
       "20442       1             3.5           0.9542         0.137594        0.165611              0.059950         0.222202          0.307266  Deceiving/n/nThere should never be fine print that you have to read when buying a gift card. This came hand-taped onto the the cardboard display, so since it looked fishy, I went online to read re...                                        Taco Time Gift Card/n/n/n/n     2             0   25.00          787           0.596247       0.8958\n",
       "31          1             4.8           0.7184         0.124143        0.147500              0.142213         0.248157          0.343595  Gift Card Empty/n/nI purchased this $100.00 gift card on December 14 2019 and yesterday April 26 2010 My wife scratched the pin and she was unable to used it the card is empty we called Kohls and ...                                           Kohl's Gift Card/n/n/n/n    21             0  125.00          326           0.642018       0.6590\n",
       "18487       1             4.8           0.9870         0.094591        0.033352              0.088345         0.129007          0.148938  They want our money, but.../n/nI purchased several gift cards last year, with greeting cards that had messages suitable to various recipients.  Many of my family members are Christians, who apprec...  Amazon.com Gift Card in a Greeting Card (Various Designs)/n/n/n/n     4             9   -1.00         1061           0.476276       0.6390"
      ]
     },
     "metadata": {},
     "output_type": "display_data"
    }
   ],
   "source": [
    "df_too_low_rating = test_df_sorted[(test_df_sorted[\"rating\"] < 3) & (test_df_sorted[\"sentiment_score\"] > 0.5)]\n",
    "display(df_too_low_rating[col_to_display].head(5))"
   ]
  }
 ],
 "metadata": {
  "kernelspec": {
   "display_name": "reviewoutliers-SwZO3ms--py3.12",
   "language": "python",
   "name": "python3"
  },
  "language_info": {
   "codemirror_mode": {
    "name": "ipython",
    "version": 3
   },
   "file_extension": ".py",
   "mimetype": "text/x-python",
   "name": "python",
   "nbconvert_exporter": "python",
   "pygments_lexer": "ipython3",
   "version": "3.12.2"
  }
 },
 "nbformat": 4,
 "nbformat_minor": 2
}
