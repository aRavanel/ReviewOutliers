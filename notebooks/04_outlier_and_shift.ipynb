{
 "cells": [
  {
   "cell_type": "markdown",
   "metadata": {},
   "source": [
    "# User params"
   ]
  },
  {
   "cell_type": "code",
   "execution_count": 10,
   "metadata": {},
   "outputs": [],
   "source": [
    "max_samples = 1_000"
   ]
  },
  {
   "cell_type": "markdown",
   "metadata": {},
   "source": [
    "# Outlier detection with PyOD\n"
   ]
  },
  {
   "cell_type": "code",
   "execution_count": 11,
   "metadata": {},
   "outputs": [],
   "source": [
    "\n",
    "import os, sys\n",
    "sys.path.append(os.path.abspath('../src'))\n",
    "from src.config import BASE_PATH_DATA, PATH_PROJECT\n",
    "os.chdir(PATH_PROJECT)"
   ]
  },
  {
   "cell_type": "code",
   "execution_count": 12,
   "metadata": {},
   "outputs": [
    {
     "name": "stderr",
     "output_type": "stream",
     "text": [
      "2024-08-05 16:45:48,413 - src.config - DEBUG - calling load_dataframe\n",
      "2024-08-05 16:45:48,413 - src.config - INFO - Current working directory: C:\\Users\\alexi\\WORKSPACE\\interview_abwaab\\ReviewOutliers\n",
      "2024-08-05 16:45:48,413 - src.config - ERROR - File not found: C:\\Users\\alexi\\WORKSPACE\\interview_abwaab\\ReviewOutliers\\data\\processed\\test_enriched.parquet\n",
      "2024-08-05 16:45:48,413 - src.config - INFO - Current working directory: C:\\Users\\alexi\\WORKSPACE\\interview_abwaab\\ReviewOutliers\n"
     ]
    },
    {
     "ename": "FileNotFoundError",
     "evalue": "[Errno 2] No such file or directory: 'C:\\\\Users\\\\alexi\\\\WORKSPACE\\\\interview_abwaab\\\\ReviewOutliers\\\\data\\\\processed\\\\test_enriched.parquet'",
     "output_type": "error",
     "traceback": [
      "\u001b[1;31m---------------------------------------------------------------------------\u001b[0m",
      "\u001b[1;31mFileNotFoundError\u001b[0m                         Traceback (most recent call last)",
      "Cell \u001b[1;32mIn[12], line 8\u001b[0m\n\u001b[0;32m      6\u001b[0m \u001b[38;5;66;03m# load data\u001b[39;00m\n\u001b[0;32m      7\u001b[0m file_path_test_enriched \u001b[38;5;241m=\u001b[39m os\u001b[38;5;241m.\u001b[39mpath\u001b[38;5;241m.\u001b[39mjoin(BASE_PATH_DATA, \u001b[38;5;124m'\u001b[39m\u001b[38;5;124mprocessed\u001b[39m\u001b[38;5;124m'\u001b[39m, \u001b[38;5;124mf\u001b[39m\u001b[38;5;124m'\u001b[39m\u001b[38;5;124mtest_enriched.parquet\u001b[39m\u001b[38;5;124m'\u001b[39m)\n\u001b[1;32m----> 8\u001b[0m test_df_enriched \u001b[38;5;241m=\u001b[39m \u001b[43mload_dataframe\u001b[49m\u001b[43m(\u001b[49m\u001b[43mfile_path_test_enriched\u001b[49m\u001b[43m)\u001b[49m\n\u001b[0;32m     10\u001b[0m file_path_train_encoded \u001b[38;5;241m=\u001b[39m os\u001b[38;5;241m.\u001b[39mpath\u001b[38;5;241m.\u001b[39mjoin(BASE_PATH_DATA, \u001b[38;5;124m'\u001b[39m\u001b[38;5;124mprocessed\u001b[39m\u001b[38;5;124m'\u001b[39m, \u001b[38;5;124mf\u001b[39m\u001b[38;5;124m'\u001b[39m\u001b[38;5;124mdf_train_encoded.parquet\u001b[39m\u001b[38;5;124m'\u001b[39m)\n\u001b[0;32m     11\u001b[0m file_path_test_encoded \u001b[38;5;241m=\u001b[39m os\u001b[38;5;241m.\u001b[39mpath\u001b[38;5;241m.\u001b[39mjoin(BASE_PATH_DATA, \u001b[38;5;124m'\u001b[39m\u001b[38;5;124mprocessed\u001b[39m\u001b[38;5;124m'\u001b[39m, \u001b[38;5;124mf\u001b[39m\u001b[38;5;124m'\u001b[39m\u001b[38;5;124mdf_test_encoded.parquet\u001b[39m\u001b[38;5;124m'\u001b[39m)\n",
      "File \u001b[1;32m~\\WORKSPACE\\interview_abwaab\\ReviewOutliers\\src\\utils\\io\\io.py:63\u001b[0m, in \u001b[0;36mload_dataframe\u001b[1;34m(file_path)\u001b[0m\n\u001b[0;32m     61\u001b[0m \u001b[38;5;28;01mtry\u001b[39;00m:\n\u001b[0;32m     62\u001b[0m     \u001b[38;5;28;01mif\u001b[39;00m file_path\u001b[38;5;241m.\u001b[39mendswith(\u001b[38;5;124m\"\u001b[39m\u001b[38;5;124m.parquet\u001b[39m\u001b[38;5;124m\"\u001b[39m):\n\u001b[1;32m---> 63\u001b[0m         \u001b[38;5;28;01mreturn\u001b[39;00m \u001b[43mpd\u001b[49m\u001b[38;5;241;43m.\u001b[39;49m\u001b[43mread_parquet\u001b[49m\u001b[43m(\u001b[49m\u001b[43mfile_path\u001b[49m\u001b[43m)\u001b[49m\n\u001b[0;32m     64\u001b[0m     \u001b[38;5;28;01melif\u001b[39;00m file_path\u001b[38;5;241m.\u001b[39mendswith(\u001b[38;5;124m\"\u001b[39m\u001b[38;5;124m.csv\u001b[39m\u001b[38;5;124m\"\u001b[39m):\n\u001b[0;32m     65\u001b[0m         \u001b[38;5;28;01mreturn\u001b[39;00m pd\u001b[38;5;241m.\u001b[39mread_csv(file_path)\n",
      "File \u001b[1;32mc:\\Users\\alexi\\AppData\\Local\\pypoetry\\Cache\\virtualenvs\\reviewoutliers-SwZO3ms--py3.12\\Lib\\site-packages\\pandas\\io\\parquet.py:667\u001b[0m, in \u001b[0;36mread_parquet\u001b[1;34m(path, engine, columns, storage_options, use_nullable_dtypes, dtype_backend, filesystem, filters, **kwargs)\u001b[0m\n\u001b[0;32m    664\u001b[0m     use_nullable_dtypes \u001b[38;5;241m=\u001b[39m \u001b[38;5;28;01mFalse\u001b[39;00m\n\u001b[0;32m    665\u001b[0m check_dtype_backend(dtype_backend)\n\u001b[1;32m--> 667\u001b[0m \u001b[38;5;28;01mreturn\u001b[39;00m \u001b[43mimpl\u001b[49m\u001b[38;5;241;43m.\u001b[39;49m\u001b[43mread\u001b[49m\u001b[43m(\u001b[49m\n\u001b[0;32m    668\u001b[0m \u001b[43m    \u001b[49m\u001b[43mpath\u001b[49m\u001b[43m,\u001b[49m\n\u001b[0;32m    669\u001b[0m \u001b[43m    \u001b[49m\u001b[43mcolumns\u001b[49m\u001b[38;5;241;43m=\u001b[39;49m\u001b[43mcolumns\u001b[49m\u001b[43m,\u001b[49m\n\u001b[0;32m    670\u001b[0m \u001b[43m    \u001b[49m\u001b[43mfilters\u001b[49m\u001b[38;5;241;43m=\u001b[39;49m\u001b[43mfilters\u001b[49m\u001b[43m,\u001b[49m\n\u001b[0;32m    671\u001b[0m \u001b[43m    \u001b[49m\u001b[43mstorage_options\u001b[49m\u001b[38;5;241;43m=\u001b[39;49m\u001b[43mstorage_options\u001b[49m\u001b[43m,\u001b[49m\n\u001b[0;32m    672\u001b[0m \u001b[43m    \u001b[49m\u001b[43muse_nullable_dtypes\u001b[49m\u001b[38;5;241;43m=\u001b[39;49m\u001b[43muse_nullable_dtypes\u001b[49m\u001b[43m,\u001b[49m\n\u001b[0;32m    673\u001b[0m \u001b[43m    \u001b[49m\u001b[43mdtype_backend\u001b[49m\u001b[38;5;241;43m=\u001b[39;49m\u001b[43mdtype_backend\u001b[49m\u001b[43m,\u001b[49m\n\u001b[0;32m    674\u001b[0m \u001b[43m    \u001b[49m\u001b[43mfilesystem\u001b[49m\u001b[38;5;241;43m=\u001b[39;49m\u001b[43mfilesystem\u001b[49m\u001b[43m,\u001b[49m\n\u001b[0;32m    675\u001b[0m \u001b[43m    \u001b[49m\u001b[38;5;241;43m*\u001b[39;49m\u001b[38;5;241;43m*\u001b[39;49m\u001b[43mkwargs\u001b[49m\u001b[43m,\u001b[49m\n\u001b[0;32m    676\u001b[0m \u001b[43m\u001b[49m\u001b[43m)\u001b[49m\n",
      "File \u001b[1;32mc:\\Users\\alexi\\AppData\\Local\\pypoetry\\Cache\\virtualenvs\\reviewoutliers-SwZO3ms--py3.12\\Lib\\site-packages\\pandas\\io\\parquet.py:267\u001b[0m, in \u001b[0;36mPyArrowImpl.read\u001b[1;34m(self, path, columns, filters, use_nullable_dtypes, dtype_backend, storage_options, filesystem, **kwargs)\u001b[0m\n\u001b[0;32m    264\u001b[0m \u001b[38;5;28;01mif\u001b[39;00m manager \u001b[38;5;241m==\u001b[39m \u001b[38;5;124m\"\u001b[39m\u001b[38;5;124marray\u001b[39m\u001b[38;5;124m\"\u001b[39m:\n\u001b[0;32m    265\u001b[0m     to_pandas_kwargs[\u001b[38;5;124m\"\u001b[39m\u001b[38;5;124msplit_blocks\u001b[39m\u001b[38;5;124m\"\u001b[39m] \u001b[38;5;241m=\u001b[39m \u001b[38;5;28;01mTrue\u001b[39;00m  \u001b[38;5;66;03m# type: ignore[assignment]\u001b[39;00m\n\u001b[1;32m--> 267\u001b[0m path_or_handle, handles, filesystem \u001b[38;5;241m=\u001b[39m \u001b[43m_get_path_or_handle\u001b[49m\u001b[43m(\u001b[49m\n\u001b[0;32m    268\u001b[0m \u001b[43m    \u001b[49m\u001b[43mpath\u001b[49m\u001b[43m,\u001b[49m\n\u001b[0;32m    269\u001b[0m \u001b[43m    \u001b[49m\u001b[43mfilesystem\u001b[49m\u001b[43m,\u001b[49m\n\u001b[0;32m    270\u001b[0m \u001b[43m    \u001b[49m\u001b[43mstorage_options\u001b[49m\u001b[38;5;241;43m=\u001b[39;49m\u001b[43mstorage_options\u001b[49m\u001b[43m,\u001b[49m\n\u001b[0;32m    271\u001b[0m \u001b[43m    \u001b[49m\u001b[43mmode\u001b[49m\u001b[38;5;241;43m=\u001b[39;49m\u001b[38;5;124;43m\"\u001b[39;49m\u001b[38;5;124;43mrb\u001b[39;49m\u001b[38;5;124;43m\"\u001b[39;49m\u001b[43m,\u001b[49m\n\u001b[0;32m    272\u001b[0m \u001b[43m\u001b[49m\u001b[43m)\u001b[49m\n\u001b[0;32m    273\u001b[0m \u001b[38;5;28;01mtry\u001b[39;00m:\n\u001b[0;32m    274\u001b[0m     pa_table \u001b[38;5;241m=\u001b[39m \u001b[38;5;28mself\u001b[39m\u001b[38;5;241m.\u001b[39mapi\u001b[38;5;241m.\u001b[39mparquet\u001b[38;5;241m.\u001b[39mread_table(\n\u001b[0;32m    275\u001b[0m         path_or_handle,\n\u001b[0;32m    276\u001b[0m         columns\u001b[38;5;241m=\u001b[39mcolumns,\n\u001b[1;32m   (...)\u001b[0m\n\u001b[0;32m    279\u001b[0m         \u001b[38;5;241m*\u001b[39m\u001b[38;5;241m*\u001b[39mkwargs,\n\u001b[0;32m    280\u001b[0m     )\n",
      "File \u001b[1;32mc:\\Users\\alexi\\AppData\\Local\\pypoetry\\Cache\\virtualenvs\\reviewoutliers-SwZO3ms--py3.12\\Lib\\site-packages\\pandas\\io\\parquet.py:140\u001b[0m, in \u001b[0;36m_get_path_or_handle\u001b[1;34m(path, fs, storage_options, mode, is_dir)\u001b[0m\n\u001b[0;32m    130\u001b[0m handles \u001b[38;5;241m=\u001b[39m \u001b[38;5;28;01mNone\u001b[39;00m\n\u001b[0;32m    131\u001b[0m \u001b[38;5;28;01mif\u001b[39;00m (\n\u001b[0;32m    132\u001b[0m     \u001b[38;5;129;01mnot\u001b[39;00m fs\n\u001b[0;32m    133\u001b[0m     \u001b[38;5;129;01mand\u001b[39;00m \u001b[38;5;129;01mnot\u001b[39;00m is_dir\n\u001b[1;32m   (...)\u001b[0m\n\u001b[0;32m    138\u001b[0m     \u001b[38;5;66;03m# fsspec resources can also point to directories\u001b[39;00m\n\u001b[0;32m    139\u001b[0m     \u001b[38;5;66;03m# this branch is used for example when reading from non-fsspec URLs\u001b[39;00m\n\u001b[1;32m--> 140\u001b[0m     handles \u001b[38;5;241m=\u001b[39m \u001b[43mget_handle\u001b[49m\u001b[43m(\u001b[49m\n\u001b[0;32m    141\u001b[0m \u001b[43m        \u001b[49m\u001b[43mpath_or_handle\u001b[49m\u001b[43m,\u001b[49m\u001b[43m \u001b[49m\u001b[43mmode\u001b[49m\u001b[43m,\u001b[49m\u001b[43m \u001b[49m\u001b[43mis_text\u001b[49m\u001b[38;5;241;43m=\u001b[39;49m\u001b[38;5;28;43;01mFalse\u001b[39;49;00m\u001b[43m,\u001b[49m\u001b[43m \u001b[49m\u001b[43mstorage_options\u001b[49m\u001b[38;5;241;43m=\u001b[39;49m\u001b[43mstorage_options\u001b[49m\n\u001b[0;32m    142\u001b[0m \u001b[43m    \u001b[49m\u001b[43m)\u001b[49m\n\u001b[0;32m    143\u001b[0m     fs \u001b[38;5;241m=\u001b[39m \u001b[38;5;28;01mNone\u001b[39;00m\n\u001b[0;32m    144\u001b[0m     path_or_handle \u001b[38;5;241m=\u001b[39m handles\u001b[38;5;241m.\u001b[39mhandle\n",
      "File \u001b[1;32mc:\\Users\\alexi\\AppData\\Local\\pypoetry\\Cache\\virtualenvs\\reviewoutliers-SwZO3ms--py3.12\\Lib\\site-packages\\pandas\\io\\common.py:882\u001b[0m, in \u001b[0;36mget_handle\u001b[1;34m(path_or_buf, mode, encoding, compression, memory_map, is_text, errors, storage_options)\u001b[0m\n\u001b[0;32m    873\u001b[0m         handle \u001b[38;5;241m=\u001b[39m \u001b[38;5;28mopen\u001b[39m(\n\u001b[0;32m    874\u001b[0m             handle,\n\u001b[0;32m    875\u001b[0m             ioargs\u001b[38;5;241m.\u001b[39mmode,\n\u001b[1;32m   (...)\u001b[0m\n\u001b[0;32m    878\u001b[0m             newline\u001b[38;5;241m=\u001b[39m\u001b[38;5;124m\"\u001b[39m\u001b[38;5;124m\"\u001b[39m,\n\u001b[0;32m    879\u001b[0m         )\n\u001b[0;32m    880\u001b[0m     \u001b[38;5;28;01melse\u001b[39;00m:\n\u001b[0;32m    881\u001b[0m         \u001b[38;5;66;03m# Binary mode\u001b[39;00m\n\u001b[1;32m--> 882\u001b[0m         handle \u001b[38;5;241m=\u001b[39m \u001b[38;5;28;43mopen\u001b[39;49m\u001b[43m(\u001b[49m\u001b[43mhandle\u001b[49m\u001b[43m,\u001b[49m\u001b[43m \u001b[49m\u001b[43mioargs\u001b[49m\u001b[38;5;241;43m.\u001b[39;49m\u001b[43mmode\u001b[49m\u001b[43m)\u001b[49m\n\u001b[0;32m    883\u001b[0m     handles\u001b[38;5;241m.\u001b[39mappend(handle)\n\u001b[0;32m    885\u001b[0m \u001b[38;5;66;03m# Convert BytesIO or file objects passed with an encoding\u001b[39;00m\n",
      "\u001b[1;31mFileNotFoundError\u001b[0m: [Errno 2] No such file or directory: 'C:\\\\Users\\\\alexi\\\\WORKSPACE\\\\interview_abwaab\\\\ReviewOutliers\\\\data\\\\processed\\\\test_enriched.parquet'"
     ]
    }
   ],
   "source": [
    "import numpy as np\n",
    "from src.utils.io.io import load_dataframe\n",
    "from src.tasks.outliers import outlier_prediction\n",
    "from src.config import BASE_PATH_DATA\n",
    "\n",
    "# load data\n",
    "file_path_test_enriched = os.path.join(BASE_PATH_DATA, 'processed', f'df_test_enriched.parquet')\n",
    "test_df_enriched = load_dataframe(file_path_test_enriched)\n",
    "\n",
    "file_path_train_encoded = os.path.join(BASE_PATH_DATA, 'processed', f'df_train_encoded.parquet')\n",
    "file_path_test_encoded = os.path.join(BASE_PATH_DATA, 'processed', f'df_test_encoded.parquet')\n",
    "train_df_encoded = load_dataframe(file_path_train_encoded)\n",
    "test_df_encoded = load_dataframe(file_path_test_encoded)\n",
    "\n",
    "# train and inference\n",
    "outliers_train, scores_train = outlier_prediction(train_df_encoded, training=True)\n",
    "outliers_test, scores_test = outlier_prediction(test_df_encoded, training=False) \n",
    "\n",
    "# categorize samples\n",
    "train_scores_inliers = scores_train[outliers_train==0]\n",
    "train_scores_outliers = scores_train[outliers_train==1]\n",
    "\n",
    "test_scores_inliers = scores_test[outliers_test==0]\n",
    "test_scores_outliers = scores_test[outliers_test==1]\n",
    "\n",
    "# Calculate average outlier scores for train and test sets\n",
    "average_score_inlier_train = np.mean(train_scores_inliers)\n",
    "average_score_outlier_train = np.mean(train_scores_outliers)\n",
    "\n",
    "average_score_inlier_test = np.mean(test_scores_inliers)\n",
    "average_score_outlier_test = np.mean(test_scores_outliers)\n"
   ]
  },
  {
   "cell_type": "markdown",
   "metadata": {},
   "source": [
    "# Samples"
   ]
  },
  {
   "cell_type": "code",
   "execution_count": null,
   "metadata": {},
   "outputs": [
    {
     "data": {
      "text/plain": [
       "Index(['rating', 'title_review', 'text', 'images_review', 'asin',\n",
       "       'parent_asin', 'user_id', 'timestamp', 'helpful_vote',\n",
       "       'verified_purchase', 'main_category', 'title_metadata',\n",
       "       'average_rating', 'rating_number', 'features', 'description', 'price',\n",
       "       'images_metadata', 'videos', 'store', 'categories', 'details',\n",
       "       'bought_together', 'subtitle', 'author', 'scores'],\n",
       "      dtype='object')"
      ]
     },
     "execution_count": 8,
     "metadata": {},
     "output_type": "execute_result"
    }
   ],
   "source": [
    "test_df_sorted.columns"
   ]
  },
  {
   "cell_type": "code",
   "execution_count": null,
   "metadata": {},
   "outputs": [
    {
     "data": {
      "text/html": [
       "<div>\n",
       "<style scoped>\n",
       "    .dataframe tbody tr th:only-of-type {\n",
       "        vertical-align: middle;\n",
       "    }\n",
       "\n",
       "    .dataframe tbody tr th {\n",
       "        vertical-align: top;\n",
       "    }\n",
       "\n",
       "    .dataframe thead th {\n",
       "        text-align: right;\n",
       "    }\n",
       "</style>\n",
       "<table border=\"1\" class=\"dataframe\">\n",
       "  <thead>\n",
       "    <tr style=\"text-align: right;\">\n",
       "      <th></th>\n",
       "      <th>rating</th>\n",
       "      <th>title_review</th>\n",
       "      <th>text</th>\n",
       "      <th>images_review</th>\n",
       "      <th>timestamp</th>\n",
       "      <th>helpful_vote</th>\n",
       "      <th>verified_purchase</th>\n",
       "      <th>main_category</th>\n",
       "      <th>title_metadata</th>\n",
       "      <th>average_rating</th>\n",
       "      <th>rating_number</th>\n",
       "      <th>features</th>\n",
       "      <th>description</th>\n",
       "      <th>price</th>\n",
       "      <th>images_metadata</th>\n",
       "      <th>videos</th>\n",
       "      <th>store</th>\n",
       "      <th>categories</th>\n",
       "      <th>details</th>\n",
       "      <th>scores</th>\n",
       "    </tr>\n",
       "  </thead>\n",
       "  <tbody>\n",
       "    <tr>\n",
       "      <th>6062</th>\n",
       "      <td>1.0</td>\n",
       "      <td>Don’t buy!!!</td>\n",
       "      <td>I got it went to use this item $25 gift card a...</td>\n",
       "      <td>[]</td>\n",
       "      <td>1591832688712</td>\n",
       "      <td>6</td>\n",
       "      <td>True</td>\n",
       "      <td>Gift Cards</td>\n",
       "      <td>Visa $25 Gift Card (plus $3.95 Purchase Fee)</td>\n",
       "      <td>4.8</td>\n",
       "      <td>22460</td>\n",
       "      <td>[This card is non-reloadable. No expiration of...</td>\n",
       "      <td>[]</td>\n",
       "      <td>28.95</td>\n",
       "      <td>{'hi_res': ['https://m.media-amazon.com/images...</td>\n",
       "      <td>{'title': ['Visa Gift Cards: Digital Code vs P...</td>\n",
       "      <td>Visa</td>\n",
       "      <td>[Gift Cards, Gift Card Categories, Specialty C...</td>\n",
       "      <td>{\"Is Discontinued By Manufacturer\": \"No\", \"Pac...</td>\n",
       "      <td>7.666449</td>\n",
       "    </tr>\n",
       "    <tr>\n",
       "      <th>3433</th>\n",
       "      <td>1.0</td>\n",
       "      <td>Hugely Disappointing Gift</td>\n",
       "      <td>Hugely disappointing gift.&lt;br /&gt;&lt;br /&gt;I'm not ...</td>\n",
       "      <td>[]</td>\n",
       "      <td>1451256080000</td>\n",
       "      <td>0</td>\n",
       "      <td>False</td>\n",
       "      <td>Gift Cards</td>\n",
       "      <td>Staples Holiday Gift Card $25</td>\n",
       "      <td>3.4</td>\n",
       "      <td>4</td>\n",
       "      <td>[Staples Gift Cards - Giving the perfect gift ...</td>\n",
       "      <td>[Giving the perfect gift has never been easier...</td>\n",
       "      <td>None</td>\n",
       "      <td>{'hi_res': [None], 'large': ['https://m.media-...</td>\n",
       "      <td>{'title': [], 'url': [], 'user_id': []}</td>\n",
       "      <td>STAPLES</td>\n",
       "      <td>[Gift Cards, Holiday Gift Cards]</td>\n",
       "      <td>{\"Package Dimensions\": \"4 x 3 x 0.06 inches; 0...</td>\n",
       "      <td>7.666449</td>\n",
       "    </tr>\n",
       "    <tr>\n",
       "      <th>7537</th>\n",
       "      <td>1.0</td>\n",
       "      <td>Disapointing</td>\n",
       "      <td>I ordered 2 $50 gift cards. The order status s...</td>\n",
       "      <td>[]</td>\n",
       "      <td>1390376009000</td>\n",
       "      <td>1</td>\n",
       "      <td>True</td>\n",
       "      <td>Gift Cards</td>\n",
       "      <td>Amazon.com Gift Card in a Santa Tin (Ho! Ho! H...</td>\n",
       "      <td>4.9</td>\n",
       "      <td>6998</td>\n",
       "      <td>[Gift Card is nested inside a specialty gift b...</td>\n",
       "      <td>[Amazon.com Gift Cards are the perfect way to ...</td>\n",
       "      <td>None</td>\n",
       "      <td>{'hi_res': ['https://m.media-amazon.com/images...</td>\n",
       "      <td>{'title': [], 'url': [], 'user_id': []}</td>\n",
       "      <td>Amazon</td>\n",
       "      <td>[Gift Cards, Gift Card Recipients, For Him]</td>\n",
       "      <td>{\"Package Dimensions\": \"5 x 4 x 1.2 inches; 1....</td>\n",
       "      <td>7.666449</td>\n",
       "    </tr>\n",
       "    <tr>\n",
       "      <th>13194</th>\n",
       "      <td>1.0</td>\n",
       "      <td>Beware of buying Amazon Gift Cards as Gifts!</td>\n",
       "      <td>I am so upset with Amazon..ordered a gift card...</td>\n",
       "      <td>[]</td>\n",
       "      <td>1578794632913</td>\n",
       "      <td>0</td>\n",
       "      <td>True</td>\n",
       "      <td>Gift Cards</td>\n",
       "      <td>Amazon.com Gift Card in a Holiday Pop-Up Box</td>\n",
       "      <td>4.9</td>\n",
       "      <td>73333</td>\n",
       "      <td>[Gift Card is affixed inside a gift box, Gift ...</td>\n",
       "      <td>[Amazon.com Gift Cards are the perfect way to ...</td>\n",
       "      <td>50.0</td>\n",
       "      <td>{'hi_res': ['https://m.media-amazon.com/images...</td>\n",
       "      <td>{'title': ['Boxed Gift Card! Awesome last Minu...</td>\n",
       "      <td>Amazon</td>\n",
       "      <td>[Gift Cards, Occasions, Christmas]</td>\n",
       "      <td>{\"Package Dimensions\": \"4.65 x 4.17 x 1.42 inc...</td>\n",
       "      <td>7.666449</td>\n",
       "    </tr>\n",
       "    <tr>\n",
       "      <th>20013</th>\n",
       "      <td>5.0</td>\n",
       "      <td>can always count on amazon for a last minute g...</td>\n",
       "      <td>Thanks Amazon, your stuff is always the best, ...</td>\n",
       "      <td>[]</td>\n",
       "      <td>1357103551000</td>\n",
       "      <td>16</td>\n",
       "      <td>True</td>\n",
       "      <td>Gift Cards</td>\n",
       "      <td>Amazon.com Gift Cards</td>\n",
       "      <td>4.7</td>\n",
       "      <td>925</td>\n",
       "      <td>[Amazon.com Gift cards never expire and carry ...</td>\n",
       "      <td>[Amazon.com Gift Cards are the perfect way to ...</td>\n",
       "      <td>None</td>\n",
       "      <td>{'hi_res': [None, 'https://m.media-amazon.com/...</td>\n",
       "      <td>{'title': [], 'url': [], 'user_id': []}</td>\n",
       "      <td>Amazon</td>\n",
       "      <td>[Gift Cards, Gift Cards]</td>\n",
       "      <td>{\"Product Dimensions\": \"7.63 x 5.25 x 0.1 inch...</td>\n",
       "      <td>7.666449</td>\n",
       "    </tr>\n",
       "  </tbody>\n",
       "</table>\n",
       "</div>"
      ],
      "text/plain": [
       "       rating                                       title_review  \\\n",
       "6062      1.0                                       Don’t buy!!!   \n",
       "3433      1.0                          Hugely Disappointing Gift   \n",
       "7537      1.0                                       Disapointing   \n",
       "13194     1.0       Beware of buying Amazon Gift Cards as Gifts!   \n",
       "20013     5.0  can always count on amazon for a last minute g...   \n",
       "\n",
       "                                                    text images_review  \\\n",
       "6062   I got it went to use this item $25 gift card a...            []   \n",
       "3433   Hugely disappointing gift.<br /><br />I'm not ...            []   \n",
       "7537   I ordered 2 $50 gift cards. The order status s...            []   \n",
       "13194  I am so upset with Amazon..ordered a gift card...            []   \n",
       "20013  Thanks Amazon, your stuff is always the best, ...            []   \n",
       "\n",
       "           timestamp  helpful_vote  verified_purchase main_category  \\\n",
       "6062   1591832688712             6               True    Gift Cards   \n",
       "3433   1451256080000             0              False    Gift Cards   \n",
       "7537   1390376009000             1               True    Gift Cards   \n",
       "13194  1578794632913             0               True    Gift Cards   \n",
       "20013  1357103551000            16               True    Gift Cards   \n",
       "\n",
       "                                          title_metadata  average_rating  \\\n",
       "6062        Visa $25 Gift Card (plus $3.95 Purchase Fee)             4.8   \n",
       "3433                       Staples Holiday Gift Card $25             3.4   \n",
       "7537   Amazon.com Gift Card in a Santa Tin (Ho! Ho! H...             4.9   \n",
       "13194       Amazon.com Gift Card in a Holiday Pop-Up Box             4.9   \n",
       "20013                              Amazon.com Gift Cards             4.7   \n",
       "\n",
       "       rating_number                                           features  \\\n",
       "6062           22460  [This card is non-reloadable. No expiration of...   \n",
       "3433               4  [Staples Gift Cards - Giving the perfect gift ...   \n",
       "7537            6998  [Gift Card is nested inside a specialty gift b...   \n",
       "13194          73333  [Gift Card is affixed inside a gift box, Gift ...   \n",
       "20013            925  [Amazon.com Gift cards never expire and carry ...   \n",
       "\n",
       "                                             description  price  \\\n",
       "6062                                                  []  28.95   \n",
       "3433   [Giving the perfect gift has never been easier...   None   \n",
       "7537   [Amazon.com Gift Cards are the perfect way to ...   None   \n",
       "13194  [Amazon.com Gift Cards are the perfect way to ...   50.0   \n",
       "20013  [Amazon.com Gift Cards are the perfect way to ...   None   \n",
       "\n",
       "                                         images_metadata  \\\n",
       "6062   {'hi_res': ['https://m.media-amazon.com/images...   \n",
       "3433   {'hi_res': [None], 'large': ['https://m.media-...   \n",
       "7537   {'hi_res': ['https://m.media-amazon.com/images...   \n",
       "13194  {'hi_res': ['https://m.media-amazon.com/images...   \n",
       "20013  {'hi_res': [None, 'https://m.media-amazon.com/...   \n",
       "\n",
       "                                                  videos    store  \\\n",
       "6062   {'title': ['Visa Gift Cards: Digital Code vs P...     Visa   \n",
       "3433             {'title': [], 'url': [], 'user_id': []}  STAPLES   \n",
       "7537             {'title': [], 'url': [], 'user_id': []}   Amazon   \n",
       "13194  {'title': ['Boxed Gift Card! Awesome last Minu...   Amazon   \n",
       "20013            {'title': [], 'url': [], 'user_id': []}   Amazon   \n",
       "\n",
       "                                              categories  \\\n",
       "6062   [Gift Cards, Gift Card Categories, Specialty C...   \n",
       "3433                    [Gift Cards, Holiday Gift Cards]   \n",
       "7537         [Gift Cards, Gift Card Recipients, For Him]   \n",
       "13194                 [Gift Cards, Occasions, Christmas]   \n",
       "20013                           [Gift Cards, Gift Cards]   \n",
       "\n",
       "                                                 details    scores  \n",
       "6062   {\"Is Discontinued By Manufacturer\": \"No\", \"Pac...  7.666449  \n",
       "3433   {\"Package Dimensions\": \"4 x 3 x 0.06 inches; 0...  7.666449  \n",
       "7537   {\"Package Dimensions\": \"5 x 4 x 1.2 inches; 1....  7.666449  \n",
       "13194  {\"Package Dimensions\": \"4.65 x 4.17 x 1.42 inc...  7.666449  \n",
       "20013  {\"Product Dimensions\": \"7.63 x 5.25 x 0.1 inch...  7.666449  "
      ]
     },
     "metadata": {},
     "output_type": "display_data"
    }
   ],
   "source": [
    "# add the score to the dataframe and sort it\n",
    "test_df_enriched[\"scores\"] = scores_test\n",
    "test_df_sorted = test_df_enriched.sort_values(by='scores', ascending=False)\n",
    "\n",
    "# show top 10 rows\n",
    "display(test_df_sorted[col_to_look].head(5))"
   ]
  },
  {
   "cell_type": "markdown",
   "metadata": {},
   "source": [
    "# Visualizations"
   ]
  },
  {
   "cell_type": "code",
   "execution_count": null,
   "metadata": {},
   "outputs": [
    {
     "name": "stderr",
     "output_type": "stream",
     "text": [
      "2024-08-05 15:40:54,133 - matplotlib - DEBUG - matplotlib data path: c:\\Users\\alexi\\AppData\\Local\\pypoetry\\Cache\\virtualenvs\\reviewoutliers-SwZO3ms--py3.12\\Lib\\site-packages\\matplotlib\\mpl-data\n",
      "2024-08-05 15:40:54,135 - matplotlib - DEBUG - CONFIGDIR=C:\\Users\\alexi\\.matplotlib\n",
      "2024-08-05 15:40:54,185 - matplotlib - DEBUG - interactive is False\n",
      "2024-08-05 15:40:54,185 - matplotlib - DEBUG - platform is win32\n",
      "2024-08-05 15:40:54,252 - matplotlib - DEBUG - CACHEDIR=C:\\Users\\alexi\\.matplotlib\n",
      "2024-08-05 15:40:54,518 - matplotlib.pyplot - DEBUG - Loaded backend module://matplotlib_inline.backend_inline version unknown.\n",
      "2024-08-05 15:40:54,536 - matplotlib.pyplot - DEBUG - Loaded backend module://matplotlib_inline.backend_inline version unknown.\n"
     ]
    },
    {
     "data": {
      "image/png": "[encoded data removed]",
      "text/plain": [
       "<Figure size 1000x600 with 1 Axes>"
      ]
     },
     "metadata": {},
     "output_type": "display_data"
    }
   ],
   "source": [
    "import matplotlib.pyplot as plt\n",
    "\n",
    "# Plotting the histogram of outlier scores for train and test sets\n",
    "plt.figure(figsize=(10, 6))\n",
    "plt.hist(scores_train, bins=50, alpha=0.5, color='blue', edgecolor='black', label='Train')\n",
    "plt.hist(scores_test, bins=50, alpha=0.5, color='red', edgecolor='black', label='Test')\n",
    "\n",
    "plt.axvline(average_score_inlier_train, color='b', linestyle='dashed', linewidth=2, label=f'Avg Score inlier Train: {average_score_inlier_train:.2f}')\n",
    "plt.axvline(average_score_inlier_test, color='m', linestyle='dashed', linewidth=2, label=f'Avg Score inlier Test: {average_score_inlier_test:.2f}')\n",
    "\n",
    "plt.axvline(average_score_outlier_train, color='c', linestyle='dashed', linewidth=2, label=f'Avg Score outlier Train: {average_score_outlier_train:.2f}')\n",
    "plt.axvline(average_score_outlier_test, color='r', linestyle='dashed', linewidth=2, label=f'Avg Score outlier Test: {average_score_outlier_test:.2f}')\n",
    "\n",
    "plt.title('Distribution of Outlier Scores')\n",
    "plt.xlabel('Outlier Score')\n",
    "plt.ylabel('Frequency')\n",
    "plt.legend(loc='upper right')\n",
    "plt.grid(True)\n",
    "plt.show()"
   ]
  },
  {
   "cell_type": "code",
   "execution_count": null,
   "metadata": {},
   "outputs": [
    {
     "name": "stderr",
     "output_type": "stream",
     "text": [
      "2024-08-05 15:40:54,892 - src.config - DEBUG - calling distribution_shift_scoring\n",
      "2024-08-05 15:40:54,893 - src.config - DEBUG - calling distribution_shift_scoring\n",
      "2024-08-05 15:40:54,901 - src.config - DEBUG - calling distribution_shift_scoring\n",
      "2024-08-05 15:40:54,901 - src.config - DEBUG - calling distribution_shift_scoring\n"
     ]
    },
    {
     "name": "stdout",
     "output_type": "stream",
     "text": [
      "KS Score - Train: 0.84, Test: 0.88, (higher is more different)\n",
      "PSI Score - Train: 2.98, Test: 3.31, (higher is more different)\n"
     ]
    }
   ],
   "source": [
    "from src.tasks.distribution_shift import distribution_shift_scoring\n",
    "ks_score_train = distribution_shift_scoring(scores_train, train_scores_outliers, method='ks')\n",
    "ks_score_test = distribution_shift_scoring(scores_train, test_scores_outliers, method='ks')\n",
    "\n",
    "psi_score_train = distribution_shift_scoring(scores_train, train_scores_outliers, method='psi')\n",
    "psi_score_test = distribution_shift_scoring(scores_train, test_scores_outliers, method='psi')\n",
    "\n",
    "print(f'KS Score - Train: {ks_score_train:.2f}, Test: {ks_score_test:.2f}, (higher is more different)')\n",
    "print(f'PSI Score - Train: {psi_score_train:.2f}, Test: {psi_score_test:.2f}, (higher is more different)')"
   ]
  }
 ],
 "metadata": {
  "kernelspec": {
   "display_name": "reviewoutliers-SwZO3ms--py3.12",
   "language": "python",
   "name": "python3"
  },
  "language_info": {
   "codemirror_mode": {
    "name": "ipython",
    "version": 3
   },
   "file_extension": ".py",
   "mimetype": "text/x-python",
   "name": "python",
   "nbconvert_exporter": "python",
   "pygments_lexer": "ipython3",
   "version": "3.12.2"
  }
 },
 "nbformat": 4,
 "nbformat_minor": 2
}
