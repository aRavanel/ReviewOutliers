{
 "cells": [
  {
   "cell_type": "markdown",
   "metadata": {},
   "source": [
    "# EDA\n",
    "Automatic EDA using ydata-profiling"
   ]
  },
  {
   "cell_type": "markdown",
   "metadata": {},
   "source": [
    "# User params"
   ]
  },
  {
   "cell_type": "code",
   "execution_count": 1,
   "metadata": {},
   "outputs": [],
   "source": [
    "file_name = \"merged_dataset.parquet\"\n",
    "max_samples = 5_000"
   ]
  },
  {
   "cell_type": "markdown",
   "metadata": {},
   "source": [
    "# Imports"
   ]
  },
  {
   "cell_type": "code",
   "execution_count": 2,
   "metadata": {},
   "outputs": [],
   "source": [
    "import os\n",
    "import pandas as pd\n",
    "from ydata_profiling import ProfileReport\n",
    "from src.utils.io.io import load_dataframe"
   ]
  },
  {
   "cell_type": "code",
   "execution_count": 3,
   "metadata": {},
   "outputs": [
    {
     "name": "stderr",
     "output_type": "stream",
     "text": [
      "2024-08-07 14:14:33,998 - src.config - DEBUG - calling load_dataframe\n",
      "2024-08-07 14:14:34,000 - src.config - INFO - Current working directory: c:\\Users\\alexi\\WORKSPACE\\interview_abwaab\\ReviewOutliers\\notebooks\n"
     ]
    },
    {
     "data": {
      "text/html": [
       "<div>\n",
       "<style scoped>\n",
       "    .dataframe tbody tr th:only-of-type {\n",
       "        vertical-align: middle;\n",
       "    }\n",
       "\n",
       "    .dataframe tbody tr th {\n",
       "        vertical-align: top;\n",
       "    }\n",
       "\n",
       "    .dataframe thead th {\n",
       "        text-align: right;\n",
       "    }\n",
       "</style>\n",
       "<table border=\"1\" class=\"dataframe\">\n",
       "  <thead>\n",
       "    <tr style=\"text-align: right;\">\n",
       "      <th></th>\n",
       "      <th>rating</th>\n",
       "      <th>title_review</th>\n",
       "      <th>text</th>\n",
       "      <th>images_review</th>\n",
       "      <th>asin</th>\n",
       "      <th>parent_asin</th>\n",
       "      <th>user_id</th>\n",
       "      <th>timestamp</th>\n",
       "      <th>helpful_vote</th>\n",
       "      <th>verified_purchase</th>\n",
       "      <th>...</th>\n",
       "      <th>description</th>\n",
       "      <th>price</th>\n",
       "      <th>images_metadata</th>\n",
       "      <th>videos</th>\n",
       "      <th>store</th>\n",
       "      <th>categories</th>\n",
       "      <th>details</th>\n",
       "      <th>bought_together</th>\n",
       "      <th>subtitle</th>\n",
       "      <th>author</th>\n",
       "    </tr>\n",
       "  </thead>\n",
       "  <tbody>\n",
       "    <tr>\n",
       "      <th>0</th>\n",
       "      <td>5.0</td>\n",
       "      <td>Work great</td>\n",
       "      <td>work great. use a new one every month</td>\n",
       "      <td>[]</td>\n",
       "      <td>B01N0TQ0OH</td>\n",
       "      <td>B01N0TQ0OH</td>\n",
       "      <td>AGKHLEW2SOWHNMFQIJGBECAF7INQ</td>\n",
       "      <td>1519317108692</td>\n",
       "      <td>0</td>\n",
       "      <td>True</td>\n",
       "      <td>...</td>\n",
       "      <td>[]</td>\n",
       "      <td>9.99</td>\n",
       "      <td>{'hi_res': ['https://m.media-amazon.com/images...</td>\n",
       "      <td>{'title': ['Mr Coffee Water Filter Instruction...</td>\n",
       "      <td>Geesta</td>\n",
       "      <td>[Small Appliance Parts &amp; Accessories, Coffee &amp;...</td>\n",
       "      <td>{\"Manufacturer\": \"Geesta\", \"Part Number\": \"Gee...</td>\n",
       "      <td>None</td>\n",
       "      <td>None</td>\n",
       "      <td>None</td>\n",
       "    </tr>\n",
       "  </tbody>\n",
       "</table>\n",
       "<p>1 rows × 25 columns</p>\n",
       "</div>"
      ],
      "text/plain": [
       "   rating title_review                                   text images_review  \\\n",
       "0     5.0   Work great  work great. use a new one every month            []   \n",
       "\n",
       "         asin parent_asin                       user_id      timestamp  \\\n",
       "0  B01N0TQ0OH  B01N0TQ0OH  AGKHLEW2SOWHNMFQIJGBECAF7INQ  1519317108692   \n",
       "\n",
       "   helpful_vote  verified_purchase  ... description price  \\\n",
       "0             0               True  ...          []  9.99   \n",
       "\n",
       "                                     images_metadata  \\\n",
       "0  {'hi_res': ['https://m.media-amazon.com/images...   \n",
       "\n",
       "                                              videos   store  \\\n",
       "0  {'title': ['Mr Coffee Water Filter Instruction...  Geesta   \n",
       "\n",
       "                                          categories  \\\n",
       "0  [Small Appliance Parts & Accessories, Coffee &...   \n",
       "\n",
       "                                             details bought_together subtitle  \\\n",
       "0  {\"Manufacturer\": \"Geesta\", \"Part Number\": \"Gee...            None     None   \n",
       "\n",
       "  author  \n",
       "0   None  \n",
       "\n",
       "[1 rows x 25 columns]"
      ]
     },
     "metadata": {},
     "output_type": "display_data"
    }
   ],
   "source": [
    "base_folder = os.path.join('..', 'data', 'raw')\n",
    "output_folder = os.path.join('..', 'data', 'output')\n",
    "\n",
    "# create paths\n",
    "file_path = os.path.join(base_folder, file_name)\n",
    "profiling_path = os.path.join(output_folder, file_name.split('.')[0]+\"_profiling.html\")\n",
    "\n",
    "# read json file into dataframe\n",
    "df = load_dataframe(file_path)\n",
    "print(f\"Dataset shape: {df.shape}\")\n",
    "\n",
    "# display\n",
    "display(df.head(1))\n"
   ]
  },
  {
   "cell_type": "markdown",
   "metadata": {},
   "source": [
    "# Automated analysis : Report"
   ]
  },
  {
   "cell_type": "code",
   "execution_count": 4,
   "metadata": {},
   "outputs": [
    {
     "name": "stderr",
     "output_type": "stream",
     "text": [
      "2024-08-07 14:14:54,686 - urllib3.connectionpool - DEBUG - Starting new HTTPS connection (1): packages.ydata.ai:443\n",
      "2024-08-07 14:14:55,892 - urllib3.connectionpool - DEBUG - https://packages.ydata.ai:443 \"GET /ydata-profiling?version=v4.9.0&python_version=3.12&report_type=regular&dataframe=spark&datatype=tabular&os=Windows&gpu=False HTTP/11\" 200 None\n"
     ]
    },
    {
     "data": {
      "application/vnd.jupyter.widget-view+json": {
       "model_id": "5093579f9b4441eb83e84aa3e2d57272",
       "version_major": 2,
       "version_minor": 0
      },
      "text/plain": [
       "Summarize dataset:   0%|          | 0/5 [00:00<?, ?it/s]"
      ]
     },
     "metadata": {},
     "output_type": "display_data"
    },
    {
     "name": "stderr",
     "output_type": "stream",
     "text": [
      "c:\\Users\\alexi\\AppData\\Local\\pypoetry\\Cache\\virtualenvs\\reviewoutliers-SwZO3ms--py3.12\\Lib\\site-packages\\ydata_profiling\\model\\pandas\\summary_pandas.py:39: FutureWarning: Downcasting object dtype arrays on .fillna, .ffill, .bfill is deprecated and will change in a future version. Call result.infer_objects(copy=False) instead. To opt-in to the future behavior, set `pd.set_option('future.no_silent_downcasting', True)`\n",
      "  series = series.fillna(np.nan)\n",
      "c:\\Users\\alexi\\AppData\\Local\\pypoetry\\Cache\\virtualenvs\\reviewoutliers-SwZO3ms--py3.12\\Lib\\site-packages\\ydata_profiling\\model\\pandas\\summary_pandas.py:39: FutureWarning: Downcasting object dtype arrays on .fillna, .ffill, .bfill is deprecated and will change in a future version. Call result.infer_objects(copy=False) instead. To opt-in to the future behavior, set `pd.set_option('future.no_silent_downcasting', True)`\n",
      "  series = series.fillna(np.nan)\n",
      "c:\\Users\\alexi\\AppData\\Local\\pypoetry\\Cache\\virtualenvs\\reviewoutliers-SwZO3ms--py3.12\\Lib\\site-packages\\ydata_profiling\\model\\pandas\\summary_pandas.py:39: FutureWarning: Downcasting object dtype arrays on .fillna, .ffill, .bfill is deprecated and will change in a future version. Call result.infer_objects(copy=False) instead. To opt-in to the future behavior, set `pd.set_option('future.no_silent_downcasting', True)`\n",
      "  series = series.fillna(np.nan)\n",
      "2024-08-07 14:24:34,738 - matplotlib.pyplot - DEBUG - Loaded backend agg version v2.2.\n"
     ]
    },
    {
     "data": {
      "application/vnd.jupyter.widget-view+json": {
       "model_id": "d5a8f8be41d5461d8eab1159e7ce8740",
       "version_major": 2,
       "version_minor": 0
      },
      "text/plain": [
       "Generate report structure:   0%|          | 0/1 [00:00<?, ?it/s]"
      ]
     },
     "metadata": {},
     "output_type": "display_data"
    },
    {
     "name": "stderr",
     "output_type": "stream",
     "text": [
      "2024-08-07 14:24:49,678 - matplotlib.colorbar - DEBUG - locator: <matplotlib.ticker.AutoLocator object at 0x000001C1D2CD9D90>\n"
     ]
    },
    {
     "data": {
      "application/vnd.jupyter.widget-view+json": {
       "model_id": "3e4672f9ec784387bdee6633138d3ed8",
       "version_major": 2,
       "version_minor": 0
      },
      "text/plain": [
       "Render HTML:   0%|          | 0/1 [00:00<?, ?it/s]"
      ]
     },
     "metadata": {},
     "output_type": "display_data"
    },
    {
     "data": {
      "application/vnd.jupyter.widget-view+json": {
       "model_id": "5375520d872b4c758b31840fed83f6b6",
       "version_major": 2,
       "version_minor": 0
      },
      "text/plain": [
       "Export report to file:   0%|          | 0/1 [00:00<?, ?it/s]"
      ]
     },
     "metadata": {},
     "output_type": "display_data"
    }
   ],
   "source": [
    "# review report\n",
    "df_to_analyze = df.sample(max_samples)\n",
    "df_to_analyze['price'] = pd.to_numeric(df_to_analyze['price'], errors='coerce')\n",
    "df_to_analyze['rating'] = pd.to_numeric(df_to_analyze['rating'], errors='coerce')\n",
    "\n",
    "profile_review = ProfileReport(df_to_analyze, title=\"Profiling Report\", minimal=False)\n",
    "profile_review.to_file(profiling_path)"
   ]
  },
  {
   "cell_type": "markdown",
   "metadata": {},
   "source": [
    "# Interactive Analysis"
   ]
  },
  {
   "cell_type": "code",
   "execution_count": 5,
   "metadata": {},
   "outputs": [],
   "source": [
    "# import qgrid\n",
    "# widget = qgrid.show_grid(df)\n",
    "# widget"
   ]
  },
  {
   "cell_type": "code",
   "execution_count": 6,
   "metadata": {},
   "outputs": [],
   "source": [
    "# from pivottablejs import pivot_ui\n",
    "# pivot_ui(df)\n",
    "\n",
    "# from pandasgui import show\n",
    "# show(df)\n",
    "\n",
    "# import tabloo\n",
    "# tabloo.show(df)\n",
    "\n",
    "# import dtale\n",
    "# dtale.show(df)\n",
    "\n",
    "# from itables import init_notebook_mode\n",
    "# init_notebook_mode(all_interactive=True)\n",
    "# from itables import show\n",
    "# show(df, buttons=[\"copyHtml5\", \"csvHtml5\", \"excelHtml5\"])\n",
    "\n",
    "# import pygwalker as pyg\n",
    "# walker = pyg.walk(df)\n",
    "\n",
    "# ipyaggrid"
   ]
  },
  {
   "cell_type": "markdown",
   "metadata": {},
   "source": [
    "# Manual Analysis"
   ]
  },
  {
   "cell_type": "code",
   "execution_count": 7,
   "metadata": {},
   "outputs": [],
   "source": [
    "from regex import D\n",
    "\n",
    "\n",
    "def plot_counts(col_name: str) -> None:\n",
    "    '''\n",
    "    hist and stats on col that have arrays of str\n",
    "    '''\n",
    "    len_col = 'list_length_'+col_name\n",
    "    \n",
    "    print(f\"Data type: {type(df[col_name].loc[0])}\")\n",
    "    \n",
    "    # check the length of the list\n",
    "    df[len_col] = df[col_name].apply(len)\n",
    "    print(\"Counts : \", df[len_col].value_counts()[:4])\n",
    "\n",
    "    import matplotlib.pyplot as plt\n",
    "    plt.figure(figsize=(3, 2))\n",
    "    plt.hist(df[len_col], bins=range(1, df[len_col].max() + 2), edgecolor='black')\n",
    "    plt.xlabel('Length of List')\n",
    "    plt.ylabel('Frequency')\n",
    "    plt.title('Histogram of List Lengths')\n",
    "    plt.show()\n",
    "\n",
    "    # examples of len 1\n",
    "    try:\n",
    "        print(\"examples of len 1\")\n",
    "        display(df[df[len_col] == 1][col_name].sample(2))\n",
    "    except:\n",
    "        pass\n",
    "\n",
    "    # examples of len superior to 1\n",
    "    try:\n",
    "        list_samples = df[df[len_col] > 1][col_name].sample(1).to_list()\n",
    "        print(\"example of len > 1 : \", list_samples[0])\n",
    "    except:\n",
    "        pass\n",
    "    \n",
    "    "
   ]
  },
  {
   "cell_type": "code",
   "execution_count": 8,
   "metadata": {},
   "outputs": [
    {
     "name": "stdout",
     "output_type": "stream",
     "text": [
      "Data type: <class 'numpy.ndarray'>\n",
      "Counts :  list_length_features\n",
      "5    402551\n",
      "4     80227\n",
      "3     66760\n",
      "6     46694\n",
      "Name: count, dtype: int64\n",
      "examples of len 1\n"
     ]
    },
    {
     "name": "stderr",
     "output_type": "stream",
     "text": [
      "C:\\Users\\alexi\\AppData\\Local\\Temp\\ipykernel_2932\\103120153.py:22: UserWarning: FigureCanvasAgg is non-interactive, and thus cannot be shown\n",
      "  plt.show()\n"
     ]
    },
    {
     "data": {
      "text/plain": [
       "90999                [See details on \"Product Description\"]\n",
       "156791    [IMV708 W10408179 4389177 Whirlpool Kitchenaid...\n",
       "Name: features, dtype: object"
      ]
     },
     "metadata": {},
     "output_type": "display_data"
    },
    {
     "name": "stdout",
     "output_type": "stream",
     "text": [
      "example of len > 1 :  ['Your Best Choice ‘Washer Door Prop’ - the front load washing machine door prop helps keep your washing machine door open. It ensures that your washing machine is dry and ventilated so its gasket won’t get moldy, and can eliminate unpleasant smells. When you use this door stopper holder, your washing machine will stay clean. You no longer need to clean it often or buy expensive cleaners.'\n",
      " 'Must Accessory for Front Load Washer - This front loader washer door prop is made of high-quality soft TPU Material and Powerful suction, Contains 3* suction Metal patch (with adhesive power), has no peculiar smell, will not rust, is compact, flexible and portable and has elasticity, and has zero damage to the washing machine.'\n",
      " 'Strong Adhesion - Fits all Washing Machines,even if the washer door or door frame is non-magnetic.This product is equipped with 3 adhesive magnet pieces,helps you to easily handle any non magnet washing machine door.'\n",
      " 'Easy to Install - 1. If the washer is made of metal: just stick the Washer Door Prop in a suitable position; 2. If the washer is made of plastic or other, our washer door holder also includes a spare 3* metal patch , first paste the paper on the back of the metal tear off and stick it on the corresponding door (Note: the sticking position should be clean and dry), and then stick the Dryer Door props on it.'\n",
      " 'Scope of application - Suitable for various types of machines: washing machines, dryers, dishwashers, laundry room and other household appliances.This is the perfect gift for mom, dad, friends or anyone who wants to prevent the front load washing machine from odors.If you have any questions, please feel free to contact us-100% satisfaction guarantee.']\n"
     ]
    }
   ],
   "source": [
    "plot_counts('features')"
   ]
  },
  {
   "cell_type": "code",
   "execution_count": 9,
   "metadata": {},
   "outputs": [
    {
     "name": "stdout",
     "output_type": "stream",
     "text": [
      "Data type: <class 'numpy.ndarray'>\n",
      "Counts :  list_length_description\n",
      "0    328697\n",
      "1    196277\n",
      "4    166358\n",
      "2     14959\n",
      "Name: count, dtype: int64\n",
      "examples of len 1\n"
     ]
    },
    {
     "name": "stderr",
     "output_type": "stream",
     "text": [
      "C:\\Users\\alexi\\AppData\\Local\\Temp\\ipykernel_2932\\103120153.py:22: UserWarning: FigureCanvasAgg is non-interactive, and thus cannot be shown\n",
      "  plt.show()\n"
     ]
    },
    {
     "data": {
      "text/plain": [
       "364935    [This is a genuine replacement part. The model...\n",
       "333994    [HOLMES, JARDEN Cool Mist HWF62 Replacement Fi...\n",
       "Name: description, dtype: object"
      ]
     },
     "metadata": {},
     "output_type": "display_data"
    },
    {
     "name": "stdout",
     "output_type": "stream",
     "text": [
      "example of len > 1 :  ['Product Description'\n",
      " 'This is a Genuine Replacement Part, The Model Number and Name for The Following Item: Whirlpool (WHIRA) W10206287 Valve, Burner.'\n",
      " 'From the Manufacturer'\n",
      " 'This is a Genuine Replacement Part,The Model Number and Name for The Following Item:Whirlpool (WHIRA) W10206287 Valve, Burner']\n"
     ]
    }
   ],
   "source": [
    "plot_counts('description')"
   ]
  },
  {
   "cell_type": "code",
   "execution_count": 10,
   "metadata": {},
   "outputs": [
    {
     "data": {
      "text/plain": [
       "{'hi_res': array(['https://m.media-amazon.com/images/I/71zqD75W03L._AC_SL1100_.jpg',\n",
       "        'https://m.media-amazon.com/images/I/71qKIfx8dJS._AC_SL1500_.jpg',\n",
       "        'https://m.media-amazon.com/images/I/81Yfvtag2FL._AC_SL1500_.jpg',\n",
       "        'https://m.media-amazon.com/images/I/61dKJgtTOZL._AC_SL1100_.jpg',\n",
       "        'https://m.media-amazon.com/images/I/71lSoy278RL._AC_SL1500_.jpg',\n",
       "        'https://m.media-amazon.com/images/I/810wbaIjauL._AC_SL1500_.jpg',\n",
       "        'https://m.media-amazon.com/images/I/61CwfTVj9dS._AC_SL1500_.jpg',\n",
       "        'https://m.media-amazon.com/images/I/71AETO3-c9S._AC_SL1500_.jpg'],\n",
       "       dtype=object),\n",
       " 'large': array(['https://m.media-amazon.com/images/I/51qraA+1U-L._AC_.jpg',\n",
       "        'https://m.media-amazon.com/images/I/41LAR3m2Z2S._AC_.jpg',\n",
       "        'https://m.media-amazon.com/images/I/41y8sd6nqHL._AC_.jpg',\n",
       "        'https://m.media-amazon.com/images/I/417x0xB6wXL._AC_.jpg',\n",
       "        'https://m.media-amazon.com/images/I/41bnJQ1a3lL._AC_.jpg',\n",
       "        'https://m.media-amazon.com/images/I/41zbbojEjSL._AC_.jpg',\n",
       "        'https://m.media-amazon.com/images/I/41bysV4WUwS._AC_.jpg',\n",
       "        'https://m.media-amazon.com/images/I/31-s7P+qq4S._AC_.jpg'],\n",
       "       dtype=object),\n",
       " 'thumb': array(['https://m.media-amazon.com/images/I/51qraA+1U-L._AC_US75_.jpg',\n",
       "        'https://m.media-amazon.com/images/I/41LAR3m2Z2S._AC_US75_.jpg',\n",
       "        'https://m.media-amazon.com/images/I/41y8sd6nqHL._AC_US75_.jpg',\n",
       "        'https://m.media-amazon.com/images/I/417x0xB6wXL._AC_US75_.jpg',\n",
       "        'https://m.media-amazon.com/images/I/41bnJQ1a3lL._AC_US75_.jpg',\n",
       "        'https://m.media-amazon.com/images/I/41zbbojEjSL._AC_US75_.jpg',\n",
       "        'https://m.media-amazon.com/images/I/41bysV4WUwS._AC_US75_.jpg',\n",
       "        'https://m.media-amazon.com/images/I/31-s7P+qq4S._AC_US75_.jpg'],\n",
       "       dtype=object),\n",
       " 'variant': array(['MAIN', 'PT01', 'PT02', 'PT03', 'PT04', 'PT05', 'PT06', 'PT07'],\n",
       "       dtype=object)}"
      ]
     },
     "metadata": {},
     "output_type": "display_data"
    }
   ],
   "source": [
    "display(df['images_metadata'].iloc[0])"
   ]
  },
  {
   "cell_type": "code",
   "execution_count": 11,
   "metadata": {},
   "outputs": [
    {
     "name": "stdout",
     "output_type": "stream",
     "text": [
      "Data type: <class 'numpy.ndarray'>\n",
      "Counts :  list_length_categories\n",
      "4    576889\n",
      "2     97441\n",
      "3     95727\n",
      "5      1784\n",
      "Name: count, dtype: int64\n",
      "examples of len 1\n"
     ]
    },
    {
     "name": "stderr",
     "output_type": "stream",
     "text": [
      "C:\\Users\\alexi\\AppData\\Local\\Temp\\ipykernel_2932\\103120153.py:22: UserWarning: FigureCanvasAgg is non-interactive, and thus cannot be shown\n",
      "  plt.show()\n"
     ]
    },
    {
     "name": "stdout",
     "output_type": "stream",
     "text": [
      "example of len > 1 :  ['Appliances' 'Parts & Accessories' 'Range Parts & Accessories' 'Burners']\n"
     ]
    }
   ],
   "source": [
    "plot_counts('categories')"
   ]
  },
  {
   "cell_type": "code",
   "execution_count": 12,
   "metadata": {},
   "outputs": [
    {
     "name": "stdout",
     "output_type": "stream",
     "text": [
      "Data type: <class 'str'>\n",
      "Counts :  list_length_details\n",
      "2       8926\n",
      "875     7487\n",
      "1361    7020\n",
      "553     6786\n",
      "Name: count, dtype: int64\n"
     ]
    },
    {
     "name": "stderr",
     "output_type": "stream",
     "text": [
      "C:\\Users\\alexi\\AppData\\Local\\Temp\\ipykernel_2932\\103120153.py:22: UserWarning: FigureCanvasAgg is non-interactive, and thus cannot be shown\n",
      "  plt.show()\n"
     ]
    },
    {
     "name": "stdout",
     "output_type": "stream",
     "text": [
      "examples of len 1\n",
      "example of len > 1 :  {\"Material\": \"Carbon,Coconut Shell\", \"Product Dimensions\": \"6\\\"D x 6\\\"W x 10\\\"H\", \"Item Weight\": \"2.74 Pounds\", \"Duration\": \"6 \\tmonths\", \"External Testing Certification\": \"IAPMO, NSF, WQA\", \"Brand\": \"PURELINE\", \"Manufacturer\": \"PURELINE\", \"Part Number\": \"mwf\", \"Item model number\": \"PL-100-S\", \"Is Discontinued By Manufacturer\": \"No\", \"Size\": \"3 Pack\", \"Color\": \"White\", \"Item Package Quantity\": \"1\", \"Special Features\": \"Perfect Compatibility and Easy Installation, Creates Clean and Great Tasting Water, NSF 372 Certified, NSF 42 Certified\", \"Batteries Included?\": \"No\", \"Batteries Required?\": \"No\", \"Warranty Description\": \"Life Time Warranty-100% Money Back Guaranteed. We offer 90 days return and 180 days replace (at no charge) after the date of original purchase for risk-free purchase.\", \"Best Sellers Rank\": {\"Tools & Home Improvement\": 2485, \"In-Refrigerator Water Filters\": 75}, \"Date First Available\": \"August 17, 2016\"}\n"
     ]
    }
   ],
   "source": [
    "plot_counts('details')"
   ]
  },
  {
   "cell_type": "code",
   "execution_count": 13,
   "metadata": {},
   "outputs": [
    {
     "data": {
      "text/plain": [
       "None"
      ]
     },
     "metadata": {},
     "output_type": "display_data"
    }
   ],
   "source": [
    "# plot_counts('bought_together')\n",
    "display(df['bought_together'].iloc[0])"
   ]
  },
  {
   "cell_type": "markdown",
   "metadata": {},
   "source": [
    "# Information from the documentation\n",
    "\n",
    "\n",
    "- Pure IDs (0-Core): Complete dataset\n",
    "- Pure IDs (5-Core): \n",
    "    - Each user must have rated at least 5 different items.\n",
    "    - Each item must have been rated by at least 5 different users."
   ]
  },
  {
   "cell_type": "markdown",
   "metadata": {},
   "source": [
    "# Conclusion\n",
    "\n",
    "## Overall\n",
    "\n",
    "\n",
    "## Metadata\n",
    "\n",
    "- `main_category`(str - categorical): could be considered categorical\n",
    "- `title` (str): text\n",
    "- `average_rating` (float): numerical\n",
    "- `rating_number` (int): numerical\n",
    "- `store` (str): names of shops could be considered categorical data\n",
    "- `parent_asin`(str - ID): unique string identifier\n",
    "- `features`(list of str): could be concatenated\n",
    "- `categories`: (list of str): product category path. could be spread on several columns or concatenated\n",
    "- `description` (list of str): mostly empty\n",
    "- `details` (dict str - str): various product details\n",
    "- `price` (float): subscription boxes had empty prices. rest are ok\n",
    "\n",
    "To drop:\n",
    "- `images` (list of str): too complex\n",
    "- `videos` (list of str): too complex\n",
    "- `bought_together` (boolean): mostly empty\n",
    "- other that are category specific : `author`, `subtitle`, ...\n",
    "\n",
    "\n",
    "Notes : \n",
    "- no duplicate rows\n",
    "\n",
    "## Review\n",
    "\n",
    "- `rating`: numerical\n",
    "- `title`: text\n",
    "- `text`: text\n",
    "- `asin`: unique string identifier\n",
    "- `parent_asin`: unique string identifier\n",
    "- `user_id`: unique string identifier\n",
    "- `timestamp`: numerical\n",
    "- `helpful_vote`: numerical\n",
    "- `verified_purchase`: boolean\n",
    "\n",
    "To drop:\n",
    "- `images`: list of image URLs. -> dropped\n",
    "\n",
    "Notes : \n",
    "- there are duplicate rows / aka reviews. -> Drop duplicates\n"
   ]
  }
 ],
 "metadata": {
  "kernelspec": {
   "display_name": "reviewoutliers-SwZO3ms--py3.12",
   "language": "python",
   "name": "python3"
  },
  "language_info": {
   "codemirror_mode": {
    "name": "ipython",
    "version": 3
   },
   "file_extension": ".py",
   "mimetype": "text/x-python",
   "name": "python",
   "nbconvert_exporter": "python",
   "pygments_lexer": "ipython3",
   "version": "3.12.2"
  }
 },
 "nbformat": 4,
 "nbformat_minor": 2
}
