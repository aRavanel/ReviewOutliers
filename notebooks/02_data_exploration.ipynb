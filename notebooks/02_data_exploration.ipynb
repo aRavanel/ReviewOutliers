{
 "cells": [
  {
   "cell_type": "markdown",
   "metadata": {},
   "source": [
    "# EDA\n",
    "Automatic EDA using ydata-profiling"
   ]
  },
  {
   "cell_type": "markdown",
   "metadata": {},
   "source": [
    "# User params"
   ]
  },
  {
   "cell_type": "code",
   "execution_count": 1,
   "metadata": {},
   "outputs": [],
   "source": [
    "file_name = \"merged_dataset.parquet\"\n",
    "max_samples = 10_000"
   ]
  },
  {
   "cell_type": "markdown",
   "metadata": {},
   "source": [
    "# Imports"
   ]
  },
  {
   "cell_type": "code",
   "execution_count": 2,
   "metadata": {},
   "outputs": [],
   "source": [
    "import os\n",
    "import pandas as pd\n",
    "from ydata_profiling import ProfileReport\n",
    "from src.utils.io.io import load_dataframe"
   ]
  },
  {
   "cell_type": "code",
   "execution_count": 3,
   "metadata": {},
   "outputs": [
    {
     "name": "stderr",
     "output_type": "stream",
     "text": [
      "2024-08-05 09:45:47,844 - src.config - DEBUG - calling load_dataframe\n",
      "2024-08-05 09:45:47,846 - src.config - INFO - Current working directory: c:\\Users\\alexi\\WORKSPACE\\interview_abwaab\\ReviewOutliers\\notebooks\n"
     ]
    },
    {
     "data": {
      "text/html": [
       "<div>\n",
       "<style scoped>\n",
       "    .dataframe tbody tr th:only-of-type {\n",
       "        vertical-align: middle;\n",
       "    }\n",
       "\n",
       "    .dataframe tbody tr th {\n",
       "        vertical-align: top;\n",
       "    }\n",
       "\n",
       "    .dataframe thead th {\n",
       "        text-align: right;\n",
       "    }\n",
       "</style>\n",
       "<table border=\"1\" class=\"dataframe\">\n",
       "  <thead>\n",
       "    <tr style=\"text-align: right;\">\n",
       "      <th></th>\n",
       "      <th>rating</th>\n",
       "      <th>title_review</th>\n",
       "      <th>text</th>\n",
       "      <th>images_review</th>\n",
       "      <th>asin</th>\n",
       "      <th>parent_asin</th>\n",
       "      <th>user_id</th>\n",
       "      <th>timestamp</th>\n",
       "      <th>helpful_vote</th>\n",
       "      <th>verified_purchase</th>\n",
       "      <th>...</th>\n",
       "      <th>description</th>\n",
       "      <th>price</th>\n",
       "      <th>images_metadata</th>\n",
       "      <th>videos</th>\n",
       "      <th>store</th>\n",
       "      <th>categories</th>\n",
       "      <th>details</th>\n",
       "      <th>bought_together</th>\n",
       "      <th>subtitle</th>\n",
       "      <th>author</th>\n",
       "    </tr>\n",
       "  </thead>\n",
       "  <tbody>\n",
       "    <tr>\n",
       "      <th>0</th>\n",
       "      <td>5.0</td>\n",
       "      <td>Great gift</td>\n",
       "      <td>Having Amazon money is always good.</td>\n",
       "      <td>[]</td>\n",
       "      <td>B00IX1I3G6</td>\n",
       "      <td>B00IX1I3G6</td>\n",
       "      <td>AHZ6XMOLEWA67S3TX7IWEXXGWSOA</td>\n",
       "      <td>1549866158332</td>\n",
       "      <td>0</td>\n",
       "      <td>True</td>\n",
       "      <td>...</td>\n",
       "      <td>[]</td>\n",
       "      <td>None</td>\n",
       "      <td>{'hi_res': [None, None], 'large': ['https://m....</td>\n",
       "      <td>{'title': ['Very easy to do!!'], 'url': ['http...</td>\n",
       "      <td>Amazon</td>\n",
       "      <td>[Gift Cards, Gift Card Recipients, For Him]</td>\n",
       "      <td>{\"Item model number\": \"VariableDenomination\", ...</td>\n",
       "      <td>None</td>\n",
       "      <td>None</td>\n",
       "      <td>None</td>\n",
       "    </tr>\n",
       "  </tbody>\n",
       "</table>\n",
       "<p>1 rows × 25 columns</p>\n",
       "</div>"
      ],
      "text/plain": [
       "   rating title_review                                 text images_review  \\\n",
       "0     5.0   Great gift  Having Amazon money is always good.            []   \n",
       "\n",
       "         asin parent_asin                       user_id      timestamp  \\\n",
       "0  B00IX1I3G6  B00IX1I3G6  AHZ6XMOLEWA67S3TX7IWEXXGWSOA  1549866158332   \n",
       "\n",
       "   helpful_vote  verified_purchase  ... description price  \\\n",
       "0             0               True  ...          []  None   \n",
       "\n",
       "                                     images_metadata  \\\n",
       "0  {'hi_res': [None, None], 'large': ['https://m....   \n",
       "\n",
       "                                              videos   store  \\\n",
       "0  {'title': ['Very easy to do!!'], 'url': ['http...  Amazon   \n",
       "\n",
       "                                    categories  \\\n",
       "0  [Gift Cards, Gift Card Recipients, For Him]   \n",
       "\n",
       "                                             details bought_together subtitle  \\\n",
       "0  {\"Item model number\": \"VariableDenomination\", ...            None     None   \n",
       "\n",
       "  author  \n",
       "0   None  \n",
       "\n",
       "[1 rows x 25 columns]"
      ]
     },
     "metadata": {},
     "output_type": "display_data"
    }
   ],
   "source": [
    "base_folder = os.path.join('..', 'data', 'raw')\n",
    "output_folder = os.path.join('..', 'data', 'output')\n",
    "\n",
    "# create paths\n",
    "file_path = os.path.join(base_folder, file_name)\n",
    "profiling_path = os.path.join(output_folder, file_name.split('.')[0]+\"_profiling.html\")\n",
    "\n",
    "# read json file into dataframe\n",
    "df = load_dataframe(file_path)\n",
    "\n",
    "# display\n",
    "display(df.head(1))\n"
   ]
  },
  {
   "cell_type": "markdown",
   "metadata": {},
   "source": [
    "# Automated analysis : Report"
   ]
  },
  {
   "cell_type": "code",
   "execution_count": 4,
   "metadata": {},
   "outputs": [
    {
     "name": "stderr",
     "output_type": "stream",
     "text": [
      "2024-08-05 09:08:06,436 - urllib3.connectionpool - DEBUG - Starting new HTTPS connection (1): packages.ydata.ai:443\n",
      "2024-08-05 09:08:07,307 - urllib3.connectionpool - DEBUG - https://packages.ydata.ai:443 \"GET /ydata-profiling?version=v4.9.0&python_version=3.12&report_type=regular&dataframe=spark&datatype=tabular&os=Windows&gpu=False HTTP/11\" 200 None\n",
      "c:\\Users\\alexi\\AppData\\Local\\pypoetry\\Cache\\virtualenvs\\reviewoutliers-SwZO3ms--py3.12\\Lib\\site-packages\\ydata_profiling\\utils\\dataframe.py:137: SettingWithCopyWarning: \n",
      "A value is trying to be set on a copy of a slice from a DataFrame\n",
      "\n",
      "See the caveats in the documentation: https://pandas.pydata.org/pandas-docs/stable/user_guide/indexing.html#returning-a-view-versus-a-copy\n",
      "  df.rename(columns={\"index\": \"df_index\"}, inplace=True)\n"
     ]
    },
    {
     "data": {
      "application/vnd.jupyter.widget-view+json": {
       "model_id": "d100765f0da94144ab2aa881cb36e47e",
       "version_major": 2,
       "version_minor": 0
      },
      "text/plain": [
       "Summarize dataset:   0%|          | 0/5 [00:00<?, ?it/s]"
      ]
     },
     "metadata": {},
     "output_type": "display_data"
    },
    {
     "name": "stderr",
     "output_type": "stream",
     "text": [
      "c:\\Users\\alexi\\AppData\\Local\\pypoetry\\Cache\\virtualenvs\\reviewoutliers-SwZO3ms--py3.12\\Lib\\site-packages\\ydata_profiling\\model\\pandas\\summary_pandas.py:39: FutureWarning: Downcasting object dtype arrays on .fillna, .ffill, .bfill is deprecated and will change in a future version. Call result.infer_objects(copy=False) instead. To opt-in to the future behavior, set `pd.set_option('future.no_silent_downcasting', True)`\n",
      "  series = series.fillna(np.nan)\n",
      "c:\\Users\\alexi\\AppData\\Local\\pypoetry\\Cache\\virtualenvs\\reviewoutliers-SwZO3ms--py3.12\\Lib\\site-packages\\ydata_profiling\\model\\pandas\\summary_pandas.py:39: FutureWarning: Downcasting object dtype arrays on .fillna, .ffill, .bfill is deprecated and will change in a future version. Call result.infer_objects(copy=False) instead. To opt-in to the future behavior, set `pd.set_option('future.no_silent_downcasting', True)`\n",
      "  series = series.fillna(np.nan)\n",
      "c:\\Users\\alexi\\AppData\\Local\\pypoetry\\Cache\\virtualenvs\\reviewoutliers-SwZO3ms--py3.12\\Lib\\site-packages\\ydata_profiling\\model\\pandas\\summary_pandas.py:39: FutureWarning: Downcasting object dtype arrays on .fillna, .ffill, .bfill is deprecated and will change in a future version. Call result.infer_objects(copy=False) instead. To opt-in to the future behavior, set `pd.set_option('future.no_silent_downcasting', True)`\n",
      "  series = series.fillna(np.nan)\n",
      "2024-08-05 09:31:30,484 - matplotlib.pyplot - DEBUG - Loaded backend agg version v2.2.\n",
      "2024-08-05 09:31:33,249 - matplotlib.colorbar - DEBUG - locator: <matplotlib.ticker.AutoLocator object at 0x000002845EEF2750>\n"
     ]
    },
    {
     "data": {
      "application/vnd.jupyter.widget-view+json": {
       "model_id": "854320b88593458cbe3b3718ac9b2d2e",
       "version_major": 2,
       "version_minor": 0
      },
      "text/plain": [
       "Generate report structure:   0%|          | 0/1 [00:00<?, ?it/s]"
      ]
     },
     "metadata": {},
     "output_type": "display_data"
    },
    {
     "name": "stderr",
     "output_type": "stream",
     "text": [
      "2024-08-05 09:31:42,474 - matplotlib.colorbar - DEBUG - locator: <matplotlib.ticker.AutoLocator object at 0x000002845D7772F0>\n"
     ]
    },
    {
     "data": {
      "application/vnd.jupyter.widget-view+json": {
       "model_id": "274e9b5e08574589b6569b88b5f039ed",
       "version_major": 2,
       "version_minor": 0
      },
      "text/plain": [
       "Render HTML:   0%|          | 0/1 [00:00<?, ?it/s]"
      ]
     },
     "metadata": {},
     "output_type": "display_data"
    },
    {
     "data": {
      "application/vnd.jupyter.widget-view+json": {
       "model_id": "7465b77adea74026b2109aaf27e0c88b",
       "version_major": 2,
       "version_minor": 0
      },
      "text/plain": [
       "Export report to file:   0%|          | 0/1 [00:00<?, ?it/s]"
      ]
     },
     "metadata": {},
     "output_type": "display_data"
    }
   ],
   "source": [
    "# review report\n",
    "profile_review = ProfileReport(df.head(max_samples), title=\"Profiling Report\")\n",
    "profile_review.to_file(profiling_path)"
   ]
  },
  {
   "cell_type": "markdown",
   "metadata": {},
   "source": [
    "# Interactive Analysis"
   ]
  },
  {
   "cell_type": "code",
   "execution_count": null,
   "metadata": {},
   "outputs": [],
   "source": [
    "# import pygwalker as pyg\n",
    "# walker = pyg.walk(df)"
   ]
  },
  {
   "cell_type": "markdown",
   "metadata": {},
   "source": [
    "# Manual Analysis"
   ]
  },
  {
   "cell_type": "code",
   "execution_count": 64,
   "metadata": {},
   "outputs": [],
   "source": [
    "from regex import D\n",
    "\n",
    "\n",
    "def plot_counts(col_name: str) -> None:\n",
    "    '''\n",
    "    hist and stats on col that have arrays of str\n",
    "    '''\n",
    "    len_col = 'list_length_'+col_name\n",
    "    \n",
    "    print(f\"Data type: {type(df[col_name].loc[0])}\")\n",
    "    \n",
    "    # check the length of the list\n",
    "    df[len_col] = df[col_name].apply(len)\n",
    "    print(\"Counts : \", df[len_col].value_counts()[:4])\n",
    "\n",
    "    import matplotlib.pyplot as plt\n",
    "    plt.figure(figsize=(3, 2))\n",
    "    plt.hist(df[len_col], bins=range(1, df[len_col].max() + 2), edgecolor='black')\n",
    "    plt.xlabel('Length of List')\n",
    "    plt.ylabel('Frequency')\n",
    "    plt.title('Histogram of List Lengths')\n",
    "    plt.show()\n",
    "\n",
    "    # examples of len 1\n",
    "    try:\n",
    "        print(\"examples of len 1\")\n",
    "        display(df[df[len_col] == 1][col_name].sample(2))\n",
    "    except:\n",
    "        pass\n",
    "\n",
    "    # examples of len superior to 1\n",
    "    try:\n",
    "        list_samples = df[df[len_col] > 1][col_name].sample(1).to_list()\n",
    "        print(\"example of len > 1 : \", list_samples[0])\n",
    "    except:\n",
    "        pass\n",
    "    \n",
    "    "
   ]
  },
  {
   "cell_type": "code",
   "execution_count": 65,
   "metadata": {},
   "outputs": [
    {
     "name": "stdout",
     "output_type": "stream",
     "text": [
      "Data type: <class 'numpy.ndarray'>\n",
      "Counts :  list_length_features\n",
      "6    44590\n",
      "8    42663\n",
      "7    21415\n",
      "4    14176\n",
      "Name: count, dtype: int64\n"
     ]
    },
    {
     "data": {
      "image/png": "[encoded data removed]",
      "text/plain": [
       "<Figure size 300x200 with 1 Axes>"
      ]
     },
     "metadata": {},
     "output_type": "display_data"
    },
    {
     "name": "stdout",
     "output_type": "stream",
     "text": [
      "examples of len 1\n"
     ]
    },
    {
     "data": {
      "text/plain": [
       "79885    [All gift card orders for this merchant will b...\n",
       "78635    [Product cannot be shipped to freight forwardi...\n",
       "Name: features, dtype: object"
      ]
     },
     "metadata": {},
     "output_type": "display_data"
    },
    {
     "name": "stdout",
     "output_type": "stream",
     "text": [
      "example of len > 1 :  ['Gift Card is affixed inside a specialty box'\n",
      " 'Gift Card has no fees and no expiration date'\n",
      " 'No returns and no refunds on Gift Cards'\n",
      " 'Gift Card is redeemable towards millions of items storewide at Amazon.com'\n",
      " 'Scan and redeem any Gift Card with a mobile or tablet device via the Amazon App'\n",
      " 'Free One-Day Shipping (where available)'\n",
      " 'Customized gift message, if chosen at check-out, only appears on packing slip and not on the actual gift card or carrier']\n"
     ]
    }
   ],
   "source": [
    "plot_counts('features')"
   ]
  },
  {
   "cell_type": "code",
   "execution_count": 66,
   "metadata": {},
   "outputs": [
    {
     "name": "stdout",
     "output_type": "stream",
     "text": [
      "Data type: <class 'numpy.ndarray'>\n",
      "Counts :  list_length_description\n",
      "0     86023\n",
      "1     66104\n",
      "28      230\n",
      "4        41\n",
      "Name: count, dtype: int64\n"
     ]
    },
    {
     "data": {
      "image/png": "[encoded data removed]",
      "text/plain": [
       "<Figure size 300x200 with 1 Axes>"
      ]
     },
     "metadata": {},
     "output_type": "display_data"
    },
    {
     "name": "stdout",
     "output_type": "stream",
     "text": [
      "examples of len 1\n"
     ]
    },
    {
     "data": {
      "text/plain": [
       "126383    [Amazon.com Gift Cards are the perfect way to ...\n",
       "126294    [Amazon.com Gift Cards are the perfect way to ...\n",
       "Name: description, dtype: object"
      ]
     },
     "metadata": {},
     "output_type": "display_data"
    },
    {
     "name": "stdout",
     "output_type": "stream",
     "text": [
      "example of len > 1 :  ['What is a Flex Gift Card?'\n",
      " 'Amazon.com Flex Gift Cards allow you to create an instant gift, whenever you need it. Simply follow the activation instructions below to add the dollar amount of your choice to the enclosed, inactive Gift Cards.'\n",
      " \"Once you receive an email confirming activation, the card is ready for gifting and redemption at Amazon.com. It's a great gift that can be used at a moment's notice for any occasion.\"\n",
      " 'Key Benefits' 'Store it at home for those last-minute gifts'\n",
      " \"Keep Flex Gift Cards in your drawer for when you need a quick gift at a moment's notice. You no longer need to drive to the store or wait for delivery.\"\n",
      " 'Activate and pay when you need it'\n",
      " 'Add funds and activate the Flex Gift Card at your convenience by visiting'\n",
      " 'amazon.com/activate.' 'Choose your own denomination'\n",
      " \"Add any amount to the Flex Gift Card—from $1.00 to $2,000. These Gift Cards are flexible for any occasion, whether it's a wedding gift or even a small thank you.\"\n",
      " 'About Flex Gift Cards' 'Activate anytime' 'Activate anytime'\n",
      " 'No expiration' 'No expiration' 'No hidden fees' 'No hidden fees'\n",
      " 'Prime shipping' 'Prime shipping' 'Activation Instructions' 'Visit'\n",
      " 'amazon.com/activate'\n",
      " \"Visit the activation website on your desktop or mobile device when you're ready to add funds to the Amazon.com Flex Gift Card.\"\n",
      " 'Find the serial number on the Gift Card'\n",
      " 'Enter the 19-digit serial number from the back of the Gift Card into our activation page.'\n",
      " 'Add funds and checkout'\n",
      " 'Enter the amount you want to add — between $1.00 to $2,000 — and check out with your Amazon.com account and credit or debit card.']\n"
     ]
    }
   ],
   "source": [
    "plot_counts('description')"
   ]
  },
  {
   "cell_type": "code",
   "execution_count": 51,
   "metadata": {},
   "outputs": [
    {
     "data": {
      "text/plain": [
       "{'hi_res': array([None, None], dtype=object),\n",
       " 'large': array(['https://m.media-amazon.com/images/I/41rPcyZJ3nL._AC_.jpg',\n",
       "        'https://m.media-amazon.com/images/I/41sQl2wriGL._AC_.jpg'],\n",
       "       dtype=object),\n",
       " 'thumb': array(['https://m.media-amazon.com/images/I/41rPcyZJ3nL._AC_SR38,50_.jpg',\n",
       "        'https://m.media-amazon.com/images/I/41sQl2wriGL._AC_SR38,50_.jpg'],\n",
       "       dtype=object),\n",
       " 'variant': array(['MAIN', 'PT01'], dtype=object)}"
      ]
     },
     "metadata": {},
     "output_type": "display_data"
    }
   ],
   "source": [
    "display(df['images_metadata'].iloc[0])"
   ]
  },
  {
   "cell_type": "code",
   "execution_count": 67,
   "metadata": {},
   "outputs": [
    {
     "name": "stdout",
     "output_type": "stream",
     "text": [
      "Data type: <class 'numpy.ndarray'>\n",
      "Counts :  list_length_categories\n",
      "3    139776\n",
      "2     11156\n",
      "0      1478\n",
      "Name: count, dtype: int64\n"
     ]
    },
    {
     "data": {
      "image/png": "[encoded data removed]",
      "text/plain": [
       "<Figure size 300x200 with 1 Axes>"
      ]
     },
     "metadata": {},
     "output_type": "display_data"
    },
    {
     "name": "stdout",
     "output_type": "stream",
     "text": [
      "examples of len 1\n",
      "example of len > 1 :  ['Gift Cards' 'Occasions' 'Chanukah']\n"
     ]
    }
   ],
   "source": [
    "plot_counts('categories')"
   ]
  },
  {
   "cell_type": "code",
   "execution_count": 68,
   "metadata": {},
   "outputs": [
    {
     "name": "stdout",
     "output_type": "stream",
     "text": [
      "Data type: <class 'str'>\n",
      "Counts :  list_length_details\n",
      "113    43505\n",
      "180    15012\n",
      "469     7781\n",
      "467     7466\n",
      "Name: count, dtype: int64\n"
     ]
    },
    {
     "data": {
      "image/png": "[encoded data removed]",
      "text/plain": [
       "<Figure size 300x200 with 1 Axes>"
      ]
     },
     "metadata": {},
     "output_type": "display_data"
    },
    {
     "name": "stdout",
     "output_type": "stream",
     "text": [
      "examples of len 1\n",
      "example of len > 1 :  {\"Item model number\": \"VariableDenomination\", \"Date First Available\": \"April 13, 2021\", \"Manufacturer\": \"Amazon\"}\n"
     ]
    }
   ],
   "source": [
    "plot_counts('details')"
   ]
  },
  {
   "cell_type": "code",
   "execution_count": 70,
   "metadata": {},
   "outputs": [
    {
     "data": {
      "text/plain": [
       "None"
      ]
     },
     "metadata": {},
     "output_type": "display_data"
    }
   ],
   "source": [
    "# plot_counts('bought_together')\n",
    "display(df['bought_together'].iloc[0])"
   ]
  },
  {
   "cell_type": "markdown",
   "metadata": {},
   "source": [
    "# Information from the documentation\n",
    "\n",
    "\n",
    "- Pure IDs (0-Core): Complete dataset\n",
    "- Pure IDs (5-Core): \n",
    "    - Each user must have rated at least 5 different items.\n",
    "    - Each item must have been rated by at least 5 different users."
   ]
  },
  {
   "cell_type": "markdown",
   "metadata": {},
   "source": [
    "# Conclusion\n",
    "\n",
    "## Overall\n",
    "\n",
    "\n",
    "## Metadata\n",
    "\n",
    "- `main_category`(str - categorical): could be considered categorical\n",
    "- `title` (str): text\n",
    "- `average_rating` (float): numerical\n",
    "- `rating_number` (int): numerical\n",
    "- `store` (str): names of shops could be considered categorical data\n",
    "- `parent_asin`(str - ID): unique string identifier\n",
    "- `features`(list of str): could be concatenated\n",
    "- `categories`: (list of str): product category path. could be spread on several columns or concatenated\n",
    "- `description` (list of str): mostly empty\n",
    "- `details` (dict str - str): various product details\n",
    "- `price` (float): subscription boxes had empty prices. rest are ok\n",
    "\n",
    "To drop:\n",
    "- `images` (list of str): too complex\n",
    "- `videos` (list of str): too complex\n",
    "- `bought_together` (boolean): mostly empty\n",
    "- other that are category specific : `author`, `subtitle`, ...\n",
    "\n",
    "\n",
    "Notes : \n",
    "- no duplicate rows\n",
    "\n",
    "## Review\n",
    "\n",
    "- `rating`: numerical\n",
    "- `title`: text\n",
    "- `text`: text\n",
    "- `asin`: unique string identifier\n",
    "- `parent_asin`: unique string identifier\n",
    "- `user_id`: unique string identifier\n",
    "- `timestamp`: numerical\n",
    "- `helpful_vote`: numerical\n",
    "- `verified_purchase`: boolean\n",
    "\n",
    "To drop:\n",
    "- `images`: list of image URLs. -> dropped\n",
    "\n",
    "Notes : \n",
    "- there are duplicate rows / aka reviews. -> Drop duplicates\n"
   ]
  }
 ],
 "metadata": {
  "kernelspec": {
   "display_name": "reviewoutliers-SwZO3ms--py3.12",
   "language": "python",
   "name": "python3"
  },
  "language_info": {
   "codemirror_mode": {
    "name": "ipython",
    "version": 3
   },
   "file_extension": ".py",
   "mimetype": "text/x-python",
   "name": "python",
   "nbconvert_exporter": "python",
   "pygments_lexer": "ipython3",
   "version": "3.12.2"
  }
 },
 "nbformat": 4,
 "nbformat_minor": 2
}
