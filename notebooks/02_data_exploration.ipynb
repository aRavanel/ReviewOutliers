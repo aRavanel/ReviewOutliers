{
 "cells": [
  {
   "cell_type": "markdown",
   "metadata": {},
   "source": [
    "# EDA\n",
    "Automatic EDA using ydata-profiling"
   ]
  },
  {
   "cell_type": "markdown",
   "metadata": {},
   "source": [
    "# User params"
   ]
  },
  {
   "cell_type": "code",
   "execution_count": 1,
   "metadata": {},
   "outputs": [],
   "source": [
    "file_name = \"merged_dataset.parquet\"\n",
    "max_samples = 5_000"
   ]
  },
  {
   "cell_type": "markdown",
   "metadata": {},
   "source": [
    "# Imports"
   ]
  },
  {
   "cell_type": "code",
   "execution_count": 2,
   "metadata": {},
   "outputs": [],
   "source": [
    "import os\n",
    "import pandas as pd\n",
    "from ydata_profiling import ProfileReport\n",
    "from src.utils.io.io import load_dataframe"
   ]
  },
  {
   "cell_type": "code",
   "execution_count": 3,
   "metadata": {},
   "outputs": [
    {
     "name": "stderr",
     "output_type": "stream",
     "text": [
      "2024-08-07 14:14:33,998 - src.config - DEBUG - calling load_dataframe\n",
      "2024-08-07 14:14:34,000 - src.config - INFO - Current working directory: c:\\Users\\alexi\\WORKSPACE\\interview_abwaab\\ReviewOutliers\\notebooks\n"
     ]
    },
    {
     "data": {
      "text/html": [
       "<div>\n",
       "<style scoped>\n",
       "    .dataframe tbody tr th:only-of-type {\n",
       "        vertical-align: middle;\n",
       "    }\n",
       "\n",
       "    .dataframe tbody tr th {\n",
       "        vertical-align: top;\n",
       "    }\n",
       "\n",
       "    .dataframe thead th {\n",
       "        text-align: right;\n",
       "    }\n",
       "</style>\n",
       "<table border=\"1\" class=\"dataframe\">\n",
       "  <thead>\n",
       "    <tr style=\"text-align: right;\">\n",
       "      <th></th>\n",
       "      <th>rating</th>\n",
       "      <th>title_review</th>\n",
       "      <th>text</th>\n",
       "      <th>images_review</th>\n",
       "      <th>asin</th>\n",
       "      <th>parent_asin</th>\n",
       "      <th>user_id</th>\n",
       "      <th>timestamp</th>\n",
       "      <th>helpful_vote</th>\n",
       "      <th>verified_purchase</th>\n",
       "      <th>...</th>\n",
       "      <th>description</th>\n",
       "      <th>price</th>\n",
       "      <th>images_metadata</th>\n",
       "      <th>videos</th>\n",
       "      <th>store</th>\n",
       "      <th>categories</th>\n",
       "      <th>details</th>\n",
       "      <th>bought_together</th>\n",
       "      <th>subtitle</th>\n",
       "      <th>author</th>\n",
       "    </tr>\n",
       "  </thead>\n",
       "  <tbody>\n",
       "    <tr>\n",
       "      <th>0</th>\n",
       "      <td>5.0</td>\n",
       "      <td>Work great</td>\n",
       "      <td>work great. use a new one every month</td>\n",
       "      <td>[]</td>\n",
       "      <td>B01N0TQ0OH</td>\n",
       "      <td>B01N0TQ0OH</td>\n",
       "      <td>AGKHLEW2SOWHNMFQIJGBECAF7INQ</td>\n",
       "      <td>1519317108692</td>\n",
       "      <td>0</td>\n",
       "      <td>True</td>\n",
       "      <td>...</td>\n",
       "      <td>[]</td>\n",
       "      <td>9.99</td>\n",
       "      <td>{'hi_res': ['https://m.media-amazon.com/images...</td>\n",
       "      <td>{'title': ['Mr Coffee Water Filter Instruction...</td>\n",
       "      <td>Geesta</td>\n",
       "      <td>[Small Appliance Parts &amp; Accessories, Coffee &amp;...</td>\n",
       "      <td>{\"Manufacturer\": \"Geesta\", \"Part Number\": \"Gee...</td>\n",
       "      <td>None</td>\n",
       "      <td>None</td>\n",
       "      <td>None</td>\n",
       "    </tr>\n",
       "  </tbody>\n",
       "</table>\n",
       "<p>1 rows × 25 columns</p>\n",
       "</div>"
      ],
      "text/plain": [
       "   rating title_review                                   text images_review  \\\n",
       "0     5.0   Work great  work great. use a new one every month            []   \n",
       "\n",
       "         asin parent_asin                       user_id      timestamp  \\\n",
       "0  B01N0TQ0OH  B01N0TQ0OH  AGKHLEW2SOWHNMFQIJGBECAF7INQ  1519317108692   \n",
       "\n",
       "   helpful_vote  verified_purchase  ... description price  \\\n",
       "0             0               True  ...          []  9.99   \n",
       "\n",
       "                                     images_metadata  \\\n",
       "0  {'hi_res': ['https://m.media-amazon.com/images...   \n",
       "\n",
       "                                              videos   store  \\\n",
       "0  {'title': ['Mr Coffee Water Filter Instruction...  Geesta   \n",
       "\n",
       "                                          categories  \\\n",
       "0  [Small Appliance Parts & Accessories, Coffee &...   \n",
       "\n",
       "                                             details bought_together subtitle  \\\n",
       "0  {\"Manufacturer\": \"Geesta\", \"Part Number\": \"Gee...            None     None   \n",
       "\n",
       "  author  \n",
       "0   None  \n",
       "\n",
       "[1 rows x 25 columns]"
      ]
     },
     "metadata": {},
     "output_type": "display_data"
    }
   ],
   "source": [
    "base_folder = os.path.join('..', 'data', 'raw')\n",
    "output_folder = os.path.join('..', 'data', 'output')\n",
    "\n",
    "# create paths\n",
    "file_path = os.path.join(base_folder, file_name)\n",
    "profiling_path = os.path.join(output_folder, file_name.split('.')[0]+\"_profiling.html\")\n",
    "\n",
    "# read json file into dataframe\n",
    "df = load_dataframe(file_path)\n",
    "print(f\"Dataset shape: {df.shape}\")\n",
    "\n",
    "# display\n",
    "display(df.head(1))\n"
   ]
  },
  {
   "cell_type": "markdown",
   "metadata": {},
   "source": [
    "# Automated analysis : Report"
   ]
  },
  {
   "cell_type": "code",
   "execution_count": 14,
   "metadata": {},
   "outputs": [
    {
     "name": "stderr",
     "output_type": "stream",
     "text": [
      "2024-08-07 14:43:17,787 - urllib3.connectionpool - DEBUG - Starting new HTTPS connection (1): packages.ydata.ai:443\n",
      "2024-08-07 14:43:18,991 - urllib3.connectionpool - DEBUG - https://packages.ydata.ai:443 \"GET /ydata-profiling?version=v4.9.0&python_version=3.12&report_type=regular&dataframe=spark&datatype=tabular&os=Windows&gpu=False HTTP/11\" 200 None\n"
     ]
    },
    {
     "data": {
      "application/vnd.jupyter.widget-view+json": {
       "model_id": "b2d28b84d9194a2ea9146fbbe0337631",
       "version_major": 2,
       "version_minor": 0
      },
      "text/plain": [
       "Summarize dataset:   0%|          | 0/5 [00:00<?, ?it/s]"
      ]
     },
     "metadata": {},
     "output_type": "display_data"
    },
    {
     "name": "stderr",
     "output_type": "stream",
     "text": [
      "c:\\Users\\alexi\\AppData\\Local\\pypoetry\\Cache\\virtualenvs\\reviewoutliers-SwZO3ms--py3.12\\Lib\\site-packages\\ydata_profiling\\model\\pandas\\summary_pandas.py:39: FutureWarning: Downcasting object dtype arrays on .fillna, .ffill, .bfill is deprecated and will change in a future version. Call result.infer_objects(copy=False) instead. To opt-in to the future behavior, set `pd.set_option('future.no_silent_downcasting', True)`\n",
      "  series = series.fillna(np.nan)\n",
      "c:\\Users\\alexi\\AppData\\Local\\pypoetry\\Cache\\virtualenvs\\reviewoutliers-SwZO3ms--py3.12\\Lib\\site-packages\\ydata_profiling\\model\\pandas\\summary_pandas.py:39: FutureWarning: Downcasting object dtype arrays on .fillna, .ffill, .bfill is deprecated and will change in a future version. Call result.infer_objects(copy=False) instead. To opt-in to the future behavior, set `pd.set_option('future.no_silent_downcasting', True)`\n",
      "  series = series.fillna(np.nan)\n",
      "c:\\Users\\alexi\\AppData\\Local\\pypoetry\\Cache\\virtualenvs\\reviewoutliers-SwZO3ms--py3.12\\Lib\\site-packages\\ydata_profiling\\model\\pandas\\summary_pandas.py:39: FutureWarning: Downcasting object dtype arrays on .fillna, .ffill, .bfill is deprecated and will change in a future version. Call result.infer_objects(copy=False) instead. To opt-in to the future behavior, set `pd.set_option('future.no_silent_downcasting', True)`\n",
      "  series = series.fillna(np.nan)\n",
      "2024-08-07 14:53:13,146 - matplotlib.colorbar - DEBUG - locator: <matplotlib.ticker.AutoLocator object at 0x000001C1D2CA9E20>\n"
     ]
    },
    {
     "data": {
      "application/vnd.jupyter.widget-view+json": {
       "model_id": "a2542aabe8134552bbe5908e50aaeb00",
       "version_major": 2,
       "version_minor": 0
      },
      "text/plain": [
       "Generate report structure:   0%|          | 0/1 [00:00<?, ?it/s]"
      ]
     },
     "metadata": {},
     "output_type": "display_data"
    },
    {
     "name": "stderr",
     "output_type": "stream",
     "text": [
      "2024-08-07 14:53:26,368 - matplotlib.colorbar - DEBUG - locator: <matplotlib.ticker.AutoLocator object at 0x000001C1D81B8260>\n"
     ]
    },
    {
     "data": {
      "application/vnd.jupyter.widget-view+json": {
       "model_id": "fc582df7ea4544f4bfbe46178254ebd8",
       "version_major": 2,
       "version_minor": 0
      },
      "text/plain": [
       "Render HTML:   0%|          | 0/1 [00:00<?, ?it/s]"
      ]
     },
     "metadata": {},
     "output_type": "display_data"
    },
    {
     "data": {
      "application/vnd.jupyter.widget-view+json": {
       "model_id": "f31e9415cd0b44f1b6de6f631cb722e1",
       "version_major": 2,
       "version_minor": 0
      },
      "text/plain": [
       "Export report to file:   0%|          | 0/1 [00:00<?, ?it/s]"
      ]
     },
     "metadata": {},
     "output_type": "display_data"
    }
   ],
   "source": [
    "# review report\n",
    "df_to_analyze = df.sample(max_samples)\n",
    "df_to_analyze['price'] = pd.to_numeric(df_to_analyze['price'], errors='coerce')\n",
    "df_to_analyze['rating'] = pd.to_numeric(df_to_analyze['rating'], errors='coerce')\n",
    "\n",
    "profile_review = ProfileReport(df_to_analyze, title=\"Profiling Report\", minimal=False)\n",
    "profile_review.to_file(profiling_path)"
   ]
  },
  {
   "cell_type": "markdown",
   "metadata": {},
   "source": [
    "# Interactive Analysis"
   ]
  },
  {
   "cell_type": "code",
   "execution_count": 6,
   "metadata": {},
   "outputs": [],
   "source": [
    "# from pivottablejs import pivot_ui\n",
    "# pivot_ui(df)\n",
    "\n",
    "# from pandasgui import show\n",
    "# show(df)\n",
    "\n",
    "# import tabloo\n",
    "# tabloo.show(df)\n",
    "\n",
    "# import dtale\n",
    "# dtale.show(df)\n",
    "\n",
    "# from itables import init_notebook_mode\n",
    "# init_notebook_mode(all_interactive=True)\n",
    "# from itables import show\n",
    "# show(df, buttons=[\"copyHtml5\", \"csvHtml5\", \"excelHtml5\"])\n",
    "\n",
    "# import pygwalker as pyg\n",
    "# walker = pyg.walk(df)\n",
    "\n",
    "# ipyaggrid\n",
    "\n",
    "# import qgrid\n",
    "# widget = qgrid.show_grid(df_to_analyze)"
   ]
  },
  {
   "cell_type": "markdown",
   "metadata": {},
   "source": [
    "# Manual Analysis"
   ]
  },
  {
   "cell_type": "code",
   "execution_count": 21,
   "metadata": {},
   "outputs": [
    {
     "data": {
      "text/plain": [
       "Index(['rating', 'title_review', 'text', 'images_review', 'asin',\n",
       "       'parent_asin', 'user_id', 'timestamp', 'helpful_vote',\n",
       "       'verified_purchase', 'main_category', 'title_metadata',\n",
       "       'average_rating', 'rating_number', 'features', 'description', 'price',\n",
       "       'images_metadata', 'videos', 'store', 'categories', 'details',\n",
       "       'bought_together', 'subtitle', 'author', 'list_length_features',\n",
       "       'list_length_description', 'list_length_categories',\n",
       "       'list_length_details'],\n",
       "      dtype='object')"
      ]
     },
     "execution_count": 21,
     "metadata": {},
     "output_type": "execute_result"
    }
   ],
   "source": [
    "df_to_analyze.columns"
   ]
  },
  {
   "cell_type": "code",
   "execution_count": 38,
   "metadata": {},
   "outputs": [
    {
     "name": "stderr",
     "output_type": "stream",
     "text": [
      "2024-08-07 15:28:27,070 - matplotlib.pyplot - DEBUG - Loaded backend inline version unknown.\n"
     ]
    }
   ],
   "source": [
    "%matplotlib inline\n",
    "def plot_counts(df, col_name: str) -> None:\n",
    "    '''\n",
    "    hist and stats on col that have arrays of str\n",
    "    '''\n",
    "    len_col = 'list_length_'+col_name\n",
    "    print(f\"Data type: {type(df[col_name].iloc[0])}\")\n",
    "    \n",
    "    # check the length of the list\n",
    "    df[len_col] = df[col_name].apply(len)\n",
    "    print(\"Counts : \", df[len_col].value_counts()[:4])\n",
    "\n",
    "    import matplotlib.pyplot as plt\n",
    "    plt.figure(figsize=(3, 2))\n",
    "    plt.hist(df[len_col], bins=range(1, df[len_col].max() + 2), edgecolor='black')\n",
    "    plt.xlabel('Length of List')\n",
    "    plt.ylabel('Frequency')\n",
    "    plt.title('Histogram of List Lengths')\n",
    "    plt.show()\n",
    "\n",
    "    # examples of len 1\n",
    "    try:\n",
    "        print(\"examples of len 1\")\n",
    "        display(df[df[len_col] == 1][col_name].sample(2))\n",
    "    except:\n",
    "        pass\n",
    "\n",
    "    # examples of len superior to 1\n",
    "    try:\n",
    "        list_samples = df[df[len_col] > 1][col_name].sample(1).to_list()\n",
    "        print(\"example of len > 1 : \", list_samples[0])\n",
    "    except:\n",
    "        pass\n",
    "    \n",
    "    "
   ]
  },
  {
   "cell_type": "code",
   "execution_count": 39,
   "metadata": {},
   "outputs": [
    {
     "name": "stdout",
     "output_type": "stream",
     "text": [
      "Data type: <class 'numpy.ndarray'>\n",
      "Counts :  list_length_features\n",
      "5    2616\n",
      "4     524\n",
      "3     460\n",
      "6     295\n",
      "Name: count, dtype: int64\n"
     ]
    },
    {
     "data": {
      "image/png": "[encoded data removed]",
      "text/plain": [
       "<Figure size 300x200 with 1 Axes>"
      ]
     },
     "metadata": {},
     "output_type": "display_data"
    },
    {
     "name": "stdout",
     "output_type": "stream",
     "text": [
      "examples of len 1\n"
     ]
    },
    {
     "data": {
      "text/plain": [
       "206912    [Kenmore He3t He4t 5t Washer water Pump 818168...\n",
       "270321                 [This is a genuine replacement part]\n",
       "Name: features, dtype: object"
      ]
     },
     "metadata": {},
     "output_type": "display_data"
    },
    {
     "name": "stdout",
     "output_type": "stream",
     "text": [
      "example of len > 1 :  ['Alternate part numbers include AP5177961, 1974291, AH3493633, EA3493633, and PS3493633.'\n",
      " 'Measures 9-7/8 x 6-1/2 inches | Fits model specific dryers'\n",
      " 'The filter may be located on the top of your dryer, or inside the dryer door depending on your model. When replacing the filter, take the time to ensure all dust and lint has been removed from the lint filter area. The filter should be cleared of debris after each dryer cycle.'\n",
      " 'Supplying Demand replacement parts are compatible with Major Brands, but you should always verify fitment with your specific model. We have included a video in the product gallery to help you find your model number and information in the description below.'\n",
      " 'SD products come in Supplying Demand packaging.']\n"
     ]
    }
   ],
   "source": [
    "plot_counts(df_to_analyze, 'features')"
   ]
  },
  {
   "cell_type": "code",
   "execution_count": 40,
   "metadata": {},
   "outputs": [
    {
     "name": "stdout",
     "output_type": "stream",
     "text": [
      "Data type: <class 'numpy.ndarray'>\n",
      "Counts :  list_length_description\n",
      "0    2116\n",
      "1    1255\n",
      "4    1075\n",
      "2     109\n",
      "Name: count, dtype: int64\n"
     ]
    },
    {
     "data": {
      "image/png": "[encoded data removed]",
      "text/plain": [
       "<Figure size 300x200 with 1 Axes>"
      ]
     },
     "metadata": {},
     "output_type": "display_data"
    },
    {
     "name": "stdout",
     "output_type": "stream",
     "text": [
      "examples of len 1\n"
     ]
    },
    {
     "data": {
      "text/plain": [
       "229139    [8268383 Dishwasher Chopper. The chopper chops...\n",
       "47599     [For dryers, bathroom vents, and range hoods. ...\n",
       "Name: description, dtype: object"
      ]
     },
     "metadata": {},
     "output_type": "display_data"
    },
    {
     "name": "stdout",
     "output_type": "stream",
     "text": [
      "example of len > 1 :  ['Product Description'\n",
      " 'This high quality LG OEM EAD40521449 Power Cord for LG brand Washing Machines is manufactured to exact specifications with durable materials. The Power Cord and fits into standard 3-prong outlets and has approximately a 72\" length. Please be aware that all utilities should be disconnected from your Washing Machine Appliance prior to replacing the Power Cord.'\n",
      " 'From the Manufacturer'\n",
      " 'LG EAD40521449 Washing Machine Power Cord Assembly. For use with the following LG Electronics models: WM2140CW, WM2450HRA, WM2550HRCA, WM2550HWCA, WM2701HV, WM3070HWA, WM3150HVC, WM3150HWC, WM3550HVCA, WM3875HVCA, WM3875HWCA, WM3885HCCA, WM3885HWCA, WM8000HVA, WM8000HWA. Refer to your manual to ensure ordering the correct, compatible part.']\n"
     ]
    }
   ],
   "source": [
    "plot_counts(df_to_analyze, 'description')"
   ]
  },
  {
   "cell_type": "code",
   "execution_count": 41,
   "metadata": {},
   "outputs": [
    {
     "data": {
      "text/plain": [
       "{'hi_res': array([None], dtype=object),\n",
       " 'large': array(['https://m.media-amazon.com/images/I/414suDcQziL._AC_.jpg'],\n",
       "       dtype=object),\n",
       " 'thumb': array(['https://m.media-amazon.com/images/I/414suDcQziL._AC_US75_.jpg'],\n",
       "       dtype=object),\n",
       " 'variant': array(['MAIN'], dtype=object)}"
      ]
     },
     "metadata": {},
     "output_type": "display_data"
    }
   ],
   "source": [
    "display(df_to_analyze['images_metadata'].iloc[0])"
   ]
  },
  {
   "cell_type": "code",
   "execution_count": 42,
   "metadata": {},
   "outputs": [
    {
     "name": "stdout",
     "output_type": "stream",
     "text": [
      "Data type: <class 'numpy.ndarray'>\n",
      "Counts :  list_length_categories\n",
      "4    3758\n",
      "2     619\n",
      "3     616\n",
      "5       7\n",
      "Name: count, dtype: int64\n"
     ]
    },
    {
     "data": {
      "image/png": "[encoded data removed]",
      "text/plain": [
       "<Figure size 300x200 with 1 Axes>"
      ]
     },
     "metadata": {},
     "output_type": "display_data"
    },
    {
     "name": "stdout",
     "output_type": "stream",
     "text": [
      "examples of len 1\n",
      "example of len > 1 :  ['Appliances' 'Parts & Accessories' 'Washer Parts & Accessories']\n"
     ]
    }
   ],
   "source": [
    "plot_counts(df_to_analyze, 'categories')"
   ]
  },
  {
   "cell_type": "code",
   "execution_count": 43,
   "metadata": {},
   "outputs": [
    {
     "name": "stdout",
     "output_type": "stream",
     "text": [
      "Data type: <class 'str'>\n",
      "Counts :  list_length_details\n",
      "2      68\n",
      "553    53\n",
      "875    47\n",
      "532    42\n",
      "Name: count, dtype: int64\n"
     ]
    },
    {
     "data": {
      "image/png": "[encoded data removed]",
      "text/plain": [
       "<Figure size 300x200 with 1 Axes>"
      ]
     },
     "metadata": {},
     "output_type": "display_data"
    },
    {
     "name": "stdout",
     "output_type": "stream",
     "text": [
      "examples of len 1\n",
      "example of len > 1 :  {\"Manufacturer\": \"Samsung\", \"Part Number\": \"DA61-03571A\", \"Item Weight\": \"0.32 ounces\", \"Product Dimensions\": \"2 x 3 x 1 inches\", \"Item model number\": \"DA61-03571A\", \"Is Discontinued By Manufacturer\": \"No\", \"Finish\": \"Unfinished\", \"Item Package Quantity\": \"1\", \"Mounting Type\": \"Face Mount\", \"Included Components\": \"Appliance-replacement-parts\", \"Batteries Included?\": \"No\", \"Batteries Required?\": \"No\", \"Best Sellers Rank\": {\"Tools & Home Improvement\": 412597, \"Refrigerator Replacement Shelves\": 589}, \"Date First Available\": \"June 8, 2016\", \"Brand\": \"SAMSUNG\", \"Item Dimensions LxWxH\": \"2 x 3 x 1 inches\", \"Finish Type\": \"Unfinished\", \"Unit Count\": \"1.0 Count\"}\n"
     ]
    }
   ],
   "source": [
    "plot_counts(df_to_analyze, 'details')"
   ]
  },
  {
   "cell_type": "code",
   "execution_count": 44,
   "metadata": {},
   "outputs": [
    {
     "data": {
      "text/plain": [
       "None"
      ]
     },
     "metadata": {},
     "output_type": "display_data"
    }
   ],
   "source": [
    "# plot_counts('bought_together')\n",
    "display(df_to_analyze['bought_together'].iloc[0])"
   ]
  },
  {
   "cell_type": "markdown",
   "metadata": {},
   "source": [
    "# Information from the documentation\n",
    "\n",
    "\n",
    "- Pure IDs (0-Core): Complete dataset\n",
    "- Pure IDs (5-Core): \n",
    "    - Each user must have rated at least 5 different items.\n",
    "    - Each item must have been rated by at least 5 different users."
   ]
  },
  {
   "cell_type": "markdown",
   "metadata": {},
   "source": [
    "# Conclusion\n",
    "\n",
    "## Overall\n",
    "\n",
    "\n",
    "## Metadata\n",
    "\n",
    "- `main_category`(str - categorical): could be considered categorical\n",
    "- `title` (str): text\n",
    "- `average_rating` (float): numerical\n",
    "- `rating_number` (int): numerical\n",
    "- `store` (str): names of shops could be considered categorical data\n",
    "- `parent_asin`(str - ID): unique string identifier\n",
    "- `features`(list of str): could be concatenated\n",
    "- `categories`: (list of str): product category path. could be spread on several columns or concatenated\n",
    "- `description` (list of str): mostly empty\n",
    "- `details` (dict str - str): various product details\n",
    "- `price` (float): subscription boxes had empty prices. rest are ok\n",
    "\n",
    "To drop:\n",
    "- `images` (list of str): too complex\n",
    "- `videos` (list of str): too complex\n",
    "- `bought_together` (boolean): mostly empty\n",
    "- other that are category specific : `author`, `subtitle`, ...\n",
    "\n",
    "\n",
    "Notes : \n",
    "- no duplicate rows\n",
    "\n",
    "## Review\n",
    "\n",
    "- `rating`: numerical\n",
    "- `title`: text\n",
    "- `text`: text\n",
    "- `asin`: unique string identifier\n",
    "- `parent_asin`: unique string identifier\n",
    "- `user_id`: unique string identifier\n",
    "- `timestamp`: numerical\n",
    "- `helpful_vote`: numerical\n",
    "- `verified_purchase`: boolean\n",
    "\n",
    "To drop:\n",
    "- `images`: list of image URLs. -> dropped\n",
    "\n",
    "Notes : \n",
    "- there are duplicate rows / aka reviews. -> Drop duplicates\n"
   ]
  }
 ],
 "metadata": {
  "kernelspec": {
   "display_name": "reviewoutliers-SwZO3ms--py3.12",
   "language": "python",
   "name": "python3"
  },
  "language_info": {
   "codemirror_mode": {
    "name": "ipython",
    "version": 3
   },
   "file_extension": ".py",
   "mimetype": "text/x-python",
   "name": "python",
   "nbconvert_exporter": "python",
   "pygments_lexer": "ipython3",
   "version": "3.12.2"
  }
 },
 "nbformat": 4,
 "nbformat_minor": 2
}
