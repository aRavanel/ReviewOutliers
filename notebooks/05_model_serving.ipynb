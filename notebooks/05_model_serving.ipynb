{
 "cells": [
  {
   "cell_type": "markdown",
   "metadata": {},
   "source": [
    "# User params"
   ]
  },
  {
   "cell_type": "code",
   "execution_count": 2,
   "metadata": {},
   "outputs": [],
   "source": [
    "n_data = 2  # numebr of samples\n"
   ]
  },
  {
   "cell_type": "markdown",
   "metadata": {},
   "source": [
    "# Prepare some data"
   ]
  },
  {
   "cell_type": "code",
   "execution_count": null,
   "metadata": {},
   "outputs": [],
   "source": [
    "import os, sys\n",
    "sys.path.append(os.path.abspath('../src'))\n",
    "from src.config import BASE_PATH_DATA, PATH_PROJECT\n",
    "os.chdir(PATH_PROJECT)"
   ]
  },
  {
   "cell_type": "code",
   "execution_count": 3,
   "metadata": {},
   "outputs": [
    {
     "data": {
      "text/html": [
       "<div>\n",
       "<style scoped>\n",
       "    .dataframe tbody tr th:only-of-type {\n",
       "        vertical-align: middle;\n",
       "    }\n",
       "\n",
       "    .dataframe tbody tr th {\n",
       "        vertical-align: top;\n",
       "    }\n",
       "\n",
       "    .dataframe thead th {\n",
       "        text-align: right;\n",
       "    }\n",
       "</style>\n",
       "<table border=\"1\" class=\"dataframe\">\n",
       "  <thead>\n",
       "    <tr style=\"text-align: right;\">\n",
       "      <th></th>\n",
       "      <th>feature_0</th>\n",
       "      <th>feature_1</th>\n",
       "      <th>feature_2</th>\n",
       "      <th>feature_3</th>\n",
       "      <th>feature_4</th>\n",
       "      <th>feature_5</th>\n",
       "      <th>feature_6</th>\n",
       "      <th>feature_7</th>\n",
       "      <th>feature_8</th>\n",
       "      <th>feature_9</th>\n",
       "      <th>...</th>\n",
       "      <th>feature_933</th>\n",
       "      <th>feature_934</th>\n",
       "      <th>feature_935</th>\n",
       "      <th>feature_936</th>\n",
       "      <th>feature_937</th>\n",
       "      <th>feature_938</th>\n",
       "      <th>feature_939</th>\n",
       "      <th>feature_940</th>\n",
       "      <th>feature_941</th>\n",
       "      <th>feature_942</th>\n",
       "    </tr>\n",
       "  </thead>\n",
       "  <tbody>\n",
       "    <tr>\n",
       "      <th>161</th>\n",
       "      <td>-0.519763</td>\n",
       "      <td>-0.078167</td>\n",
       "      <td>0.377964</td>\n",
       "      <td>-1.412784</td>\n",
       "      <td>-1.006858</td>\n",
       "      <td>0.568662</td>\n",
       "      <td>-1.736201</td>\n",
       "      <td>0.165296</td>\n",
       "      <td>2.080494</td>\n",
       "      <td>1.0</td>\n",
       "      <td>...</td>\n",
       "      <td>0.000161</td>\n",
       "      <td>-0.000143</td>\n",
       "      <td>-0.000023</td>\n",
       "      <td>-0.000087</td>\n",
       "      <td>0.000174</td>\n",
       "      <td>0.000266</td>\n",
       "      <td>0.000004</td>\n",
       "      <td>-0.000273</td>\n",
       "      <td>0.000074</td>\n",
       "      <td>0.000050</td>\n",
       "    </tr>\n",
       "    <tr>\n",
       "      <th>173</th>\n",
       "      <td>-1.822426</td>\n",
       "      <td>19.990671</td>\n",
       "      <td>0.377964</td>\n",
       "      <td>-2.104308</td>\n",
       "      <td>-1.006858</td>\n",
       "      <td>-0.874924</td>\n",
       "      <td>-1.214584</td>\n",
       "      <td>0.777504</td>\n",
       "      <td>-0.020873</td>\n",
       "      <td>1.0</td>\n",
       "      <td>...</td>\n",
       "      <td>0.000141</td>\n",
       "      <td>0.000213</td>\n",
       "      <td>-0.000030</td>\n",
       "      <td>0.000015</td>\n",
       "      <td>-0.000172</td>\n",
       "      <td>0.000076</td>\n",
       "      <td>0.000142</td>\n",
       "      <td>0.000074</td>\n",
       "      <td>0.000199</td>\n",
       "      <td>0.000236</td>\n",
       "    </tr>\n",
       "  </tbody>\n",
       "</table>\n",
       "<p>2 rows × 943 columns</p>\n",
       "</div>"
      ],
      "text/plain": [
       "     feature_0  feature_1  feature_2  feature_3  feature_4  feature_5  \\\n",
       "161  -0.519763  -0.078167   0.377964  -1.412784  -1.006858   0.568662   \n",
       "173  -1.822426  19.990671   0.377964  -2.104308  -1.006858  -0.874924   \n",
       "\n",
       "     feature_6  feature_7  feature_8  feature_9  ...  feature_933  \\\n",
       "161  -1.736201   0.165296   2.080494        1.0  ...     0.000161   \n",
       "173  -1.214584   0.777504  -0.020873        1.0  ...     0.000141   \n",
       "\n",
       "     feature_934  feature_935  feature_936  feature_937  feature_938  \\\n",
       "161    -0.000143    -0.000023    -0.000087     0.000174     0.000266   \n",
       "173     0.000213    -0.000030     0.000015    -0.000172     0.000076   \n",
       "\n",
       "     feature_939  feature_940  feature_941  feature_942  \n",
       "161     0.000004    -0.000273     0.000074     0.000050  \n",
       "173     0.000142     0.000074     0.000199     0.000236  \n",
       "\n",
       "[2 rows x 943 columns]"
      ]
     },
     "metadata": {},
     "output_type": "display_data"
    }
   ],
   "source": [
    "# load test data\n",
    "from src.utils.io import load_dataframe\n",
    "from src.config import BASE_PATH_DATA\n",
    "df_test = load_dataframe(os.path.join(BASE_PATH_DATA, 'processed', 'test.parquet'))\n",
    "\n",
    "# take some samples\n",
    "df_test = df_test.sample(n_data)\n",
    "display(df_test)\n",
    "\n",
    "# \n",
    "\n",
    "# format the data for a request\n",
    "payload = {\"text\": \"string\", \"features\": [0]}\n"
   ]
  },
  {
   "cell_type": "markdown",
   "metadata": {},
   "source": [
    "# Launch the service"
   ]
  },
  {
   "cell_type": "markdown",
   "metadata": {},
   "source": [
    "**In local**"
   ]
  },
  {
   "cell_type": "code",
   "execution_count": 2,
   "metadata": {},
   "outputs": [
    {
     "name": "stdout",
     "output_type": "stream",
     "text": [
      "/mnt/c/Users/alexi/WORKSPACE/interview_abwaab/ReviewOutliers\n"
     ]
    }
   ],
   "source": [
    "%%bash\n",
    "make run_fast  # poetry run uvicorn src.app:app --host 0.0.0.0 --port 8000 --reload"
   ]
  },
  {
   "cell_type": "markdown",
   "metadata": {},
   "source": [
    "**Using docker**"
   ]
  },
  {
   "cell_type": "code",
   "execution_count": null,
   "metadata": {},
   "outputs": [],
   "source": [
    "%%bash\n",
    "make build_docker\n",
    "make run_docker"
   ]
  },
  {
   "cell_type": "markdown",
   "metadata": {},
   "source": [
    "# Display the docs in the notebook (rather than in the browser) - for fun"
   ]
  },
  {
   "cell_type": "code",
   "execution_count": null,
   "metadata": {},
   "outputs": [],
   "source": [
    "from IPython.display import IFrame\n",
    "\n",
    "# URL for the Swagger UI\n",
    "swagger_ui_url = \"http://localhost:8000/docs\"\n",
    "\n",
    "# Display Swagger UI in the notebook\n",
    "IFrame(src=swagger_ui_url, width='100%', height='600px')"
   ]
  },
  {
   "cell_type": "markdown",
   "metadata": {},
   "source": [
    "# Query the service"
   ]
  },
  {
   "cell_type": "markdown",
   "metadata": {},
   "source": [
    "**Using python**"
   ]
  },
  {
   "cell_type": "code",
   "execution_count": null,
   "metadata": {},
   "outputs": [],
   "source": [
    "import requests\n",
    "url = \"http://localhost:8000/api/detect_outliers\"\n",
    "headers = {\n",
    "    \"accept\": \"application/json\",\n",
    "    \"Content-Type\": \"application/json\"\n",
    "}\n",
    "response = requests.post(url, json=payload, headers=headers)\n",
    "print(response.json())"
   ]
  },
  {
   "cell_type": "markdown",
   "metadata": {},
   "source": [
    "**Using shell**"
   ]
  },
  {
   "cell_type": "code",
   "execution_count": null,
   "metadata": {},
   "outputs": [],
   "source": []
  }
 ],
 "metadata": {
  "kernelspec": {
   "display_name": "reviewoutliers-SwZO3ms--py3.12",
   "language": "python",
   "name": "python3"
  },
  "language_info": {
   "codemirror_mode": {
    "name": "ipython",
    "version": 3
   },
   "file_extension": ".py",
   "mimetype": "text/x-python",
   "name": "python",
   "nbconvert_exporter": "python",
   "pygments_lexer": "ipython3",
   "version": "3.12.2"
  }
 },
 "nbformat": 4,
 "nbformat_minor": 2
}
