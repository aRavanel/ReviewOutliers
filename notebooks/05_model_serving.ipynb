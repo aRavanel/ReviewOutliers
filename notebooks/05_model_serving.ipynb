{
 "cells": [
  {
   "cell_type": "markdown",
   "metadata": {},
   "source": [
    "# User params"
   ]
  },
  {
   "cell_type": "code",
   "execution_count": 1,
   "metadata": {},
   "outputs": [],
   "source": [
    "n_data = 2  # numebr of samples\n"
   ]
  },
  {
   "cell_type": "code",
   "execution_count": 2,
   "metadata": {},
   "outputs": [],
   "source": [
    "import os, sys\n",
    "sys.path.append(os.path.abspath('../src'))\n",
    "from src.config import BASE_PATH_DATA, PATH_PROJECT\n",
    "os.chdir(PATH_PROJECT)"
   ]
  },
  {
   "cell_type": "markdown",
   "metadata": {},
   "source": [
    "# Utility functions"
   ]
  },
  {
   "cell_type": "markdown",
   "metadata": {},
   "source": [
    "# Prepare some data"
   ]
  },
  {
   "cell_type": "code",
   "execution_count": 3,
   "metadata": {},
   "outputs": [
    {
     "name": "stderr",
     "output_type": "stream",
     "text": [
      "2024-08-01 11:06:33,499 - src.config - DEBUG - calling load_dataframe\n",
      "2024-08-01 11:06:33,500 - src.config - INFO - Current working directory: C:\\Users\\alexi\\WORKSPACE\\interview_abwaab\\ReviewOutliers\n"
     ]
    },
    {
     "data": {
      "text/html": [
       "<div>\n",
       "<style scoped>\n",
       "    .dataframe tbody tr th:only-of-type {\n",
       "        vertical-align: middle;\n",
       "    }\n",
       "\n",
       "    .dataframe tbody tr th {\n",
       "        vertical-align: top;\n",
       "    }\n",
       "\n",
       "    .dataframe thead th {\n",
       "        text-align: right;\n",
       "    }\n",
       "</style>\n",
       "<table border=\"1\" class=\"dataframe\">\n",
       "  <thead>\n",
       "    <tr style=\"text-align: right;\">\n",
       "      <th></th>\n",
       "      <th>main_category</th>\n",
       "      <th>title_review</th>\n",
       "      <th>average_rating</th>\n",
       "      <th>rating_number</th>\n",
       "      <th>features</th>\n",
       "      <th>store</th>\n",
       "      <th>rating</th>\n",
       "      <th>title_metadata</th>\n",
       "      <th>text</th>\n",
       "      <th>user_id</th>\n",
       "      <th>timestamp</th>\n",
       "      <th>helpful_vote</th>\n",
       "      <th>verified_purchase</th>\n",
       "    </tr>\n",
       "  </thead>\n",
       "  <tbody>\n",
       "    <tr>\n",
       "      <th>3049</th>\n",
       "      <td>SUBSCRIPTION BOXES</td>\n",
       "      <td>STEM Club Toy Subscription: 3-4 year olds</td>\n",
       "      <td>4.4</td>\n",
       "      <td>2386</td>\n",
       "      <td>[Subscribe and save up to 40% on STEM Toys, Di...</td>\n",
       "      <td>STEM Club</td>\n",
       "      <td>5</td>\n",
       "      <td>Five Stars</td>\n",
       "      <td>Awesome club I signed my grandson up for.</td>\n",
       "      <td>AH7QYYA6OX7CU7QGY7LP52FPBDJQ</td>\n",
       "      <td>2018-07-16 02:21:39.613</td>\n",
       "      <td>2</td>\n",
       "      <td>True</td>\n",
       "    </tr>\n",
       "    <tr>\n",
       "      <th>728</th>\n",
       "      <td>SUBSCRIPTION BOXES</td>\n",
       "      <td>BattlBox - Survival and Outdoor Gear Subscript...</td>\n",
       "      <td>3.7</td>\n",
       "      <td>285</td>\n",
       "      <td>[]</td>\n",
       "      <td>BATTLBOX</td>\n",
       "      <td>5</td>\n",
       "      <td>The only subscription you will ever need!</td>\n",
       "      <td>Well it is not hard to love being a subscriber...</td>\n",
       "      <td>AETT3B5WVQLLKKFOSY7KCORB2YTQ</td>\n",
       "      <td>2021-10-05 10:22:50.323</td>\n",
       "      <td>2</td>\n",
       "      <td>False</td>\n",
       "    </tr>\n",
       "  </tbody>\n",
       "</table>\n",
       "</div>"
      ],
      "text/plain": [
       "           main_category                                       title_review  \\\n",
       "3049  SUBSCRIPTION BOXES          STEM Club Toy Subscription: 3-4 year olds   \n",
       "728   SUBSCRIPTION BOXES  BattlBox - Survival and Outdoor Gear Subscript...   \n",
       "\n",
       "      average_rating  rating_number  \\\n",
       "3049             4.4           2386   \n",
       "728              3.7            285   \n",
       "\n",
       "                                               features      store  rating  \\\n",
       "3049  [Subscribe and save up to 40% on STEM Toys, Di...  STEM Club       5   \n",
       "728                                                  []   BATTLBOX       5   \n",
       "\n",
       "                                 title_metadata  \\\n",
       "3049                                 Five Stars   \n",
       "728   The only subscription you will ever need!   \n",
       "\n",
       "                                                   text  \\\n",
       "3049          Awesome club I signed my grandson up for.   \n",
       "728   Well it is not hard to love being a subscriber...   \n",
       "\n",
       "                           user_id               timestamp  helpful_vote  \\\n",
       "3049  AH7QYYA6OX7CU7QGY7LP52FPBDJQ 2018-07-16 02:21:39.613             2   \n",
       "728   AETT3B5WVQLLKKFOSY7KCORB2YTQ 2021-10-05 10:22:50.323             2   \n",
       "\n",
       "      verified_purchase  \n",
       "3049               True  \n",
       "728               False  "
      ]
     },
     "metadata": {},
     "output_type": "display_data"
    },
    {
     "name": "stdout",
     "output_type": "stream",
     "text": [
      "main_category: object\n",
      "title_review: object\n",
      "average_rating: float64\n",
      "rating_number: int64\n",
      "features: object\n",
      "store: object\n",
      "rating: int64\n",
      "title_metadata: object\n",
      "text: object\n",
      "user_id: object\n",
      "timestamp: datetime64[ns]\n",
      "helpful_vote: int64\n",
      "verified_purchase: bool\n"
     ]
    },
    {
     "name": "stderr",
     "output_type": "stream",
     "text": [
      "2024-08-01 11:06:35,180 - src.config - DEBUG - calling create_batch_outlier_request\n",
      "2024-08-01 11:06:35,180 - src.config - DEBUG - calling create_outlier_request\n",
      "2024-08-01 11:06:35,181 - src.config - DEBUG - compute dummy_values\n",
      "2024-08-01 11:06:35,182 - src.config - DEBUG - {'main_category': 'unknown', 'title_review': 'No title', 'average_rating': 0.0, 'rating_number': 0, 'features': [], 'store': 'unknown', 'rating': 0.0, 'title_metadata': 'No title', 'text': 'No text', 'timestamp': '1970-01-01T00:00:00', 'helpful_vote': 0, 'verified_purchase': False}\n",
      "2024-08-01 11:06:35,183 - src.config - DEBUG - main_category\n",
      "2024-08-01 11:06:35,183 - src.config - DEBUG - main_category ok\n",
      "2024-08-01 11:06:35,184 - src.config - DEBUG - title_review\n",
      "2024-08-01 11:06:35,185 - src.config - DEBUG - title_review ok\n",
      "2024-08-01 11:06:35,186 - src.config - DEBUG - average_rating\n",
      "2024-08-01 11:06:35,186 - src.config - DEBUG - average_rating ok\n",
      "2024-08-01 11:06:35,187 - src.config - DEBUG - rating_number\n",
      "2024-08-01 11:06:35,187 - src.config - DEBUG - rating_number ok\n",
      "2024-08-01 11:06:35,188 - src.config - DEBUG - features\n",
      "2024-08-01 11:06:35,190 - src.config - DEBUG - features ok\n",
      "2024-08-01 11:06:35,193 - src.config - DEBUG - store\n",
      "2024-08-01 11:06:35,197 - src.config - DEBUG - store ok\n",
      "2024-08-01 11:06:35,199 - src.config - DEBUG - rating\n",
      "2024-08-01 11:06:35,201 - src.config - DEBUG - rating ok\n",
      "2024-08-01 11:06:35,203 - src.config - DEBUG - title_metadata\n",
      "2024-08-01 11:06:35,204 - src.config - DEBUG - title_metadata ok\n",
      "2024-08-01 11:06:35,205 - src.config - DEBUG - text\n",
      "2024-08-01 11:06:35,206 - src.config - DEBUG - text ok\n",
      "2024-08-01 11:06:35,207 - src.config - DEBUG - timestamp\n",
      "2024-08-01 11:06:35,208 - src.config - DEBUG - timestamp ok\n",
      "2024-08-01 11:06:35,212 - src.config - DEBUG - helpful_vote\n",
      "2024-08-01 11:06:35,215 - src.config - DEBUG - helpful_vote ok\n",
      "2024-08-01 11:06:35,216 - src.config - DEBUG - verified_purchase\n",
      "2024-08-01 11:06:35,217 - src.config - DEBUG - verified_purchase ok\n",
      "2024-08-01 11:06:35,219 - src.config - DEBUG - calling create_outlier_request\n",
      "2024-08-01 11:06:35,224 - src.config - DEBUG - compute dummy_values\n",
      "2024-08-01 11:06:35,231 - src.config - DEBUG - {'main_category': 'unknown', 'title_review': 'No title', 'average_rating': 0.0, 'rating_number': 0, 'features': [], 'store': 'unknown', 'rating': 0.0, 'title_metadata': 'No title', 'text': 'No text', 'timestamp': '1970-01-01T00:00:00', 'helpful_vote': 0, 'verified_purchase': False}\n",
      "2024-08-01 11:06:35,234 - src.config - DEBUG - main_category\n",
      "2024-08-01 11:06:35,235 - src.config - DEBUG - main_category ok\n",
      "2024-08-01 11:06:35,236 - src.config - DEBUG - title_review\n",
      "2024-08-01 11:06:35,237 - src.config - DEBUG - title_review ok\n",
      "2024-08-01 11:06:35,238 - src.config - DEBUG - average_rating\n",
      "2024-08-01 11:06:35,239 - src.config - DEBUG - average_rating ok\n",
      "2024-08-01 11:06:35,240 - src.config - DEBUG - rating_number\n",
      "2024-08-01 11:06:35,240 - src.config - DEBUG - rating_number ok\n",
      "2024-08-01 11:06:35,241 - src.config - DEBUG - features\n",
      "2024-08-01 11:06:35,242 - src.config - DEBUG - features ok\n",
      "2024-08-01 11:06:35,243 - src.config - DEBUG - store\n",
      "2024-08-01 11:06:35,245 - src.config - DEBUG - store ok\n",
      "2024-08-01 11:06:35,246 - src.config - DEBUG - rating\n",
      "2024-08-01 11:06:35,249 - src.config - DEBUG - rating ok\n",
      "2024-08-01 11:06:35,251 - src.config - DEBUG - title_metadata\n",
      "2024-08-01 11:06:35,252 - src.config - DEBUG - title_metadata ok\n",
      "2024-08-01 11:06:35,253 - src.config - DEBUG - text\n",
      "2024-08-01 11:06:35,253 - src.config - DEBUG - text ok\n",
      "2024-08-01 11:06:35,254 - src.config - DEBUG - timestamp\n",
      "2024-08-01 11:06:35,256 - src.config - DEBUG - timestamp ok\n",
      "2024-08-01 11:06:35,257 - src.config - DEBUG - helpful_vote\n",
      "2024-08-01 11:06:35,257 - src.config - DEBUG - helpful_vote ok\n",
      "2024-08-01 11:06:35,277 - src.config - DEBUG - verified_purchase\n",
      "2024-08-01 11:06:35,278 - src.config - DEBUG - verified_purchase ok\n"
     ]
    },
    {
     "name": "stdout",
     "output_type": "stream",
     "text": [
      "main_category='SUBSCRIPTION BOXES' title_review='STEM Club Toy Subscription: 3-4 year olds' average_rating=4.4 rating_number=2386 features=['Subscribe and save up to 40% on STEM Toys', 'Discover highly-rated STEM (Science, Technology, Engineering, & Math) Toys from leading brands handpicked by Amazon’s Toy experts', 'Toys encourage understanding and exploration of STEM subjects for children in a fun and entertaining way', 'Support the development of essential skills like logic, creativity, and problem-solving', 'New for 2020 - STEM Club now includes limited selection of Arts and Crafts to encourage creativity, inspire imagination and innovation in children'] store='STEM Club' rating=5.0 title_metadata='Five Stars' text='Awesome club I signed my grandson up for.' timestamp='2018-07-16T02:21:39.613000' helpful_vote=2 verified_purchase=True\n",
      "requests=[OutlierDetectionRequest(main_category='SUBSCRIPTION BOXES', title_review='STEM Club Toy Subscription: 3-4 year olds', average_rating=4.4, rating_number=2386, features=['Subscribe and save up to 40% on STEM Toys', 'Discover highly-rated STEM (Science, Technology, Engineering, & Math) Toys from leading brands handpicked by Amazon’s Toy experts', 'Toys encourage understanding and exploration of STEM subjects for children in a fun and entertaining way', 'Support the development of essential skills like logic, creativity, and problem-solving', 'New for 2020 - STEM Club now includes limited selection of Arts and Crafts to encourage creativity, inspire imagination and innovation in children'], store='STEM Club', rating=5.0, title_metadata='Five Stars', text='Awesome club I signed my grandson up for.', timestamp='2018-07-16T02:21:39.613000', helpful_vote=2, verified_purchase=True), OutlierDetectionRequest(main_category='SUBSCRIPTION BOXES', title_review='BattlBox - Survival and Outdoor Gear Subscription Box: Pro Plus', average_rating=3.7, rating_number=285, features=[], store='BATTLBOX', rating=5.0, title_metadata='The only subscription you will ever need!', text=\"Well it is not hard to love being a subscriber to battlbox. Great service and Brandon's videos are informative while being goofy. I have enjoyed watching all videos from mission 1 to now. Above that, I have enjoyed the seeing journey of what battlbox has become. Glad to be a subscriber and would happily recommend!\", timestamp='2021-10-05T10:22:50.323000', helpful_vote=2, verified_purchase=False)]\n"
     ]
    }
   ],
   "source": [
    "# load test data\n",
    "from src.utils.io import load_dataframe\n",
    "from src.config import BASE_PATH_DATA\n",
    "\n",
    "df_test = load_dataframe(os.path.join(BASE_PATH_DATA, 'processed', 'test.parquet'))\n",
    "\n",
    "# take some samples\n",
    "df_test = df_test.sample(n_data)\n",
    "display(df_test)\n",
    "\n",
    "# Print column names and their data types\n",
    "for col in df_test.columns:\n",
    "    print(f\"{col}: {df_test[col].dtype}\")\n",
    "\n",
    "# format the data for a request\n",
    "from src.api.outlier_detection import create_batch_outlier_request\n",
    "json_data = df_test.to_dict(orient=\"records\")\n",
    "\n",
    "payload = create_batch_outlier_request(json_data)\n",
    "print(payload.requests[0])\n",
    "\n",
    "print(payload)\n",
    "\n",
    "\n",
    "\n"
   ]
  },
  {
   "cell_type": "markdown",
   "metadata": {},
   "source": [
    "# Launch the service"
   ]
  },
  {
   "cell_type": "markdown",
   "metadata": {},
   "source": [
    "**In local**"
   ]
  },
  {
   "cell_type": "code",
   "execution_count": 4,
   "metadata": {},
   "outputs": [
    {
     "name": "stderr",
     "output_type": "stream",
     "text": [
      "2024-08-01 11:06:35,297 - asyncio - DEBUG - Using proactor: IocpProactor\n"
     ]
    },
    {
     "name": "stdout",
     "output_type": "stream",
     "text": [
      "/c/Users/alexi/WORKSPACE/interview_abwaab\n"
     ]
    },
    {
     "name": "stderr",
     "output_type": "stream",
     "text": [
      "kill: usage: kill [-s sigspec | -n signum | -sigspec] pid | jobspec ... or kill -l [sigspec]\n"
     ]
    }
   ],
   "source": [
    "%%sh\n",
    "cd ..\n",
    "pwd\n",
    "kill $(ps aux | grep 'uvicorn' | grep -v grep | awk '{print $2}')\n",
    "# nohup + & at the end : to detach the execution and keep running\n",
    "nohup poetry run uvicorn src.app:app --host 0.0.0.0 --port 8000 --reload > uvicorn.log 2>&1 &\n"
   ]
  },
  {
   "cell_type": "markdown",
   "metadata": {},
   "source": [
    "**Using docker**"
   ]
  },
  {
   "cell_type": "code",
   "execution_count": 5,
   "metadata": {},
   "outputs": [],
   "source": [
    "# %%sh\n",
    "# make build_docker\n",
    "# make run_docker"
   ]
  },
  {
   "cell_type": "markdown",
   "metadata": {},
   "source": [
    "# Display the docs in the notebook (rather than in the browser) - for fun"
   ]
  },
  {
   "cell_type": "code",
   "execution_count": 11,
   "metadata": {},
   "outputs": [
    {
     "data": {
      "text/html": [
       "\n",
       "        <iframe\n",
       "            width=\"90%\"\n",
       "            height=\"600px\"\n",
       "            src=\"http://localhost:8000/docs\"\n",
       "            frameborder=\"0\"\n",
       "            allowfullscreen\n",
       "            \n",
       "        ></iframe>\n",
       "        "
      ],
      "text/plain": [
       "<IPython.lib.display.IFrame at 0x1acc4cdfd70>"
      ]
     },
     "execution_count": 11,
     "metadata": {},
     "output_type": "execute_result"
    }
   ],
   "source": [
    "from IPython.display import IFrame\n",
    "\n",
    "# URL for the Swagger UI\n",
    "swagger_ui_url = \"http://localhost:8000/docs\"\n",
    "\n",
    "# Display Swagger UI in the notebook\n",
    "IFrame(src=swagger_ui_url, width='90%', height='600px')"
   ]
  },
  {
   "cell_type": "markdown",
   "metadata": {},
   "source": [
    "# Query the service"
   ]
  },
  {
   "cell_type": "markdown",
   "metadata": {},
   "source": [
    "**Using python**"
   ]
  },
  {
   "cell_type": "code",
   "execution_count": 18,
   "metadata": {},
   "outputs": [
    {
     "name": "stderr",
     "output_type": "stream",
     "text": [
      "2024-08-01 11:12:13,513 - urllib3.connectionpool - DEBUG - Starting new HTTP connection (1): localhost:8000\n",
      "2024-08-01 11:12:15,532 - urllib3.connectionpool - DEBUG - http://localhost:8000 \"GET / HTTP/11\" 200 78\n"
     ]
    },
    {
     "name": "stdout",
     "output_type": "stream",
     "text": [
      "Status Code: 200\n",
      "Response Text: {\"message\":\"Welcome 👋 to the Outlier Detection and Distribution Shift API\"}\n"
     ]
    }
   ],
   "source": [
    "import requests\n",
    "\n",
    "# root query\n",
    "headers = {\n",
    "    \"accept\": \"application/json\",\n",
    "    \"Content-Type\": \"application/json\"\n",
    "}\n",
    "response = requests.get(\"http://localhost:8000/\", \"\", headers=headers)\n",
    "print('Status Code:', response.status_code)\n",
    "print('Response Text:', response.text)"
   ]
  },
  {
   "cell_type": "code",
   "execution_count": 20,
   "metadata": {},
   "outputs": [
    {
     "data": {
      "text/plain": [
       "'{\"requests\":[{\"main_category\":\"SUBSCRIPTION BOXES\",\"title_review\":\"STEM Club Toy Subscription: 3-4 year olds\",\"average_rating\":4.4,\"rating_number\":2386,\"features\":[\"Subscribe and save up to 40% on STEM Toys\",\"Discover highly-rated STEM (Science, Technology, Engineering, & Math) Toys from leading brands handpicked by Amazon’s Toy experts\",\"Toys encourage understanding and exploration of STEM subjects for children in a fun and entertaining way\",\"Support the development of essential skills like logic, creativity, and problem-solving\",\"New for 2020 - STEM Club now includes limited selection of Arts and Crafts to encourage creativity, inspire imagination and innovation in children\"],\"store\":\"STEM Club\",\"rating\":5.0,\"title_metadata\":\"Five Stars\",\"text\":\"Awesome club I signed my grandson up for.\",\"timestamp\":\"2018-07-16T02:21:39.613000\",\"helpful_vote\":2,\"verified_purchase\":true},{\"main_category\":\"SUBSCRIPTION BOXES\",\"title_review\":\"BattlBox - Survival and Outdoor Gear Subscription Box: Pro Plus\",\"average_rating\":3.7,\"rating_number\":285,\"features\":[],\"store\":\"BATTLBOX\",\"rating\":5.0,\"title_metadata\":\"The only subscription you will ever need!\",\"text\":\"Well it is not hard to love being a subscriber to battlbox. Great service and Brandon\\'s videos are informative while being goofy. I have enjoyed watching all videos from mission 1 to now. Above that, I have enjoyed the seeing journey of what battlbox has become. Glad to be a subscriber and would happily recommend!\",\"timestamp\":\"2021-10-05T10:22:50.323000\",\"helpful_vote\":2,\"verified_purchase\":false}]}'"
      ]
     },
     "execution_count": 20,
     "metadata": {},
     "output_type": "execute_result"
    }
   ],
   "source": [
    "payload.json()"
   ]
  },
  {
   "cell_type": "code",
   "execution_count": 25,
   "metadata": {},
   "outputs": [],
   "source": [
    "payload = {\n",
    "    \"requests\": [\n",
    "        {\n",
    "            \"main_category\": \"SUBSCRIPTION BOXES\",\n",
    "            \"title_review\": \"STEM Club Toy Subscription: 3-4 year olds\",\n",
    "            \"average_rating\": 4.4,\n",
    "            \"rating_number\": 2386,\n",
    "            \"features\": [\n",
    "                \"Subscribe and save up to 40% on STEM Toys\",\n",
    "                \"Discover highly-rated STEM (Science, Technology, Engineering, & Math) Toys from leading brands handpicked by Amazon’s Toy experts\",\n",
    "                \"Toys encourage understanding and exploration of STEM subjects for children in a fun and entertaining way\",\n",
    "                \"Support the development of essential skills like logic, creativity, and problem-solving\",\n",
    "                \"New for 2020 - STEM Club now includes limited selection of Arts and Crafts to encourage creativity, inspire imagination and innovation in children\"\n",
    "            ],\n",
    "            \"store\": \"STEM Club\",\n",
    "            \"rating\": 5.0,\n",
    "            \"title_metadata\": \"Five Stars\",\n",
    "            \"text\": \"Awesome club I signed my grandson up for.\",\n",
    "            \"timestamp\": \"2018-07-16T02:21:39.613000\",\n",
    "            \"helpful_vote\": 2,\n",
    "            \"verified_purchase\": True\n",
    "        },\n",
    "        {\n",
    "            \"main_category\": \"SUBSCRIPTION BOXES\",\n",
    "            \"title_review\": \"BattlBox - Survival and Outdoor Gear Subscription Box: Pro Plus\",\n",
    "            \"average_rating\": 3.7,\n",
    "            \"rating_number\": 285,\n",
    "            \"features\": [],\n",
    "            \"store\": \"BATTLBOX\",\n",
    "            \"rating\": 5.0,\n",
    "            \"title_metadata\": \"The only subscription you will ever need!\",\n",
    "            \"text\": \"Well it is not hard to love being a subscriber to battlbox. Great service and Brandon's videos are informative while being goofy. I have enjoyed watching all videos from mission 1 to now. Above that, I have enjoyed the seeing journey of what battlbox has become. Glad to be a subscriber and would happily recommend!\",\n",
    "            \"timestamp\": \"2021-10-05T10:22:50.323000\",\n",
    "            \"helpful_vote\": 2,\n",
    "            \"verified_purchase\": False\n",
    "        }\n",
    "    ]\n",
    "}"
   ]
  },
  {
   "cell_type": "code",
   "execution_count": 26,
   "metadata": {},
   "outputs": [
    {
     "ename": "AttributeError",
     "evalue": "'dict' object has no attribute 'dict'",
     "output_type": "error",
     "traceback": [
      "\u001b[1;31m---------------------------------------------------------------------------\u001b[0m",
      "\u001b[1;31mAttributeError\u001b[0m                            Traceback (most recent call last)",
      "Cell \u001b[1;32mIn[26], line 1\u001b[0m\n\u001b[1;32m----> 1\u001b[0m data1 \u001b[38;5;241m=\u001b[39m \u001b[43mpayload\u001b[49m\u001b[38;5;241;43m.\u001b[39;49m\u001b[43mdict\u001b[49m()\n\u001b[0;32m      2\u001b[0m data2 \u001b[38;5;241m=\u001b[39m payload\u001b[38;5;241m.\u001b[39mmodel_dump_json()\n\u001b[0;32m      3\u001b[0m \u001b[38;5;28mprint\u001b[39m(data1)\n",
      "\u001b[1;31mAttributeError\u001b[0m: 'dict' object has no attribute 'dict'"
     ]
    }
   ],
   "source": [
    "data1 = payload.dict()\n",
    "data2 = payload.model_dump_json()\n",
    "print(data1)"
   ]
  },
  {
   "cell_type": "code",
   "execution_count": 27,
   "metadata": {},
   "outputs": [
    {
     "name": "stderr",
     "output_type": "stream",
     "text": [
      "2024-08-01 11:24:24,081 - urllib3.connectionpool - DEBUG - Starting new HTTP connection (1): localhost:8000\n",
      "2024-08-01 11:24:26,140 - urllib3.connectionpool - DEBUG - http://localhost:8000 \"POST /api/detect_outliers HTTP/11\" 500 21\n"
     ]
    },
    {
     "name": "stdout",
     "output_type": "stream",
     "text": [
      "Status Code: 500\n",
      "Request failed with status code 500\n",
      "Internal Server Error\n"
     ]
    }
   ],
   "source": [
    "import requests\n",
    "# outlier query\n",
    "url = 'http://localhost:8000/api/detect_outliers'\n",
    "headers = {\n",
    "    \"accept\": \"application/json\",\n",
    "    \"Content-Type\": \"application/json\"\n",
    "}\n",
    "# convert input to json (fastapi will convert it automatically to proper format using pydantic. no need to serialize)\n",
    "response = requests.post(url, json=payload, headers=headers)\n",
    "\n",
    "# Check the status code and print appropriate messages\n",
    "print('Status Code:', response.status_code)\n",
    "if response.status_code == 200:\n",
    "    try:\n",
    "        print(response.json())\n",
    "    except requests.exceptions.JSONDecodeError:\n",
    "        print(\"Response content is not valid JSON\")\n",
    "else:\n",
    "    print(f\"Request failed with status code {response.status_code}\")\n",
    "    print(response.text)"
   ]
  },
  {
   "cell_type": "markdown",
   "metadata": {},
   "source": [
    "**Using shell**"
   ]
  },
  {
   "cell_type": "code",
   "execution_count": 8,
   "metadata": {},
   "outputs": [
    {
     "data": {
      "text/plain": [
       "src.api.outlier_detection.BatchOutlierDetectionRequest"
      ]
     },
     "execution_count": 8,
     "metadata": {},
     "output_type": "execute_result"
    }
   ],
   "source": [
    "type(payload)"
   ]
  }
 ],
 "metadata": {
  "kernelspec": {
   "display_name": "reviewoutliers-SwZO3ms--py3.12",
   "language": "python",
   "name": "python3"
  },
  "language_info": {
   "codemirror_mode": {
    "name": "ipython",
    "version": 3
   },
   "file_extension": ".py",
   "mimetype": "text/x-python",
   "name": "python",
   "nbconvert_exporter": "python",
   "pygments_lexer": "ipython3",
   "version": "3.12.2"
  }
 },
 "nbformat": 4,
 "nbformat_minor": 2
}
