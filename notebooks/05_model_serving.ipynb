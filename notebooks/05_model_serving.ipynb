{
 "cells": [
  {
   "cell_type": "markdown",
   "metadata": {},
   "source": [
    "# User params"
   ]
  },
  {
   "cell_type": "code",
   "execution_count": 1,
   "metadata": {},
   "outputs": [],
   "source": [
    "n_data = 2  # numebr of samples"
   ]
  },
  {
   "cell_type": "code",
   "execution_count": 2,
   "metadata": {},
   "outputs": [],
   "source": [
    "import os, sys\n",
    "sys.path.append(os.path.abspath('../src'))\n",
    "from src.config import BASE_PATH_DATA, PATH_PROJECT\n",
    "os.chdir(PATH_PROJECT)"
   ]
  },
  {
   "cell_type": "markdown",
   "metadata": {},
   "source": [
    "# Utility functions"
   ]
  },
  {
   "cell_type": "markdown",
   "metadata": {},
   "source": [
    "# Prepare some data"
   ]
  },
  {
   "cell_type": "code",
   "execution_count": 3,
   "metadata": {},
   "outputs": [
    {
     "name": "stderr",
     "output_type": "stream",
     "text": [
      "2024-08-08 08:34:17,177 - src.config - DEBUG - calling load_dataframe\n",
      "2024-08-08 08:34:17,178 - src.config - INFO - Current working directory: C:\\Users\\alexi\\WORKSPACE\\interview_abwaab\\ReviewOutliers\n"
     ]
    },
    {
     "data": {
      "text/html": [
       "<div>\n",
       "<style scoped>\n",
       "    .dataframe tbody tr th:only-of-type {\n",
       "        vertical-align: middle;\n",
       "    }\n",
       "\n",
       "    .dataframe tbody tr th {\n",
       "        vertical-align: top;\n",
       "    }\n",
       "\n",
       "    .dataframe thead th {\n",
       "        text-align: right;\n",
       "    }\n",
       "</style>\n",
       "<table border=\"1\" class=\"dataframe\">\n",
       "  <thead>\n",
       "    <tr style=\"text-align: right;\">\n",
       "      <th></th>\n",
       "      <th>rating</th>\n",
       "      <th>title_review</th>\n",
       "      <th>text</th>\n",
       "      <th>images_review</th>\n",
       "      <th>asin</th>\n",
       "      <th>parent_asin</th>\n",
       "      <th>user_id</th>\n",
       "      <th>timestamp</th>\n",
       "      <th>helpful_vote</th>\n",
       "      <th>verified_purchase</th>\n",
       "      <th>...</th>\n",
       "      <th>description</th>\n",
       "      <th>price</th>\n",
       "      <th>images_metadata</th>\n",
       "      <th>videos</th>\n",
       "      <th>store</th>\n",
       "      <th>categories</th>\n",
       "      <th>details</th>\n",
       "      <th>bought_together</th>\n",
       "      <th>subtitle</th>\n",
       "      <th>author</th>\n",
       "    </tr>\n",
       "  </thead>\n",
       "  <tbody>\n",
       "    <tr>\n",
       "      <th>11997</th>\n",
       "      <td>5.0</td>\n",
       "      <td>Perfect!</td>\n",
       "      <td>I accidentally burned a plastic spoon onto my ...</td>\n",
       "      <td>[]</td>\n",
       "      <td>B003BNZ4Z4</td>\n",
       "      <td>B003BNZ954</td>\n",
       "      <td>AHNASNRZL6PBPRR6PQYLCA5PYJGQ</td>\n",
       "      <td>1654229300148</td>\n",
       "      <td>1</td>\n",
       "      <td>True</td>\n",
       "      <td>...</td>\n",
       "      <td>[Product Description, This high quality Genuin...</td>\n",
       "      <td>37.06</td>\n",
       "      <td>{'hi_res': ['https://m.media-amazon.com/images...</td>\n",
       "      <td>{'title': ['Generic Version was shipped (not a...</td>\n",
       "      <td>GE</td>\n",
       "      <td>[Appliances, Parts &amp; Accessories, Range Parts ...</td>\n",
       "      <td>{\"Manufacturer\": \"GE\", \"Part Number\": \"WB30M2\"...</td>\n",
       "      <td>None</td>\n",
       "      <td>None</td>\n",
       "      <td>None</td>\n",
       "    </tr>\n",
       "    <tr>\n",
       "      <th>41594</th>\n",
       "      <td>5.0</td>\n",
       "      <td>Very happy.</td>\n",
       "      <td>As described.  Very happy.</td>\n",
       "      <td>[]</td>\n",
       "      <td>B00DZUAEVW</td>\n",
       "      <td>B00DZUAEVW</td>\n",
       "      <td>AHZOBCY2BXC2SWQV47QIDTJ57WRA</td>\n",
       "      <td>1463280089000</td>\n",
       "      <td>0</td>\n",
       "      <td>True</td>\n",
       "      <td>...</td>\n",
       "      <td>[Product Description, This is a genuine replac...</td>\n",
       "      <td>13.69</td>\n",
       "      <td>{'hi_res': ['https://m.media-amazon.com/images...</td>\n",
       "      <td>{'title': ['My Icemaker Stopped Making Ice | K...</td>\n",
       "      <td>Whirlpool</td>\n",
       "      <td>[Appliances, Parts &amp; Accessories, Refrigerator...</td>\n",
       "      <td>{\"Manufacturer\": \"Whirlpool\", \"Part Number\": \"...</td>\n",
       "      <td>None</td>\n",
       "      <td>None</td>\n",
       "      <td>None</td>\n",
       "    </tr>\n",
       "  </tbody>\n",
       "</table>\n",
       "<p>2 rows × 25 columns</p>\n",
       "</div>"
      ],
      "text/plain": [
       "       rating title_review                                               text  \\\n",
       "11997     5.0     Perfect!  I accidentally burned a plastic spoon onto my ...   \n",
       "41594     5.0  Very happy.                         As described.  Very happy.   \n",
       "\n",
       "      images_review        asin parent_asin                       user_id  \\\n",
       "11997            []  B003BNZ4Z4  B003BNZ954  AHNASNRZL6PBPRR6PQYLCA5PYJGQ   \n",
       "41594            []  B00DZUAEVW  B00DZUAEVW  AHZOBCY2BXC2SWQV47QIDTJ57WRA   \n",
       "\n",
       "           timestamp  helpful_vote  verified_purchase  ...  \\\n",
       "11997  1654229300148             1               True  ...   \n",
       "41594  1463280089000             0               True  ...   \n",
       "\n",
       "                                             description  price  \\\n",
       "11997  [Product Description, This high quality Genuin...  37.06   \n",
       "41594  [Product Description, This is a genuine replac...  13.69   \n",
       "\n",
       "                                         images_metadata  \\\n",
       "11997  {'hi_res': ['https://m.media-amazon.com/images...   \n",
       "41594  {'hi_res': ['https://m.media-amazon.com/images...   \n",
       "\n",
       "                                                  videos      store  \\\n",
       "11997  {'title': ['Generic Version was shipped (not a...         GE   \n",
       "41594  {'title': ['My Icemaker Stopped Making Ice | K...  Whirlpool   \n",
       "\n",
       "                                              categories  \\\n",
       "11997  [Appliances, Parts & Accessories, Range Parts ...   \n",
       "41594  [Appliances, Parts & Accessories, Refrigerator...   \n",
       "\n",
       "                                                 details bought_together  \\\n",
       "11997  {\"Manufacturer\": \"GE\", \"Part Number\": \"WB30M2\"...            None   \n",
       "41594  {\"Manufacturer\": \"Whirlpool\", \"Part Number\": \"...            None   \n",
       "\n",
       "      subtitle author  \n",
       "11997     None   None  \n",
       "41594     None   None  \n",
       "\n",
       "[2 rows x 25 columns]"
      ]
     },
     "metadata": {},
     "output_type": "display_data"
    },
    {
     "name": "stderr",
     "output_type": "stream",
     "text": [
      "2024-08-08 08:34:22,820 - src.config - DEBUG - calling create_batch_detection_request\n",
      "2024-08-08 08:34:22,822 - src.config - DEBUG - calling create_detection_request\n",
      "2024-08-08 08:34:22,823 - src.config - DEBUG - user_id found in input data\n",
      "2024-08-08 08:34:22,824 - src.config - DEBUG - title_review found in input data\n",
      "2024-08-08 08:34:22,826 - src.config - DEBUG - text found in input data\n",
      "2024-08-08 08:34:22,828 - src.config - DEBUG - title_metadata found in input data\n",
      "2024-08-08 08:34:22,829 - src.config - DEBUG - features found in input data\n",
      "2024-08-08 08:34:22,831 - src.config - DEBUG - description found in input data\n",
      "2024-08-08 08:34:22,832 - src.config - DEBUG - store found in input data\n",
      "2024-08-08 08:34:22,835 - src.config - DEBUG - asin found in input data\n",
      "2024-08-08 08:34:22,837 - src.config - DEBUG - parent_asin found in input data\n",
      "2024-08-08 08:34:22,841 - src.config - DEBUG - timestamp found in input data\n",
      "2024-08-08 08:34:22,843 - src.config - DEBUG - rating found in input data\n",
      "2024-08-08 08:34:22,845 - src.config - DEBUG - average_rating found in input data\n",
      "2024-08-08 08:34:22,852 - src.config - DEBUG - price found in input data\n",
      "2024-08-08 08:34:22,860 - src.config - DEBUG - helpful_vote found in input data\n",
      "2024-08-08 08:34:22,866 - src.config - DEBUG - verified_purchase found in input data\n",
      "2024-08-08 08:34:22,869 - src.config - DEBUG - rating_number found in input data\n",
      "2024-08-08 08:34:22,871 - src.config - DEBUG - calling create_detection_request\n",
      "2024-08-08 08:34:22,876 - src.config - DEBUG - user_id found in input data\n",
      "2024-08-08 08:34:22,877 - src.config - DEBUG - title_review found in input data\n",
      "2024-08-08 08:34:22,880 - src.config - DEBUG - text found in input data\n",
      "2024-08-08 08:34:22,882 - src.config - DEBUG - title_metadata found in input data\n",
      "2024-08-08 08:34:22,885 - src.config - DEBUG - features found in input data\n",
      "2024-08-08 08:34:22,888 - src.config - DEBUG - description found in input data\n",
      "2024-08-08 08:34:22,889 - src.config - DEBUG - store found in input data\n",
      "2024-08-08 08:34:22,892 - src.config - DEBUG - asin found in input data\n",
      "2024-08-08 08:34:22,894 - src.config - DEBUG - parent_asin found in input data\n",
      "2024-08-08 08:34:22,897 - src.config - DEBUG - timestamp found in input data\n",
      "2024-08-08 08:34:22,898 - src.config - DEBUG - rating found in input data\n",
      "2024-08-08 08:34:22,901 - src.config - DEBUG - average_rating found in input data\n",
      "2024-08-08 08:34:22,903 - src.config - DEBUG - price found in input data\n",
      "2024-08-08 08:34:22,907 - src.config - DEBUG - helpful_vote found in input data\n",
      "2024-08-08 08:34:22,909 - src.config - DEBUG - verified_purchase found in input data\n",
      "2024-08-08 08:34:22,910 - src.config - DEBUG - rating_number found in input data\n"
     ]
    },
    {
     "name": "stdout",
     "output_type": "stream",
     "text": [
      "rating: float64\n",
      "title_review: object\n",
      "text: object\n",
      "images_review: object\n",
      "asin: object\n",
      "parent_asin: object\n",
      "user_id: object\n",
      "timestamp: int64\n",
      "helpful_vote: int64\n",
      "verified_purchase: bool\n",
      "main_category: object\n",
      "title_metadata: object\n",
      "average_rating: float64\n",
      "rating_number: int64\n",
      "features: object\n",
      "description: object\n",
      "price: object\n",
      "images_metadata: object\n",
      "videos: object\n",
      "store: object\n",
      "categories: object\n",
      "details: object\n",
      "bought_together: object\n",
      "subtitle: object\n",
      "author: object\n",
      "user_id='AHNASNRZL6PBPRR6PQYLCA5PYJGQ' title_review='Perfect!' text='I accidentally burned a plastic spoon onto my burner and this was a perfect replacement.  Came quick and was a perfect fit!' title_metadata='GE WB30M2 Genuine OEM 8\" Surface Element Coil for GE Electric Ranges' features=['noture/20', 'Imported', 'The GE Appliances WB30M2 8\" Surface Element Coil is a genuine OEM (Original Equipment Manufacturer) part designed and engineered to exact specifications', 'Replacement GE Appliances Range 8\" Surface Element Coil supplies the heat to a cooking area', 'GE Appliances WB30M2 Range 8\" Surface Element Coil stove top coil heating element is 8\" in diameter', 'High quality GE Appliances OEM WB30M2 Range 8\" Surface Element Coil is manufactured with premium materials for durability and exact fit, be sure to follow instructions in owners manual when installing this part', 'Repair your appliance with confidence when you choose Genuine GE Appliances Parts & Accessories'] description=['Product Description', 'This high quality Genuine OEM GE Appliances 8\" Surface Element Coil (WB30M2) supplies the heat to a cooking area . The 8\" Surface Element Coil stove top coil heating element is 8\" in diameter. Please be aware that it is recommended to disconnect the appliance from all utilities prior to installation of the 8\" Surface Element Coil.Compatible Models: JMP28GR3AD, JBP80WS1, JMP29GT1BB, JMS08GR2AD, JMP28GT1WH, JMP31WR2WH, JSS16P3WH, JBP26G*R2, JMP29GR2BK, JHP56GN6WH, JMP28GR2WH, JMS10GR2WH, JMS08GT1WH, LEB327GS1WW, JMP29GR3BK, JMP28GR3WH, JMS08GR2WH, JSS16P2AD, JMP28GT1AD, JBP80AS1, LEB133GS1WW, JSS16P3AD, JHP56GN6AD, JMP28GR2AD, JBP80GS1, JMS10GR2AD, JMS08GT1AD, JMP31WT1WW, JSP28GT1BB, JSS16P2WH, JBC16G*R2, JBC16G*R3, JBC17G*R3, JBC17GS1, JBP20GS1, JBP22*R3, JBP22G*R3, JBP22GES1, JBP24G*R3, JBP25G*R3, JBP26G*R3, JBP27G*R3, JBP28G*R3, JBP45AS1, JBP45G*R3, JBP45GS1, JBP45WS1, JBP48GS1, JBP48GS2, JBP55G*R3', 'From the Manufacturer', 'General Electric WB30M2 Stove 8\" Burner Surface Element is 6 turn element for GE, Hotpoint and RCA stoves. This is a genuine GE factory part and comes with GE\\'s 1 year warranty.'] store='GE' asin='B003BNZ4Z4' parent_asin='B003BNZ954' timestamp=1654229300148 rating=5 average_rating=4.1 price=37.06 helpful_vote=1 verified_purchase=True rating_number=1106\n",
      "requests=[DetectionRequest(user_id='AHNASNRZL6PBPRR6PQYLCA5PYJGQ', title_review='Perfect!', text='I accidentally burned a plastic spoon onto my burner and this was a perfect replacement.  Came quick and was a perfect fit!', title_metadata='GE WB30M2 Genuine OEM 8\" Surface Element Coil for GE Electric Ranges', features=['noture/20', 'Imported', 'The GE Appliances WB30M2 8\" Surface Element Coil is a genuine OEM (Original Equipment Manufacturer) part designed and engineered to exact specifications', 'Replacement GE Appliances Range 8\" Surface Element Coil supplies the heat to a cooking area', 'GE Appliances WB30M2 Range 8\" Surface Element Coil stove top coil heating element is 8\" in diameter', 'High quality GE Appliances OEM WB30M2 Range 8\" Surface Element Coil is manufactured with premium materials for durability and exact fit, be sure to follow instructions in owners manual when installing this part', 'Repair your appliance with confidence when you choose Genuine GE Appliances Parts & Accessories'], description=['Product Description', 'This high quality Genuine OEM GE Appliances 8\" Surface Element Coil (WB30M2) supplies the heat to a cooking area . The 8\" Surface Element Coil stove top coil heating element is 8\" in diameter. Please be aware that it is recommended to disconnect the appliance from all utilities prior to installation of the 8\" Surface Element Coil.Compatible Models: JMP28GR3AD, JBP80WS1, JMP29GT1BB, JMS08GR2AD, JMP28GT1WH, JMP31WR2WH, JSS16P3WH, JBP26G*R2, JMP29GR2BK, JHP56GN6WH, JMP28GR2WH, JMS10GR2WH, JMS08GT1WH, LEB327GS1WW, JMP29GR3BK, JMP28GR3WH, JMS08GR2WH, JSS16P2AD, JMP28GT1AD, JBP80AS1, LEB133GS1WW, JSS16P3AD, JHP56GN6AD, JMP28GR2AD, JBP80GS1, JMS10GR2AD, JMS08GT1AD, JMP31WT1WW, JSP28GT1BB, JSS16P2WH, JBC16G*R2, JBC16G*R3, JBC17G*R3, JBC17GS1, JBP20GS1, JBP22*R3, JBP22G*R3, JBP22GES1, JBP24G*R3, JBP25G*R3, JBP26G*R3, JBP27G*R3, JBP28G*R3, JBP45AS1, JBP45G*R3, JBP45GS1, JBP45WS1, JBP48GS1, JBP48GS2, JBP55G*R3', 'From the Manufacturer', 'General Electric WB30M2 Stove 8\" Burner Surface Element is 6 turn element for GE, Hotpoint and RCA stoves. This is a genuine GE factory part and comes with GE\\'s 1 year warranty.'], store='GE', asin='B003BNZ4Z4', parent_asin='B003BNZ954', timestamp=1654229300148, rating=5, average_rating=4.1, price=37.06, helpful_vote=1, verified_purchase=True, rating_number=1106), DetectionRequest(user_id='AHZOBCY2BXC2SWQV47QIDTJ57WRA', title_review='Very happy.', text='As described.  Very happy.', title_metadata='Whirlpool 2196157 Icemaker', features=['Whirlpool item', 'Manufacturer model # 2196157', 'This is a genuine replacement part'], description=['Product Description', 'This is a genuine replacement part. The model number and name for the following item is: Whirlpool 2196157 Icemaker Fitting.', 'From the Manufacturer', 'This is a genuine replacement part. The model number and name for the following item is: Whirlpool 2196157 Icemaker Fitting.'], store='Whirlpool', asin='B00DZUAEVW', parent_asin='B00DZUAEVW', timestamp=1463280089000, rating=5, average_rating=4.5, price=13.69, helpful_vote=0, verified_purchase=True, rating_number=90)]\n"
     ]
    }
   ],
   "source": [
    "from src.utils.io.io import load_dataframe\n",
    "from src.config import BASE_PATH_DATA\n",
    "from src.api.utils import create_batch_detection_request\n",
    "\n",
    "# load test data\n",
    "df_test = load_dataframe(os.path.join(BASE_PATH_DATA, 'processed', 'test.parquet'))\n",
    "df_test = df_test.sample(n_data)  # take some samples\n",
    "display(df_test)\n",
    "\n",
    "# Print column names and their data types\n",
    "for col in df_test.columns:\n",
    "    print(f\"{col}: {df_test[col].dtype}\")\n",
    "\n",
    "# format the data for a request\n",
    "json_data = df_test.to_dict(orient=\"records\")\n",
    "payload = create_batch_detection_request(json_data)\n",
    "\n",
    "print(payload.requests[0])\n",
    "print(payload)\n"
   ]
  },
  {
   "cell_type": "markdown",
   "metadata": {},
   "source": [
    "# Launch the service"
   ]
  },
  {
   "cell_type": "markdown",
   "metadata": {},
   "source": [
    "**In local**"
   ]
  },
  {
   "cell_type": "code",
   "execution_count": 12,
   "metadata": {},
   "outputs": [
    {
     "name": "stdout",
     "output_type": "stream",
     "text": [
      "/c/Users/alexi/WORKSPACE/interview_abwaab/ReviewOutliers\n"
     ]
    },
    {
     "name": "stderr",
     "output_type": "stream",
     "text": [
      "kill: usage: kill [-s sigspec | -n signum | -sigspec] pid | jobspec ... or kill -l [sigspec]\n",
      "  % Total    % Received % Xferd  Average Speed   Time    Time     Time  Current\n",
      "                                 Dload  Upload   Total   Spent    Left  Speed\n",
      "100    78  100    78    0     0    369      0 --:--:-- --:--:-- --:--:--   369\n"
     ]
    },
    {
     "name": "stdout",
     "output_type": "stream",
     "text": [
      "{\"message\":\"Welcome 👋 to the Outlier Detection and Distribution Shift API\"}"
     ]
    }
   ],
   "source": [
    "%%sh\n",
    "# check process is at project root (\n",
    "# -> ok because changed dir at the beginning of the notebook\n",
    "pwd\n",
    "\n",
    "# Kill any existing Uvicorn processes\n",
    "kill $(ps aux | grep 'uvicorn' | grep -v grep | awk '{print $2}')\n",
    "\n",
    "# Start a new Uvicorn server process with nohup to detach it and run it in the background\n",
    "# poetry run uvicorn src.app:app --host 0.0.0.0 --port 8000 --reload: Run the Uvicorn server using Poetry\n",
    "# --host 0.0.0.0: Bind the server to all network interfaces\n",
    "# --port 8000: Use port 8000 for the server\n",
    "# --reload: Enable auto-reloading for code changes (useful during development)\n",
    "# > logs/uvicorn.log 2>&1: Redirect both stdout and stderr to the log file logs/uvicorn.log\n",
    "# &: Run the command in the background\n",
    "nohup poetry run uvicorn src.app:app --host 0.0.0.0 --port 8000 --reload > logs/uvicorn.log 2>&1 &\n",
    "\n",
    "# Wait for 5 seconds to ensure the server has started\n",
    "sleep 5\n",
    "\n",
    "# Check if the server is running by sending a request\n",
    "# If curl fails (i.e., the server is not running or the endpoint is incorrect), it outputs \"Server is not running\".\n",
    "curl -f http://localhost:8000/ || echo \"Server is not running\"\n",
    "\n"
   ]
  },
  {
   "cell_type": "markdown",
   "metadata": {},
   "source": [
    "**Using docker**"
   ]
  },
  {
   "cell_type": "code",
   "execution_count": null,
   "metadata": {},
   "outputs": [],
   "source": [
    "%%sh\n",
    "\n",
    "# Kill any existing Uvicorn processes\n",
    "kill $(ps aux | grep 'uvicorn' | grep -v grep | awk '{print $2}')\n",
    "\n",
    "# build the container\n",
    "make build_docker\n",
    "\n",
    "# run it\n",
    "make run_docker\n",
    "\n",
    "# Wait for 5 seconds to ensure the server has started\n",
    "sleep 5\n",
    "\n",
    "# Check if the server is running by sending a request\n",
    "# If curl fails (i.e., the server is not running or the endpoint is incorrect), it outputs \"Server is not running\".\n",
    "curl -f http://localhost:8000/ || echo \"Server is not running\""
   ]
  },
  {
   "cell_type": "markdown",
   "metadata": {},
   "source": [
    "# Display the docs in the notebook (rather than in the browser) - for fun"
   ]
  },
  {
   "cell_type": "code",
   "execution_count": null,
   "metadata": {},
   "outputs": [],
   "source": [
    "# from IPython.display import IFrame\n",
    "\n",
    "# # URL for the Swagger UI\n",
    "# swagger_ui_url = \"http://localhost:8000/docs\"\n",
    "\n",
    "# # Display Swagger UI in the notebook\n",
    "# IFrame(src=swagger_ui_url, width='90%', height='600px')"
   ]
  },
  {
   "cell_type": "markdown",
   "metadata": {},
   "source": [
    "# Query the service"
   ]
  },
  {
   "cell_type": "markdown",
   "metadata": {},
   "source": [
    "**Using python**"
   ]
  },
  {
   "cell_type": "code",
   "execution_count": 5,
   "metadata": {},
   "outputs": [
    {
     "name": "stderr",
     "output_type": "stream",
     "text": [
      "2024-08-08 08:34:56,902 - urllib3.connectionpool - DEBUG - Starting new HTTP connection (1): localhost:8000\n",
      "2024-08-08 08:34:58,946 - urllib3.connectionpool - DEBUG - http://localhost:8000 \"GET / HTTP/11\" 200 78\n"
     ]
    },
    {
     "name": "stdout",
     "output_type": "stream",
     "text": [
      "Status Code: 200\n",
      "Response Text: {\"message\":\"Welcome 👋 to the Outlier Detection and Distribution Shift API\"}\n"
     ]
    }
   ],
   "source": [
    "import requests\n",
    "\n",
    "# root query\n",
    "headers = {\n",
    "    \"accept\": \"application/json\",\n",
    "    \"Content-Type\": \"application/json\"\n",
    "}\n",
    "response = requests.get(\"http://localhost:8000/\", \"\", headers=headers)\n",
    "print('Status Code:', response.status_code)\n",
    "print('Response Text:', response.text)"
   ]
  },
  {
   "cell_type": "code",
   "execution_count": 13,
   "metadata": {},
   "outputs": [
    {
     "name": "stderr",
     "output_type": "stream",
     "text": [
      "2024-08-08 09:31:43,623 - urllib3.connectionpool - DEBUG - Starting new HTTP connection (1): localhost:8000\n",
      "2024-08-08 09:31:46,180 - urllib3.connectionpool - DEBUG - http://localhost:8000 \"POST /anomaly/detect_outliers HTTP/11\" 200 47\n"
     ]
    },
    {
     "name": "stdout",
     "output_type": "stream",
     "text": [
      "Status Code: 200\n",
      "{'results': [{'is_outlier': 0}, {'is_outlier': 0}]}\n"
     ]
    }
   ],
   "source": [
    "import requests\n",
    "# outlier query\n",
    "url = 'http://localhost:8000/anomaly/detect_outliers'\n",
    "headers = {\n",
    "    \"accept\": \"application/json\",\n",
    "    \"Content-Type\": \"application/json\"\n",
    "}\n",
    "# convert input to json (fastapi will convert it automatically to proper format using pydantic. no need to serialize)\n",
    "response = requests.post(url, json=payload.dict(), headers=headers)\n",
    "\n",
    "# Check the status code and print appropriate messages\n",
    "print('Status Code:', response.status_code)\n",
    "if response.status_code == 200:\n",
    "    try:\n",
    "        print(response.json())\n",
    "    except requests.exceptions.JSONDecodeError:\n",
    "        print(\"Response content is not valid JSON\")\n",
    "else:\n",
    "    print(f\"Request failed with status code {response.status_code}\")\n",
    "    print(response.text)"
   ]
  }
 ],
 "metadata": {
  "kernelspec": {
   "display_name": "reviewoutliers-SwZO3ms--py3.12",
   "language": "python",
   "name": "python3"
  },
  "language_info": {
   "codemirror_mode": {
    "name": "ipython",
    "version": 3
   },
   "file_extension": ".py",
   "mimetype": "text/x-python",
   "name": "python",
   "nbconvert_exporter": "python",
   "pygments_lexer": "ipython3",
   "version": "3.12.2"
  }
 },
 "nbformat": 4,
 "nbformat_minor": 2
}
