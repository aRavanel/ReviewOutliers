{
 "cells": [
  {
   "cell_type": "markdown",
   "metadata": {},
   "source": [
    "# Download, extract and store data locally"
   ]
  },
  {
   "cell_type": "markdown",
   "metadata": {},
   "source": [
    "# User params"
   ]
  },
  {
   "cell_type": "code",
   "execution_count": 1,
   "metadata": {},
   "outputs": [],
   "source": [
    "# Possible categories to download:\n",
    "# --------------------------------\n",
    "# All_Beauty\n",
    "# Amazon_Fashion\n",
    "# Appliances\n",
    "# Arts_Crafts_and_Sewing\n",
    "# Automotive\n",
    "# Baby_Products\n",
    "# Beauty_and_Personal_Care\n",
    "# Books\n",
    "# CDs_and_Vinyl\n",
    "# Cell_Phones_and_Accessories\n",
    "# Clothing_Shoes_and_Jewelry\n",
    "# Digital_Music\n",
    "# Electronics\n",
    "# Gift_Cards\n",
    "# Grocery_and_Gourmet_Food\n",
    "# Handmade_Products\n",
    "# Health_and_Household\n",
    "# Health_and_Personal_Care\n",
    "# Home_and_Kitchen\n",
    "# Industrial_and_Scientific\n",
    "# Kindle_Store\n",
    "# Magazine_Subscriptions\n",
    "# Movies_and_TV\n",
    "# Musical_Instruments\n",
    "# Office_Products\n",
    "# Patio_Lawn_and_Garden\n",
    "# Pet_Supplies\n",
    "# Software\n",
    "# Sports_and_Outdoors\n",
    "# Subscription_Boxes\n",
    "# Tools_and_Home_Improvement\n",
    "# Toys_and_Games\n",
    "# Video_Games\n",
    "\n",
    "category_to_download = \"Gift_Cards\"\n",
    "\n",
    "\n",
    "# For dataset library\n",
    "# ---------------------\n",
    "# type of data to download\n",
    "# entire unprocessed data: \n",
    "# - 'raw_'\n",
    "# processed data : \n",
    "# - \"0core_rating_\", \"0core_timestamp_\", \"0core_timestamp_w_his_\"\n",
    "# - \"5core_rating_\", \"5core_timestamp_\", \"5core_timestamp_w_his_\"\n",
    "type = 'raw_'\n",
    "split = \"full\" # \"full\", \"train\", \"valid\", \"test\"\n"
   ]
  },
  {
   "cell_type": "markdown",
   "metadata": {},
   "source": [
    "# Utility Functions"
   ]
  },
  {
   "cell_type": "code",
   "execution_count": 3,
   "metadata": {},
   "outputs": [],
   "source": [
    "# add src folder to path\n",
    "import sys\n",
    "import os\n",
    "sys.path.append(os.path.abspath('../src'))\n",
    "\n",
    "# other imports\n",
    "from pathlib import Path\n"
   ]
  },
  {
   "cell_type": "markdown",
   "metadata": {},
   "source": [
    "# Processing"
   ]
  },
  {
   "cell_type": "markdown",
   "metadata": {},
   "source": [
    "### Download using native utilities"
   ]
  },
  {
   "cell_type": "code",
   "execution_count": 2,
   "metadata": {},
   "outputs": [
    {
     "ename": "NameError",
     "evalue": "name 'download_data' is not defined",
     "output_type": "error",
     "traceback": [
      "\u001b[1;31m---------------------------------------------------------------------------\u001b[0m",
      "\u001b[1;31mNameError\u001b[0m                                 Traceback (most recent call last)",
      "Cell \u001b[1;32mIn[2], line 1\u001b[0m\n\u001b[1;32m----> 1\u001b[0m \u001b[43mdownload_data\u001b[49m(category_to_download)\n",
      "\u001b[1;31mNameError\u001b[0m: name 'download_data' is not defined"
     ]
    }
   ],
   "source": [
    "from src.utils.download import download_data\n",
    "download_data(category_to_download)"
   ]
  },
  {
   "cell_type": "markdown",
   "metadata": {},
   "source": [
    "### Download using datasets library"
   ]
  },
  {
   "cell_type": "code",
   "execution_count": 3,
   "metadata": {},
   "outputs": [
    {
     "data": {
      "application/vnd.jupyter.widget-view+json": {
       "model_id": "f4db0ce5bff04ef88bca5463bed907f8",
       "version_major": 2,
       "version_minor": 0
      },
      "text/plain": [
       "Downloading data:   0%|          | 0.00/2.95G [00:00<?, ?B/s]"
      ]
     },
     "metadata": {},
     "output_type": "display_data"
    },
    {
     "data": {
      "application/vnd.jupyter.widget-view+json": {
       "model_id": "99dfd24699eb45dcb55fde1de649e21d",
       "version_major": 2,
       "version_minor": 0
      },
      "text/plain": [
       "Generating full split: 0 examples [00:00, ? examples/s]"
      ]
     },
     "metadata": {},
     "output_type": "display_data"
    },
    {
     "name": "stdout",
     "output_type": "stream",
     "text": [
      "6028884\n",
      "{'rating': 4.0, 'title': 'Good buy for preschool naps and home use...', 'text': 'I bought two of these for my kids for nap time at their preschool. But they also use at home to &#34;camp&#34;...lol. They seem to work pretty well are cute designs and have held up through multiple washings on the gentle cycle and air fluff or lay flat to dry. They still look brand new to me! They are a little stiff at first ( and sometimes after washing) but with use they do become softer and the inside is plenty soft for sleeping- my kiddos have not complaints!', 'images': [], 'asin': 'B004FM7VOW', 'parent_asin': 'B089MS68G8', 'user_id': 'AGKASBHYZPGTEPO6LWZPVJWB2BVA', 'timestamp': 1471546337000, 'helpful_vote': 1, 'verified_purchase': True}\n"
     ]
    },
    {
     "data": {
      "application/vnd.jupyter.widget-view+json": {
       "model_id": "a0a4071904d04a43bf9ce5501755edb1",
       "version_major": 2,
       "version_minor": 0
      },
      "text/plain": [
       "Downloading data:   0%|          | 0.00/691M [00:00<?, ?B/s]"
      ]
     },
     "metadata": {},
     "output_type": "display_data"
    },
    {
     "data": {
      "application/vnd.jupyter.widget-view+json": {
       "model_id": "427e40c52a644b5da884bd1bc4a734c0",
       "version_major": 2,
       "version_minor": 0
      },
      "text/plain": [
       "Generating full split: 0 examples [00:00, ? examples/s]"
      ]
     },
     "metadata": {},
     "output_type": "display_data"
    },
    {
     "name": "stdout",
     "output_type": "stream",
     "text": [
      "217724\n",
      "{'main_category': 'Baby', 'title': 'Chicco Viaro Travel System, Teak', 'average_rating': 4.6, 'rating_number': 125, 'features': ['Aluminum', 'Imported', 'Convenient one-hand quick fold. Assembled Dimensions- 38 x 25.5 x 41.25 inches. Folded Dimensions- 13.5 x 25.5 x 33.25 inches. Product Weight- 18 pounds', 'Ultra-light weight aluminum frame', '3 wheel design allows for nimble steering and a sporty stance', 'Front wheel diameter 7 inches and rear wheel diameter 8.75 inches'], 'description': ['Product Description', 'For ultimate convenience, the Chicco Viaro Quick-Fold Stroller has a sleek three-wheel design, lightweight aluminum frame, and one-hand quick fold. A pull-strap and button are conveniently tucked under the seat and easy to activate simultaneously for a compact, free-standing fold. The stroller is even easier to open again after closing.For infants, the Viaro Stroller functions as a travel system with easy click-in attachment for the KeyFit 30 Infant Car Seat. For older riders, the Viaro Stroller includes a detachable tray with two cup holders, adjustable canopy, and multi-position backrest. A swiveling front wheel and suspension help maintain a smooth ride from surface to surface. Toe-tap rear brakes keep the stroller in place when parked. For parents, the Viaro Stroller features a padded push-handle, parent tray with two cup holders, and a large basket that is easily accessible from the front or back.  The Viaro Travel System includes the #1-rated Chicco KeyFit 30 Infant Car Seat, which accommodates infants from 4 to 30 lbs and up to 30\". The KeyFit 30 is the easiest infant car seat to install simply, accurately, and securely every time.• Includes the #1-rated Chicco KeyFit 30 Infant Car Seat• Lightweight aluminum frame and sleek 3-wheel design• One-hand, free-standing fold • Multi-position reclining seat and adjustable canopy • Child tray with two cup holders• Parent tray with two cup holders • Swiveling front wheel with suspension for maneuverability • Toe-tap rear brakes for parking• Large storage basket with front and rear access• Padded handle', 'Brand Story', 'By Chicco'], 'price': 'None', 'images': {'hi_res': ['https://m.media-amazon.com/images/I/91-YubHENxL._SL1500_.jpg', 'https://m.media-amazon.com/images/I/91b1hR5R+rL._SL1500_.jpg', 'https://m.media-amazon.com/images/I/A1D3XUfALZL._SL1500_.jpg', 'https://m.media-amazon.com/images/I/916+blcO2xL._SL1500_.jpg', 'https://m.media-amazon.com/images/I/91lFOTDFZ7L._SL1500_.jpg'], 'large': ['https://m.media-amazon.com/images/I/51fWzrTOFjL.jpg', 'https://m.media-amazon.com/images/I/51Z0+Mb6uOL.jpg', 'https://m.media-amazon.com/images/I/513j2XBNBIL.jpg', 'https://m.media-amazon.com/images/I/61FLwa7fhYL.jpg', 'https://m.media-amazon.com/images/I/51On5-Uga-L.jpg'], 'thumb': ['https://m.media-amazon.com/images/I/51fWzrTOFjL._SS40_.jpg', 'https://m.media-amazon.com/images/I/51Z0+Mb6uOL._SS40_.jpg', 'https://m.media-amazon.com/images/I/513j2XBNBIL._SS40_.jpg', 'https://m.media-amazon.com/images/I/61FLwa7fhYL._SS40_.jpg', 'https://m.media-amazon.com/images/I/51On5-Uga-L._SS40_.jpg'], 'variant': ['MAIN', 'PT01', 'PT02', 'PT03', 'PT04']}, 'videos': {'title': ['Viaro Demo Video', 'Chicco Viaro Video'], 'url': ['https://www.amazon.com/vdp/49e4f1f5ce1c4938b4c5737864a7d8f8?ref=dp_vse_rvc_0', 'https://www.amazon.com/vdp/5baa3f176f4c4faba3479726096477ab?ref=dp_vse_rvc_1'], 'user_id': ['', '']}, 'store': 'Chicco', 'categories': ['Baby Products', 'Strollers & Accessories', 'Strollers', 'Travel Systems'], 'details': '{\"Product Dimensions\": \"38 x 41.25 x 25.5 inches\", \"Item model number\": \"06079747300070\", \"Is Discontinued By Manufacturer\": \"No\", \"Target gender\": \"Unisex\", \"Minimum weight recommendation\": \"4 Pounds\", \"Maximum weight recommendation\": \"50 Pounds\", \"Material Type\": \"Aluminum\", \"Number Of Items\": \"1\", \"Style\": \"Teak\", \"Batteries required\": \"No\", \"Harness type\": \"5 Point\", \"Item Weight\": \"18 pounds\", \"Brand\": \"Chicco\", \"Color\": \"Teak\", \"Material\": \"Aluminum\", \"Fabric Type\": \"Aluminum\", \"Frame Material\": \"Aluminum\"}', 'parent_asin': 'B01C4319LO', 'bought_together': None, 'subtitle': None, 'author': None}\n"
     ]
    }
   ],
   "source": [
    "from datasets import load_dataset\n",
    "\n",
    "dataset_reviews = load_dataset(\"McAuley-Lab/Amazon-Reviews-2023\", \"raw_review_\" + category_to_download, trust_remote_code=True)\n",
    "print(dataset_reviews[split].num_rows)\n",
    "print(dataset_reviews[split][0])\n",
    "\n",
    "dataset_medata = load_dataset(\"McAuley-Lab/Amazon-Reviews-2023\", \"raw_meta_\"+ category_to_download, split=split, trust_remote_code=True)\n",
    "print(dataset_medata.num_rows)\n",
    "print(dataset_medata[0])"
   ]
  },
  {
   "cell_type": "code",
   "execution_count": 4,
   "metadata": {},
   "outputs": [],
   "source": [
    "import pandas as pd\n",
    "\n",
    "# Tranform to pandas\n",
    "df_review = pd.DataFrame(dataset_reviews[split])\n",
    "df_metadata = pd.DataFrame(dataset_medata)\n",
    "\n",
    "# merge\n",
    "merged_df = pd.merge(df_review, df_metadata, on=\"parent_asin\", how=\"inner\", suffixes=(\"_review\", \"_metadata\"))\n",
    "\n",
    "# save it to parquet\n",
    "dest_folder = Path(\"../data/raw\")\n",
    "save_name = os.path.join(dest_folder, f'{category_to_download}_{split}.parquet')\n",
    "merged_df.to_parquet(save_name, index=False)\n"
   ]
  },
  {
   "cell_type": "code",
   "execution_count": 8,
   "metadata": {},
   "outputs": [],
   "source": [
    "\n"
   ]
  }
 ],
 "metadata": {
  "kernelspec": {
   "display_name": "reviewoutliers-SwZO3ms--py3.12",
   "language": "python",
   "name": "python3"
  },
  "language_info": {
   "codemirror_mode": {
    "name": "ipython",
    "version": 3
   },
   "file_extension": ".py",
   "mimetype": "text/x-python",
   "name": "python",
   "nbconvert_exporter": "python",
   "pygments_lexer": "ipython3",
   "version": "3.12.2"
  }
 },
 "nbformat": 4,
 "nbformat_minor": 2
}
