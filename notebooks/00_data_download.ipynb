{
 "cells": [
  {
   "cell_type": "markdown",
   "metadata": {},
   "source": [
    "# Download, extract and store data locally"
   ]
  },
  {
   "cell_type": "markdown",
   "metadata": {},
   "source": [
    "# User params"
   ]
  },
  {
   "cell_type": "code",
   "execution_count": 1,
   "metadata": {},
   "outputs": [],
   "source": [
    "# Possible categories to download:\n",
    "# --------------------------------\n",
    "# All_Beauty\n",
    "# Amazon_Fashion\n",
    "# Appliances\n",
    "# Arts_Crafts_and_Sewing\n",
    "# Automotive\n",
    "# Baby_Products\n",
    "# Beauty_and_Personal_Care\n",
    "# Books\n",
    "# CDs_and_Vinyl\n",
    "# Cell_Phones_and_Accessories\n",
    "# Clothing_Shoes_and_Jewelry\n",
    "# Digital_Music\n",
    "# Electronics\n",
    "# Gift_Cards\n",
    "# Grocery_and_Gourmet_Food\n",
    "# Handmade_Products\n",
    "# Health_and_Household\n",
    "# Health_and_Personal_Care\n",
    "# Home_and_Kitchen\n",
    "# Industrial_and_Scientific\n",
    "# Kindle_Store\n",
    "# Magazine_Subscriptions\n",
    "# Movies_and_TV\n",
    "# Musical_Instruments\n",
    "# Office_Products\n",
    "# Patio_Lawn_and_Garden\n",
    "# Pet_Supplies\n",
    "# Software\n",
    "# Sports_and_Outdoors\n",
    "# Subscription_Boxes\n",
    "# Tools_and_Home_Improvement\n",
    "# Toys_and_Games\n",
    "# Video_Games\n",
    "\n",
    "category_to_download = \"Gift_Cards\"\n",
    "\n",
    "\n",
    "# For dataset library\n",
    "# ---------------------\n",
    "# type of data to download\n",
    "# entire unprocessed data: \n",
    "# - 'raw_'\n",
    "# processed data : \n",
    "# - \"0core_rating_\", \"0core_timestamp_\", \"0core_timestamp_w_his_\"\n",
    "# - \"5core_rating_\", \"5core_timestamp_\", \"5core_timestamp_w_his_\"\n",
    "type = 'raw_'\n",
    "split = \"full\" # \"full\", \"train\", \"valid\", \"test\"\n"
   ]
  },
  {
   "cell_type": "markdown",
   "metadata": {},
   "source": [
    "# Utility Functions"
   ]
  },
  {
   "cell_type": "code",
   "execution_count": null,
   "metadata": {},
   "outputs": [],
   "source": [
    "import os, sys\n",
    "sys.path.append(os.path.abspath('../src'))\n",
    "\n",
    "# other imports\n",
    "from pathlib import Path"
   ]
  },
  {
   "cell_type": "markdown",
   "metadata": {},
   "source": [
    "# Processing - native"
   ]
  },
  {
   "cell_type": "markdown",
   "metadata": {},
   "source": [
    "**Download**"
   ]
  },
  {
   "cell_type": "code",
   "execution_count": null,
   "metadata": {},
   "outputs": [],
   "source": [
    "from src.utils.io.download import download_data\n",
    "download_data(category_to_download)"
   ]
  },
  {
   "cell_type": "markdown",
   "metadata": {},
   "source": [
    "**Merging**"
   ]
  },
  {
   "cell_type": "code",
   "execution_count": null,
   "metadata": {},
   "outputs": [],
   "source": [
    "import os\n",
    "from src.config import BASE_PATH_DATA\n",
    "from src.utils.io.io import load_dataframe\n",
    "\n",
    "# load data\n",
    "file_name_review = category_to_download + \"_review.json\"\n",
    "file_name_metadata = category_to_download + \"_metadata.json\"\n",
    "\n",
    "# read json file into dataframe\n",
    "df_metadata = load_dataframe(os.path.join(BASE_PATH_DATA, 'raw', file_name_review))\n",
    "df_review = load_dataframe(os.path.join(BASE_PATH_DATA, 'raw', file_name_metadata))\n",
    "\n",
    "\n",
    "# Merge the datasets on 'parent_asin' with suffixes for duplicate columns\n",
    "merged_df = pd.merge(df_review, df_metadata, \n",
    "                     on=\"parent_asin\", how=\"inner\", suffixes=(\"_review\", \"_metadata\"))"
   ]
  },
  {
   "cell_type": "markdown",
   "metadata": {},
   "source": [
    "# Processing - using datasets library"
   ]
  },
  {
   "cell_type": "code",
   "execution_count": 4,
   "metadata": {},
   "outputs": [
    {
     "data": {
      "application/vnd.jupyter.widget-view+json": {
       "model_id": "b2abf2464cd945258976411d2157688b",
       "version_major": 2,
       "version_minor": 0
      },
      "text/plain": [
       "Downloading data:   0%|          | 0.00/50.2M [00:00<?, ?B/s]"
      ]
     },
     "metadata": {},
     "output_type": "display_data"
    },
    {
     "data": {
      "application/vnd.jupyter.widget-view+json": {
       "model_id": "b79e7776e35a48ccaa9138ea45d33fb8",
       "version_major": 2,
       "version_minor": 0
      },
      "text/plain": [
       "Generating full split: 0 examples [00:00, ? examples/s]"
      ]
     },
     "metadata": {},
     "output_type": "display_data"
    },
    {
     "name": "stdout",
     "output_type": "stream",
     "text": [
      "152410\n",
      "{'rating': 5.0, 'title': 'Great gift', 'text': 'Having Amazon money is always good.', 'images': [], 'asin': 'B00IX1I3G6', 'parent_asin': 'B00IX1I3G6', 'user_id': 'AHZ6XMOLEWA67S3TX7IWEXXGWSOA', 'timestamp': 1549866158332, 'helpful_vote': 0, 'verified_purchase': True}\n"
     ]
    },
    {
     "data": {
      "application/vnd.jupyter.widget-view+json": {
       "model_id": "9f64de5cf6594e04b7978d869ac889e9",
       "version_major": 2,
       "version_minor": 0
      },
      "text/plain": [
       "Downloading data:   0%|          | 0.00/2.04M [00:00<?, ?B/s]"
      ]
     },
     "metadata": {},
     "output_type": "display_data"
    },
    {
     "data": {
      "application/vnd.jupyter.widget-view+json": {
       "model_id": "442c606ecc6042aca9f54cf2d0fc257b",
       "version_major": 2,
       "version_minor": 0
      },
      "text/plain": [
       "Generating full split: 0 examples [00:00, ? examples/s]"
      ]
     },
     "metadata": {},
     "output_type": "display_data"
    },
    {
     "name": "stdout",
     "output_type": "stream",
     "text": [
      "1137\n",
      "{'main_category': 'Gift Cards', 'title': 'Amazon.com Gift Card in Gift Tag (Various Designs)', 'average_rating': 4.8, 'rating_number': 1006, 'features': ['Gift Card is affixed inside a gift tag', 'Gift amount may not be printed on Gift Cards', 'Gift Card has no fees and no expiration date', 'No returns and no refunds on Gift Cards', 'Gift Card is redeemable towards millions of items storewide at Amazon.com', 'Scan and redeem any Gift Card with a mobile or tablet device via the Amazon App', 'Free One-Day Shipping (where available)', 'Customized gift message, if chosen at check-out, only appears on packing slip and not on the actual gift card or carrier'], 'description': [\"Amazon.com Gift Cards are the perfect way to give them exactly what they're hoping for - even if you don't know what it is. Amazon.com Gift Cards are redeemable for millions of items across Amazon.com. Item delivered is a single physical Amazon.com Gift Card nested inside or with a free gift accessory.\"], 'price': 'None', 'images': {'hi_res': ['https://m.media-amazon.com/images/I/71cWJvVGYtL._SL1500_.jpg', 'https://m.media-amazon.com/images/I/71q-qp4b3-L._SL1500_.jpg', 'https://m.media-amazon.com/images/I/71KutAnl9gL._SL1500_.jpg', 'https://m.media-amazon.com/images/I/61FMUKaXfJL._SL1175_.jpg', 'https://m.media-amazon.com/images/I/61blLcj3pWL._SL1500_.jpg'], 'large': ['https://m.media-amazon.com/images/I/41ZA96xtATL.jpg', 'https://m.media-amazon.com/images/I/41NK1FX6uUL.jpg', 'https://m.media-amazon.com/images/I/41Y45S0GirL.jpg', 'https://m.media-amazon.com/images/I/417MZ16DhcL.jpg', 'https://m.media-amazon.com/images/I/21-tRQuOBZL.jpg'], 'thumb': ['https://m.media-amazon.com/images/I/41ZA96xtATL._SX38_SY50_CR,0,0,38,50_.jpg', 'https://m.media-amazon.com/images/I/41NK1FX6uUL._SX38_SY50_CR,0,0,38,50_.jpg', 'https://m.media-amazon.com/images/I/41Y45S0GirL._SX38_SY50_CR,0,0,38,50_.jpg', 'https://m.media-amazon.com/images/I/417MZ16DhcL._SX38_SY50_CR,0,0,38,50_.jpg', 'https://m.media-amazon.com/images/I/21-tRQuOBZL._SX38_SY50_CR,0,0,38,50_.jpg'], 'variant': ['MAIN', 'PT01', 'PT02', 'PT03', 'PT12']}, 'videos': {'title': [], 'url': [], 'user_id': []}, 'store': 'Amazon', 'categories': ['Gift Cards', 'Gift Card Recipients', 'For Him'], 'details': '{\"Package Dimensions\": \"5 x 3 x 0.1 inches; 0.63 Ounces\", \"Item model number\": \"Fixed\", \"Date First Available\": \"August 29, 2017\", \"Manufacturer\": \"Amazon\"}', 'parent_asin': 'B06ZXTKYHN', 'bought_together': None, 'subtitle': None, 'author': None}\n"
     ]
    }
   ],
   "source": [
    "from datasets import load_dataset\n",
    "\n",
    "dataset_reviews = load_dataset(\"McAuley-Lab/Amazon-Reviews-2023\", \"raw_review_\" + category_to_download, trust_remote_code=True)\n",
    "print(dataset_reviews[split].num_rows)\n",
    "print(dataset_reviews[split][0])\n",
    "\n",
    "dataset_medata = load_dataset(\"McAuley-Lab/Amazon-Reviews-2023\", \"raw_meta_\"+ category_to_download, split=split, trust_remote_code=True)\n",
    "print(dataset_medata.num_rows)\n",
    "print(dataset_medata[0])"
   ]
  },
  {
   "cell_type": "code",
   "execution_count": 5,
   "metadata": {},
   "outputs": [],
   "source": [
    "import pandas as pd\n",
    "import os\n",
    "\n",
    "# Tranform to pandas\n",
    "df_review = pd.DataFrame(dataset_reviews[split])\n",
    "df_metadata = pd.DataFrame(dataset_medata)\n",
    "\n",
    "# merge\n",
    "merged_df = pd.merge(df_review, df_metadata, on=\"parent_asin\", how=\"inner\", suffixes=(\"_review\", \"_metadata\"))\n",
    "\n"
   ]
  },
  {
   "cell_type": "markdown",
   "metadata": {},
   "source": [
    "# Save it"
   ]
  },
  {
   "cell_type": "code",
   "execution_count": null,
   "metadata": {},
   "outputs": [],
   "source": [
    "dest_folder = Path(\"../data/raw\")\n",
    "save_name = os.path.join(dest_folder, f'merged_dataset.parquet')\n",
    "merged_df.to_parquet(save_name, index=False)"
   ]
  }
 ],
 "metadata": {
  "kernelspec": {
   "display_name": "reviewoutliers-SwZO3ms--py3.12",
   "language": "python",
   "name": "python3"
  },
  "language_info": {
   "codemirror_mode": {
    "name": "ipython",
    "version": 3
   },
   "file_extension": ".py",
   "mimetype": "text/x-python",
   "name": "python",
   "nbconvert_exporter": "python",
   "pygments_lexer": "ipython3",
   "version": "3.12.2"
  }
 },
 "nbformat": 4,
 "nbformat_minor": 2
}
