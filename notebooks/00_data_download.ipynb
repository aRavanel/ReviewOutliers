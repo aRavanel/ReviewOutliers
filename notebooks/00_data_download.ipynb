{
 "cells": [
  {
   "cell_type": "markdown",
   "metadata": {},
   "source": [
    "# Download, extract and store data locally"
   ]
  },
  {
   "cell_type": "markdown",
   "metadata": {},
   "source": [
    "# User params"
   ]
  },
  {
   "cell_type": "code",
   "execution_count": 5,
   "metadata": {},
   "outputs": [],
   "source": [
    "# Possible categories to download:\n",
    "# --------------------------------\n",
    "# Books\n",
    "# CDs_and_Vinyl\n",
    "# Cell_Phones_and_Accessories\n",
    "# Clothing_Shoes_and_Jewelry\n",
    "# Digital_Music\n",
    "# Electronics\n",
    "# Gift_Cards\n",
    "# Grocery_and_Gourmet_Food\n",
    "# Handmade_Products\n",
    "# Health_and_Household\n",
    "# Health_and_Personal_Care\n",
    "# Home_and_Kitchen\n",
    "# Industrial_and_Scientific\n",
    "# Kindle_Store\n",
    "# Magazine_Subscriptions\n",
    "# Movies_and_TV\n",
    "# Musical_Instruments\n",
    "# Office_Products\n",
    "# Patio_Lawn_and_Garden\n",
    "# Pet_Supplies\n",
    "# Software\n",
    "# Sports_and_Outdoors\n",
    "# Subscription_Boxes\n",
    "# Tools_and_Home_Improvement\n",
    "# Toys_and_Games\n",
    "# Video_Games\n",
    "\n",
    "category_to_download = \"Subscription_Boxes\"\n"
   ]
  },
  {
   "cell_type": "markdown",
   "metadata": {},
   "source": [
    "# Utility Functions"
   ]
  },
  {
   "cell_type": "code",
   "execution_count": 3,
   "metadata": {},
   "outputs": [],
   "source": [
    "# add src folder to path\n",
    "import sys\n",
    "import os\n",
    "sys.path.append(os.path.abspath('../src'))\n",
    "\n",
    "# other imports\n",
    "import requests\n",
    "from pathlib import Path\n",
    "from src.utils.io import decompress_to_json\n",
    "\n",
    "\n",
    "def get_data_urls(data_name: str) -> dict:\n",
    "    \"\"\"\n",
    "    create urls from category name\n",
    "    \"\"\"\n",
    "    base_url_reviews = \"https://datarepo.eng.ucsd.edu/mcauley_group/data/amazon_2023/raw/review_categories/\"\n",
    "    base_url_metadata = \"https://datarepo.eng.ucsd.edu/mcauley_group/data/amazon_2023/raw/meta_categories/\"\n",
    "    \n",
    "    link_review = f\"{base_url_reviews}{data_name}.jsonl.gz\"\n",
    "    link_metadata = f\"{base_url_metadata}meta_{data_name}.jsonl.gz\"\n",
    "    \n",
    "    return {\"review_url\": link_review, \"metadata_url\": link_metadata}\n",
    "\n",
    "    \n",
    "def download_and_convert_file(url, dest_folder, json_filename):\n",
    "    \"\"\"\n",
    "    download a file based on its url\n",
    "    \"\"\"\n",
    "    if not os.path.exists(dest_folder):\n",
    "        os.makedirs(dest_folder)\n",
    "\n",
    "    gz_filename = os.path.join(dest_folder, json_filename + \".gz\")\n",
    "    json_path = os.path.join(dest_folder, json_filename)\n",
    "\n",
    "    # Download the file\n",
    "    response = requests.get(url, stream=True)\n",
    "    with open(gz_filename, 'wb') as gz_file:\n",
    "        for chunk in response.iter_content(chunk_size=8192):\n",
    "            if chunk:\n",
    "                gz_file.write(chunk)\n",
    "       \n",
    "    # decompress it and clean      \n",
    "    decompress_to_json(gz_filename, json_path)\n",
    "    os.remove(gz_filename)  # Remove the .gz file after decompression\n",
    "    print(f\"Downloaded and converted {json_filename} to {dest_folder}\")\n",
    "\n",
    "def download_data(data_name: str):\n",
    "    \"\"\"\n",
    "    download reviews and metadata\n",
    "    \"\"\"\n",
    "    urls = get_data_urls(data_name)\n",
    "    if not urls:\n",
    "        print(f\"No URLs found for {data_name}\")\n",
    "        return\n",
    "\n",
    "    # Adjust the path to go up one level from the current working directory\n",
    "    dest_folder = Path(\"../data/raw\")\n",
    "    \n",
    "    print(\"-- download reviews --\")\n",
    "    download_and_convert_file(urls[\"review_url\"], dest_folder, f\"{data_name}_review.json\")\n",
    "    \n",
    "    print(\"-- download metadata --\")\n",
    "    download_and_convert_file(urls[\"metadata_url\"], dest_folder, f\"{data_name}_metadata.json\")\n"
   ]
  },
  {
   "cell_type": "markdown",
   "metadata": {},
   "source": [
    "# Processing"
   ]
  },
  {
   "cell_type": "code",
   "execution_count": 6,
   "metadata": {},
   "outputs": [
    {
     "name": "stdout",
     "output_type": "stream",
     "text": [
      "Decompressed and saved to ..\\data\\raw\\Subscription_Boxes_review.json\n",
      "Downloaded and converted Subscription_Boxes_review.json to ..\\data\\raw\n",
      "Decompressed and saved to ..\\data\\raw\\Subscription_Boxes_metadata.json\n",
      "Downloaded and converted Subscription_Boxes_metadata.json to ..\\data\\raw\n"
     ]
    }
   ],
   "source": [
    "download_data(category_to_download)"
   ]
  }
 ],
 "metadata": {
  "kernelspec": {
   "display_name": "reviewoutliers-SwZO3ms--py3.12",
   "language": "python",
   "name": "python3"
  },
  "language_info": {
   "codemirror_mode": {
    "name": "ipython",
    "version": 3
   },
   "file_extension": ".py",
   "mimetype": "text/x-python",
   "name": "python",
   "nbconvert_exporter": "python",
   "pygments_lexer": "ipython3",
   "version": "3.12.2"
  }
 },
 "nbformat": 4,
 "nbformat_minor": 2
}
