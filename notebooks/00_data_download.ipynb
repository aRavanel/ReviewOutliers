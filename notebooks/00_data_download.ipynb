{
 "cells": [
  {
   "cell_type": "markdown",
   "metadata": {},
   "source": [
    "# Download, extract and store data locally"
   ]
  },
  {
   "cell_type": "markdown",
   "metadata": {},
   "source": [
    "# User params"
   ]
  },
  {
   "cell_type": "code",
   "execution_count": 1,
   "metadata": {},
   "outputs": [],
   "source": [
    "# Possible categories to download:\n",
    "# --------------------------------\n",
    "# All_Beauty\n",
    "# Amazon_Fashion\n",
    "# Appliances\n",
    "# Arts_Crafts_and_Sewing\n",
    "# Automotive\n",
    "# Baby_Products\n",
    "# Beauty_and_Personal_Care\n",
    "# Books\n",
    "# CDs_and_Vinyl\n",
    "# Cell_Phones_and_Accessories\n",
    "# Clothing_Shoes_and_Jewelry\n",
    "# Digital_Music\n",
    "# Electronics\n",
    "# Gift_Cards -> not many outliers\n",
    "# Grocery_and_Gourmet_Food\n",
    "# Handmade_Products\n",
    "# Health_and_Household\n",
    "# Health_and_Personal_Care\n",
    "# Home_and_Kitchen\n",
    "# Industrial_and_Scientific\n",
    "# Kindle_Store\n",
    "# Magazine_Subscriptions\n",
    "# Movies_and_TV\n",
    "# Musical_Instruments\n",
    "# Office_Products\n",
    "# Patio_Lawn_and_Garden\n",
    "# Pet_Supplies\n",
    "# Software\n",
    "# Sports_and_Outdoors\n",
    "# Subscription_Boxes\n",
    "# Tools_and_Home_Improvement\n",
    "# Toys_and_Games\n",
    "# Video_Games\n",
    "\n",
    "category_to_download = \"Appliances\"\n",
    "\n",
    "\n",
    "# For dataset library\n",
    "# ---------------------\n",
    "# type of data to download\n",
    "# entire unprocessed data: \n",
    "# - 'raw_'\n",
    "# processed data : \n",
    "# - \"0core_rating_\", \"0core_timestamp_\", \"0core_timestamp_w_his_\"\n",
    "# - \"5core_rating_\", \"5core_timestamp_\", \"5core_timestamp_w_his_\"\n",
    "type = 'raw_'\n",
    "split = \"full\" # \"full\", \"train\", \"valid\", \"test\"\n"
   ]
  },
  {
   "cell_type": "markdown",
   "metadata": {},
   "source": [
    "# Utility Functions"
   ]
  },
  {
   "cell_type": "code",
   "execution_count": 2,
   "metadata": {},
   "outputs": [],
   "source": [
    "import os, sys\n",
    "sys.path.append(os.path.abspath('../src'))\n",
    "\n",
    "# other imports\n",
    "from pathlib import Path"
   ]
  },
  {
   "cell_type": "markdown",
   "metadata": {},
   "source": [
    "# Processing - native"
   ]
  },
  {
   "cell_type": "code",
   "execution_count": 3,
   "metadata": {},
   "outputs": [],
   "source": [
    "# import os\n",
    "# from src.config import BASE_PATH_DATA\n",
    "# from src.utils.io.io import load_dataframe\n",
    "\n",
    "# from src.utils.io.download import download_data\n",
    "# download_data(category_to_download)\n",
    "\n",
    "# # load data\n",
    "# file_name_review = category_to_download + \"_review.json\"\n",
    "# file_name_metadata = category_to_download + \"_metadata.json\"\n",
    "\n",
    "# # read json file into dataframe\n",
    "# df_metadata = load_dataframe(os.path.join(BASE_PATH_DATA, 'raw', file_name_review))\n",
    "# df_review = load_dataframe(os.path.join(BASE_PATH_DATA, 'raw', file_name_metadata))\n",
    "\n",
    "\n",
    "# # Merge the datasets on 'parent_asin' with suffixes for duplicate columns\n",
    "# merged_df = pd.merge(df_review, df_metadata, \n",
    "#                      on=\"parent_asin\", how=\"inner\", suffixes=(\"_review\", \"_metadata\"))"
   ]
  },
  {
   "cell_type": "markdown",
   "metadata": {},
   "source": [
    "# Processing - using datasets library"
   ]
  },
  {
   "cell_type": "code",
   "execution_count": 4,
   "metadata": {},
   "outputs": [
    {
     "data": {
      "application/vnd.jupyter.widget-view+json": {
       "model_id": "b6cbf1f22bb243daacd3fcacf3fda6f2",
       "version_major": 2,
       "version_minor": 0
      },
      "text/plain": [
       "Downloading data:   0%|          | 0.00/929M [00:00<?, ?B/s]"
      ]
     },
     "metadata": {},
     "output_type": "display_data"
    },
    {
     "data": {
      "application/vnd.jupyter.widget-view+json": {
       "model_id": "174828415e3042a08cdbbcad875de2b0",
       "version_major": 2,
       "version_minor": 0
      },
      "text/plain": [
       "Generating full split: 0 examples [00:00, ? examples/s]"
      ]
     },
     "metadata": {},
     "output_type": "display_data"
    },
    {
     "name": "stdout",
     "output_type": "stream",
     "text": [
      "2128605\n",
      "{'rating': 5.0, 'title': 'Work great', 'text': 'work great. use a new one every month', 'images': [], 'asin': 'B01N0TQ0OH', 'parent_asin': 'B01N0TQ0OH', 'user_id': 'AGKHLEW2SOWHNMFQIJGBECAF7INQ', 'timestamp': 1519317108692, 'helpful_vote': 0, 'verified_purchase': True}\n"
     ]
    },
    {
     "data": {
      "application/vnd.jupyter.widget-view+json": {
       "model_id": "99bbb8be683c4264ab1daf9be8453887",
       "version_major": 2,
       "version_minor": 0
      },
      "text/plain": [
       "Downloading data:   0%|          | 0.00/285M [00:00<?, ?B/s]"
      ]
     },
     "metadata": {},
     "output_type": "display_data"
    },
    {
     "data": {
      "application/vnd.jupyter.widget-view+json": {
       "model_id": "28452e1d5baf4036bd90f3d2c28b377b",
       "version_major": 2,
       "version_minor": 0
      },
      "text/plain": [
       "Generating full split: 0 examples [00:00, ? examples/s]"
      ]
     },
     "metadata": {},
     "output_type": "display_data"
    },
    {
     "name": "stdout",
     "output_type": "stream",
     "text": [
      "94327\n",
      "{'main_category': 'Industrial & Scientific', 'title': 'ROVSUN Ice Maker Machine Countertop, Make 44lbs Ice in 24 Hours, Compact & Portable Ice Maker with Ice Basket for Home, Office, Kitchen, Bar (Silver)', 'average_rating': 3.7, 'rating_number': 61, 'features': ['【Quick Ice Making】This countertop ice machine creates crystal & bullet shaped ice cubes; 44lbs of ice ready in 24 hours, 12 cubes made per cycle within 10 mins; you can perfectly use it for drinks, wine, smoothies, food', '【Portable Design】The weight of this ice maker is only 23.3lbs, and the small size (10.63 x14.37 x 12.87)\" makes it portable. It\\'s compact feature is perfect for home, office, apartments, dormitories, RVs and more, it can be placed on countertop or tabletop, plug it anywhere you like', '【Simple Operation】Adding the water tank with purified water; Power on machine and press \"on/off\" button to start ice making process; After 8-12 minutes, ice cube will fall off into the ice basket automatically; Take it out and make you cool', '【Full Monitoring】 Designed with compressor cooling system, operates at low noise and will not disturb your normal life; See-through window on top allows you to easily view the progress and check ice level', \"【1 Year Warranty】We do cover 1 year warranty on this ice maker, any questions about it, please don't hesitate to contact us at any time for getting a satisfied service. Worry free purchase, so get this ice machine home today\"], 'description': [], 'price': 'None', 'images': {'hi_res': ['https://m.media-amazon.com/images/I/61zNIJh6ZCL._SL1500_.jpg', 'https://m.media-amazon.com/images/I/71i3VazBG1L._SL1500_.jpg', 'https://m.media-amazon.com/images/I/71INhlaKSGL._SL1500_.jpg', 'https://m.media-amazon.com/images/I/71IjZxwpPgL._SL1500_.jpg', 'https://m.media-amazon.com/images/I/8154EOa6mML._SL1500_.jpg', 'https://m.media-amazon.com/images/I/71P3bDmPIXL._SL1500_.jpg', 'https://m.media-amazon.com/images/I/71ST326RerL._SL1500_.jpg', 'https://m.media-amazon.com/images/I/81I6c2yZStL._SL1500_.jpg', 'https://m.media-amazon.com/images/I/71Dap4gcywL._SL1500_.jpg'], 'large': ['https://m.media-amazon.com/images/I/31idkuA3KlL.jpg', 'https://m.media-amazon.com/images/I/41-MiODg9xL.jpg', 'https://m.media-amazon.com/images/I/41wDXfH8m8L.jpg', 'https://m.media-amazon.com/images/I/41U-3N4Al4L.jpg', 'https://m.media-amazon.com/images/I/51ZMIaw5j+L.jpg', 'https://m.media-amazon.com/images/I/41rxwKw1FqL.jpg', 'https://m.media-amazon.com/images/I/5146wcOEdfL.jpg', 'https://m.media-amazon.com/images/I/61-9E6JF51L.jpg', 'https://m.media-amazon.com/images/I/51+Ddh3KfhL.jpg'], 'thumb': ['https://m.media-amazon.com/images/I/31idkuA3KlL._SX38_SY50_CR,0,0,38,50_.jpg', 'https://m.media-amazon.com/images/I/41-MiODg9xL._SX38_SY50_CR,0,0,38,50_.jpg', 'https://m.media-amazon.com/images/I/41wDXfH8m8L._SX38_SY50_CR,0,0,38,50_.jpg', 'https://m.media-amazon.com/images/I/41U-3N4Al4L._SX38_SY50_CR,0,0,38,50_.jpg', 'https://m.media-amazon.com/images/I/51ZMIaw5j+L._SX38_SY50_CR,0,0,38,50_.jpg', 'https://m.media-amazon.com/images/I/41rxwKw1FqL._SX38_SY50_CR,0,0,38,50_.jpg', 'https://m.media-amazon.com/images/I/5146wcOEdfL._SX38_SY50_CR,0,0,38,50_.jpg', 'https://m.media-amazon.com/images/I/61-9E6JF51L._SX38_SY50_CR,0,0,38,50_.jpg', 'https://m.media-amazon.com/images/I/51+Ddh3KfhL._SX38_SY50_CR,0,0,38,50_.jpg'], 'variant': ['MAIN', 'PT01', 'PT02', 'PT03', 'PT04', 'PT05', 'PT06', 'PT07', 'PT08']}, 'videos': {'title': ['Our Point of View on the Euhomy Ice Maker Machine', 'Frigidaire Ice Maker, Stainless (5 Stars) ', 'Review & Demonstration - Silonn Ice Maker - NOT BAD!', ' Never Run Out of Ice', 'Live DEMO - How Fast Can You Really Make Ice With EUHOMY?', 'Portable Ice Maker Countertop 26Lbs/24H', 'Countertop ice machine 2 size bullet style ice ', 'HONEST Review of Frigidare Ice Maker', 'VIVOHOME Countertop Automatic Ice Cube Maker Machine', 'How To Clean Your Ice Maker '], 'url': ['https://www.amazon.com/vdp/04e6baae04404579891e175567cb7b9d?ref=dp_vse_rvc_0', 'https://www.amazon.com/vdp/0d6ee873c04545e297872f21f38ecd09?ref=dp_vse_rvc_1', 'https://www.amazon.com/vdp/0576ed1078764f53996bef3725ff767d?ref=dp_vse_rvc_2', 'https://www.amazon.com/vdp/0f8034b1507d4db8b05eb89321599eb0?ref=dp_vse_rvc_3', 'https://www.amazon.com/vdp/02caa2103d524af08793cecf3ec72fb0?ref=dp_vse_rvc_4', 'https://www.amazon.com/vdp/0bbb3e5c7b114ed9acde5bc1cc0d6e56?ref=dp_vse_rvc_5', 'https://www.amazon.com/vdp/036aa78c1fce4d66975a8d9df13cf692?ref=dp_vse_rvc_6', 'https://www.amazon.com/vdp/0eee9377eebf416f92f40c79a1201b0a?ref=dp_vse_rvc_7', 'https://www.amazon.com/vdp/08e510fdb18448fea830d0a358fddc3f?ref=dp_vse_rvc_8', 'https://www.amazon.com/vdp/0f989ad8e1aa4b999beac8a87542f2f6?ref=dp_vse_rvc_9'], 'user_id': ['/shop/influencer-20a38664', '/shop/dr.nailnipperfanpage', '/shop/influencer-5d9ad12c', '/shop/mdomer8', '/shop/influencer-767279e2', '', '/shop/wolfzoidgaming', '/shop/sensationmecrazy', '', '/shop/videozeus']}, 'store': 'ROVSUN', 'categories': ['Appliances', 'Refrigerators, Freezers & Ice Makers', 'Ice Makers'], 'details': '{\"Brand\": \"ROVSUN\", \"Model Name\": \"ICM-2005\", \"Capacity\": \"44 Pounds\", \"Wattage\": \"120 watts\", \"Voltage\": \"120 Volts\", \"Package Dimensions\": \"18 x 16 x 13.5 inches; 26.5 Pounds\", \"Date First Available\": \"March 17, 2021\", \"Manufacturer\": \"ROVSUN\"}', 'parent_asin': 'B08Z743RRD', 'bought_together': None, 'subtitle': None, 'author': None}\n"
     ]
    }
   ],
   "source": [
    "from datasets import load_dataset\n",
    "\n",
    "dataset_reviews = load_dataset(\"McAuley-Lab/Amazon-Reviews-2023\", \"raw_review_\" + category_to_download, trust_remote_code=True)\n",
    "print(dataset_reviews[split].num_rows)\n",
    "print(dataset_reviews[split][0])\n",
    "\n",
    "dataset_medata = load_dataset(\"McAuley-Lab/Amazon-Reviews-2023\", \"raw_meta_\"+ category_to_download, split=split, trust_remote_code=True)\n",
    "print(dataset_medata.num_rows)\n",
    "print(dataset_medata[0])"
   ]
  },
  {
   "cell_type": "code",
   "execution_count": 5,
   "metadata": {},
   "outputs": [],
   "source": [
    "import pandas as pd\n",
    "import os\n",
    "\n",
    "# Tranform to pandas\n",
    "df_review = pd.DataFrame(dataset_reviews[split])\n",
    "df_metadata = pd.DataFrame(dataset_medata)\n",
    "\n",
    "# merge\n",
    "df = pd.merge(df_review, df_metadata, on=\"parent_asin\", how=\"inner\", suffixes=(\"_review\", \"_metadata\"))\n",
    "\n",
    "# drop duplicates not to have data leakage\n",
    "# from src.utils.preprocessing.duplicates import drop_duplicates_with_unhashable\n",
    "# merged_df = drop_duplicates_with_unhashable(merged_df, ['user_id', 'timestamp'])\n",
    "subset_columns = ['rating', 'title_review', 'text','asin',\n",
    "       'parent_asin', 'user_id', 'timestamp', 'helpful_vote',\n",
    "       'verified_purchase', 'main_category', 'title_metadata',\n",
    "       'average_rating', 'rating_number', 'price',\n",
    "        'store', 'bought_together', 'subtitle', 'author']\n",
    "df.drop_duplicates(subset=subset_columns, inplace=True)\n",
    "\n",
    "# Find the most frequent label in the main_category column and\n",
    "# filter the DataFrame to keep only rows with the most frequent label (some were in wrong category)\n",
    "main_label = df[\"main_category\"].value_counts().idxmax()\n",
    "df = df[df[\"main_category\"] == main_label]"
   ]
  },
  {
   "cell_type": "markdown",
   "metadata": {},
   "source": [
    "# Save it"
   ]
  },
  {
   "cell_type": "code",
   "execution_count": 6,
   "metadata": {},
   "outputs": [],
   "source": [
    "dest_folder = Path(\"../data/raw\")\n",
    "save_name = os.path.join(dest_folder, f'merged_dataset.parquet')\n",
    "df.to_parquet(save_name, index=False)"
   ]
  }
 ],
 "metadata": {
  "kernelspec": {
   "display_name": "reviewoutliers-SwZO3ms--py3.12",
   "language": "python",
   "name": "python3"
  },
  "language_info": {
   "codemirror_mode": {
    "name": "ipython",
    "version": 3
   },
   "file_extension": ".py",
   "mimetype": "text/x-python",
   "name": "python",
   "nbconvert_exporter": "python",
   "pygments_lexer": "ipython3",
   "version": "3.12.2"
  }
 },
 "nbformat": 4,
 "nbformat_minor": 2
}
